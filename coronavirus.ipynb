{
 "cells": [
  {
   "cell_type": "code",
   "execution_count": 3,
   "metadata": {},
   "outputs": [],
   "source": [
    "import numpy as np\n",
    "import pandas as pd\n",
    "import matplotlib.pyplot as py\n",
    "import seaborn as sns"
   ]
  },
  {
   "cell_type": "code",
   "execution_count": 4,
   "metadata": {},
   "outputs": [],
   "source": [
    "data=pd.read_csv(\"./covid_19_data.csv\")"
   ]
  },
  {
   "cell_type": "code",
   "execution_count": 5,
   "metadata": {},
   "outputs": [
    {
     "data": {
      "text/html": [
       "<div>\n",
       "<style scoped>\n",
       "    .dataframe tbody tr th:only-of-type {\n",
       "        vertical-align: middle;\n",
       "    }\n",
       "\n",
       "    .dataframe tbody tr th {\n",
       "        vertical-align: top;\n",
       "    }\n",
       "\n",
       "    .dataframe thead th {\n",
       "        text-align: right;\n",
       "    }\n",
       "</style>\n",
       "<table border=\"1\" class=\"dataframe\">\n",
       "  <thead>\n",
       "    <tr style=\"text-align: right;\">\n",
       "      <th></th>\n",
       "      <th>SNo</th>\n",
       "      <th>ObservationDate</th>\n",
       "      <th>Province/State</th>\n",
       "      <th>Country/Region</th>\n",
       "      <th>Last Update</th>\n",
       "      <th>Confirmed</th>\n",
       "      <th>Deaths</th>\n",
       "      <th>Recovered</th>\n",
       "    </tr>\n",
       "  </thead>\n",
       "  <tbody>\n",
       "    <tr>\n",
       "      <th>3079</th>\n",
       "      <td>3080</td>\n",
       "      <td>03/02/2020</td>\n",
       "      <td>Umatilla, OR</td>\n",
       "      <td>US</td>\n",
       "      <td>2020-03-02T20:23:16</td>\n",
       "      <td>1.0</td>\n",
       "      <td>0.0</td>\n",
       "      <td>0.0</td>\n",
       "    </tr>\n",
       "    <tr>\n",
       "      <th>3080</th>\n",
       "      <td>3081</td>\n",
       "      <td>03/02/2020</td>\n",
       "      <td>From Diamond Princess</td>\n",
       "      <td>Australia</td>\n",
       "      <td>2020-02-29T02:03:10</td>\n",
       "      <td>0.0</td>\n",
       "      <td>0.0</td>\n",
       "      <td>0.0</td>\n",
       "    </tr>\n",
       "    <tr>\n",
       "      <th>3081</th>\n",
       "      <td>3082</td>\n",
       "      <td>03/02/2020</td>\n",
       "      <td>Lackland, TX (From Diamond Princess)</td>\n",
       "      <td>US</td>\n",
       "      <td>2020-02-24T23:33:02</td>\n",
       "      <td>0.0</td>\n",
       "      <td>0.0</td>\n",
       "      <td>0.0</td>\n",
       "    </tr>\n",
       "    <tr>\n",
       "      <th>3082</th>\n",
       "      <td>3083</td>\n",
       "      <td>03/02/2020</td>\n",
       "      <td>Omaha, NE (From Diamond Princess)</td>\n",
       "      <td>US</td>\n",
       "      <td>2020-02-24T23:33:02</td>\n",
       "      <td>0.0</td>\n",
       "      <td>0.0</td>\n",
       "      <td>0.0</td>\n",
       "    </tr>\n",
       "    <tr>\n",
       "      <th>3083</th>\n",
       "      <td>3084</td>\n",
       "      <td>03/02/2020</td>\n",
       "      <td>Travis, CA (From Diamond Princess)</td>\n",
       "      <td>US</td>\n",
       "      <td>2020-02-24T23:33:02</td>\n",
       "      <td>0.0</td>\n",
       "      <td>0.0</td>\n",
       "      <td>0.0</td>\n",
       "    </tr>\n",
       "  </tbody>\n",
       "</table>\n",
       "</div>"
      ],
      "text/plain": [
       "       SNo ObservationDate                        Province/State  \\\n",
       "3079  3080      03/02/2020                          Umatilla, OR   \n",
       "3080  3081      03/02/2020                 From Diamond Princess   \n",
       "3081  3082      03/02/2020  Lackland, TX (From Diamond Princess)   \n",
       "3082  3083      03/02/2020     Omaha, NE (From Diamond Princess)   \n",
       "3083  3084      03/02/2020    Travis, CA (From Diamond Princess)   \n",
       "\n",
       "     Country/Region          Last Update  Confirmed  Deaths  Recovered  \n",
       "3079             US  2020-03-02T20:23:16        1.0     0.0        0.0  \n",
       "3080      Australia  2020-02-29T02:03:10        0.0     0.0        0.0  \n",
       "3081             US  2020-02-24T23:33:02        0.0     0.0        0.0  \n",
       "3082             US  2020-02-24T23:33:02        0.0     0.0        0.0  \n",
       "3083             US  2020-02-24T23:33:02        0.0     0.0        0.0  "
      ]
     },
     "execution_count": 5,
     "metadata": {},
     "output_type": "execute_result"
    }
   ],
   "source": [
    "data.tail()"
   ]
  },
  {
   "cell_type": "code",
   "execution_count": 6,
   "metadata": {},
   "outputs": [],
   "source": [
    "data[\"LastUpdate\"]=pd.to_datetime(data['Last Update'])"
   ]
  },
  {
   "cell_type": "code",
   "execution_count": 7,
   "metadata": {},
   "outputs": [],
   "source": [
    "# Data Preprocessing\n",
    "#Removing the last update column"
   ]
  },
  {
   "cell_type": "code",
   "execution_count": 8,
   "metadata": {},
   "outputs": [],
   "source": [
    "full_list=data.copy()"
   ]
  },
  {
   "cell_type": "code",
   "execution_count": 9,
   "metadata": {},
   "outputs": [],
   "source": [
    "ncov_data=full_list.drop([\"SNo\",'LastUpdate'],axis=1)"
   ]
  },
  {
   "cell_type": "code",
   "execution_count": 10,
   "metadata": {},
   "outputs": [],
   "source": [
    "ncov_data[['Province/State', 'Country/Region']] = ncov_data[['Province/State', 'Country/Region']].fillna('NA')\n",
    "ncov_data[['Confirmed', 'Deaths', 'Recovered']] = ncov_data[['Confirmed', 'Deaths', 'Recovered']].fillna(0.0)\n"
   ]
  },
  {
   "cell_type": "code",
   "execution_count": 11,
   "metadata": {},
   "outputs": [],
   "source": [
    "ncov_data[['Country/Region']]=ncov_data[['Country/Region']].replace('Mainland China','China')"
   ]
  },
  {
   "cell_type": "markdown",
   "metadata": {},
   "source": [
    "# Exploratory Data Analysis"
   ]
  },
  {
   "cell_type": "code",
   "execution_count": 12,
   "metadata": {},
   "outputs": [],
   "source": [
    "#Finding the number of countries effected by  the virus."
   ]
  },
  {
   "cell_type": "code",
   "execution_count": 159,
   "metadata": {},
   "outputs": [
    {
     "name": "stderr",
     "output_type": "stream",
     "text": [
      "C:\\Users\\Alinahuda\\Anaconda3\\envs\\venv\\lib\\site-packages\\ipykernel_launcher.py:1: FutureWarning:\n",
      "\n",
      "Indexing with multiple keys (implicitly converted to a tuple of keys) will be deprecated, use a list instead.\n",
      "\n"
     ]
    },
    {
     "data": {
      "text/html": [
       "<style  type=\"text/css\" >\n",
       "    #T_08a62076_5ea5_11ea_bea4_001a6b0cdb24row0_col0 {\n",
       "            background-color:  #f7fbff;\n",
       "            color:  #000000;\n",
       "        }    #T_08a62076_5ea5_11ea_bea4_001a6b0cdb24row0_col1 {\n",
       "            background-color:  #f7fbff;\n",
       "            color:  #000000;\n",
       "        }    #T_08a62076_5ea5_11ea_bea4_001a6b0cdb24row0_col2 {\n",
       "            background-color:  #f7fbff;\n",
       "            color:  #000000;\n",
       "        }    #T_08a62076_5ea5_11ea_bea4_001a6b0cdb24row1_col0 {\n",
       "            background-color:  #f7fbff;\n",
       "            color:  #000000;\n",
       "        }    #T_08a62076_5ea5_11ea_bea4_001a6b0cdb24row1_col1 {\n",
       "            background-color:  #f7fbff;\n",
       "            color:  #000000;\n",
       "        }    #T_08a62076_5ea5_11ea_bea4_001a6b0cdb24row1_col2 {\n",
       "            background-color:  #f7fbff;\n",
       "            color:  #000000;\n",
       "        }    #T_08a62076_5ea5_11ea_bea4_001a6b0cdb24row2_col0 {\n",
       "            background-color:  #f7fbff;\n",
       "            color:  #000000;\n",
       "        }    #T_08a62076_5ea5_11ea_bea4_001a6b0cdb24row2_col1 {\n",
       "            background-color:  #f7fbff;\n",
       "            color:  #000000;\n",
       "        }    #T_08a62076_5ea5_11ea_bea4_001a6b0cdb24row2_col2 {\n",
       "            background-color:  #f7fbff;\n",
       "            color:  #000000;\n",
       "        }    #T_08a62076_5ea5_11ea_bea4_001a6b0cdb24row3_col0 {\n",
       "            background-color:  #f7fbff;\n",
       "            color:  #000000;\n",
       "        }    #T_08a62076_5ea5_11ea_bea4_001a6b0cdb24row3_col1 {\n",
       "            background-color:  #f7fbff;\n",
       "            color:  #000000;\n",
       "        }    #T_08a62076_5ea5_11ea_bea4_001a6b0cdb24row3_col2 {\n",
       "            background-color:  #f7fbff;\n",
       "            color:  #000000;\n",
       "        }    #T_08a62076_5ea5_11ea_bea4_001a6b0cdb24row4_col0 {\n",
       "            background-color:  #f7fbff;\n",
       "            color:  #000000;\n",
       "        }    #T_08a62076_5ea5_11ea_bea4_001a6b0cdb24row4_col1 {\n",
       "            background-color:  #f7fbff;\n",
       "            color:  #000000;\n",
       "        }    #T_08a62076_5ea5_11ea_bea4_001a6b0cdb24row4_col2 {\n",
       "            background-color:  #f7fbff;\n",
       "            color:  #000000;\n",
       "        }    #T_08a62076_5ea5_11ea_bea4_001a6b0cdb24row5_col0 {\n",
       "            background-color:  #f7fbff;\n",
       "            color:  #000000;\n",
       "        }    #T_08a62076_5ea5_11ea_bea4_001a6b0cdb24row5_col1 {\n",
       "            background-color:  #f7fbff;\n",
       "            color:  #000000;\n",
       "        }    #T_08a62076_5ea5_11ea_bea4_001a6b0cdb24row5_col2 {\n",
       "            background-color:  #f7fbff;\n",
       "            color:  #000000;\n",
       "        }    #T_08a62076_5ea5_11ea_bea4_001a6b0cdb24row6_col0 {\n",
       "            background-color:  #f7fbff;\n",
       "            color:  #000000;\n",
       "        }    #T_08a62076_5ea5_11ea_bea4_001a6b0cdb24row6_col1 {\n",
       "            background-color:  #f7fbff;\n",
       "            color:  #000000;\n",
       "        }    #T_08a62076_5ea5_11ea_bea4_001a6b0cdb24row6_col2 {\n",
       "            background-color:  #f7fbff;\n",
       "            color:  #000000;\n",
       "        }    #T_08a62076_5ea5_11ea_bea4_001a6b0cdb24row7_col0 {\n",
       "            background-color:  #f7fbff;\n",
       "            color:  #000000;\n",
       "        }    #T_08a62076_5ea5_11ea_bea4_001a6b0cdb24row7_col1 {\n",
       "            background-color:  #f7fbff;\n",
       "            color:  #000000;\n",
       "        }    #T_08a62076_5ea5_11ea_bea4_001a6b0cdb24row7_col2 {\n",
       "            background-color:  #f7fbff;\n",
       "            color:  #000000;\n",
       "        }    #T_08a62076_5ea5_11ea_bea4_001a6b0cdb24row8_col0 {\n",
       "            background-color:  #f7fbff;\n",
       "            color:  #000000;\n",
       "        }    #T_08a62076_5ea5_11ea_bea4_001a6b0cdb24row8_col1 {\n",
       "            background-color:  #f7fbff;\n",
       "            color:  #000000;\n",
       "        }    #T_08a62076_5ea5_11ea_bea4_001a6b0cdb24row8_col2 {\n",
       "            background-color:  #f7fbff;\n",
       "            color:  #000000;\n",
       "        }    #T_08a62076_5ea5_11ea_bea4_001a6b0cdb24row9_col0 {\n",
       "            background-color:  #f7fbff;\n",
       "            color:  #000000;\n",
       "        }    #T_08a62076_5ea5_11ea_bea4_001a6b0cdb24row9_col1 {\n",
       "            background-color:  #f7fbff;\n",
       "            color:  #000000;\n",
       "        }    #T_08a62076_5ea5_11ea_bea4_001a6b0cdb24row9_col2 {\n",
       "            background-color:  #f7fbff;\n",
       "            color:  #000000;\n",
       "        }    #T_08a62076_5ea5_11ea_bea4_001a6b0cdb24row10_col0 {\n",
       "            background-color:  #f7fbff;\n",
       "            color:  #000000;\n",
       "        }    #T_08a62076_5ea5_11ea_bea4_001a6b0cdb24row10_col1 {\n",
       "            background-color:  #f7fbff;\n",
       "            color:  #000000;\n",
       "        }    #T_08a62076_5ea5_11ea_bea4_001a6b0cdb24row10_col2 {\n",
       "            background-color:  #f7fbff;\n",
       "            color:  #000000;\n",
       "        }    #T_08a62076_5ea5_11ea_bea4_001a6b0cdb24row11_col0 {\n",
       "            background-color:  #f7fbff;\n",
       "            color:  #000000;\n",
       "        }    #T_08a62076_5ea5_11ea_bea4_001a6b0cdb24row11_col1 {\n",
       "            background-color:  #f7fbff;\n",
       "            color:  #000000;\n",
       "        }    #T_08a62076_5ea5_11ea_bea4_001a6b0cdb24row11_col2 {\n",
       "            background-color:  #f7fbff;\n",
       "            color:  #000000;\n",
       "        }    #T_08a62076_5ea5_11ea_bea4_001a6b0cdb24row12_col0 {\n",
       "            background-color:  #f7fbff;\n",
       "            color:  #000000;\n",
       "        }    #T_08a62076_5ea5_11ea_bea4_001a6b0cdb24row12_col1 {\n",
       "            background-color:  #f7fbff;\n",
       "            color:  #000000;\n",
       "        }    #T_08a62076_5ea5_11ea_bea4_001a6b0cdb24row12_col2 {\n",
       "            background-color:  #f7fbff;\n",
       "            color:  #000000;\n",
       "        }    #T_08a62076_5ea5_11ea_bea4_001a6b0cdb24row13_col0 {\n",
       "            background-color:  #f7fbff;\n",
       "            color:  #000000;\n",
       "        }    #T_08a62076_5ea5_11ea_bea4_001a6b0cdb24row13_col1 {\n",
       "            background-color:  #f7fbff;\n",
       "            color:  #000000;\n",
       "        }    #T_08a62076_5ea5_11ea_bea4_001a6b0cdb24row13_col2 {\n",
       "            background-color:  #f7fbff;\n",
       "            color:  #000000;\n",
       "        }    #T_08a62076_5ea5_11ea_bea4_001a6b0cdb24row14_col0 {\n",
       "            background-color:  #f7fbff;\n",
       "            color:  #000000;\n",
       "        }    #T_08a62076_5ea5_11ea_bea4_001a6b0cdb24row14_col1 {\n",
       "            background-color:  #f7fbff;\n",
       "            color:  #000000;\n",
       "        }    #T_08a62076_5ea5_11ea_bea4_001a6b0cdb24row14_col2 {\n",
       "            background-color:  #f7fbff;\n",
       "            color:  #000000;\n",
       "        }    #T_08a62076_5ea5_11ea_bea4_001a6b0cdb24row15_col0 {\n",
       "            background-color:  #f7fbff;\n",
       "            color:  #000000;\n",
       "        }    #T_08a62076_5ea5_11ea_bea4_001a6b0cdb24row15_col1 {\n",
       "            background-color:  #f7fbff;\n",
       "            color:  #000000;\n",
       "        }    #T_08a62076_5ea5_11ea_bea4_001a6b0cdb24row15_col2 {\n",
       "            background-color:  #f7fbff;\n",
       "            color:  #000000;\n",
       "        }    #T_08a62076_5ea5_11ea_bea4_001a6b0cdb24row16_col0 {\n",
       "            background-color:  #f7fbff;\n",
       "            color:  #000000;\n",
       "        }    #T_08a62076_5ea5_11ea_bea4_001a6b0cdb24row16_col1 {\n",
       "            background-color:  #f7fbff;\n",
       "            color:  #000000;\n",
       "        }    #T_08a62076_5ea5_11ea_bea4_001a6b0cdb24row16_col2 {\n",
       "            background-color:  #f7fbff;\n",
       "            color:  #000000;\n",
       "        }    #T_08a62076_5ea5_11ea_bea4_001a6b0cdb24row17_col0 {\n",
       "            background-color:  #f7fbff;\n",
       "            color:  #000000;\n",
       "        }    #T_08a62076_5ea5_11ea_bea4_001a6b0cdb24row17_col1 {\n",
       "            background-color:  #f7fbff;\n",
       "            color:  #000000;\n",
       "        }    #T_08a62076_5ea5_11ea_bea4_001a6b0cdb24row17_col2 {\n",
       "            background-color:  #f7fbff;\n",
       "            color:  #000000;\n",
       "        }    #T_08a62076_5ea5_11ea_bea4_001a6b0cdb24row18_col0 {\n",
       "            background-color:  #f7fbff;\n",
       "            color:  #000000;\n",
       "        }    #T_08a62076_5ea5_11ea_bea4_001a6b0cdb24row18_col1 {\n",
       "            background-color:  #f7fbff;\n",
       "            color:  #000000;\n",
       "        }    #T_08a62076_5ea5_11ea_bea4_001a6b0cdb24row18_col2 {\n",
       "            background-color:  #f7fbff;\n",
       "            color:  #000000;\n",
       "        }    #T_08a62076_5ea5_11ea_bea4_001a6b0cdb24row19_col0 {\n",
       "            background-color:  #f7fbff;\n",
       "            color:  #000000;\n",
       "        }    #T_08a62076_5ea5_11ea_bea4_001a6b0cdb24row19_col1 {\n",
       "            background-color:  #f7fbff;\n",
       "            color:  #000000;\n",
       "        }    #T_08a62076_5ea5_11ea_bea4_001a6b0cdb24row19_col2 {\n",
       "            background-color:  #f7fbff;\n",
       "            color:  #000000;\n",
       "        }    #T_08a62076_5ea5_11ea_bea4_001a6b0cdb24row20_col0 {\n",
       "            background-color:  #f7fbff;\n",
       "            color:  #000000;\n",
       "        }    #T_08a62076_5ea5_11ea_bea4_001a6b0cdb24row20_col1 {\n",
       "            background-color:  #f7fbff;\n",
       "            color:  #000000;\n",
       "        }    #T_08a62076_5ea5_11ea_bea4_001a6b0cdb24row20_col2 {\n",
       "            background-color:  #f7fbff;\n",
       "            color:  #000000;\n",
       "        }    #T_08a62076_5ea5_11ea_bea4_001a6b0cdb24row21_col0 {\n",
       "            background-color:  #f7fbff;\n",
       "            color:  #000000;\n",
       "        }    #T_08a62076_5ea5_11ea_bea4_001a6b0cdb24row21_col1 {\n",
       "            background-color:  #f7fbff;\n",
       "            color:  #000000;\n",
       "        }    #T_08a62076_5ea5_11ea_bea4_001a6b0cdb24row21_col2 {\n",
       "            background-color:  #f7fbff;\n",
       "            color:  #000000;\n",
       "        }    #T_08a62076_5ea5_11ea_bea4_001a6b0cdb24row22_col0 {\n",
       "            background-color:  #f7fbff;\n",
       "            color:  #000000;\n",
       "        }    #T_08a62076_5ea5_11ea_bea4_001a6b0cdb24row22_col1 {\n",
       "            background-color:  #f7fbff;\n",
       "            color:  #000000;\n",
       "        }    #T_08a62076_5ea5_11ea_bea4_001a6b0cdb24row22_col2 {\n",
       "            background-color:  #f7fbff;\n",
       "            color:  #000000;\n",
       "        }    #T_08a62076_5ea5_11ea_bea4_001a6b0cdb24row23_col0 {\n",
       "            background-color:  #f7fbff;\n",
       "            color:  #000000;\n",
       "        }    #T_08a62076_5ea5_11ea_bea4_001a6b0cdb24row23_col1 {\n",
       "            background-color:  #f7fbff;\n",
       "            color:  #000000;\n",
       "        }    #T_08a62076_5ea5_11ea_bea4_001a6b0cdb24row23_col2 {\n",
       "            background-color:  #f7fbff;\n",
       "            color:  #000000;\n",
       "        }    #T_08a62076_5ea5_11ea_bea4_001a6b0cdb24row24_col0 {\n",
       "            background-color:  #f7fbff;\n",
       "            color:  #000000;\n",
       "        }    #T_08a62076_5ea5_11ea_bea4_001a6b0cdb24row24_col1 {\n",
       "            background-color:  #f7fbff;\n",
       "            color:  #000000;\n",
       "        }    #T_08a62076_5ea5_11ea_bea4_001a6b0cdb24row24_col2 {\n",
       "            background-color:  #f7fbff;\n",
       "            color:  #000000;\n",
       "        }    #T_08a62076_5ea5_11ea_bea4_001a6b0cdb24row25_col0 {\n",
       "            background-color:  #f7fbff;\n",
       "            color:  #000000;\n",
       "        }    #T_08a62076_5ea5_11ea_bea4_001a6b0cdb24row25_col1 {\n",
       "            background-color:  #f7fbff;\n",
       "            color:  #000000;\n",
       "        }    #T_08a62076_5ea5_11ea_bea4_001a6b0cdb24row25_col2 {\n",
       "            background-color:  #f7fbff;\n",
       "            color:  #000000;\n",
       "        }    #T_08a62076_5ea5_11ea_bea4_001a6b0cdb24row26_col0 {\n",
       "            background-color:  #f5f9fe;\n",
       "            color:  #000000;\n",
       "        }    #T_08a62076_5ea5_11ea_bea4_001a6b0cdb24row26_col1 {\n",
       "            background-color:  #f7fbff;\n",
       "            color:  #000000;\n",
       "        }    #T_08a62076_5ea5_11ea_bea4_001a6b0cdb24row26_col2 {\n",
       "            background-color:  #f2f8fd;\n",
       "            color:  #000000;\n",
       "        }    #T_08a62076_5ea5_11ea_bea4_001a6b0cdb24row27_col0 {\n",
       "            background-color:  #f6faff;\n",
       "            color:  #000000;\n",
       "        }    #T_08a62076_5ea5_11ea_bea4_001a6b0cdb24row27_col1 {\n",
       "            background-color:  #f7fbff;\n",
       "            color:  #000000;\n",
       "        }    #T_08a62076_5ea5_11ea_bea4_001a6b0cdb24row27_col2 {\n",
       "            background-color:  #f5fafe;\n",
       "            color:  #000000;\n",
       "        }    #T_08a62076_5ea5_11ea_bea4_001a6b0cdb24row28_col0 {\n",
       "            background-color:  #f5fafe;\n",
       "            color:  #000000;\n",
       "        }    #T_08a62076_5ea5_11ea_bea4_001a6b0cdb24row28_col1 {\n",
       "            background-color:  #f7fbff;\n",
       "            color:  #000000;\n",
       "        }    #T_08a62076_5ea5_11ea_bea4_001a6b0cdb24row28_col2 {\n",
       "            background-color:  #f5f9fe;\n",
       "            color:  #000000;\n",
       "        }    #T_08a62076_5ea5_11ea_bea4_001a6b0cdb24row29_col0 {\n",
       "            background-color:  #f6faff;\n",
       "            color:  #000000;\n",
       "        }    #T_08a62076_5ea5_11ea_bea4_001a6b0cdb24row29_col1 {\n",
       "            background-color:  #f7fbff;\n",
       "            color:  #000000;\n",
       "        }    #T_08a62076_5ea5_11ea_bea4_001a6b0cdb24row29_col2 {\n",
       "            background-color:  #f6faff;\n",
       "            color:  #000000;\n",
       "        }    #T_08a62076_5ea5_11ea_bea4_001a6b0cdb24row30_col0 {\n",
       "            background-color:  #f7fbff;\n",
       "            color:  #000000;\n",
       "        }    #T_08a62076_5ea5_11ea_bea4_001a6b0cdb24row30_col1 {\n",
       "            background-color:  #f7fbff;\n",
       "            color:  #000000;\n",
       "        }    #T_08a62076_5ea5_11ea_bea4_001a6b0cdb24row30_col2 {\n",
       "            background-color:  #f7fbff;\n",
       "            color:  #000000;\n",
       "        }    #T_08a62076_5ea5_11ea_bea4_001a6b0cdb24row31_col0 {\n",
       "            background-color:  #f3f8fe;\n",
       "            color:  #000000;\n",
       "        }    #T_08a62076_5ea5_11ea_bea4_001a6b0cdb24row31_col1 {\n",
       "            background-color:  #f7fbff;\n",
       "            color:  #000000;\n",
       "        }    #T_08a62076_5ea5_11ea_bea4_001a6b0cdb24row31_col2 {\n",
       "            background-color:  #f2f7fd;\n",
       "            color:  #000000;\n",
       "        }    #T_08a62076_5ea5_11ea_bea4_001a6b0cdb24row32_col0 {\n",
       "            background-color:  #f7fbff;\n",
       "            color:  #000000;\n",
       "        }    #T_08a62076_5ea5_11ea_bea4_001a6b0cdb24row32_col1 {\n",
       "            background-color:  #f7fbff;\n",
       "            color:  #000000;\n",
       "        }    #T_08a62076_5ea5_11ea_bea4_001a6b0cdb24row32_col2 {\n",
       "            background-color:  #f6faff;\n",
       "            color:  #000000;\n",
       "        }    #T_08a62076_5ea5_11ea_bea4_001a6b0cdb24row33_col0 {\n",
       "            background-color:  #f7fbff;\n",
       "            color:  #000000;\n",
       "        }    #T_08a62076_5ea5_11ea_bea4_001a6b0cdb24row33_col1 {\n",
       "            background-color:  #f7fbff;\n",
       "            color:  #000000;\n",
       "        }    #T_08a62076_5ea5_11ea_bea4_001a6b0cdb24row33_col2 {\n",
       "            background-color:  #f7fbff;\n",
       "            color:  #000000;\n",
       "        }    #T_08a62076_5ea5_11ea_bea4_001a6b0cdb24row34_col0 {\n",
       "            background-color:  #f7fbff;\n",
       "            color:  #000000;\n",
       "        }    #T_08a62076_5ea5_11ea_bea4_001a6b0cdb24row34_col1 {\n",
       "            background-color:  #f7fbff;\n",
       "            color:  #000000;\n",
       "        }    #T_08a62076_5ea5_11ea_bea4_001a6b0cdb24row34_col2 {\n",
       "            background-color:  #f6faff;\n",
       "            color:  #000000;\n",
       "        }    #T_08a62076_5ea5_11ea_bea4_001a6b0cdb24row35_col0 {\n",
       "            background-color:  #f6faff;\n",
       "            color:  #000000;\n",
       "        }    #T_08a62076_5ea5_11ea_bea4_001a6b0cdb24row35_col1 {\n",
       "            background-color:  #f7fbff;\n",
       "            color:  #000000;\n",
       "        }    #T_08a62076_5ea5_11ea_bea4_001a6b0cdb24row35_col2 {\n",
       "            background-color:  #f5fafe;\n",
       "            color:  #000000;\n",
       "        }    #T_08a62076_5ea5_11ea_bea4_001a6b0cdb24row36_col0 {\n",
       "            background-color:  #f6faff;\n",
       "            color:  #000000;\n",
       "        }    #T_08a62076_5ea5_11ea_bea4_001a6b0cdb24row36_col1 {\n",
       "            background-color:  #f6faff;\n",
       "            color:  #000000;\n",
       "        }    #T_08a62076_5ea5_11ea_bea4_001a6b0cdb24row36_col2 {\n",
       "            background-color:  #f5fafe;\n",
       "            color:  #000000;\n",
       "        }    #T_08a62076_5ea5_11ea_bea4_001a6b0cdb24row37_col0 {\n",
       "            background-color:  #f4f9fe;\n",
       "            color:  #000000;\n",
       "        }    #T_08a62076_5ea5_11ea_bea4_001a6b0cdb24row37_col1 {\n",
       "            background-color:  #f5fafe;\n",
       "            color:  #000000;\n",
       "        }    #T_08a62076_5ea5_11ea_bea4_001a6b0cdb24row37_col2 {\n",
       "            background-color:  #f0f6fd;\n",
       "            color:  #000000;\n",
       "        }    #T_08a62076_5ea5_11ea_bea4_001a6b0cdb24row38_col0 {\n",
       "            background-color:  #08306b;\n",
       "            color:  #f1f1f1;\n",
       "        }    #T_08a62076_5ea5_11ea_bea4_001a6b0cdb24row38_col1 {\n",
       "            background-color:  #08306b;\n",
       "            color:  #f1f1f1;\n",
       "        }    #T_08a62076_5ea5_11ea_bea4_001a6b0cdb24row38_col2 {\n",
       "            background-color:  #08306b;\n",
       "            color:  #f1f1f1;\n",
       "        }    #T_08a62076_5ea5_11ea_bea4_001a6b0cdb24row39_col0 {\n",
       "            background-color:  #f5f9fe;\n",
       "            color:  #000000;\n",
       "        }    #T_08a62076_5ea5_11ea_bea4_001a6b0cdb24row39_col1 {\n",
       "            background-color:  #f7fbff;\n",
       "            color:  #000000;\n",
       "        }    #T_08a62076_5ea5_11ea_bea4_001a6b0cdb24row39_col2 {\n",
       "            background-color:  #f2f8fd;\n",
       "            color:  #000000;\n",
       "        }    #T_08a62076_5ea5_11ea_bea4_001a6b0cdb24row40_col0 {\n",
       "            background-color:  #f7fbff;\n",
       "            color:  #000000;\n",
       "        }    #T_08a62076_5ea5_11ea_bea4_001a6b0cdb24row40_col1 {\n",
       "            background-color:  #f7fbff;\n",
       "            color:  #000000;\n",
       "        }    #T_08a62076_5ea5_11ea_bea4_001a6b0cdb24row40_col2 {\n",
       "            background-color:  #f7fbff;\n",
       "            color:  #000000;\n",
       "        }    #T_08a62076_5ea5_11ea_bea4_001a6b0cdb24row41_col0 {\n",
       "            background-color:  #f5fafe;\n",
       "            color:  #000000;\n",
       "        }    #T_08a62076_5ea5_11ea_bea4_001a6b0cdb24row41_col1 {\n",
       "            background-color:  #f7fbff;\n",
       "            color:  #000000;\n",
       "        }    #T_08a62076_5ea5_11ea_bea4_001a6b0cdb24row41_col2 {\n",
       "            background-color:  #f4f9fe;\n",
       "            color:  #000000;\n",
       "        }    #T_08a62076_5ea5_11ea_bea4_001a6b0cdb24row42_col0 {\n",
       "            background-color:  #f5f9fe;\n",
       "            color:  #000000;\n",
       "        }    #T_08a62076_5ea5_11ea_bea4_001a6b0cdb24row42_col1 {\n",
       "            background-color:  #f7fbff;\n",
       "            color:  #000000;\n",
       "        }    #T_08a62076_5ea5_11ea_bea4_001a6b0cdb24row42_col2 {\n",
       "            background-color:  #f2f8fd;\n",
       "            color:  #000000;\n",
       "        }    #T_08a62076_5ea5_11ea_bea4_001a6b0cdb24row43_col0 {\n",
       "            background-color:  #f7fbff;\n",
       "            color:  #000000;\n",
       "        }    #T_08a62076_5ea5_11ea_bea4_001a6b0cdb24row43_col1 {\n",
       "            background-color:  #f7fbff;\n",
       "            color:  #000000;\n",
       "        }    #T_08a62076_5ea5_11ea_bea4_001a6b0cdb24row43_col2 {\n",
       "            background-color:  #f7fbff;\n",
       "            color:  #000000;\n",
       "        }    #T_08a62076_5ea5_11ea_bea4_001a6b0cdb24row44_col0 {\n",
       "            background-color:  #f7fbff;\n",
       "            color:  #000000;\n",
       "        }    #T_08a62076_5ea5_11ea_bea4_001a6b0cdb24row44_col1 {\n",
       "            background-color:  #f7fbff;\n",
       "            color:  #000000;\n",
       "        }    #T_08a62076_5ea5_11ea_bea4_001a6b0cdb24row44_col2 {\n",
       "            background-color:  #f7fbff;\n",
       "            color:  #000000;\n",
       "        }    #T_08a62076_5ea5_11ea_bea4_001a6b0cdb24row45_col0 {\n",
       "            background-color:  #f7fbff;\n",
       "            color:  #000000;\n",
       "        }    #T_08a62076_5ea5_11ea_bea4_001a6b0cdb24row45_col1 {\n",
       "            background-color:  #f7fbff;\n",
       "            color:  #000000;\n",
       "        }    #T_08a62076_5ea5_11ea_bea4_001a6b0cdb24row45_col2 {\n",
       "            background-color:  #f7fbff;\n",
       "            color:  #000000;\n",
       "        }    #T_08a62076_5ea5_11ea_bea4_001a6b0cdb24row46_col0 {\n",
       "            background-color:  #f7fbff;\n",
       "            color:  #000000;\n",
       "        }    #T_08a62076_5ea5_11ea_bea4_001a6b0cdb24row46_col1 {\n",
       "            background-color:  #f7fbff;\n",
       "            color:  #000000;\n",
       "        }    #T_08a62076_5ea5_11ea_bea4_001a6b0cdb24row46_col2 {\n",
       "            background-color:  #f7fbff;\n",
       "            color:  #000000;\n",
       "        }    #T_08a62076_5ea5_11ea_bea4_001a6b0cdb24row47_col0 {\n",
       "            background-color:  #f7fbff;\n",
       "            color:  #000000;\n",
       "        }    #T_08a62076_5ea5_11ea_bea4_001a6b0cdb24row47_col1 {\n",
       "            background-color:  #f7fbff;\n",
       "            color:  #000000;\n",
       "        }    #T_08a62076_5ea5_11ea_bea4_001a6b0cdb24row47_col2 {\n",
       "            background-color:  #f6faff;\n",
       "            color:  #000000;\n",
       "        }    #T_08a62076_5ea5_11ea_bea4_001a6b0cdb24row48_col0 {\n",
       "            background-color:  #f5fafe;\n",
       "            color:  #000000;\n",
       "        }    #T_08a62076_5ea5_11ea_bea4_001a6b0cdb24row48_col1 {\n",
       "            background-color:  #f7fbff;\n",
       "            color:  #000000;\n",
       "        }    #T_08a62076_5ea5_11ea_bea4_001a6b0cdb24row48_col2 {\n",
       "            background-color:  #f5f9fe;\n",
       "            color:  #000000;\n",
       "        }    #T_08a62076_5ea5_11ea_bea4_001a6b0cdb24row49_col0 {\n",
       "            background-color:  #f6faff;\n",
       "            color:  #000000;\n",
       "        }    #T_08a62076_5ea5_11ea_bea4_001a6b0cdb24row49_col1 {\n",
       "            background-color:  #f7fbff;\n",
       "            color:  #000000;\n",
       "        }    #T_08a62076_5ea5_11ea_bea4_001a6b0cdb24row49_col2 {\n",
       "            background-color:  #f5fafe;\n",
       "            color:  #000000;\n",
       "        }    #T_08a62076_5ea5_11ea_bea4_001a6b0cdb24row50_col0 {\n",
       "            background-color:  #f7fbff;\n",
       "            color:  #000000;\n",
       "        }    #T_08a62076_5ea5_11ea_bea4_001a6b0cdb24row50_col1 {\n",
       "            background-color:  #f7fbff;\n",
       "            color:  #000000;\n",
       "        }    #T_08a62076_5ea5_11ea_bea4_001a6b0cdb24row50_col2 {\n",
       "            background-color:  #f7fbff;\n",
       "            color:  #000000;\n",
       "        }    #T_08a62076_5ea5_11ea_bea4_001a6b0cdb24row51_col0 {\n",
       "            background-color:  #f5fafe;\n",
       "            color:  #000000;\n",
       "        }    #T_08a62076_5ea5_11ea_bea4_001a6b0cdb24row51_col1 {\n",
       "            background-color:  #f7fbff;\n",
       "            color:  #000000;\n",
       "        }    #T_08a62076_5ea5_11ea_bea4_001a6b0cdb24row51_col2 {\n",
       "            background-color:  #f5fafe;\n",
       "            color:  #000000;\n",
       "        }    #T_08a62076_5ea5_11ea_bea4_001a6b0cdb24row52_col0 {\n",
       "            background-color:  #f7fbff;\n",
       "            color:  #000000;\n",
       "        }    #T_08a62076_5ea5_11ea_bea4_001a6b0cdb24row52_col1 {\n",
       "            background-color:  #f7fbff;\n",
       "            color:  #000000;\n",
       "        }    #T_08a62076_5ea5_11ea_bea4_001a6b0cdb24row52_col2 {\n",
       "            background-color:  #f7fbff;\n",
       "            color:  #000000;\n",
       "        }    #T_08a62076_5ea5_11ea_bea4_001a6b0cdb24row53_col0 {\n",
       "            background-color:  #f7fbff;\n",
       "            color:  #000000;\n",
       "        }    #T_08a62076_5ea5_11ea_bea4_001a6b0cdb24row53_col1 {\n",
       "            background-color:  #f7fbff;\n",
       "            color:  #000000;\n",
       "        }    #T_08a62076_5ea5_11ea_bea4_001a6b0cdb24row53_col2 {\n",
       "            background-color:  #f7fbff;\n",
       "            color:  #000000;\n",
       "        }    #T_08a62076_5ea5_11ea_bea4_001a6b0cdb24row54_col0 {\n",
       "            background-color:  #f7fbff;\n",
       "            color:  #000000;\n",
       "        }    #T_08a62076_5ea5_11ea_bea4_001a6b0cdb24row54_col1 {\n",
       "            background-color:  #f7fbff;\n",
       "            color:  #000000;\n",
       "        }    #T_08a62076_5ea5_11ea_bea4_001a6b0cdb24row54_col2 {\n",
       "            background-color:  #f7fbff;\n",
       "            color:  #000000;\n",
       "        }    #T_08a62076_5ea5_11ea_bea4_001a6b0cdb24row55_col0 {\n",
       "            background-color:  #f7fbff;\n",
       "            color:  #000000;\n",
       "        }    #T_08a62076_5ea5_11ea_bea4_001a6b0cdb24row55_col1 {\n",
       "            background-color:  #f7fbff;\n",
       "            color:  #000000;\n",
       "        }    #T_08a62076_5ea5_11ea_bea4_001a6b0cdb24row55_col2 {\n",
       "            background-color:  #f6faff;\n",
       "            color:  #000000;\n",
       "        }    #T_08a62076_5ea5_11ea_bea4_001a6b0cdb24row56_col0 {\n",
       "            background-color:  #f4f9fe;\n",
       "            color:  #000000;\n",
       "        }    #T_08a62076_5ea5_11ea_bea4_001a6b0cdb24row56_col1 {\n",
       "            background-color:  #f7fbff;\n",
       "            color:  #000000;\n",
       "        }    #T_08a62076_5ea5_11ea_bea4_001a6b0cdb24row56_col2 {\n",
       "            background-color:  #f1f7fd;\n",
       "            color:  #000000;\n",
       "        }    #T_08a62076_5ea5_11ea_bea4_001a6b0cdb24row57_col0 {\n",
       "            background-color:  #f7fbff;\n",
       "            color:  #000000;\n",
       "        }    #T_08a62076_5ea5_11ea_bea4_001a6b0cdb24row57_col1 {\n",
       "            background-color:  #f7fbff;\n",
       "            color:  #000000;\n",
       "        }    #T_08a62076_5ea5_11ea_bea4_001a6b0cdb24row57_col2 {\n",
       "            background-color:  #f7fbff;\n",
       "            color:  #000000;\n",
       "        }    #T_08a62076_5ea5_11ea_bea4_001a6b0cdb24row58_col0 {\n",
       "            background-color:  #f7fbff;\n",
       "            color:  #000000;\n",
       "        }    #T_08a62076_5ea5_11ea_bea4_001a6b0cdb24row58_col1 {\n",
       "            background-color:  #f7fbff;\n",
       "            color:  #000000;\n",
       "        }    #T_08a62076_5ea5_11ea_bea4_001a6b0cdb24row58_col2 {\n",
       "            background-color:  #f7fbff;\n",
       "            color:  #000000;\n",
       "        }    #T_08a62076_5ea5_11ea_bea4_001a6b0cdb24row59_col0 {\n",
       "            background-color:  #f7fbff;\n",
       "            color:  #000000;\n",
       "        }    #T_08a62076_5ea5_11ea_bea4_001a6b0cdb24row59_col1 {\n",
       "            background-color:  #f7fbff;\n",
       "            color:  #000000;\n",
       "        }    #T_08a62076_5ea5_11ea_bea4_001a6b0cdb24row59_col2 {\n",
       "            background-color:  #f7fbff;\n",
       "            color:  #000000;\n",
       "        }    #T_08a62076_5ea5_11ea_bea4_001a6b0cdb24row60_col0 {\n",
       "            background-color:  #f7fbff;\n",
       "            color:  #000000;\n",
       "        }    #T_08a62076_5ea5_11ea_bea4_001a6b0cdb24row60_col1 {\n",
       "            background-color:  #f7fbff;\n",
       "            color:  #000000;\n",
       "        }    #T_08a62076_5ea5_11ea_bea4_001a6b0cdb24row60_col2 {\n",
       "            background-color:  #f7fbff;\n",
       "            color:  #000000;\n",
       "        }    #T_08a62076_5ea5_11ea_bea4_001a6b0cdb24row61_col0 {\n",
       "            background-color:  #f7fbff;\n",
       "            color:  #000000;\n",
       "        }    #T_08a62076_5ea5_11ea_bea4_001a6b0cdb24row61_col1 {\n",
       "            background-color:  #f7fbff;\n",
       "            color:  #000000;\n",
       "        }    #T_08a62076_5ea5_11ea_bea4_001a6b0cdb24row61_col2 {\n",
       "            background-color:  #f7fbff;\n",
       "            color:  #000000;\n",
       "        }    #T_08a62076_5ea5_11ea_bea4_001a6b0cdb24row62_col0 {\n",
       "            background-color:  #f7fbff;\n",
       "            color:  #000000;\n",
       "        }    #T_08a62076_5ea5_11ea_bea4_001a6b0cdb24row62_col1 {\n",
       "            background-color:  #f7fbff;\n",
       "            color:  #000000;\n",
       "        }    #T_08a62076_5ea5_11ea_bea4_001a6b0cdb24row62_col2 {\n",
       "            background-color:  #f7fbff;\n",
       "            color:  #000000;\n",
       "        }    #T_08a62076_5ea5_11ea_bea4_001a6b0cdb24row63_col0 {\n",
       "            background-color:  #f7fbff;\n",
       "            color:  #000000;\n",
       "        }    #T_08a62076_5ea5_11ea_bea4_001a6b0cdb24row63_col1 {\n",
       "            background-color:  #f7fbff;\n",
       "            color:  #000000;\n",
       "        }    #T_08a62076_5ea5_11ea_bea4_001a6b0cdb24row63_col2 {\n",
       "            background-color:  #f7fbff;\n",
       "            color:  #000000;\n",
       "        }    #T_08a62076_5ea5_11ea_bea4_001a6b0cdb24row64_col0 {\n",
       "            background-color:  #f7fbff;\n",
       "            color:  #000000;\n",
       "        }    #T_08a62076_5ea5_11ea_bea4_001a6b0cdb24row64_col1 {\n",
       "            background-color:  #f7fbff;\n",
       "            color:  #000000;\n",
       "        }    #T_08a62076_5ea5_11ea_bea4_001a6b0cdb24row64_col2 {\n",
       "            background-color:  #f7fbff;\n",
       "            color:  #000000;\n",
       "        }    #T_08a62076_5ea5_11ea_bea4_001a6b0cdb24row65_col0 {\n",
       "            background-color:  #f7fbff;\n",
       "            color:  #000000;\n",
       "        }    #T_08a62076_5ea5_11ea_bea4_001a6b0cdb24row65_col1 {\n",
       "            background-color:  #f7fbff;\n",
       "            color:  #000000;\n",
       "        }    #T_08a62076_5ea5_11ea_bea4_001a6b0cdb24row65_col2 {\n",
       "            background-color:  #f7fbff;\n",
       "            color:  #000000;\n",
       "        }    #T_08a62076_5ea5_11ea_bea4_001a6b0cdb24row66_col0 {\n",
       "            background-color:  #f7fbff;\n",
       "            color:  #000000;\n",
       "        }    #T_08a62076_5ea5_11ea_bea4_001a6b0cdb24row66_col1 {\n",
       "            background-color:  #f7fbff;\n",
       "            color:  #000000;\n",
       "        }    #T_08a62076_5ea5_11ea_bea4_001a6b0cdb24row66_col2 {\n",
       "            background-color:  #f7fbff;\n",
       "            color:  #000000;\n",
       "        }    #T_08a62076_5ea5_11ea_bea4_001a6b0cdb24row67_col0 {\n",
       "            background-color:  #f7fbff;\n",
       "            color:  #000000;\n",
       "        }    #T_08a62076_5ea5_11ea_bea4_001a6b0cdb24row67_col1 {\n",
       "            background-color:  #f7fbff;\n",
       "            color:  #000000;\n",
       "        }    #T_08a62076_5ea5_11ea_bea4_001a6b0cdb24row67_col2 {\n",
       "            background-color:  #f7fbff;\n",
       "            color:  #000000;\n",
       "        }    #T_08a62076_5ea5_11ea_bea4_001a6b0cdb24row68_col0 {\n",
       "            background-color:  #f7fbff;\n",
       "            color:  #000000;\n",
       "        }    #T_08a62076_5ea5_11ea_bea4_001a6b0cdb24row68_col1 {\n",
       "            background-color:  #f7fbff;\n",
       "            color:  #000000;\n",
       "        }    #T_08a62076_5ea5_11ea_bea4_001a6b0cdb24row68_col2 {\n",
       "            background-color:  #f7fbff;\n",
       "            color:  #000000;\n",
       "        }    #T_08a62076_5ea5_11ea_bea4_001a6b0cdb24row69_col0 {\n",
       "            background-color:  #f7fbff;\n",
       "            color:  #000000;\n",
       "        }    #T_08a62076_5ea5_11ea_bea4_001a6b0cdb24row69_col1 {\n",
       "            background-color:  #f7fbff;\n",
       "            color:  #000000;\n",
       "        }    #T_08a62076_5ea5_11ea_bea4_001a6b0cdb24row69_col2 {\n",
       "            background-color:  #f7fbff;\n",
       "            color:  #000000;\n",
       "        }    #T_08a62076_5ea5_11ea_bea4_001a6b0cdb24row70_col0 {\n",
       "            background-color:  #f7fbff;\n",
       "            color:  #000000;\n",
       "        }    #T_08a62076_5ea5_11ea_bea4_001a6b0cdb24row70_col1 {\n",
       "            background-color:  #f7fbff;\n",
       "            color:  #000000;\n",
       "        }    #T_08a62076_5ea5_11ea_bea4_001a6b0cdb24row70_col2 {\n",
       "            background-color:  #f7fbff;\n",
       "            color:  #000000;\n",
       "        }    #T_08a62076_5ea5_11ea_bea4_001a6b0cdb24row71_col0 {\n",
       "            background-color:  #f7fbff;\n",
       "            color:  #000000;\n",
       "        }    #T_08a62076_5ea5_11ea_bea4_001a6b0cdb24row71_col1 {\n",
       "            background-color:  #f7fbff;\n",
       "            color:  #000000;\n",
       "        }    #T_08a62076_5ea5_11ea_bea4_001a6b0cdb24row71_col2 {\n",
       "            background-color:  #f7fbff;\n",
       "            color:  #000000;\n",
       "        }    #T_08a62076_5ea5_11ea_bea4_001a6b0cdb24row72_col0 {\n",
       "            background-color:  #f7fbff;\n",
       "            color:  #000000;\n",
       "        }    #T_08a62076_5ea5_11ea_bea4_001a6b0cdb24row72_col1 {\n",
       "            background-color:  #f7fbff;\n",
       "            color:  #000000;\n",
       "        }    #T_08a62076_5ea5_11ea_bea4_001a6b0cdb24row72_col2 {\n",
       "            background-color:  #f7fbff;\n",
       "            color:  #000000;\n",
       "        }    #T_08a62076_5ea5_11ea_bea4_001a6b0cdb24row73_col0 {\n",
       "            background-color:  #f7fbff;\n",
       "            color:  #000000;\n",
       "        }    #T_08a62076_5ea5_11ea_bea4_001a6b0cdb24row73_col1 {\n",
       "            background-color:  #f7fbff;\n",
       "            color:  #000000;\n",
       "        }    #T_08a62076_5ea5_11ea_bea4_001a6b0cdb24row73_col2 {\n",
       "            background-color:  #f7fbff;\n",
       "            color:  #000000;\n",
       "        }    #T_08a62076_5ea5_11ea_bea4_001a6b0cdb24row74_col0 {\n",
       "            background-color:  #f7fbff;\n",
       "            color:  #000000;\n",
       "        }    #T_08a62076_5ea5_11ea_bea4_001a6b0cdb24row74_col1 {\n",
       "            background-color:  #f7fbff;\n",
       "            color:  #000000;\n",
       "        }    #T_08a62076_5ea5_11ea_bea4_001a6b0cdb24row74_col2 {\n",
       "            background-color:  #f7fbff;\n",
       "            color:  #000000;\n",
       "        }    #T_08a62076_5ea5_11ea_bea4_001a6b0cdb24row75_col0 {\n",
       "            background-color:  #f3f8fe;\n",
       "            color:  #000000;\n",
       "        }    #T_08a62076_5ea5_11ea_bea4_001a6b0cdb24row75_col1 {\n",
       "            background-color:  #f2f8fd;\n",
       "            color:  #000000;\n",
       "        }    #T_08a62076_5ea5_11ea_bea4_001a6b0cdb24row75_col2 {\n",
       "            background-color:  #f5fafe;\n",
       "            color:  #000000;\n",
       "        }    #T_08a62076_5ea5_11ea_bea4_001a6b0cdb24row76_col0 {\n",
       "            background-color:  #f7fbff;\n",
       "            color:  #000000;\n",
       "        }    #T_08a62076_5ea5_11ea_bea4_001a6b0cdb24row76_col1 {\n",
       "            background-color:  #f7fbff;\n",
       "            color:  #000000;\n",
       "        }    #T_08a62076_5ea5_11ea_bea4_001a6b0cdb24row76_col2 {\n",
       "            background-color:  #f7fbff;\n",
       "            color:  #000000;\n",
       "        }    #T_08a62076_5ea5_11ea_bea4_001a6b0cdb24row77_col0 {\n",
       "            background-color:  #f7fbff;\n",
       "            color:  #000000;\n",
       "        }    #T_08a62076_5ea5_11ea_bea4_001a6b0cdb24row77_col1 {\n",
       "            background-color:  #f7fbff;\n",
       "            color:  #000000;\n",
       "        }    #T_08a62076_5ea5_11ea_bea4_001a6b0cdb24row77_col2 {\n",
       "            background-color:  #f7fbff;\n",
       "            color:  #000000;\n",
       "        }    #T_08a62076_5ea5_11ea_bea4_001a6b0cdb24row78_col0 {\n",
       "            background-color:  #f7fbff;\n",
       "            color:  #000000;\n",
       "        }    #T_08a62076_5ea5_11ea_bea4_001a6b0cdb24row78_col1 {\n",
       "            background-color:  #f7fbff;\n",
       "            color:  #000000;\n",
       "        }    #T_08a62076_5ea5_11ea_bea4_001a6b0cdb24row78_col2 {\n",
       "            background-color:  #f7fbff;\n",
       "            color:  #000000;\n",
       "        }    #T_08a62076_5ea5_11ea_bea4_001a6b0cdb24row79_col0 {\n",
       "            background-color:  #f7fbff;\n",
       "            color:  #000000;\n",
       "        }    #T_08a62076_5ea5_11ea_bea4_001a6b0cdb24row79_col1 {\n",
       "            background-color:  #f7fbff;\n",
       "            color:  #000000;\n",
       "        }    #T_08a62076_5ea5_11ea_bea4_001a6b0cdb24row79_col2 {\n",
       "            background-color:  #f7fbff;\n",
       "            color:  #000000;\n",
       "        }    #T_08a62076_5ea5_11ea_bea4_001a6b0cdb24row80_col0 {\n",
       "            background-color:  #f7fbff;\n",
       "            color:  #000000;\n",
       "        }    #T_08a62076_5ea5_11ea_bea4_001a6b0cdb24row80_col1 {\n",
       "            background-color:  #f7fbff;\n",
       "            color:  #000000;\n",
       "        }    #T_08a62076_5ea5_11ea_bea4_001a6b0cdb24row80_col2 {\n",
       "            background-color:  #f7fbff;\n",
       "            color:  #000000;\n",
       "        }    #T_08a62076_5ea5_11ea_bea4_001a6b0cdb24row81_col0 {\n",
       "            background-color:  #f2f7fd;\n",
       "            color:  #000000;\n",
       "        }    #T_08a62076_5ea5_11ea_bea4_001a6b0cdb24row81_col1 {\n",
       "            background-color:  #f4f9fe;\n",
       "            color:  #000000;\n",
       "        }    #T_08a62076_5ea5_11ea_bea4_001a6b0cdb24row81_col2 {\n",
       "            background-color:  #f6faff;\n",
       "            color:  #000000;\n",
       "        }    #T_08a62076_5ea5_11ea_bea4_001a6b0cdb24row82_col0 {\n",
       "            background-color:  #f7fbff;\n",
       "            color:  #000000;\n",
       "        }    #T_08a62076_5ea5_11ea_bea4_001a6b0cdb24row82_col1 {\n",
       "            background-color:  #f7fbff;\n",
       "            color:  #000000;\n",
       "        }    #T_08a62076_5ea5_11ea_bea4_001a6b0cdb24row82_col2 {\n",
       "            background-color:  #f7fbff;\n",
       "            color:  #000000;\n",
       "        }    #T_08a62076_5ea5_11ea_bea4_001a6b0cdb24row83_col0 {\n",
       "            background-color:  #f6faff;\n",
       "            color:  #000000;\n",
       "        }    #T_08a62076_5ea5_11ea_bea4_001a6b0cdb24row83_col1 {\n",
       "            background-color:  #f7fbff;\n",
       "            color:  #000000;\n",
       "        }    #T_08a62076_5ea5_11ea_bea4_001a6b0cdb24row83_col2 {\n",
       "            background-color:  #f7fbff;\n",
       "            color:  #000000;\n",
       "        }    #T_08a62076_5ea5_11ea_bea4_001a6b0cdb24row84_col0 {\n",
       "            background-color:  #f7fbff;\n",
       "            color:  #000000;\n",
       "        }    #T_08a62076_5ea5_11ea_bea4_001a6b0cdb24row84_col1 {\n",
       "            background-color:  #f7fbff;\n",
       "            color:  #000000;\n",
       "        }    #T_08a62076_5ea5_11ea_bea4_001a6b0cdb24row84_col2 {\n",
       "            background-color:  #f7fbff;\n",
       "            color:  #000000;\n",
       "        }    #T_08a62076_5ea5_11ea_bea4_001a6b0cdb24row85_col0 {\n",
       "            background-color:  #f7fbff;\n",
       "            color:  #000000;\n",
       "        }    #T_08a62076_5ea5_11ea_bea4_001a6b0cdb24row85_col1 {\n",
       "            background-color:  #f7fbff;\n",
       "            color:  #000000;\n",
       "        }    #T_08a62076_5ea5_11ea_bea4_001a6b0cdb24row85_col2 {\n",
       "            background-color:  #f7fbff;\n",
       "            color:  #000000;\n",
       "        }    #T_08a62076_5ea5_11ea_bea4_001a6b0cdb24row86_col0 {\n",
       "            background-color:  #f7fbff;\n",
       "            color:  #000000;\n",
       "        }    #T_08a62076_5ea5_11ea_bea4_001a6b0cdb24row86_col1 {\n",
       "            background-color:  #f7fbff;\n",
       "            color:  #000000;\n",
       "        }    #T_08a62076_5ea5_11ea_bea4_001a6b0cdb24row86_col2 {\n",
       "            background-color:  #f7fbff;\n",
       "            color:  #000000;\n",
       "        }    #T_08a62076_5ea5_11ea_bea4_001a6b0cdb24row87_col0 {\n",
       "            background-color:  #f7fbff;\n",
       "            color:  #000000;\n",
       "        }    #T_08a62076_5ea5_11ea_bea4_001a6b0cdb24row87_col1 {\n",
       "            background-color:  #f7fbff;\n",
       "            color:  #000000;\n",
       "        }    #T_08a62076_5ea5_11ea_bea4_001a6b0cdb24row87_col2 {\n",
       "            background-color:  #f7fbff;\n",
       "            color:  #000000;\n",
       "        }    #T_08a62076_5ea5_11ea_bea4_001a6b0cdb24row88_col0 {\n",
       "            background-color:  #f7fbff;\n",
       "            color:  #000000;\n",
       "        }    #T_08a62076_5ea5_11ea_bea4_001a6b0cdb24row88_col1 {\n",
       "            background-color:  #f7fbff;\n",
       "            color:  #000000;\n",
       "        }    #T_08a62076_5ea5_11ea_bea4_001a6b0cdb24row88_col2 {\n",
       "            background-color:  #f7fbff;\n",
       "            color:  #000000;\n",
       "        }    #T_08a62076_5ea5_11ea_bea4_001a6b0cdb24row89_col0 {\n",
       "            background-color:  #f7fbff;\n",
       "            color:  #000000;\n",
       "        }    #T_08a62076_5ea5_11ea_bea4_001a6b0cdb24row89_col1 {\n",
       "            background-color:  #f7fbff;\n",
       "            color:  #000000;\n",
       "        }    #T_08a62076_5ea5_11ea_bea4_001a6b0cdb24row89_col2 {\n",
       "            background-color:  #f7fbff;\n",
       "            color:  #000000;\n",
       "        }    #T_08a62076_5ea5_11ea_bea4_001a6b0cdb24row90_col0 {\n",
       "            background-color:  #f7fbff;\n",
       "            color:  #000000;\n",
       "        }    #T_08a62076_5ea5_11ea_bea4_001a6b0cdb24row90_col1 {\n",
       "            background-color:  #f7fbff;\n",
       "            color:  #000000;\n",
       "        }    #T_08a62076_5ea5_11ea_bea4_001a6b0cdb24row90_col2 {\n",
       "            background-color:  #f7fbff;\n",
       "            color:  #000000;\n",
       "        }    #T_08a62076_5ea5_11ea_bea4_001a6b0cdb24row91_col0 {\n",
       "            background-color:  #f7fbff;\n",
       "            color:  #000000;\n",
       "        }    #T_08a62076_5ea5_11ea_bea4_001a6b0cdb24row91_col1 {\n",
       "            background-color:  #f7fbff;\n",
       "            color:  #000000;\n",
       "        }    #T_08a62076_5ea5_11ea_bea4_001a6b0cdb24row91_col2 {\n",
       "            background-color:  #f7fbff;\n",
       "            color:  #000000;\n",
       "        }    #T_08a62076_5ea5_11ea_bea4_001a6b0cdb24row92_col0 {\n",
       "            background-color:  #f7fbff;\n",
       "            color:  #000000;\n",
       "        }    #T_08a62076_5ea5_11ea_bea4_001a6b0cdb24row92_col1 {\n",
       "            background-color:  #f7fbff;\n",
       "            color:  #000000;\n",
       "        }    #T_08a62076_5ea5_11ea_bea4_001a6b0cdb24row92_col2 {\n",
       "            background-color:  #f7fbff;\n",
       "            color:  #000000;\n",
       "        }    #T_08a62076_5ea5_11ea_bea4_001a6b0cdb24row93_col0 {\n",
       "            background-color:  #f7fbff;\n",
       "            color:  #000000;\n",
       "        }    #T_08a62076_5ea5_11ea_bea4_001a6b0cdb24row93_col1 {\n",
       "            background-color:  #f7fbff;\n",
       "            color:  #000000;\n",
       "        }    #T_08a62076_5ea5_11ea_bea4_001a6b0cdb24row93_col2 {\n",
       "            background-color:  #f7fbff;\n",
       "            color:  #000000;\n",
       "        }    #T_08a62076_5ea5_11ea_bea4_001a6b0cdb24row94_col0 {\n",
       "            background-color:  #f7fbff;\n",
       "            color:  #000000;\n",
       "        }    #T_08a62076_5ea5_11ea_bea4_001a6b0cdb24row94_col1 {\n",
       "            background-color:  #f7fbff;\n",
       "            color:  #000000;\n",
       "        }    #T_08a62076_5ea5_11ea_bea4_001a6b0cdb24row94_col2 {\n",
       "            background-color:  #f7fbff;\n",
       "            color:  #000000;\n",
       "        }    #T_08a62076_5ea5_11ea_bea4_001a6b0cdb24row95_col0 {\n",
       "            background-color:  #f7fbff;\n",
       "            color:  #000000;\n",
       "        }    #T_08a62076_5ea5_11ea_bea4_001a6b0cdb24row95_col1 {\n",
       "            background-color:  #f7fbff;\n",
       "            color:  #000000;\n",
       "        }    #T_08a62076_5ea5_11ea_bea4_001a6b0cdb24row95_col2 {\n",
       "            background-color:  #f7fbff;\n",
       "            color:  #000000;\n",
       "        }    #T_08a62076_5ea5_11ea_bea4_001a6b0cdb24row96_col0 {\n",
       "            background-color:  #f7fbff;\n",
       "            color:  #000000;\n",
       "        }    #T_08a62076_5ea5_11ea_bea4_001a6b0cdb24row96_col1 {\n",
       "            background-color:  #f7fbff;\n",
       "            color:  #000000;\n",
       "        }    #T_08a62076_5ea5_11ea_bea4_001a6b0cdb24row96_col2 {\n",
       "            background-color:  #f7fbff;\n",
       "            color:  #000000;\n",
       "        }    #T_08a62076_5ea5_11ea_bea4_001a6b0cdb24row97_col0 {\n",
       "            background-color:  #f7fbff;\n",
       "            color:  #000000;\n",
       "        }    #T_08a62076_5ea5_11ea_bea4_001a6b0cdb24row97_col1 {\n",
       "            background-color:  #f7fbff;\n",
       "            color:  #000000;\n",
       "        }    #T_08a62076_5ea5_11ea_bea4_001a6b0cdb24row97_col2 {\n",
       "            background-color:  #f7fbff;\n",
       "            color:  #000000;\n",
       "        }    #T_08a62076_5ea5_11ea_bea4_001a6b0cdb24row98_col0 {\n",
       "            background-color:  #f7fbff;\n",
       "            color:  #000000;\n",
       "        }    #T_08a62076_5ea5_11ea_bea4_001a6b0cdb24row98_col1 {\n",
       "            background-color:  #f7fbff;\n",
       "            color:  #000000;\n",
       "        }    #T_08a62076_5ea5_11ea_bea4_001a6b0cdb24row98_col2 {\n",
       "            background-color:  #f7fbff;\n",
       "            color:  #000000;\n",
       "        }    #T_08a62076_5ea5_11ea_bea4_001a6b0cdb24row99_col0 {\n",
       "            background-color:  #f7fbff;\n",
       "            color:  #000000;\n",
       "        }    #T_08a62076_5ea5_11ea_bea4_001a6b0cdb24row99_col1 {\n",
       "            background-color:  #f7fbff;\n",
       "            color:  #000000;\n",
       "        }    #T_08a62076_5ea5_11ea_bea4_001a6b0cdb24row99_col2 {\n",
       "            background-color:  #f7fbff;\n",
       "            color:  #000000;\n",
       "        }    #T_08a62076_5ea5_11ea_bea4_001a6b0cdb24row100_col0 {\n",
       "            background-color:  #f7fbff;\n",
       "            color:  #000000;\n",
       "        }    #T_08a62076_5ea5_11ea_bea4_001a6b0cdb24row100_col1 {\n",
       "            background-color:  #f7fbff;\n",
       "            color:  #000000;\n",
       "        }    #T_08a62076_5ea5_11ea_bea4_001a6b0cdb24row100_col2 {\n",
       "            background-color:  #f7fbff;\n",
       "            color:  #000000;\n",
       "        }    #T_08a62076_5ea5_11ea_bea4_001a6b0cdb24row101_col0 {\n",
       "            background-color:  #f7fbff;\n",
       "            color:  #000000;\n",
       "        }    #T_08a62076_5ea5_11ea_bea4_001a6b0cdb24row101_col1 {\n",
       "            background-color:  #f7fbff;\n",
       "            color:  #000000;\n",
       "        }    #T_08a62076_5ea5_11ea_bea4_001a6b0cdb24row101_col2 {\n",
       "            background-color:  #f7fbff;\n",
       "            color:  #000000;\n",
       "        }    #T_08a62076_5ea5_11ea_bea4_001a6b0cdb24row102_col0 {\n",
       "            background-color:  #f7fbff;\n",
       "            color:  #000000;\n",
       "        }    #T_08a62076_5ea5_11ea_bea4_001a6b0cdb24row102_col1 {\n",
       "            background-color:  #f7fbff;\n",
       "            color:  #000000;\n",
       "        }    #T_08a62076_5ea5_11ea_bea4_001a6b0cdb24row102_col2 {\n",
       "            background-color:  #f7fbff;\n",
       "            color:  #000000;\n",
       "        }    #T_08a62076_5ea5_11ea_bea4_001a6b0cdb24row103_col0 {\n",
       "            background-color:  #f7fbff;\n",
       "            color:  #000000;\n",
       "        }    #T_08a62076_5ea5_11ea_bea4_001a6b0cdb24row103_col1 {\n",
       "            background-color:  #f7fbff;\n",
       "            color:  #000000;\n",
       "        }    #T_08a62076_5ea5_11ea_bea4_001a6b0cdb24row103_col2 {\n",
       "            background-color:  #f7fbff;\n",
       "            color:  #000000;\n",
       "        }    #T_08a62076_5ea5_11ea_bea4_001a6b0cdb24row104_col0 {\n",
       "            background-color:  #f5fafe;\n",
       "            color:  #000000;\n",
       "        }    #T_08a62076_5ea5_11ea_bea4_001a6b0cdb24row104_col1 {\n",
       "            background-color:  #f7fbff;\n",
       "            color:  #000000;\n",
       "        }    #T_08a62076_5ea5_11ea_bea4_001a6b0cdb24row104_col2 {\n",
       "            background-color:  #f7fbff;\n",
       "            color:  #000000;\n",
       "        }    #T_08a62076_5ea5_11ea_bea4_001a6b0cdb24row105_col0 {\n",
       "            background-color:  #f7fbff;\n",
       "            color:  #000000;\n",
       "        }    #T_08a62076_5ea5_11ea_bea4_001a6b0cdb24row105_col1 {\n",
       "            background-color:  #f7fbff;\n",
       "            color:  #000000;\n",
       "        }    #T_08a62076_5ea5_11ea_bea4_001a6b0cdb24row105_col2 {\n",
       "            background-color:  #f7fbff;\n",
       "            color:  #000000;\n",
       "        }    #T_08a62076_5ea5_11ea_bea4_001a6b0cdb24row106_col0 {\n",
       "            background-color:  #f7fbff;\n",
       "            color:  #000000;\n",
       "        }    #T_08a62076_5ea5_11ea_bea4_001a6b0cdb24row106_col1 {\n",
       "            background-color:  #f7fbff;\n",
       "            color:  #000000;\n",
       "        }    #T_08a62076_5ea5_11ea_bea4_001a6b0cdb24row106_col2 {\n",
       "            background-color:  #f7fbff;\n",
       "            color:  #000000;\n",
       "        }    #T_08a62076_5ea5_11ea_bea4_001a6b0cdb24row107_col0 {\n",
       "            background-color:  #f7fbff;\n",
       "            color:  #000000;\n",
       "        }    #T_08a62076_5ea5_11ea_bea4_001a6b0cdb24row107_col1 {\n",
       "            background-color:  #f7fbff;\n",
       "            color:  #000000;\n",
       "        }    #T_08a62076_5ea5_11ea_bea4_001a6b0cdb24row107_col2 {\n",
       "            background-color:  #f7fbff;\n",
       "            color:  #000000;\n",
       "        }    #T_08a62076_5ea5_11ea_bea4_001a6b0cdb24row108_col0 {\n",
       "            background-color:  #f7fbff;\n",
       "            color:  #000000;\n",
       "        }    #T_08a62076_5ea5_11ea_bea4_001a6b0cdb24row108_col1 {\n",
       "            background-color:  #f7fbff;\n",
       "            color:  #000000;\n",
       "        }    #T_08a62076_5ea5_11ea_bea4_001a6b0cdb24row108_col2 {\n",
       "            background-color:  #f7fbff;\n",
       "            color:  #000000;\n",
       "        }    #T_08a62076_5ea5_11ea_bea4_001a6b0cdb24row109_col0 {\n",
       "            background-color:  #f7fbff;\n",
       "            color:  #000000;\n",
       "        }    #T_08a62076_5ea5_11ea_bea4_001a6b0cdb24row109_col1 {\n",
       "            background-color:  #f7fbff;\n",
       "            color:  #000000;\n",
       "        }    #T_08a62076_5ea5_11ea_bea4_001a6b0cdb24row109_col2 {\n",
       "            background-color:  #f7fbff;\n",
       "            color:  #000000;\n",
       "        }    #T_08a62076_5ea5_11ea_bea4_001a6b0cdb24row110_col0 {\n",
       "            background-color:  #f7fbff;\n",
       "            color:  #000000;\n",
       "        }    #T_08a62076_5ea5_11ea_bea4_001a6b0cdb24row110_col1 {\n",
       "            background-color:  #f7fbff;\n",
       "            color:  #000000;\n",
       "        }    #T_08a62076_5ea5_11ea_bea4_001a6b0cdb24row110_col2 {\n",
       "            background-color:  #f7fbff;\n",
       "            color:  #000000;\n",
       "        }    #T_08a62076_5ea5_11ea_bea4_001a6b0cdb24row111_col0 {\n",
       "            background-color:  #f7fbff;\n",
       "            color:  #000000;\n",
       "        }    #T_08a62076_5ea5_11ea_bea4_001a6b0cdb24row111_col1 {\n",
       "            background-color:  #f7fbff;\n",
       "            color:  #000000;\n",
       "        }    #T_08a62076_5ea5_11ea_bea4_001a6b0cdb24row111_col2 {\n",
       "            background-color:  #f7fbff;\n",
       "            color:  #000000;\n",
       "        }    #T_08a62076_5ea5_11ea_bea4_001a6b0cdb24row112_col0 {\n",
       "            background-color:  #f7fbff;\n",
       "            color:  #000000;\n",
       "        }    #T_08a62076_5ea5_11ea_bea4_001a6b0cdb24row112_col1 {\n",
       "            background-color:  #f7fbff;\n",
       "            color:  #000000;\n",
       "        }    #T_08a62076_5ea5_11ea_bea4_001a6b0cdb24row112_col2 {\n",
       "            background-color:  #f7fbff;\n",
       "            color:  #000000;\n",
       "        }    #T_08a62076_5ea5_11ea_bea4_001a6b0cdb24row113_col0 {\n",
       "            background-color:  #f7fbff;\n",
       "            color:  #000000;\n",
       "        }    #T_08a62076_5ea5_11ea_bea4_001a6b0cdb24row113_col1 {\n",
       "            background-color:  #f7fbff;\n",
       "            color:  #000000;\n",
       "        }    #T_08a62076_5ea5_11ea_bea4_001a6b0cdb24row113_col2 {\n",
       "            background-color:  #f7fbff;\n",
       "            color:  #000000;\n",
       "        }    #T_08a62076_5ea5_11ea_bea4_001a6b0cdb24row114_col0 {\n",
       "            background-color:  #f7fbff;\n",
       "            color:  #000000;\n",
       "        }    #T_08a62076_5ea5_11ea_bea4_001a6b0cdb24row114_col1 {\n",
       "            background-color:  #f7fbff;\n",
       "            color:  #000000;\n",
       "        }    #T_08a62076_5ea5_11ea_bea4_001a6b0cdb24row114_col2 {\n",
       "            background-color:  #f7fbff;\n",
       "            color:  #000000;\n",
       "        }    #T_08a62076_5ea5_11ea_bea4_001a6b0cdb24row115_col0 {\n",
       "            background-color:  #eaf3fb;\n",
       "            color:  #000000;\n",
       "        }    #T_08a62076_5ea5_11ea_bea4_001a6b0cdb24row115_col1 {\n",
       "            background-color:  #f5fafe;\n",
       "            color:  #000000;\n",
       "        }    #T_08a62076_5ea5_11ea_bea4_001a6b0cdb24row115_col2 {\n",
       "            background-color:  #f7fbff;\n",
       "            color:  #000000;\n",
       "        }    #T_08a62076_5ea5_11ea_bea4_001a6b0cdb24row116_col0 {\n",
       "            background-color:  #f7fbff;\n",
       "            color:  #000000;\n",
       "        }    #T_08a62076_5ea5_11ea_bea4_001a6b0cdb24row116_col1 {\n",
       "            background-color:  #f7fbff;\n",
       "            color:  #000000;\n",
       "        }    #T_08a62076_5ea5_11ea_bea4_001a6b0cdb24row116_col2 {\n",
       "            background-color:  #f7fbff;\n",
       "            color:  #000000;\n",
       "        }    #T_08a62076_5ea5_11ea_bea4_001a6b0cdb24row117_col0 {\n",
       "            background-color:  #f7fbff;\n",
       "            color:  #000000;\n",
       "        }    #T_08a62076_5ea5_11ea_bea4_001a6b0cdb24row117_col1 {\n",
       "            background-color:  #f7fbff;\n",
       "            color:  #000000;\n",
       "        }    #T_08a62076_5ea5_11ea_bea4_001a6b0cdb24row117_col2 {\n",
       "            background-color:  #f7fbff;\n",
       "            color:  #000000;\n",
       "        }    #T_08a62076_5ea5_11ea_bea4_001a6b0cdb24row118_col0 {\n",
       "            background-color:  #f7fbff;\n",
       "            color:  #000000;\n",
       "        }    #T_08a62076_5ea5_11ea_bea4_001a6b0cdb24row118_col1 {\n",
       "            background-color:  #f7fbff;\n",
       "            color:  #000000;\n",
       "        }    #T_08a62076_5ea5_11ea_bea4_001a6b0cdb24row118_col2 {\n",
       "            background-color:  #f7fbff;\n",
       "            color:  #000000;\n",
       "        }    #T_08a62076_5ea5_11ea_bea4_001a6b0cdb24row119_col0 {\n",
       "            background-color:  #f7fbff;\n",
       "            color:  #000000;\n",
       "        }    #T_08a62076_5ea5_11ea_bea4_001a6b0cdb24row119_col1 {\n",
       "            background-color:  #f7fbff;\n",
       "            color:  #000000;\n",
       "        }    #T_08a62076_5ea5_11ea_bea4_001a6b0cdb24row119_col2 {\n",
       "            background-color:  #f7fbff;\n",
       "            color:  #000000;\n",
       "        }    #T_08a62076_5ea5_11ea_bea4_001a6b0cdb24row120_col0 {\n",
       "            background-color:  #f7fbff;\n",
       "            color:  #000000;\n",
       "        }    #T_08a62076_5ea5_11ea_bea4_001a6b0cdb24row120_col1 {\n",
       "            background-color:  #f7fbff;\n",
       "            color:  #000000;\n",
       "        }    #T_08a62076_5ea5_11ea_bea4_001a6b0cdb24row120_col2 {\n",
       "            background-color:  #f7fbff;\n",
       "            color:  #000000;\n",
       "        }    #T_08a62076_5ea5_11ea_bea4_001a6b0cdb24row121_col0 {\n",
       "            background-color:  #f7fbff;\n",
       "            color:  #000000;\n",
       "        }    #T_08a62076_5ea5_11ea_bea4_001a6b0cdb24row121_col1 {\n",
       "            background-color:  #f7fbff;\n",
       "            color:  #000000;\n",
       "        }    #T_08a62076_5ea5_11ea_bea4_001a6b0cdb24row121_col2 {\n",
       "            background-color:  #f7fbff;\n",
       "            color:  #000000;\n",
       "        }    #T_08a62076_5ea5_11ea_bea4_001a6b0cdb24row122_col0 {\n",
       "            background-color:  #f7fbff;\n",
       "            color:  #000000;\n",
       "        }    #T_08a62076_5ea5_11ea_bea4_001a6b0cdb24row122_col1 {\n",
       "            background-color:  #f7fbff;\n",
       "            color:  #000000;\n",
       "        }    #T_08a62076_5ea5_11ea_bea4_001a6b0cdb24row122_col2 {\n",
       "            background-color:  #f7fbff;\n",
       "            color:  #000000;\n",
       "        }    #T_08a62076_5ea5_11ea_bea4_001a6b0cdb24row123_col0 {\n",
       "            background-color:  #f7fbff;\n",
       "            color:  #000000;\n",
       "        }    #T_08a62076_5ea5_11ea_bea4_001a6b0cdb24row123_col1 {\n",
       "            background-color:  #f7fbff;\n",
       "            color:  #000000;\n",
       "        }    #T_08a62076_5ea5_11ea_bea4_001a6b0cdb24row123_col2 {\n",
       "            background-color:  #f7fbff;\n",
       "            color:  #000000;\n",
       "        }    #T_08a62076_5ea5_11ea_bea4_001a6b0cdb24row124_col0 {\n",
       "            background-color:  #f7fbff;\n",
       "            color:  #000000;\n",
       "        }    #T_08a62076_5ea5_11ea_bea4_001a6b0cdb24row124_col1 {\n",
       "            background-color:  #f7fbff;\n",
       "            color:  #000000;\n",
       "        }    #T_08a62076_5ea5_11ea_bea4_001a6b0cdb24row124_col2 {\n",
       "            background-color:  #f7fbff;\n",
       "            color:  #000000;\n",
       "        }    #T_08a62076_5ea5_11ea_bea4_001a6b0cdb24row125_col0 {\n",
       "            background-color:  #f7fbff;\n",
       "            color:  #000000;\n",
       "        }    #T_08a62076_5ea5_11ea_bea4_001a6b0cdb24row125_col1 {\n",
       "            background-color:  #f7fbff;\n",
       "            color:  #000000;\n",
       "        }    #T_08a62076_5ea5_11ea_bea4_001a6b0cdb24row125_col2 {\n",
       "            background-color:  #f7fbff;\n",
       "            color:  #000000;\n",
       "        }    #T_08a62076_5ea5_11ea_bea4_001a6b0cdb24row126_col0 {\n",
       "            background-color:  #f7fbff;\n",
       "            color:  #000000;\n",
       "        }    #T_08a62076_5ea5_11ea_bea4_001a6b0cdb24row126_col1 {\n",
       "            background-color:  #f7fbff;\n",
       "            color:  #000000;\n",
       "        }    #T_08a62076_5ea5_11ea_bea4_001a6b0cdb24row126_col2 {\n",
       "            background-color:  #f7fbff;\n",
       "            color:  #000000;\n",
       "        }    #T_08a62076_5ea5_11ea_bea4_001a6b0cdb24row127_col0 {\n",
       "            background-color:  #f7fbff;\n",
       "            color:  #000000;\n",
       "        }    #T_08a62076_5ea5_11ea_bea4_001a6b0cdb24row127_col1 {\n",
       "            background-color:  #f7fbff;\n",
       "            color:  #000000;\n",
       "        }    #T_08a62076_5ea5_11ea_bea4_001a6b0cdb24row127_col2 {\n",
       "            background-color:  #f7fbff;\n",
       "            color:  #000000;\n",
       "        }    #T_08a62076_5ea5_11ea_bea4_001a6b0cdb24row128_col0 {\n",
       "            background-color:  #f7fbff;\n",
       "            color:  #000000;\n",
       "        }    #T_08a62076_5ea5_11ea_bea4_001a6b0cdb24row128_col1 {\n",
       "            background-color:  #f7fbff;\n",
       "            color:  #000000;\n",
       "        }    #T_08a62076_5ea5_11ea_bea4_001a6b0cdb24row128_col2 {\n",
       "            background-color:  #f7fbff;\n",
       "            color:  #000000;\n",
       "        }    #T_08a62076_5ea5_11ea_bea4_001a6b0cdb24row129_col0 {\n",
       "            background-color:  #f7fbff;\n",
       "            color:  #000000;\n",
       "        }    #T_08a62076_5ea5_11ea_bea4_001a6b0cdb24row129_col1 {\n",
       "            background-color:  #f7fbff;\n",
       "            color:  #000000;\n",
       "        }    #T_08a62076_5ea5_11ea_bea4_001a6b0cdb24row129_col2 {\n",
       "            background-color:  #f7fbff;\n",
       "            color:  #000000;\n",
       "        }    #T_08a62076_5ea5_11ea_bea4_001a6b0cdb24row130_col0 {\n",
       "            background-color:  #f7fbff;\n",
       "            color:  #000000;\n",
       "        }    #T_08a62076_5ea5_11ea_bea4_001a6b0cdb24row130_col1 {\n",
       "            background-color:  #f7fbff;\n",
       "            color:  #000000;\n",
       "        }    #T_08a62076_5ea5_11ea_bea4_001a6b0cdb24row130_col2 {\n",
       "            background-color:  #f7fbff;\n",
       "            color:  #000000;\n",
       "        }    #T_08a62076_5ea5_11ea_bea4_001a6b0cdb24row131_col0 {\n",
       "            background-color:  #f7fbff;\n",
       "            color:  #000000;\n",
       "        }    #T_08a62076_5ea5_11ea_bea4_001a6b0cdb24row131_col1 {\n",
       "            background-color:  #f7fbff;\n",
       "            color:  #000000;\n",
       "        }    #T_08a62076_5ea5_11ea_bea4_001a6b0cdb24row131_col2 {\n",
       "            background-color:  #f7fbff;\n",
       "            color:  #000000;\n",
       "        }    #T_08a62076_5ea5_11ea_bea4_001a6b0cdb24row132_col0 {\n",
       "            background-color:  #f7fbff;\n",
       "            color:  #000000;\n",
       "        }    #T_08a62076_5ea5_11ea_bea4_001a6b0cdb24row132_col1 {\n",
       "            background-color:  #f7fbff;\n",
       "            color:  #000000;\n",
       "        }    #T_08a62076_5ea5_11ea_bea4_001a6b0cdb24row132_col2 {\n",
       "            background-color:  #f7fbff;\n",
       "            color:  #000000;\n",
       "        }    #T_08a62076_5ea5_11ea_bea4_001a6b0cdb24row133_col0 {\n",
       "            background-color:  #f7fbff;\n",
       "            color:  #000000;\n",
       "        }    #T_08a62076_5ea5_11ea_bea4_001a6b0cdb24row133_col1 {\n",
       "            background-color:  #f7fbff;\n",
       "            color:  #000000;\n",
       "        }    #T_08a62076_5ea5_11ea_bea4_001a6b0cdb24row133_col2 {\n",
       "            background-color:  #f7fbff;\n",
       "            color:  #000000;\n",
       "        }    #T_08a62076_5ea5_11ea_bea4_001a6b0cdb24row134_col0 {\n",
       "            background-color:  #f7fbff;\n",
       "            color:  #000000;\n",
       "        }    #T_08a62076_5ea5_11ea_bea4_001a6b0cdb24row134_col1 {\n",
       "            background-color:  #f7fbff;\n",
       "            color:  #000000;\n",
       "        }    #T_08a62076_5ea5_11ea_bea4_001a6b0cdb24row134_col2 {\n",
       "            background-color:  #f7fbff;\n",
       "            color:  #000000;\n",
       "        }    #T_08a62076_5ea5_11ea_bea4_001a6b0cdb24row135_col0 {\n",
       "            background-color:  #f7fbff;\n",
       "            color:  #000000;\n",
       "        }    #T_08a62076_5ea5_11ea_bea4_001a6b0cdb24row135_col1 {\n",
       "            background-color:  #f7fbff;\n",
       "            color:  #000000;\n",
       "        }    #T_08a62076_5ea5_11ea_bea4_001a6b0cdb24row135_col2 {\n",
       "            background-color:  #f7fbff;\n",
       "            color:  #000000;\n",
       "        }    #T_08a62076_5ea5_11ea_bea4_001a6b0cdb24row136_col0 {\n",
       "            background-color:  #f7fbff;\n",
       "            color:  #000000;\n",
       "        }    #T_08a62076_5ea5_11ea_bea4_001a6b0cdb24row136_col1 {\n",
       "            background-color:  #f7fbff;\n",
       "            color:  #000000;\n",
       "        }    #T_08a62076_5ea5_11ea_bea4_001a6b0cdb24row136_col2 {\n",
       "            background-color:  #f7fbff;\n",
       "            color:  #000000;\n",
       "        }    #T_08a62076_5ea5_11ea_bea4_001a6b0cdb24row137_col0 {\n",
       "            background-color:  #f7fbff;\n",
       "            color:  #000000;\n",
       "        }    #T_08a62076_5ea5_11ea_bea4_001a6b0cdb24row137_col1 {\n",
       "            background-color:  #f7fbff;\n",
       "            color:  #000000;\n",
       "        }    #T_08a62076_5ea5_11ea_bea4_001a6b0cdb24row137_col2 {\n",
       "            background-color:  #f7fbff;\n",
       "            color:  #000000;\n",
       "        }    #T_08a62076_5ea5_11ea_bea4_001a6b0cdb24row138_col0 {\n",
       "            background-color:  #f7fbff;\n",
       "            color:  #000000;\n",
       "        }    #T_08a62076_5ea5_11ea_bea4_001a6b0cdb24row138_col1 {\n",
       "            background-color:  #f7fbff;\n",
       "            color:  #000000;\n",
       "        }    #T_08a62076_5ea5_11ea_bea4_001a6b0cdb24row138_col2 {\n",
       "            background-color:  #f7fbff;\n",
       "            color:  #000000;\n",
       "        }    #T_08a62076_5ea5_11ea_bea4_001a6b0cdb24row139_col0 {\n",
       "            background-color:  #f7fbff;\n",
       "            color:  #000000;\n",
       "        }    #T_08a62076_5ea5_11ea_bea4_001a6b0cdb24row139_col1 {\n",
       "            background-color:  #f7fbff;\n",
       "            color:  #000000;\n",
       "        }    #T_08a62076_5ea5_11ea_bea4_001a6b0cdb24row139_col2 {\n",
       "            background-color:  #f7fbff;\n",
       "            color:  #000000;\n",
       "        }    #T_08a62076_5ea5_11ea_bea4_001a6b0cdb24row140_col0 {\n",
       "            background-color:  #f7fbff;\n",
       "            color:  #000000;\n",
       "        }    #T_08a62076_5ea5_11ea_bea4_001a6b0cdb24row140_col1 {\n",
       "            background-color:  #f7fbff;\n",
       "            color:  #000000;\n",
       "        }    #T_08a62076_5ea5_11ea_bea4_001a6b0cdb24row140_col2 {\n",
       "            background-color:  #f7fbff;\n",
       "            color:  #000000;\n",
       "        }    #T_08a62076_5ea5_11ea_bea4_001a6b0cdb24row141_col0 {\n",
       "            background-color:  #f7fbff;\n",
       "            color:  #000000;\n",
       "        }    #T_08a62076_5ea5_11ea_bea4_001a6b0cdb24row141_col1 {\n",
       "            background-color:  #f7fbff;\n",
       "            color:  #000000;\n",
       "        }    #T_08a62076_5ea5_11ea_bea4_001a6b0cdb24row141_col2 {\n",
       "            background-color:  #f7fbff;\n",
       "            color:  #000000;\n",
       "        }    #T_08a62076_5ea5_11ea_bea4_001a6b0cdb24row142_col0 {\n",
       "            background-color:  #f7fbff;\n",
       "            color:  #000000;\n",
       "        }    #T_08a62076_5ea5_11ea_bea4_001a6b0cdb24row142_col1 {\n",
       "            background-color:  #f7fbff;\n",
       "            color:  #000000;\n",
       "        }    #T_08a62076_5ea5_11ea_bea4_001a6b0cdb24row142_col2 {\n",
       "            background-color:  #f7fbff;\n",
       "            color:  #000000;\n",
       "        }    #T_08a62076_5ea5_11ea_bea4_001a6b0cdb24row143_col0 {\n",
       "            background-color:  #f7fbff;\n",
       "            color:  #000000;\n",
       "        }    #T_08a62076_5ea5_11ea_bea4_001a6b0cdb24row143_col1 {\n",
       "            background-color:  #f7fbff;\n",
       "            color:  #000000;\n",
       "        }    #T_08a62076_5ea5_11ea_bea4_001a6b0cdb24row143_col2 {\n",
       "            background-color:  #f7fbff;\n",
       "            color:  #000000;\n",
       "        }    #T_08a62076_5ea5_11ea_bea4_001a6b0cdb24row144_col0 {\n",
       "            background-color:  #f7fbff;\n",
       "            color:  #000000;\n",
       "        }    #T_08a62076_5ea5_11ea_bea4_001a6b0cdb24row144_col1 {\n",
       "            background-color:  #f7fbff;\n",
       "            color:  #000000;\n",
       "        }    #T_08a62076_5ea5_11ea_bea4_001a6b0cdb24row144_col2 {\n",
       "            background-color:  #f7fbff;\n",
       "            color:  #000000;\n",
       "        }    #T_08a62076_5ea5_11ea_bea4_001a6b0cdb24row145_col0 {\n",
       "            background-color:  #f7fbff;\n",
       "            color:  #000000;\n",
       "        }    #T_08a62076_5ea5_11ea_bea4_001a6b0cdb24row145_col1 {\n",
       "            background-color:  #f7fbff;\n",
       "            color:  #000000;\n",
       "        }    #T_08a62076_5ea5_11ea_bea4_001a6b0cdb24row145_col2 {\n",
       "            background-color:  #f7fbff;\n",
       "            color:  #000000;\n",
       "        }    #T_08a62076_5ea5_11ea_bea4_001a6b0cdb24row146_col0 {\n",
       "            background-color:  #f7fbff;\n",
       "            color:  #000000;\n",
       "        }    #T_08a62076_5ea5_11ea_bea4_001a6b0cdb24row146_col1 {\n",
       "            background-color:  #f7fbff;\n",
       "            color:  #000000;\n",
       "        }    #T_08a62076_5ea5_11ea_bea4_001a6b0cdb24row146_col2 {\n",
       "            background-color:  #f7fbff;\n",
       "            color:  #000000;\n",
       "        }    #T_08a62076_5ea5_11ea_bea4_001a6b0cdb24row147_col0 {\n",
       "            background-color:  #f7fbff;\n",
       "            color:  #000000;\n",
       "        }    #T_08a62076_5ea5_11ea_bea4_001a6b0cdb24row147_col1 {\n",
       "            background-color:  #f7fbff;\n",
       "            color:  #000000;\n",
       "        }    #T_08a62076_5ea5_11ea_bea4_001a6b0cdb24row147_col2 {\n",
       "            background-color:  #f7fbff;\n",
       "            color:  #000000;\n",
       "        }    #T_08a62076_5ea5_11ea_bea4_001a6b0cdb24row148_col0 {\n",
       "            background-color:  #f7fbff;\n",
       "            color:  #000000;\n",
       "        }    #T_08a62076_5ea5_11ea_bea4_001a6b0cdb24row148_col1 {\n",
       "            background-color:  #f7fbff;\n",
       "            color:  #000000;\n",
       "        }    #T_08a62076_5ea5_11ea_bea4_001a6b0cdb24row148_col2 {\n",
       "            background-color:  #f7fbff;\n",
       "            color:  #000000;\n",
       "        }    #T_08a62076_5ea5_11ea_bea4_001a6b0cdb24row149_col0 {\n",
       "            background-color:  #f7fbff;\n",
       "            color:  #000000;\n",
       "        }    #T_08a62076_5ea5_11ea_bea4_001a6b0cdb24row149_col1 {\n",
       "            background-color:  #f7fbff;\n",
       "            color:  #000000;\n",
       "        }    #T_08a62076_5ea5_11ea_bea4_001a6b0cdb24row149_col2 {\n",
       "            background-color:  #f7fbff;\n",
       "            color:  #000000;\n",
       "        }    #T_08a62076_5ea5_11ea_bea4_001a6b0cdb24row150_col0 {\n",
       "            background-color:  #f7fbff;\n",
       "            color:  #000000;\n",
       "        }    #T_08a62076_5ea5_11ea_bea4_001a6b0cdb24row150_col1 {\n",
       "            background-color:  #f7fbff;\n",
       "            color:  #000000;\n",
       "        }    #T_08a62076_5ea5_11ea_bea4_001a6b0cdb24row150_col2 {\n",
       "            background-color:  #f7fbff;\n",
       "            color:  #000000;\n",
       "        }    #T_08a62076_5ea5_11ea_bea4_001a6b0cdb24row151_col0 {\n",
       "            background-color:  #f7fbff;\n",
       "            color:  #000000;\n",
       "        }    #T_08a62076_5ea5_11ea_bea4_001a6b0cdb24row151_col1 {\n",
       "            background-color:  #f7fbff;\n",
       "            color:  #000000;\n",
       "        }    #T_08a62076_5ea5_11ea_bea4_001a6b0cdb24row151_col2 {\n",
       "            background-color:  #f7fbff;\n",
       "            color:  #000000;\n",
       "        }    #T_08a62076_5ea5_11ea_bea4_001a6b0cdb24row152_col0 {\n",
       "            background-color:  #f7fbff;\n",
       "            color:  #000000;\n",
       "        }    #T_08a62076_5ea5_11ea_bea4_001a6b0cdb24row152_col1 {\n",
       "            background-color:  #f7fbff;\n",
       "            color:  #000000;\n",
       "        }    #T_08a62076_5ea5_11ea_bea4_001a6b0cdb24row152_col2 {\n",
       "            background-color:  #f7fbff;\n",
       "            color:  #000000;\n",
       "        }    #T_08a62076_5ea5_11ea_bea4_001a6b0cdb24row153_col0 {\n",
       "            background-color:  #f7fbff;\n",
       "            color:  #000000;\n",
       "        }    #T_08a62076_5ea5_11ea_bea4_001a6b0cdb24row153_col1 {\n",
       "            background-color:  #f7fbff;\n",
       "            color:  #000000;\n",
       "        }    #T_08a62076_5ea5_11ea_bea4_001a6b0cdb24row153_col2 {\n",
       "            background-color:  #f7fbff;\n",
       "            color:  #000000;\n",
       "        }    #T_08a62076_5ea5_11ea_bea4_001a6b0cdb24row154_col0 {\n",
       "            background-color:  #f7fbff;\n",
       "            color:  #000000;\n",
       "        }    #T_08a62076_5ea5_11ea_bea4_001a6b0cdb24row154_col1 {\n",
       "            background-color:  #f7fbff;\n",
       "            color:  #000000;\n",
       "        }    #T_08a62076_5ea5_11ea_bea4_001a6b0cdb24row154_col2 {\n",
       "            background-color:  #f7fbff;\n",
       "            color:  #000000;\n",
       "        }    #T_08a62076_5ea5_11ea_bea4_001a6b0cdb24row155_col0 {\n",
       "            background-color:  #f7fbff;\n",
       "            color:  #000000;\n",
       "        }    #T_08a62076_5ea5_11ea_bea4_001a6b0cdb24row155_col1 {\n",
       "            background-color:  #f7fbff;\n",
       "            color:  #000000;\n",
       "        }    #T_08a62076_5ea5_11ea_bea4_001a6b0cdb24row155_col2 {\n",
       "            background-color:  #f7fbff;\n",
       "            color:  #000000;\n",
       "        }    #T_08a62076_5ea5_11ea_bea4_001a6b0cdb24row156_col0 {\n",
       "            background-color:  #f7fbff;\n",
       "            color:  #000000;\n",
       "        }    #T_08a62076_5ea5_11ea_bea4_001a6b0cdb24row156_col1 {\n",
       "            background-color:  #f7fbff;\n",
       "            color:  #000000;\n",
       "        }    #T_08a62076_5ea5_11ea_bea4_001a6b0cdb24row156_col2 {\n",
       "            background-color:  #f7fbff;\n",
       "            color:  #000000;\n",
       "        }    #T_08a62076_5ea5_11ea_bea4_001a6b0cdb24row157_col0 {\n",
       "            background-color:  #f7fbff;\n",
       "            color:  #000000;\n",
       "        }    #T_08a62076_5ea5_11ea_bea4_001a6b0cdb24row157_col1 {\n",
       "            background-color:  #f7fbff;\n",
       "            color:  #000000;\n",
       "        }    #T_08a62076_5ea5_11ea_bea4_001a6b0cdb24row157_col2 {\n",
       "            background-color:  #f7fbff;\n",
       "            color:  #000000;\n",
       "        }    #T_08a62076_5ea5_11ea_bea4_001a6b0cdb24row158_col0 {\n",
       "            background-color:  #f7fbff;\n",
       "            color:  #000000;\n",
       "        }    #T_08a62076_5ea5_11ea_bea4_001a6b0cdb24row158_col1 {\n",
       "            background-color:  #f7fbff;\n",
       "            color:  #000000;\n",
       "        }    #T_08a62076_5ea5_11ea_bea4_001a6b0cdb24row158_col2 {\n",
       "            background-color:  #f7fbff;\n",
       "            color:  #000000;\n",
       "        }    #T_08a62076_5ea5_11ea_bea4_001a6b0cdb24row159_col0 {\n",
       "            background-color:  #f7fbff;\n",
       "            color:  #000000;\n",
       "        }    #T_08a62076_5ea5_11ea_bea4_001a6b0cdb24row159_col1 {\n",
       "            background-color:  #f7fbff;\n",
       "            color:  #000000;\n",
       "        }    #T_08a62076_5ea5_11ea_bea4_001a6b0cdb24row159_col2 {\n",
       "            background-color:  #f7fbff;\n",
       "            color:  #000000;\n",
       "        }    #T_08a62076_5ea5_11ea_bea4_001a6b0cdb24row160_col0 {\n",
       "            background-color:  #f7fbff;\n",
       "            color:  #000000;\n",
       "        }    #T_08a62076_5ea5_11ea_bea4_001a6b0cdb24row160_col1 {\n",
       "            background-color:  #f7fbff;\n",
       "            color:  #000000;\n",
       "        }    #T_08a62076_5ea5_11ea_bea4_001a6b0cdb24row160_col2 {\n",
       "            background-color:  #f7fbff;\n",
       "            color:  #000000;\n",
       "        }    #T_08a62076_5ea5_11ea_bea4_001a6b0cdb24row161_col0 {\n",
       "            background-color:  #f7fbff;\n",
       "            color:  #000000;\n",
       "        }    #T_08a62076_5ea5_11ea_bea4_001a6b0cdb24row161_col1 {\n",
       "            background-color:  #f7fbff;\n",
       "            color:  #000000;\n",
       "        }    #T_08a62076_5ea5_11ea_bea4_001a6b0cdb24row161_col2 {\n",
       "            background-color:  #f7fbff;\n",
       "            color:  #000000;\n",
       "        }    #T_08a62076_5ea5_11ea_bea4_001a6b0cdb24row162_col0 {\n",
       "            background-color:  #f7fbff;\n",
       "            color:  #000000;\n",
       "        }    #T_08a62076_5ea5_11ea_bea4_001a6b0cdb24row162_col1 {\n",
       "            background-color:  #f7fbff;\n",
       "            color:  #000000;\n",
       "        }    #T_08a62076_5ea5_11ea_bea4_001a6b0cdb24row162_col2 {\n",
       "            background-color:  #f7fbff;\n",
       "            color:  #000000;\n",
       "        }</style><table id=\"T_08a62076_5ea5_11ea_bea4_001a6b0cdb24\" ><thead>    <tr>        <th class=\"blank\" ></th>        <th class=\"blank level0\" ></th>        <th class=\"col_heading level0 col0\" >Confirmed</th>        <th class=\"col_heading level0 col1\" >Deaths</th>        <th class=\"col_heading level0 col2\" >Recovered</th>    </tr>    <tr>        <th class=\"index_name level0\" >Country/Region</th>        <th class=\"index_name level1\" >Province/State</th>        <th class=\"blank\" ></th>        <th class=\"blank\" ></th>        <th class=\"blank\" ></th>    </tr></thead><tbody>\n",
       "                <tr>\n",
       "                        <th id=\"T_08a62076_5ea5_11ea_bea4_001a6b0cdb24level0_row0\" class=\"row_heading level0 row0\" > Azerbaijan</th>\n",
       "                        <th id=\"T_08a62076_5ea5_11ea_bea4_001a6b0cdb24level1_row0\" class=\"row_heading level1 row0\" >NA</th>\n",
       "                        <td id=\"T_08a62076_5ea5_11ea_bea4_001a6b0cdb24row0_col0\" class=\"data row0 col0\" >1.000000</td>\n",
       "                        <td id=\"T_08a62076_5ea5_11ea_bea4_001a6b0cdb24row0_col1\" class=\"data row0 col1\" >0.000000</td>\n",
       "                        <td id=\"T_08a62076_5ea5_11ea_bea4_001a6b0cdb24row0_col2\" class=\"data row0 col2\" >0.000000</td>\n",
       "            </tr>\n",
       "            <tr>\n",
       "                        <th id=\"T_08a62076_5ea5_11ea_bea4_001a6b0cdb24level0_row1\" class=\"row_heading level0 row1\" >Afghanistan</th>\n",
       "                        <th id=\"T_08a62076_5ea5_11ea_bea4_001a6b0cdb24level1_row1\" class=\"row_heading level1 row1\" >NA</th>\n",
       "                        <td id=\"T_08a62076_5ea5_11ea_bea4_001a6b0cdb24row1_col0\" class=\"data row1 col0\" >1.000000</td>\n",
       "                        <td id=\"T_08a62076_5ea5_11ea_bea4_001a6b0cdb24row1_col1\" class=\"data row1 col1\" >0.000000</td>\n",
       "                        <td id=\"T_08a62076_5ea5_11ea_bea4_001a6b0cdb24row1_col2\" class=\"data row1 col2\" >0.000000</td>\n",
       "            </tr>\n",
       "            <tr>\n",
       "                        <th id=\"T_08a62076_5ea5_11ea_bea4_001a6b0cdb24level0_row2\" class=\"row_heading level0 row2\" >Algeria</th>\n",
       "                        <th id=\"T_08a62076_5ea5_11ea_bea4_001a6b0cdb24level1_row2\" class=\"row_heading level1 row2\" >NA</th>\n",
       "                        <td id=\"T_08a62076_5ea5_11ea_bea4_001a6b0cdb24row2_col0\" class=\"data row2 col0\" >3.000000</td>\n",
       "                        <td id=\"T_08a62076_5ea5_11ea_bea4_001a6b0cdb24row2_col1\" class=\"data row2 col1\" >0.000000</td>\n",
       "                        <td id=\"T_08a62076_5ea5_11ea_bea4_001a6b0cdb24row2_col2\" class=\"data row2 col2\" >0.000000</td>\n",
       "            </tr>\n",
       "            <tr>\n",
       "                        <th id=\"T_08a62076_5ea5_11ea_bea4_001a6b0cdb24level0_row3\" class=\"row_heading level0 row3\" >Andorra</th>\n",
       "                        <th id=\"T_08a62076_5ea5_11ea_bea4_001a6b0cdb24level1_row3\" class=\"row_heading level1 row3\" >NA</th>\n",
       "                        <td id=\"T_08a62076_5ea5_11ea_bea4_001a6b0cdb24row3_col0\" class=\"data row3 col0\" >1.000000</td>\n",
       "                        <td id=\"T_08a62076_5ea5_11ea_bea4_001a6b0cdb24row3_col1\" class=\"data row3 col1\" >0.000000</td>\n",
       "                        <td id=\"T_08a62076_5ea5_11ea_bea4_001a6b0cdb24row3_col2\" class=\"data row3 col2\" >0.000000</td>\n",
       "            </tr>\n",
       "            <tr>\n",
       "                        <th id=\"T_08a62076_5ea5_11ea_bea4_001a6b0cdb24level0_row4\" class=\"row_heading level0 row4\" >Armenia</th>\n",
       "                        <th id=\"T_08a62076_5ea5_11ea_bea4_001a6b0cdb24level1_row4\" class=\"row_heading level1 row4\" >NA</th>\n",
       "                        <td id=\"T_08a62076_5ea5_11ea_bea4_001a6b0cdb24row4_col0\" class=\"data row4 col0\" >1.000000</td>\n",
       "                        <td id=\"T_08a62076_5ea5_11ea_bea4_001a6b0cdb24row4_col1\" class=\"data row4 col1\" >0.000000</td>\n",
       "                        <td id=\"T_08a62076_5ea5_11ea_bea4_001a6b0cdb24row4_col2\" class=\"data row4 col2\" >0.000000</td>\n",
       "            </tr>\n",
       "            <tr>\n",
       "                        <th id=\"T_08a62076_5ea5_11ea_bea4_001a6b0cdb24level0_row5\" class=\"row_heading level0 row5\" rowspan=8>Australia</th>\n",
       "                        <th id=\"T_08a62076_5ea5_11ea_bea4_001a6b0cdb24level1_row5\" class=\"row_heading level1 row5\" >From Diamond Princess</th>\n",
       "                        <td id=\"T_08a62076_5ea5_11ea_bea4_001a6b0cdb24row5_col0\" class=\"data row5 col0\" >8.000000</td>\n",
       "                        <td id=\"T_08a62076_5ea5_11ea_bea4_001a6b0cdb24row5_col1\" class=\"data row5 col1\" >0.000000</td>\n",
       "                        <td id=\"T_08a62076_5ea5_11ea_bea4_001a6b0cdb24row5_col2\" class=\"data row5 col2\" >0.000000</td>\n",
       "            </tr>\n",
       "            <tr>\n",
       "                                <th id=\"T_08a62076_5ea5_11ea_bea4_001a6b0cdb24level1_row6\" class=\"row_heading level1 row6\" >NA</th>\n",
       "                        <td id=\"T_08a62076_5ea5_11ea_bea4_001a6b0cdb24row6_col0\" class=\"data row6 col0\" >4.000000</td>\n",
       "                        <td id=\"T_08a62076_5ea5_11ea_bea4_001a6b0cdb24row6_col1\" class=\"data row6 col1\" >0.000000</td>\n",
       "                        <td id=\"T_08a62076_5ea5_11ea_bea4_001a6b0cdb24row6_col2\" class=\"data row6 col2\" >0.000000</td>\n",
       "            </tr>\n",
       "            <tr>\n",
       "                                <th id=\"T_08a62076_5ea5_11ea_bea4_001a6b0cdb24level1_row7\" class=\"row_heading level1 row7\" >New South Wales</th>\n",
       "                        <td id=\"T_08a62076_5ea5_11ea_bea4_001a6b0cdb24row7_col0\" class=\"data row7 col0\" >6.000000</td>\n",
       "                        <td id=\"T_08a62076_5ea5_11ea_bea4_001a6b0cdb24row7_col1\" class=\"data row7 col1\" >0.000000</td>\n",
       "                        <td id=\"T_08a62076_5ea5_11ea_bea4_001a6b0cdb24row7_col2\" class=\"data row7 col2\" >4.000000</td>\n",
       "            </tr>\n",
       "            <tr>\n",
       "                                <th id=\"T_08a62076_5ea5_11ea_bea4_001a6b0cdb24level1_row8\" class=\"row_heading level1 row8\" >Queensland</th>\n",
       "                        <td id=\"T_08a62076_5ea5_11ea_bea4_001a6b0cdb24row8_col0\" class=\"data row8 col0\" >9.000000</td>\n",
       "                        <td id=\"T_08a62076_5ea5_11ea_bea4_001a6b0cdb24row8_col1\" class=\"data row8 col1\" >0.000000</td>\n",
       "                        <td id=\"T_08a62076_5ea5_11ea_bea4_001a6b0cdb24row8_col2\" class=\"data row8 col2\" >1.000000</td>\n",
       "            </tr>\n",
       "            <tr>\n",
       "                                <th id=\"T_08a62076_5ea5_11ea_bea4_001a6b0cdb24level1_row9\" class=\"row_heading level1 row9\" >South Australia</th>\n",
       "                        <td id=\"T_08a62076_5ea5_11ea_bea4_001a6b0cdb24row9_col0\" class=\"data row9 col0\" >3.000000</td>\n",
       "                        <td id=\"T_08a62076_5ea5_11ea_bea4_001a6b0cdb24row9_col1\" class=\"data row9 col1\" >0.000000</td>\n",
       "                        <td id=\"T_08a62076_5ea5_11ea_bea4_001a6b0cdb24row9_col2\" class=\"data row9 col2\" >2.000000</td>\n",
       "            </tr>\n",
       "            <tr>\n",
       "                                <th id=\"T_08a62076_5ea5_11ea_bea4_001a6b0cdb24level1_row10\" class=\"row_heading level1 row10\" >Tasmania</th>\n",
       "                        <td id=\"T_08a62076_5ea5_11ea_bea4_001a6b0cdb24row10_col0\" class=\"data row10 col0\" >1.000000</td>\n",
       "                        <td id=\"T_08a62076_5ea5_11ea_bea4_001a6b0cdb24row10_col1\" class=\"data row10 col1\" >0.000000</td>\n",
       "                        <td id=\"T_08a62076_5ea5_11ea_bea4_001a6b0cdb24row10_col2\" class=\"data row10 col2\" >0.000000</td>\n",
       "            </tr>\n",
       "            <tr>\n",
       "                                <th id=\"T_08a62076_5ea5_11ea_bea4_001a6b0cdb24level1_row11\" class=\"row_heading level1 row11\" >Victoria</th>\n",
       "                        <td id=\"T_08a62076_5ea5_11ea_bea4_001a6b0cdb24row11_col0\" class=\"data row11 col0\" >9.000000</td>\n",
       "                        <td id=\"T_08a62076_5ea5_11ea_bea4_001a6b0cdb24row11_col1\" class=\"data row11 col1\" >0.000000</td>\n",
       "                        <td id=\"T_08a62076_5ea5_11ea_bea4_001a6b0cdb24row11_col2\" class=\"data row11 col2\" >4.000000</td>\n",
       "            </tr>\n",
       "            <tr>\n",
       "                                <th id=\"T_08a62076_5ea5_11ea_bea4_001a6b0cdb24level1_row12\" class=\"row_heading level1 row12\" >Western Australia</th>\n",
       "                        <td id=\"T_08a62076_5ea5_11ea_bea4_001a6b0cdb24row12_col0\" class=\"data row12 col0\" >2.000000</td>\n",
       "                        <td id=\"T_08a62076_5ea5_11ea_bea4_001a6b0cdb24row12_col1\" class=\"data row12 col1\" >1.000000</td>\n",
       "                        <td id=\"T_08a62076_5ea5_11ea_bea4_001a6b0cdb24row12_col2\" class=\"data row12 col2\" >0.000000</td>\n",
       "            </tr>\n",
       "            <tr>\n",
       "                        <th id=\"T_08a62076_5ea5_11ea_bea4_001a6b0cdb24level0_row13\" class=\"row_heading level0 row13\" rowspan=2>Austria</th>\n",
       "                        <th id=\"T_08a62076_5ea5_11ea_bea4_001a6b0cdb24level1_row13\" class=\"row_heading level1 row13\" >NA</th>\n",
       "                        <td id=\"T_08a62076_5ea5_11ea_bea4_001a6b0cdb24row13_col0\" class=\"data row13 col0\" >18.000000</td>\n",
       "                        <td id=\"T_08a62076_5ea5_11ea_bea4_001a6b0cdb24row13_col1\" class=\"data row13 col1\" >0.000000</td>\n",
       "                        <td id=\"T_08a62076_5ea5_11ea_bea4_001a6b0cdb24row13_col2\" class=\"data row13 col2\" >0.000000</td>\n",
       "            </tr>\n",
       "            <tr>\n",
       "                                <th id=\"T_08a62076_5ea5_11ea_bea4_001a6b0cdb24level1_row14\" class=\"row_heading level1 row14\" >None</th>\n",
       "                        <td id=\"T_08a62076_5ea5_11ea_bea4_001a6b0cdb24row14_col0\" class=\"data row14 col0\" >2.000000</td>\n",
       "                        <td id=\"T_08a62076_5ea5_11ea_bea4_001a6b0cdb24row14_col1\" class=\"data row14 col1\" >0.000000</td>\n",
       "                        <td id=\"T_08a62076_5ea5_11ea_bea4_001a6b0cdb24row14_col2\" class=\"data row14 col2\" >0.000000</td>\n",
       "            </tr>\n",
       "            <tr>\n",
       "                        <th id=\"T_08a62076_5ea5_11ea_bea4_001a6b0cdb24level0_row15\" class=\"row_heading level0 row15\" >Azerbaijan</th>\n",
       "                        <th id=\"T_08a62076_5ea5_11ea_bea4_001a6b0cdb24level1_row15\" class=\"row_heading level1 row15\" >NA</th>\n",
       "                        <td id=\"T_08a62076_5ea5_11ea_bea4_001a6b0cdb24row15_col0\" class=\"data row15 col0\" >3.000000</td>\n",
       "                        <td id=\"T_08a62076_5ea5_11ea_bea4_001a6b0cdb24row15_col1\" class=\"data row15 col1\" >0.000000</td>\n",
       "                        <td id=\"T_08a62076_5ea5_11ea_bea4_001a6b0cdb24row15_col2\" class=\"data row15 col2\" >0.000000</td>\n",
       "            </tr>\n",
       "            <tr>\n",
       "                        <th id=\"T_08a62076_5ea5_11ea_bea4_001a6b0cdb24level0_row16\" class=\"row_heading level0 row16\" >Bahrain</th>\n",
       "                        <th id=\"T_08a62076_5ea5_11ea_bea4_001a6b0cdb24level1_row16\" class=\"row_heading level1 row16\" >NA</th>\n",
       "                        <td id=\"T_08a62076_5ea5_11ea_bea4_001a6b0cdb24row16_col0\" class=\"data row16 col0\" >49.000000</td>\n",
       "                        <td id=\"T_08a62076_5ea5_11ea_bea4_001a6b0cdb24row16_col1\" class=\"data row16 col1\" >0.000000</td>\n",
       "                        <td id=\"T_08a62076_5ea5_11ea_bea4_001a6b0cdb24row16_col2\" class=\"data row16 col2\" >0.000000</td>\n",
       "            </tr>\n",
       "            <tr>\n",
       "                        <th id=\"T_08a62076_5ea5_11ea_bea4_001a6b0cdb24level0_row17\" class=\"row_heading level0 row17\" >Belarus</th>\n",
       "                        <th id=\"T_08a62076_5ea5_11ea_bea4_001a6b0cdb24level1_row17\" class=\"row_heading level1 row17\" >NA</th>\n",
       "                        <td id=\"T_08a62076_5ea5_11ea_bea4_001a6b0cdb24row17_col0\" class=\"data row17 col0\" >1.000000</td>\n",
       "                        <td id=\"T_08a62076_5ea5_11ea_bea4_001a6b0cdb24row17_col1\" class=\"data row17 col1\" >0.000000</td>\n",
       "                        <td id=\"T_08a62076_5ea5_11ea_bea4_001a6b0cdb24row17_col2\" class=\"data row17 col2\" >0.000000</td>\n",
       "            </tr>\n",
       "            <tr>\n",
       "                        <th id=\"T_08a62076_5ea5_11ea_bea4_001a6b0cdb24level0_row18\" class=\"row_heading level0 row18\" >Belgium</th>\n",
       "                        <th id=\"T_08a62076_5ea5_11ea_bea4_001a6b0cdb24level1_row18\" class=\"row_heading level1 row18\" >NA</th>\n",
       "                        <td id=\"T_08a62076_5ea5_11ea_bea4_001a6b0cdb24row18_col0\" class=\"data row18 col0\" >8.000000</td>\n",
       "                        <td id=\"T_08a62076_5ea5_11ea_bea4_001a6b0cdb24row18_col1\" class=\"data row18 col1\" >0.000000</td>\n",
       "                        <td id=\"T_08a62076_5ea5_11ea_bea4_001a6b0cdb24row18_col2\" class=\"data row18 col2\" >1.000000</td>\n",
       "            </tr>\n",
       "            <tr>\n",
       "                        <th id=\"T_08a62076_5ea5_11ea_bea4_001a6b0cdb24level0_row19\" class=\"row_heading level0 row19\" >Brazil</th>\n",
       "                        <th id=\"T_08a62076_5ea5_11ea_bea4_001a6b0cdb24level1_row19\" class=\"row_heading level1 row19\" >NA</th>\n",
       "                        <td id=\"T_08a62076_5ea5_11ea_bea4_001a6b0cdb24row19_col0\" class=\"data row19 col0\" >2.000000</td>\n",
       "                        <td id=\"T_08a62076_5ea5_11ea_bea4_001a6b0cdb24row19_col1\" class=\"data row19 col1\" >0.000000</td>\n",
       "                        <td id=\"T_08a62076_5ea5_11ea_bea4_001a6b0cdb24row19_col2\" class=\"data row19 col2\" >0.000000</td>\n",
       "            </tr>\n",
       "            <tr>\n",
       "                        <th id=\"T_08a62076_5ea5_11ea_bea4_001a6b0cdb24level0_row20\" class=\"row_heading level0 row20\" >Cambodia</th>\n",
       "                        <th id=\"T_08a62076_5ea5_11ea_bea4_001a6b0cdb24level1_row20\" class=\"row_heading level1 row20\" >NA</th>\n",
       "                        <td id=\"T_08a62076_5ea5_11ea_bea4_001a6b0cdb24row20_col0\" class=\"data row20 col0\" >1.000000</td>\n",
       "                        <td id=\"T_08a62076_5ea5_11ea_bea4_001a6b0cdb24row20_col1\" class=\"data row20 col1\" >0.000000</td>\n",
       "                        <td id=\"T_08a62076_5ea5_11ea_bea4_001a6b0cdb24row20_col2\" class=\"data row20 col2\" >1.000000</td>\n",
       "            </tr>\n",
       "            <tr>\n",
       "                        <th id=\"T_08a62076_5ea5_11ea_bea4_001a6b0cdb24level0_row21\" class=\"row_heading level0 row21\" rowspan=5>Canada</th>\n",
       "                        <th id=\"T_08a62076_5ea5_11ea_bea4_001a6b0cdb24level1_row21\" class=\"row_heading level1 row21\" > Montreal, QC</th>\n",
       "                        <td id=\"T_08a62076_5ea5_11ea_bea4_001a6b0cdb24row21_col0\" class=\"data row21 col0\" >1.000000</td>\n",
       "                        <td id=\"T_08a62076_5ea5_11ea_bea4_001a6b0cdb24row21_col1\" class=\"data row21 col1\" >0.000000</td>\n",
       "                        <td id=\"T_08a62076_5ea5_11ea_bea4_001a6b0cdb24row21_col2\" class=\"data row21 col2\" >0.000000</td>\n",
       "            </tr>\n",
       "            <tr>\n",
       "                                <th id=\"T_08a62076_5ea5_11ea_bea4_001a6b0cdb24level1_row22\" class=\"row_heading level1 row22\" >British Columbia</th>\n",
       "                        <td id=\"T_08a62076_5ea5_11ea_bea4_001a6b0cdb24row22_col0\" class=\"data row22 col0\" >8.000000</td>\n",
       "                        <td id=\"T_08a62076_5ea5_11ea_bea4_001a6b0cdb24row22_col1\" class=\"data row22 col1\" >0.000000</td>\n",
       "                        <td id=\"T_08a62076_5ea5_11ea_bea4_001a6b0cdb24row22_col2\" class=\"data row22 col2\" >3.000000</td>\n",
       "            </tr>\n",
       "            <tr>\n",
       "                                <th id=\"T_08a62076_5ea5_11ea_bea4_001a6b0cdb24level1_row23\" class=\"row_heading level1 row23\" >London, ON</th>\n",
       "                        <td id=\"T_08a62076_5ea5_11ea_bea4_001a6b0cdb24row23_col0\" class=\"data row23 col0\" >1.000000</td>\n",
       "                        <td id=\"T_08a62076_5ea5_11ea_bea4_001a6b0cdb24row23_col1\" class=\"data row23 col1\" >0.000000</td>\n",
       "                        <td id=\"T_08a62076_5ea5_11ea_bea4_001a6b0cdb24row23_col2\" class=\"data row23 col2\" >1.000000</td>\n",
       "            </tr>\n",
       "            <tr>\n",
       "                                <th id=\"T_08a62076_5ea5_11ea_bea4_001a6b0cdb24level1_row24\" class=\"row_heading level1 row24\" >Ontario</th>\n",
       "                        <td id=\"T_08a62076_5ea5_11ea_bea4_001a6b0cdb24row24_col0\" class=\"data row24 col0\" >3.000000</td>\n",
       "                        <td id=\"T_08a62076_5ea5_11ea_bea4_001a6b0cdb24row24_col1\" class=\"data row24 col1\" >0.000000</td>\n",
       "                        <td id=\"T_08a62076_5ea5_11ea_bea4_001a6b0cdb24row24_col2\" class=\"data row24 col2\" >0.000000</td>\n",
       "            </tr>\n",
       "            <tr>\n",
       "                                <th id=\"T_08a62076_5ea5_11ea_bea4_001a6b0cdb24level1_row25\" class=\"row_heading level1 row25\" >Toronto, ON</th>\n",
       "                        <td id=\"T_08a62076_5ea5_11ea_bea4_001a6b0cdb24row25_col0\" class=\"data row25 col0\" >17.000000</td>\n",
       "                        <td id=\"T_08a62076_5ea5_11ea_bea4_001a6b0cdb24row25_col1\" class=\"data row25 col1\" >0.000000</td>\n",
       "                        <td id=\"T_08a62076_5ea5_11ea_bea4_001a6b0cdb24row25_col2\" class=\"data row25 col2\" >2.000000</td>\n",
       "            </tr>\n",
       "            <tr>\n",
       "                        <th id=\"T_08a62076_5ea5_11ea_bea4_001a6b0cdb24level0_row26\" class=\"row_heading level0 row26\" rowspan=31>China</th>\n",
       "                        <th id=\"T_08a62076_5ea5_11ea_bea4_001a6b0cdb24level1_row26\" class=\"row_heading level1 row26\" >Anhui</th>\n",
       "                        <td id=\"T_08a62076_5ea5_11ea_bea4_001a6b0cdb24row26_col0\" class=\"data row26 col0\" >990.000000</td>\n",
       "                        <td id=\"T_08a62076_5ea5_11ea_bea4_001a6b0cdb24row26_col1\" class=\"data row26 col1\" >6.000000</td>\n",
       "                        <td id=\"T_08a62076_5ea5_11ea_bea4_001a6b0cdb24row26_col2\" class=\"data row26 col2\" >917.000000</td>\n",
       "            </tr>\n",
       "            <tr>\n",
       "                                <th id=\"T_08a62076_5ea5_11ea_bea4_001a6b0cdb24level1_row27\" class=\"row_heading level1 row27\" >Beijing</th>\n",
       "                        <td id=\"T_08a62076_5ea5_11ea_bea4_001a6b0cdb24row27_col0\" class=\"data row27 col0\" >414.000000</td>\n",
       "                        <td id=\"T_08a62076_5ea5_11ea_bea4_001a6b0cdb24row27_col1\" class=\"data row27 col1\" >8.000000</td>\n",
       "                        <td id=\"T_08a62076_5ea5_11ea_bea4_001a6b0cdb24row27_col2\" class=\"data row27 col2\" >282.000000</td>\n",
       "            </tr>\n",
       "            <tr>\n",
       "                                <th id=\"T_08a62076_5ea5_11ea_bea4_001a6b0cdb24level1_row28\" class=\"row_heading level1 row28\" >Chongqing</th>\n",
       "                        <td id=\"T_08a62076_5ea5_11ea_bea4_001a6b0cdb24row28_col0\" class=\"data row28 col0\" >576.000000</td>\n",
       "                        <td id=\"T_08a62076_5ea5_11ea_bea4_001a6b0cdb24row28_col1\" class=\"data row28 col1\" >6.000000</td>\n",
       "                        <td id=\"T_08a62076_5ea5_11ea_bea4_001a6b0cdb24row28_col2\" class=\"data row28 col2\" >469.000000</td>\n",
       "            </tr>\n",
       "            <tr>\n",
       "                                <th id=\"T_08a62076_5ea5_11ea_bea4_001a6b0cdb24level1_row29\" class=\"row_heading level1 row29\" >Fujian</th>\n",
       "                        <td id=\"T_08a62076_5ea5_11ea_bea4_001a6b0cdb24row29_col0\" class=\"data row29 col0\" >296.000000</td>\n",
       "                        <td id=\"T_08a62076_5ea5_11ea_bea4_001a6b0cdb24row29_col1\" class=\"data row29 col1\" >1.000000</td>\n",
       "                        <td id=\"T_08a62076_5ea5_11ea_bea4_001a6b0cdb24row29_col2\" class=\"data row29 col2\" >255.000000</td>\n",
       "            </tr>\n",
       "            <tr>\n",
       "                                <th id=\"T_08a62076_5ea5_11ea_bea4_001a6b0cdb24level1_row30\" class=\"row_heading level1 row30\" >Gansu</th>\n",
       "                        <td id=\"T_08a62076_5ea5_11ea_bea4_001a6b0cdb24row30_col0\" class=\"data row30 col0\" >91.000000</td>\n",
       "                        <td id=\"T_08a62076_5ea5_11ea_bea4_001a6b0cdb24row30_col1\" class=\"data row30 col1\" >2.000000</td>\n",
       "                        <td id=\"T_08a62076_5ea5_11ea_bea4_001a6b0cdb24row30_col2\" class=\"data row30 col2\" >85.000000</td>\n",
       "            </tr>\n",
       "            <tr>\n",
       "                                <th id=\"T_08a62076_5ea5_11ea_bea4_001a6b0cdb24level1_row31\" class=\"row_heading level1 row31\" >Guangdong</th>\n",
       "                        <td id=\"T_08a62076_5ea5_11ea_bea4_001a6b0cdb24row31_col0\" class=\"data row31 col0\" >1350.000000</td>\n",
       "                        <td id=\"T_08a62076_5ea5_11ea_bea4_001a6b0cdb24row31_col1\" class=\"data row31 col1\" >7.000000</td>\n",
       "                        <td id=\"T_08a62076_5ea5_11ea_bea4_001a6b0cdb24row31_col2\" class=\"data row31 col2\" >1059.000000</td>\n",
       "            </tr>\n",
       "            <tr>\n",
       "                                <th id=\"T_08a62076_5ea5_11ea_bea4_001a6b0cdb24level1_row32\" class=\"row_heading level1 row32\" >Guangxi</th>\n",
       "                        <td id=\"T_08a62076_5ea5_11ea_bea4_001a6b0cdb24row32_col0\" class=\"data row32 col0\" >252.000000</td>\n",
       "                        <td id=\"T_08a62076_5ea5_11ea_bea4_001a6b0cdb24row32_col1\" class=\"data row32 col1\" >2.000000</td>\n",
       "                        <td id=\"T_08a62076_5ea5_11ea_bea4_001a6b0cdb24row32_col2\" class=\"data row32 col2\" >192.000000</td>\n",
       "            </tr>\n",
       "            <tr>\n",
       "                                <th id=\"T_08a62076_5ea5_11ea_bea4_001a6b0cdb24level1_row33\" class=\"row_heading level1 row33\" >Guizhou</th>\n",
       "                        <td id=\"T_08a62076_5ea5_11ea_bea4_001a6b0cdb24row33_col0\" class=\"data row33 col0\" >146.000000</td>\n",
       "                        <td id=\"T_08a62076_5ea5_11ea_bea4_001a6b0cdb24row33_col1\" class=\"data row33 col1\" >2.000000</td>\n",
       "                        <td id=\"T_08a62076_5ea5_11ea_bea4_001a6b0cdb24row33_col2\" class=\"data row33 col2\" >114.000000</td>\n",
       "            </tr>\n",
       "            <tr>\n",
       "                                <th id=\"T_08a62076_5ea5_11ea_bea4_001a6b0cdb24level1_row34\" class=\"row_heading level1 row34\" >Hainan</th>\n",
       "                        <td id=\"T_08a62076_5ea5_11ea_bea4_001a6b0cdb24row34_col0\" class=\"data row34 col0\" >168.000000</td>\n",
       "                        <td id=\"T_08a62076_5ea5_11ea_bea4_001a6b0cdb24row34_col1\" class=\"data row34 col1\" >5.000000</td>\n",
       "                        <td id=\"T_08a62076_5ea5_11ea_bea4_001a6b0cdb24row34_col2\" class=\"data row34 col2\" >151.000000</td>\n",
       "            </tr>\n",
       "            <tr>\n",
       "                                <th id=\"T_08a62076_5ea5_11ea_bea4_001a6b0cdb24level1_row35\" class=\"row_heading level1 row35\" >Hebei</th>\n",
       "                        <td id=\"T_08a62076_5ea5_11ea_bea4_001a6b0cdb24row35_col0\" class=\"data row35 col0\" >318.000000</td>\n",
       "                        <td id=\"T_08a62076_5ea5_11ea_bea4_001a6b0cdb24row35_col1\" class=\"data row35 col1\" >6.000000</td>\n",
       "                        <td id=\"T_08a62076_5ea5_11ea_bea4_001a6b0cdb24row35_col2\" class=\"data row35 col2\" >296.000000</td>\n",
       "            </tr>\n",
       "            <tr>\n",
       "                                <th id=\"T_08a62076_5ea5_11ea_bea4_001a6b0cdb24level1_row36\" class=\"row_heading level1 row36\" >Heilongjiang</th>\n",
       "                        <td id=\"T_08a62076_5ea5_11ea_bea4_001a6b0cdb24row36_col0\" class=\"data row36 col0\" >480.000000</td>\n",
       "                        <td id=\"T_08a62076_5ea5_11ea_bea4_001a6b0cdb24row36_col1\" class=\"data row36 col1\" >13.000000</td>\n",
       "                        <td id=\"T_08a62076_5ea5_11ea_bea4_001a6b0cdb24row36_col2\" class=\"data row36 col2\" >356.000000</td>\n",
       "            </tr>\n",
       "            <tr>\n",
       "                                <th id=\"T_08a62076_5ea5_11ea_bea4_001a6b0cdb24level1_row37\" class=\"row_heading level1 row37\" >Henan</th>\n",
       "                        <td id=\"T_08a62076_5ea5_11ea_bea4_001a6b0cdb24row37_col0\" class=\"data row37 col0\" >1272.000000</td>\n",
       "                        <td id=\"T_08a62076_5ea5_11ea_bea4_001a6b0cdb24row37_col1\" class=\"data row37 col1\" >22.000000</td>\n",
       "                        <td id=\"T_08a62076_5ea5_11ea_bea4_001a6b0cdb24row37_col2\" class=\"data row37 col2\" >1205.000000</td>\n",
       "            </tr>\n",
       "            <tr>\n",
       "                                <th id=\"T_08a62076_5ea5_11ea_bea4_001a6b0cdb24level1_row38\" class=\"row_heading level1 row38\" >Hubei</th>\n",
       "                        <td id=\"T_08a62076_5ea5_11ea_bea4_001a6b0cdb24row38_col0\" class=\"data row38 col0\" >67103.000000</td>\n",
       "                        <td id=\"T_08a62076_5ea5_11ea_bea4_001a6b0cdb24row38_col1\" class=\"data row38 col1\" >2803.000000</td>\n",
       "                        <td id=\"T_08a62076_5ea5_11ea_bea4_001a6b0cdb24row38_col2\" class=\"data row38 col2\" >33934.000000</td>\n",
       "            </tr>\n",
       "            <tr>\n",
       "                                <th id=\"T_08a62076_5ea5_11ea_bea4_001a6b0cdb24level1_row39\" class=\"row_heading level1 row39\" >Hunan</th>\n",
       "                        <td id=\"T_08a62076_5ea5_11ea_bea4_001a6b0cdb24row39_col0\" class=\"data row39 col0\" >1018.000000</td>\n",
       "                        <td id=\"T_08a62076_5ea5_11ea_bea4_001a6b0cdb24row39_col1\" class=\"data row39 col1\" >4.000000</td>\n",
       "                        <td id=\"T_08a62076_5ea5_11ea_bea4_001a6b0cdb24row39_col2\" class=\"data row39 col2\" >887.000000</td>\n",
       "            </tr>\n",
       "            <tr>\n",
       "                                <th id=\"T_08a62076_5ea5_11ea_bea4_001a6b0cdb24level1_row40\" class=\"row_heading level1 row40\" >Inner Mongolia</th>\n",
       "                        <td id=\"T_08a62076_5ea5_11ea_bea4_001a6b0cdb24row40_col0\" class=\"data row40 col0\" >75.000000</td>\n",
       "                        <td id=\"T_08a62076_5ea5_11ea_bea4_001a6b0cdb24row40_col1\" class=\"data row40 col1\" >0.000000</td>\n",
       "                        <td id=\"T_08a62076_5ea5_11ea_bea4_001a6b0cdb24row40_col2\" class=\"data row40 col2\" >54.000000</td>\n",
       "            </tr>\n",
       "            <tr>\n",
       "                                <th id=\"T_08a62076_5ea5_11ea_bea4_001a6b0cdb24level1_row41\" class=\"row_heading level1 row41\" >Jiangsu</th>\n",
       "                        <td id=\"T_08a62076_5ea5_11ea_bea4_001a6b0cdb24row41_col0\" class=\"data row41 col0\" >631.000000</td>\n",
       "                        <td id=\"T_08a62076_5ea5_11ea_bea4_001a6b0cdb24row41_col1\" class=\"data row41 col1\" >0.000000</td>\n",
       "                        <td id=\"T_08a62076_5ea5_11ea_bea4_001a6b0cdb24row41_col2\" class=\"data row41 col2\" >543.000000</td>\n",
       "            </tr>\n",
       "            <tr>\n",
       "                                <th id=\"T_08a62076_5ea5_11ea_bea4_001a6b0cdb24level1_row42\" class=\"row_heading level1 row42\" >Jiangxi</th>\n",
       "                        <td id=\"T_08a62076_5ea5_11ea_bea4_001a6b0cdb24row42_col0\" class=\"data row42 col0\" >935.000000</td>\n",
       "                        <td id=\"T_08a62076_5ea5_11ea_bea4_001a6b0cdb24row42_col1\" class=\"data row42 col1\" >1.000000</td>\n",
       "                        <td id=\"T_08a62076_5ea5_11ea_bea4_001a6b0cdb24row42_col2\" class=\"data row42 col2\" >850.000000</td>\n",
       "            </tr>\n",
       "            <tr>\n",
       "                                <th id=\"T_08a62076_5ea5_11ea_bea4_001a6b0cdb24level1_row43\" class=\"row_heading level1 row43\" >Jilin</th>\n",
       "                        <td id=\"T_08a62076_5ea5_11ea_bea4_001a6b0cdb24row43_col0\" class=\"data row43 col0\" >93.000000</td>\n",
       "                        <td id=\"T_08a62076_5ea5_11ea_bea4_001a6b0cdb24row43_col1\" class=\"data row43 col1\" >1.000000</td>\n",
       "                        <td id=\"T_08a62076_5ea5_11ea_bea4_001a6b0cdb24row43_col2\" class=\"data row43 col2\" >83.000000</td>\n",
       "            </tr>\n",
       "            <tr>\n",
       "                                <th id=\"T_08a62076_5ea5_11ea_bea4_001a6b0cdb24level1_row44\" class=\"row_heading level1 row44\" >Liaoning</th>\n",
       "                        <td id=\"T_08a62076_5ea5_11ea_bea4_001a6b0cdb24row44_col0\" class=\"data row44 col0\" >122.000000</td>\n",
       "                        <td id=\"T_08a62076_5ea5_11ea_bea4_001a6b0cdb24row44_col1\" class=\"data row44 col1\" >1.000000</td>\n",
       "                        <td id=\"T_08a62076_5ea5_11ea_bea4_001a6b0cdb24row44_col2\" class=\"data row44 col2\" >103.000000</td>\n",
       "            </tr>\n",
       "            <tr>\n",
       "                                <th id=\"T_08a62076_5ea5_11ea_bea4_001a6b0cdb24level1_row45\" class=\"row_heading level1 row45\" >Ningxia</th>\n",
       "                        <td id=\"T_08a62076_5ea5_11ea_bea4_001a6b0cdb24row45_col0\" class=\"data row45 col0\" >74.000000</td>\n",
       "                        <td id=\"T_08a62076_5ea5_11ea_bea4_001a6b0cdb24row45_col1\" class=\"data row45 col1\" >0.000000</td>\n",
       "                        <td id=\"T_08a62076_5ea5_11ea_bea4_001a6b0cdb24row45_col2\" class=\"data row45 col2\" >69.000000</td>\n",
       "            </tr>\n",
       "            <tr>\n",
       "                                <th id=\"T_08a62076_5ea5_11ea_bea4_001a6b0cdb24level1_row46\" class=\"row_heading level1 row46\" >Qinghai</th>\n",
       "                        <td id=\"T_08a62076_5ea5_11ea_bea4_001a6b0cdb24row46_col0\" class=\"data row46 col0\" >18.000000</td>\n",
       "                        <td id=\"T_08a62076_5ea5_11ea_bea4_001a6b0cdb24row46_col1\" class=\"data row46 col1\" >0.000000</td>\n",
       "                        <td id=\"T_08a62076_5ea5_11ea_bea4_001a6b0cdb24row46_col2\" class=\"data row46 col2\" >18.000000</td>\n",
       "            </tr>\n",
       "            <tr>\n",
       "                                <th id=\"T_08a62076_5ea5_11ea_bea4_001a6b0cdb24level1_row47\" class=\"row_heading level1 row47\" >Shaanxi</th>\n",
       "                        <td id=\"T_08a62076_5ea5_11ea_bea4_001a6b0cdb24row47_col0\" class=\"data row47 col0\" >245.000000</td>\n",
       "                        <td id=\"T_08a62076_5ea5_11ea_bea4_001a6b0cdb24row47_col1\" class=\"data row47 col1\" >1.000000</td>\n",
       "                        <td id=\"T_08a62076_5ea5_11ea_bea4_001a6b0cdb24row47_col2\" class=\"data row47 col2\" >216.000000</td>\n",
       "            </tr>\n",
       "            <tr>\n",
       "                                <th id=\"T_08a62076_5ea5_11ea_bea4_001a6b0cdb24level1_row48\" class=\"row_heading level1 row48\" >Shandong</th>\n",
       "                        <td id=\"T_08a62076_5ea5_11ea_bea4_001a6b0cdb24row48_col0\" class=\"data row48 col0\" >758.000000</td>\n",
       "                        <td id=\"T_08a62076_5ea5_11ea_bea4_001a6b0cdb24row48_col1\" class=\"data row48 col1\" >6.000000</td>\n",
       "                        <td id=\"T_08a62076_5ea5_11ea_bea4_001a6b0cdb24row48_col2\" class=\"data row48 col2\" >460.000000</td>\n",
       "            </tr>\n",
       "            <tr>\n",
       "                                <th id=\"T_08a62076_5ea5_11ea_bea4_001a6b0cdb24level1_row49\" class=\"row_heading level1 row49\" >Shanghai</th>\n",
       "                        <td id=\"T_08a62076_5ea5_11ea_bea4_001a6b0cdb24row49_col0\" class=\"data row49 col0\" >337.000000</td>\n",
       "                        <td id=\"T_08a62076_5ea5_11ea_bea4_001a6b0cdb24row49_col1\" class=\"data row49 col1\" >3.000000</td>\n",
       "                        <td id=\"T_08a62076_5ea5_11ea_bea4_001a6b0cdb24row49_col2\" class=\"data row49 col2\" >292.000000</td>\n",
       "            </tr>\n",
       "            <tr>\n",
       "                                <th id=\"T_08a62076_5ea5_11ea_bea4_001a6b0cdb24level1_row50\" class=\"row_heading level1 row50\" >Shanxi</th>\n",
       "                        <td id=\"T_08a62076_5ea5_11ea_bea4_001a6b0cdb24row50_col0\" class=\"data row50 col0\" >133.000000</td>\n",
       "                        <td id=\"T_08a62076_5ea5_11ea_bea4_001a6b0cdb24row50_col1\" class=\"data row50 col1\" >0.000000</td>\n",
       "                        <td id=\"T_08a62076_5ea5_11ea_bea4_001a6b0cdb24row50_col2\" class=\"data row50 col2\" >119.000000</td>\n",
       "            </tr>\n",
       "            <tr>\n",
       "                                <th id=\"T_08a62076_5ea5_11ea_bea4_001a6b0cdb24level1_row51\" class=\"row_heading level1 row51\" >Sichuan</th>\n",
       "                        <td id=\"T_08a62076_5ea5_11ea_bea4_001a6b0cdb24row51_col0\" class=\"data row51 col0\" >538.000000</td>\n",
       "                        <td id=\"T_08a62076_5ea5_11ea_bea4_001a6b0cdb24row51_col1\" class=\"data row51 col1\" >3.000000</td>\n",
       "                        <td id=\"T_08a62076_5ea5_11ea_bea4_001a6b0cdb24row51_col2\" class=\"data row51 col2\" >386.000000</td>\n",
       "            </tr>\n",
       "            <tr>\n",
       "                                <th id=\"T_08a62076_5ea5_11ea_bea4_001a6b0cdb24level1_row52\" class=\"row_heading level1 row52\" >Tianjin</th>\n",
       "                        <td id=\"T_08a62076_5ea5_11ea_bea4_001a6b0cdb24row52_col0\" class=\"data row52 col0\" >136.000000</td>\n",
       "                        <td id=\"T_08a62076_5ea5_11ea_bea4_001a6b0cdb24row52_col1\" class=\"data row52 col1\" >3.000000</td>\n",
       "                        <td id=\"T_08a62076_5ea5_11ea_bea4_001a6b0cdb24row52_col2\" class=\"data row52 col2\" >111.000000</td>\n",
       "            </tr>\n",
       "            <tr>\n",
       "                                <th id=\"T_08a62076_5ea5_11ea_bea4_001a6b0cdb24level1_row53\" class=\"row_heading level1 row53\" >Tibet</th>\n",
       "                        <td id=\"T_08a62076_5ea5_11ea_bea4_001a6b0cdb24row53_col0\" class=\"data row53 col0\" >1.000000</td>\n",
       "                        <td id=\"T_08a62076_5ea5_11ea_bea4_001a6b0cdb24row53_col1\" class=\"data row53 col1\" >0.000000</td>\n",
       "                        <td id=\"T_08a62076_5ea5_11ea_bea4_001a6b0cdb24row53_col2\" class=\"data row53 col2\" >1.000000</td>\n",
       "            </tr>\n",
       "            <tr>\n",
       "                                <th id=\"T_08a62076_5ea5_11ea_bea4_001a6b0cdb24level1_row54\" class=\"row_heading level1 row54\" >Xinjiang</th>\n",
       "                        <td id=\"T_08a62076_5ea5_11ea_bea4_001a6b0cdb24row54_col0\" class=\"data row54 col0\" >76.000000</td>\n",
       "                        <td id=\"T_08a62076_5ea5_11ea_bea4_001a6b0cdb24row54_col1\" class=\"data row54 col1\" >3.000000</td>\n",
       "                        <td id=\"T_08a62076_5ea5_11ea_bea4_001a6b0cdb24row54_col2\" class=\"data row54 col2\" >66.000000</td>\n",
       "            </tr>\n",
       "            <tr>\n",
       "                                <th id=\"T_08a62076_5ea5_11ea_bea4_001a6b0cdb24level1_row55\" class=\"row_heading level1 row55\" >Yunnan</th>\n",
       "                        <td id=\"T_08a62076_5ea5_11ea_bea4_001a6b0cdb24row55_col0\" class=\"data row55 col0\" >174.000000</td>\n",
       "                        <td id=\"T_08a62076_5ea5_11ea_bea4_001a6b0cdb24row55_col1\" class=\"data row55 col1\" >2.000000</td>\n",
       "                        <td id=\"T_08a62076_5ea5_11ea_bea4_001a6b0cdb24row55_col2\" class=\"data row55 col2\" >168.000000</td>\n",
       "            </tr>\n",
       "            <tr>\n",
       "                                <th id=\"T_08a62076_5ea5_11ea_bea4_001a6b0cdb24level1_row56\" class=\"row_heading level1 row56\" >Zhejiang</th>\n",
       "                        <td id=\"T_08a62076_5ea5_11ea_bea4_001a6b0cdb24row56_col0\" class=\"data row56 col0\" >1206.000000</td>\n",
       "                        <td id=\"T_08a62076_5ea5_11ea_bea4_001a6b0cdb24row56_col1\" class=\"data row56 col1\" >1.000000</td>\n",
       "                        <td id=\"T_08a62076_5ea5_11ea_bea4_001a6b0cdb24row56_col2\" class=\"data row56 col2\" >1069.000000</td>\n",
       "            </tr>\n",
       "            <tr>\n",
       "                        <th id=\"T_08a62076_5ea5_11ea_bea4_001a6b0cdb24level0_row57\" class=\"row_heading level0 row57\" >Colombia</th>\n",
       "                        <th id=\"T_08a62076_5ea5_11ea_bea4_001a6b0cdb24level1_row57\" class=\"row_heading level1 row57\" >NA</th>\n",
       "                        <td id=\"T_08a62076_5ea5_11ea_bea4_001a6b0cdb24row57_col0\" class=\"data row57 col0\" >0.000000</td>\n",
       "                        <td id=\"T_08a62076_5ea5_11ea_bea4_001a6b0cdb24row57_col1\" class=\"data row57 col1\" >0.000000</td>\n",
       "                        <td id=\"T_08a62076_5ea5_11ea_bea4_001a6b0cdb24row57_col2\" class=\"data row57 col2\" >0.000000</td>\n",
       "            </tr>\n",
       "            <tr>\n",
       "                        <th id=\"T_08a62076_5ea5_11ea_bea4_001a6b0cdb24level0_row58\" class=\"row_heading level0 row58\" >Croatia</th>\n",
       "                        <th id=\"T_08a62076_5ea5_11ea_bea4_001a6b0cdb24level1_row58\" class=\"row_heading level1 row58\" >NA</th>\n",
       "                        <td id=\"T_08a62076_5ea5_11ea_bea4_001a6b0cdb24row58_col0\" class=\"data row58 col0\" >7.000000</td>\n",
       "                        <td id=\"T_08a62076_5ea5_11ea_bea4_001a6b0cdb24row58_col1\" class=\"data row58 col1\" >0.000000</td>\n",
       "                        <td id=\"T_08a62076_5ea5_11ea_bea4_001a6b0cdb24row58_col2\" class=\"data row58 col2\" >0.000000</td>\n",
       "            </tr>\n",
       "            <tr>\n",
       "                        <th id=\"T_08a62076_5ea5_11ea_bea4_001a6b0cdb24level0_row59\" class=\"row_heading level0 row59\" >Czech Republic</th>\n",
       "                        <th id=\"T_08a62076_5ea5_11ea_bea4_001a6b0cdb24level1_row59\" class=\"row_heading level1 row59\" >NA</th>\n",
       "                        <td id=\"T_08a62076_5ea5_11ea_bea4_001a6b0cdb24row59_col0\" class=\"data row59 col0\" >3.000000</td>\n",
       "                        <td id=\"T_08a62076_5ea5_11ea_bea4_001a6b0cdb24row59_col1\" class=\"data row59 col1\" >0.000000</td>\n",
       "                        <td id=\"T_08a62076_5ea5_11ea_bea4_001a6b0cdb24row59_col2\" class=\"data row59 col2\" >0.000000</td>\n",
       "            </tr>\n",
       "            <tr>\n",
       "                        <th id=\"T_08a62076_5ea5_11ea_bea4_001a6b0cdb24level0_row60\" class=\"row_heading level0 row60\" >Denmark</th>\n",
       "                        <th id=\"T_08a62076_5ea5_11ea_bea4_001a6b0cdb24level1_row60\" class=\"row_heading level1 row60\" >NA</th>\n",
       "                        <td id=\"T_08a62076_5ea5_11ea_bea4_001a6b0cdb24row60_col0\" class=\"data row60 col0\" >4.000000</td>\n",
       "                        <td id=\"T_08a62076_5ea5_11ea_bea4_001a6b0cdb24row60_col1\" class=\"data row60 col1\" >0.000000</td>\n",
       "                        <td id=\"T_08a62076_5ea5_11ea_bea4_001a6b0cdb24row60_col2\" class=\"data row60 col2\" >0.000000</td>\n",
       "            </tr>\n",
       "            <tr>\n",
       "                        <th id=\"T_08a62076_5ea5_11ea_bea4_001a6b0cdb24level0_row61\" class=\"row_heading level0 row61\" >Dominican Republic</th>\n",
       "                        <th id=\"T_08a62076_5ea5_11ea_bea4_001a6b0cdb24level1_row61\" class=\"row_heading level1 row61\" >NA</th>\n",
       "                        <td id=\"T_08a62076_5ea5_11ea_bea4_001a6b0cdb24row61_col0\" class=\"data row61 col0\" >1.000000</td>\n",
       "                        <td id=\"T_08a62076_5ea5_11ea_bea4_001a6b0cdb24row61_col1\" class=\"data row61 col1\" >0.000000</td>\n",
       "                        <td id=\"T_08a62076_5ea5_11ea_bea4_001a6b0cdb24row61_col2\" class=\"data row61 col2\" >0.000000</td>\n",
       "            </tr>\n",
       "            <tr>\n",
       "                        <th id=\"T_08a62076_5ea5_11ea_bea4_001a6b0cdb24level0_row62\" class=\"row_heading level0 row62\" >Ecuador</th>\n",
       "                        <th id=\"T_08a62076_5ea5_11ea_bea4_001a6b0cdb24level1_row62\" class=\"row_heading level1 row62\" >NA</th>\n",
       "                        <td id=\"T_08a62076_5ea5_11ea_bea4_001a6b0cdb24row62_col0\" class=\"data row62 col0\" >6.000000</td>\n",
       "                        <td id=\"T_08a62076_5ea5_11ea_bea4_001a6b0cdb24row62_col1\" class=\"data row62 col1\" >0.000000</td>\n",
       "                        <td id=\"T_08a62076_5ea5_11ea_bea4_001a6b0cdb24row62_col2\" class=\"data row62 col2\" >0.000000</td>\n",
       "            </tr>\n",
       "            <tr>\n",
       "                        <th id=\"T_08a62076_5ea5_11ea_bea4_001a6b0cdb24level0_row63\" class=\"row_heading level0 row63\" >Egypt</th>\n",
       "                        <th id=\"T_08a62076_5ea5_11ea_bea4_001a6b0cdb24level1_row63\" class=\"row_heading level1 row63\" >NA</th>\n",
       "                        <td id=\"T_08a62076_5ea5_11ea_bea4_001a6b0cdb24row63_col0\" class=\"data row63 col0\" >2.000000</td>\n",
       "                        <td id=\"T_08a62076_5ea5_11ea_bea4_001a6b0cdb24row63_col1\" class=\"data row63 col1\" >0.000000</td>\n",
       "                        <td id=\"T_08a62076_5ea5_11ea_bea4_001a6b0cdb24row63_col2\" class=\"data row63 col2\" >1.000000</td>\n",
       "            </tr>\n",
       "            <tr>\n",
       "                        <th id=\"T_08a62076_5ea5_11ea_bea4_001a6b0cdb24level0_row64\" class=\"row_heading level0 row64\" >Estonia</th>\n",
       "                        <th id=\"T_08a62076_5ea5_11ea_bea4_001a6b0cdb24level1_row64\" class=\"row_heading level1 row64\" >NA</th>\n",
       "                        <td id=\"T_08a62076_5ea5_11ea_bea4_001a6b0cdb24row64_col0\" class=\"data row64 col0\" >1.000000</td>\n",
       "                        <td id=\"T_08a62076_5ea5_11ea_bea4_001a6b0cdb24row64_col1\" class=\"data row64 col1\" >0.000000</td>\n",
       "                        <td id=\"T_08a62076_5ea5_11ea_bea4_001a6b0cdb24row64_col2\" class=\"data row64 col2\" >0.000000</td>\n",
       "            </tr>\n",
       "            <tr>\n",
       "                        <th id=\"T_08a62076_5ea5_11ea_bea4_001a6b0cdb24level0_row65\" class=\"row_heading level0 row65\" >Finland</th>\n",
       "                        <th id=\"T_08a62076_5ea5_11ea_bea4_001a6b0cdb24level1_row65\" class=\"row_heading level1 row65\" >NA</th>\n",
       "                        <td id=\"T_08a62076_5ea5_11ea_bea4_001a6b0cdb24row65_col0\" class=\"data row65 col0\" >6.000000</td>\n",
       "                        <td id=\"T_08a62076_5ea5_11ea_bea4_001a6b0cdb24row65_col1\" class=\"data row65 col1\" >0.000000</td>\n",
       "                        <td id=\"T_08a62076_5ea5_11ea_bea4_001a6b0cdb24row65_col2\" class=\"data row65 col2\" >1.000000</td>\n",
       "            </tr>\n",
       "            <tr>\n",
       "                        <th id=\"T_08a62076_5ea5_11ea_bea4_001a6b0cdb24level0_row66\" class=\"row_heading level0 row66\" >France</th>\n",
       "                        <th id=\"T_08a62076_5ea5_11ea_bea4_001a6b0cdb24level1_row66\" class=\"row_heading level1 row66\" >NA</th>\n",
       "                        <td id=\"T_08a62076_5ea5_11ea_bea4_001a6b0cdb24row66_col0\" class=\"data row66 col0\" >191.000000</td>\n",
       "                        <td id=\"T_08a62076_5ea5_11ea_bea4_001a6b0cdb24row66_col1\" class=\"data row66 col1\" >3.000000</td>\n",
       "                        <td id=\"T_08a62076_5ea5_11ea_bea4_001a6b0cdb24row66_col2\" class=\"data row66 col2\" >12.000000</td>\n",
       "            </tr>\n",
       "            <tr>\n",
       "                        <th id=\"T_08a62076_5ea5_11ea_bea4_001a6b0cdb24level0_row67\" class=\"row_heading level0 row67\" >Georgia</th>\n",
       "                        <th id=\"T_08a62076_5ea5_11ea_bea4_001a6b0cdb24level1_row67\" class=\"row_heading level1 row67\" >NA</th>\n",
       "                        <td id=\"T_08a62076_5ea5_11ea_bea4_001a6b0cdb24row67_col0\" class=\"data row67 col0\" >3.000000</td>\n",
       "                        <td id=\"T_08a62076_5ea5_11ea_bea4_001a6b0cdb24row67_col1\" class=\"data row67 col1\" >0.000000</td>\n",
       "                        <td id=\"T_08a62076_5ea5_11ea_bea4_001a6b0cdb24row67_col2\" class=\"data row67 col2\" >0.000000</td>\n",
       "            </tr>\n",
       "            <tr>\n",
       "                        <th id=\"T_08a62076_5ea5_11ea_bea4_001a6b0cdb24level0_row68\" class=\"row_heading level0 row68\" rowspan=2>Germany</th>\n",
       "                        <th id=\"T_08a62076_5ea5_11ea_bea4_001a6b0cdb24level1_row68\" class=\"row_heading level1 row68\" >Bavaria</th>\n",
       "                        <td id=\"T_08a62076_5ea5_11ea_bea4_001a6b0cdb24row68_col0\" class=\"data row68 col0\" >5.000000</td>\n",
       "                        <td id=\"T_08a62076_5ea5_11ea_bea4_001a6b0cdb24row68_col1\" class=\"data row68 col1\" >0.000000</td>\n",
       "                        <td id=\"T_08a62076_5ea5_11ea_bea4_001a6b0cdb24row68_col2\" class=\"data row68 col2\" >0.000000</td>\n",
       "            </tr>\n",
       "            <tr>\n",
       "                                <th id=\"T_08a62076_5ea5_11ea_bea4_001a6b0cdb24level1_row69\" class=\"row_heading level1 row69\" >NA</th>\n",
       "                        <td id=\"T_08a62076_5ea5_11ea_bea4_001a6b0cdb24row69_col0\" class=\"data row69 col0\" >159.000000</td>\n",
       "                        <td id=\"T_08a62076_5ea5_11ea_bea4_001a6b0cdb24row69_col1\" class=\"data row69 col1\" >0.000000</td>\n",
       "                        <td id=\"T_08a62076_5ea5_11ea_bea4_001a6b0cdb24row69_col2\" class=\"data row69 col2\" >16.000000</td>\n",
       "            </tr>\n",
       "            <tr>\n",
       "                        <th id=\"T_08a62076_5ea5_11ea_bea4_001a6b0cdb24level0_row70\" class=\"row_heading level0 row70\" >Greece</th>\n",
       "                        <th id=\"T_08a62076_5ea5_11ea_bea4_001a6b0cdb24level1_row70\" class=\"row_heading level1 row70\" >NA</th>\n",
       "                        <td id=\"T_08a62076_5ea5_11ea_bea4_001a6b0cdb24row70_col0\" class=\"data row70 col0\" >7.000000</td>\n",
       "                        <td id=\"T_08a62076_5ea5_11ea_bea4_001a6b0cdb24row70_col1\" class=\"data row70 col1\" >0.000000</td>\n",
       "                        <td id=\"T_08a62076_5ea5_11ea_bea4_001a6b0cdb24row70_col2\" class=\"data row70 col2\" >0.000000</td>\n",
       "            </tr>\n",
       "            <tr>\n",
       "                        <th id=\"T_08a62076_5ea5_11ea_bea4_001a6b0cdb24level0_row71\" class=\"row_heading level0 row71\" >Hong Kong</th>\n",
       "                        <th id=\"T_08a62076_5ea5_11ea_bea4_001a6b0cdb24level1_row71\" class=\"row_heading level1 row71\" >Hong Kong</th>\n",
       "                        <td id=\"T_08a62076_5ea5_11ea_bea4_001a6b0cdb24row71_col0\" class=\"data row71 col0\" >100.000000</td>\n",
       "                        <td id=\"T_08a62076_5ea5_11ea_bea4_001a6b0cdb24row71_col1\" class=\"data row71 col1\" >2.000000</td>\n",
       "                        <td id=\"T_08a62076_5ea5_11ea_bea4_001a6b0cdb24row71_col2\" class=\"data row71 col2\" >36.000000</td>\n",
       "            </tr>\n",
       "            <tr>\n",
       "                        <th id=\"T_08a62076_5ea5_11ea_bea4_001a6b0cdb24level0_row72\" class=\"row_heading level0 row72\" >Iceland</th>\n",
       "                        <th id=\"T_08a62076_5ea5_11ea_bea4_001a6b0cdb24level1_row72\" class=\"row_heading level1 row72\" >NA</th>\n",
       "                        <td id=\"T_08a62076_5ea5_11ea_bea4_001a6b0cdb24row72_col0\" class=\"data row72 col0\" >6.000000</td>\n",
       "                        <td id=\"T_08a62076_5ea5_11ea_bea4_001a6b0cdb24row72_col1\" class=\"data row72 col1\" >0.000000</td>\n",
       "                        <td id=\"T_08a62076_5ea5_11ea_bea4_001a6b0cdb24row72_col2\" class=\"data row72 col2\" >0.000000</td>\n",
       "            </tr>\n",
       "            <tr>\n",
       "                        <th id=\"T_08a62076_5ea5_11ea_bea4_001a6b0cdb24level0_row73\" class=\"row_heading level0 row73\" >India</th>\n",
       "                        <th id=\"T_08a62076_5ea5_11ea_bea4_001a6b0cdb24level1_row73\" class=\"row_heading level1 row73\" >NA</th>\n",
       "                        <td id=\"T_08a62076_5ea5_11ea_bea4_001a6b0cdb24row73_col0\" class=\"data row73 col0\" >5.000000</td>\n",
       "                        <td id=\"T_08a62076_5ea5_11ea_bea4_001a6b0cdb24row73_col1\" class=\"data row73 col1\" >0.000000</td>\n",
       "                        <td id=\"T_08a62076_5ea5_11ea_bea4_001a6b0cdb24row73_col2\" class=\"data row73 col2\" >3.000000</td>\n",
       "            </tr>\n",
       "            <tr>\n",
       "                        <th id=\"T_08a62076_5ea5_11ea_bea4_001a6b0cdb24level0_row74\" class=\"row_heading level0 row74\" >Indonesia</th>\n",
       "                        <th id=\"T_08a62076_5ea5_11ea_bea4_001a6b0cdb24level1_row74\" class=\"row_heading level1 row74\" >NA</th>\n",
       "                        <td id=\"T_08a62076_5ea5_11ea_bea4_001a6b0cdb24row74_col0\" class=\"data row74 col0\" >2.000000</td>\n",
       "                        <td id=\"T_08a62076_5ea5_11ea_bea4_001a6b0cdb24row74_col1\" class=\"data row74 col1\" >0.000000</td>\n",
       "                        <td id=\"T_08a62076_5ea5_11ea_bea4_001a6b0cdb24row74_col2\" class=\"data row74 col2\" >0.000000</td>\n",
       "            </tr>\n",
       "            <tr>\n",
       "                        <th id=\"T_08a62076_5ea5_11ea_bea4_001a6b0cdb24level0_row75\" class=\"row_heading level0 row75\" >Iran</th>\n",
       "                        <th id=\"T_08a62076_5ea5_11ea_bea4_001a6b0cdb24level1_row75\" class=\"row_heading level1 row75\" >NA</th>\n",
       "                        <td id=\"T_08a62076_5ea5_11ea_bea4_001a6b0cdb24row75_col0\" class=\"data row75 col0\" >1501.000000</td>\n",
       "                        <td id=\"T_08a62076_5ea5_11ea_bea4_001a6b0cdb24row75_col1\" class=\"data row75 col1\" >66.000000</td>\n",
       "                        <td id=\"T_08a62076_5ea5_11ea_bea4_001a6b0cdb24row75_col2\" class=\"data row75 col2\" >291.000000</td>\n",
       "            </tr>\n",
       "            <tr>\n",
       "                        <th id=\"T_08a62076_5ea5_11ea_bea4_001a6b0cdb24level0_row76\" class=\"row_heading level0 row76\" rowspan=2>Iraq</th>\n",
       "                        <th id=\"T_08a62076_5ea5_11ea_bea4_001a6b0cdb24level1_row76\" class=\"row_heading level1 row76\" >NA</th>\n",
       "                        <td id=\"T_08a62076_5ea5_11ea_bea4_001a6b0cdb24row76_col0\" class=\"data row76 col0\" >26.000000</td>\n",
       "                        <td id=\"T_08a62076_5ea5_11ea_bea4_001a6b0cdb24row76_col1\" class=\"data row76 col1\" >0.000000</td>\n",
       "                        <td id=\"T_08a62076_5ea5_11ea_bea4_001a6b0cdb24row76_col2\" class=\"data row76 col2\" >0.000000</td>\n",
       "            </tr>\n",
       "            <tr>\n",
       "                                <th id=\"T_08a62076_5ea5_11ea_bea4_001a6b0cdb24level1_row77\" class=\"row_heading level1 row77\" >None</th>\n",
       "                        <td id=\"T_08a62076_5ea5_11ea_bea4_001a6b0cdb24row77_col0\" class=\"data row77 col0\" >0.000000</td>\n",
       "                        <td id=\"T_08a62076_5ea5_11ea_bea4_001a6b0cdb24row77_col1\" class=\"data row77 col1\" >0.000000</td>\n",
       "                        <td id=\"T_08a62076_5ea5_11ea_bea4_001a6b0cdb24row77_col2\" class=\"data row77 col2\" >0.000000</td>\n",
       "            </tr>\n",
       "            <tr>\n",
       "                        <th id=\"T_08a62076_5ea5_11ea_bea4_001a6b0cdb24level0_row78\" class=\"row_heading level0 row78\" >Ireland</th>\n",
       "                        <th id=\"T_08a62076_5ea5_11ea_bea4_001a6b0cdb24level1_row78\" class=\"row_heading level1 row78\" >NA</th>\n",
       "                        <td id=\"T_08a62076_5ea5_11ea_bea4_001a6b0cdb24row78_col0\" class=\"data row78 col0\" >1.000000</td>\n",
       "                        <td id=\"T_08a62076_5ea5_11ea_bea4_001a6b0cdb24row78_col1\" class=\"data row78 col1\" >0.000000</td>\n",
       "                        <td id=\"T_08a62076_5ea5_11ea_bea4_001a6b0cdb24row78_col2\" class=\"data row78 col2\" >0.000000</td>\n",
       "            </tr>\n",
       "            <tr>\n",
       "                        <th id=\"T_08a62076_5ea5_11ea_bea4_001a6b0cdb24level0_row79\" class=\"row_heading level0 row79\" rowspan=2>Israel</th>\n",
       "                        <th id=\"T_08a62076_5ea5_11ea_bea4_001a6b0cdb24level1_row79\" class=\"row_heading level1 row79\" >From Diamond Princess</th>\n",
       "                        <td id=\"T_08a62076_5ea5_11ea_bea4_001a6b0cdb24row79_col0\" class=\"data row79 col0\" >1.000000</td>\n",
       "                        <td id=\"T_08a62076_5ea5_11ea_bea4_001a6b0cdb24row79_col1\" class=\"data row79 col1\" >0.000000</td>\n",
       "                        <td id=\"T_08a62076_5ea5_11ea_bea4_001a6b0cdb24row79_col2\" class=\"data row79 col2\" >0.000000</td>\n",
       "            </tr>\n",
       "            <tr>\n",
       "                                <th id=\"T_08a62076_5ea5_11ea_bea4_001a6b0cdb24level1_row80\" class=\"row_heading level1 row80\" >NA</th>\n",
       "                        <td id=\"T_08a62076_5ea5_11ea_bea4_001a6b0cdb24row80_col0\" class=\"data row80 col0\" >10.000000</td>\n",
       "                        <td id=\"T_08a62076_5ea5_11ea_bea4_001a6b0cdb24row80_col1\" class=\"data row80 col1\" >0.000000</td>\n",
       "                        <td id=\"T_08a62076_5ea5_11ea_bea4_001a6b0cdb24row80_col2\" class=\"data row80 col2\" >1.000000</td>\n",
       "            </tr>\n",
       "            <tr>\n",
       "                        <th id=\"T_08a62076_5ea5_11ea_bea4_001a6b0cdb24level0_row81\" class=\"row_heading level0 row81\" >Italy</th>\n",
       "                        <th id=\"T_08a62076_5ea5_11ea_bea4_001a6b0cdb24level1_row81\" class=\"row_heading level1 row81\" >NA</th>\n",
       "                        <td id=\"T_08a62076_5ea5_11ea_bea4_001a6b0cdb24row81_col0\" class=\"data row81 col0\" >2036.000000</td>\n",
       "                        <td id=\"T_08a62076_5ea5_11ea_bea4_001a6b0cdb24row81_col1\" class=\"data row81 col1\" >52.000000</td>\n",
       "                        <td id=\"T_08a62076_5ea5_11ea_bea4_001a6b0cdb24row81_col2\" class=\"data row81 col2\" >149.000000</td>\n",
       "            </tr>\n",
       "            <tr>\n",
       "                        <th id=\"T_08a62076_5ea5_11ea_bea4_001a6b0cdb24level0_row82\" class=\"row_heading level0 row82\" >Ivory Coast</th>\n",
       "                        <th id=\"T_08a62076_5ea5_11ea_bea4_001a6b0cdb24level1_row82\" class=\"row_heading level1 row82\" >NA</th>\n",
       "                        <td id=\"T_08a62076_5ea5_11ea_bea4_001a6b0cdb24row82_col0\" class=\"data row82 col0\" >1.000000</td>\n",
       "                        <td id=\"T_08a62076_5ea5_11ea_bea4_001a6b0cdb24row82_col1\" class=\"data row82 col1\" >0.000000</td>\n",
       "                        <td id=\"T_08a62076_5ea5_11ea_bea4_001a6b0cdb24row82_col2\" class=\"data row82 col2\" >0.000000</td>\n",
       "            </tr>\n",
       "            <tr>\n",
       "                        <th id=\"T_08a62076_5ea5_11ea_bea4_001a6b0cdb24level0_row83\" class=\"row_heading level0 row83\" >Japan</th>\n",
       "                        <th id=\"T_08a62076_5ea5_11ea_bea4_001a6b0cdb24level1_row83\" class=\"row_heading level1 row83\" >NA</th>\n",
       "                        <td id=\"T_08a62076_5ea5_11ea_bea4_001a6b0cdb24row83_col0\" class=\"data row83 col0\" >274.000000</td>\n",
       "                        <td id=\"T_08a62076_5ea5_11ea_bea4_001a6b0cdb24row83_col1\" class=\"data row83 col1\" >6.000000</td>\n",
       "                        <td id=\"T_08a62076_5ea5_11ea_bea4_001a6b0cdb24row83_col2\" class=\"data row83 col2\" >32.000000</td>\n",
       "            </tr>\n",
       "            <tr>\n",
       "                        <th id=\"T_08a62076_5ea5_11ea_bea4_001a6b0cdb24level0_row84\" class=\"row_heading level0 row84\" >Kuwait</th>\n",
       "                        <th id=\"T_08a62076_5ea5_11ea_bea4_001a6b0cdb24level1_row84\" class=\"row_heading level1 row84\" >NA</th>\n",
       "                        <td id=\"T_08a62076_5ea5_11ea_bea4_001a6b0cdb24row84_col0\" class=\"data row84 col0\" >56.000000</td>\n",
       "                        <td id=\"T_08a62076_5ea5_11ea_bea4_001a6b0cdb24row84_col1\" class=\"data row84 col1\" >0.000000</td>\n",
       "                        <td id=\"T_08a62076_5ea5_11ea_bea4_001a6b0cdb24row84_col2\" class=\"data row84 col2\" >0.000000</td>\n",
       "            </tr>\n",
       "            <tr>\n",
       "                        <th id=\"T_08a62076_5ea5_11ea_bea4_001a6b0cdb24level0_row85\" class=\"row_heading level0 row85\" >Latvia</th>\n",
       "                        <th id=\"T_08a62076_5ea5_11ea_bea4_001a6b0cdb24level1_row85\" class=\"row_heading level1 row85\" >NA</th>\n",
       "                        <td id=\"T_08a62076_5ea5_11ea_bea4_001a6b0cdb24row85_col0\" class=\"data row85 col0\" >1.000000</td>\n",
       "                        <td id=\"T_08a62076_5ea5_11ea_bea4_001a6b0cdb24row85_col1\" class=\"data row85 col1\" >0.000000</td>\n",
       "                        <td id=\"T_08a62076_5ea5_11ea_bea4_001a6b0cdb24row85_col2\" class=\"data row85 col2\" >0.000000</td>\n",
       "            </tr>\n",
       "            <tr>\n",
       "                        <th id=\"T_08a62076_5ea5_11ea_bea4_001a6b0cdb24level0_row86\" class=\"row_heading level0 row86\" rowspan=2>Lebanon</th>\n",
       "                        <th id=\"T_08a62076_5ea5_11ea_bea4_001a6b0cdb24level1_row86\" class=\"row_heading level1 row86\" >NA</th>\n",
       "                        <td id=\"T_08a62076_5ea5_11ea_bea4_001a6b0cdb24row86_col0\" class=\"data row86 col0\" >13.000000</td>\n",
       "                        <td id=\"T_08a62076_5ea5_11ea_bea4_001a6b0cdb24row86_col1\" class=\"data row86 col1\" >0.000000</td>\n",
       "                        <td id=\"T_08a62076_5ea5_11ea_bea4_001a6b0cdb24row86_col2\" class=\"data row86 col2\" >0.000000</td>\n",
       "            </tr>\n",
       "            <tr>\n",
       "                                <th id=\"T_08a62076_5ea5_11ea_bea4_001a6b0cdb24level1_row87\" class=\"row_heading level1 row87\" >None</th>\n",
       "                        <td id=\"T_08a62076_5ea5_11ea_bea4_001a6b0cdb24row87_col0\" class=\"data row87 col0\" >1.000000</td>\n",
       "                        <td id=\"T_08a62076_5ea5_11ea_bea4_001a6b0cdb24row87_col1\" class=\"data row87 col1\" >0.000000</td>\n",
       "                        <td id=\"T_08a62076_5ea5_11ea_bea4_001a6b0cdb24row87_col2\" class=\"data row87 col2\" >0.000000</td>\n",
       "            </tr>\n",
       "            <tr>\n",
       "                        <th id=\"T_08a62076_5ea5_11ea_bea4_001a6b0cdb24level0_row88\" class=\"row_heading level0 row88\" >Lithuania</th>\n",
       "                        <th id=\"T_08a62076_5ea5_11ea_bea4_001a6b0cdb24level1_row88\" class=\"row_heading level1 row88\" >NA</th>\n",
       "                        <td id=\"T_08a62076_5ea5_11ea_bea4_001a6b0cdb24row88_col0\" class=\"data row88 col0\" >1.000000</td>\n",
       "                        <td id=\"T_08a62076_5ea5_11ea_bea4_001a6b0cdb24row88_col1\" class=\"data row88 col1\" >0.000000</td>\n",
       "                        <td id=\"T_08a62076_5ea5_11ea_bea4_001a6b0cdb24row88_col2\" class=\"data row88 col2\" >0.000000</td>\n",
       "            </tr>\n",
       "            <tr>\n",
       "                        <th id=\"T_08a62076_5ea5_11ea_bea4_001a6b0cdb24level0_row89\" class=\"row_heading level0 row89\" >Luxembourg</th>\n",
       "                        <th id=\"T_08a62076_5ea5_11ea_bea4_001a6b0cdb24level1_row89\" class=\"row_heading level1 row89\" >NA</th>\n",
       "                        <td id=\"T_08a62076_5ea5_11ea_bea4_001a6b0cdb24row89_col0\" class=\"data row89 col0\" >1.000000</td>\n",
       "                        <td id=\"T_08a62076_5ea5_11ea_bea4_001a6b0cdb24row89_col1\" class=\"data row89 col1\" >0.000000</td>\n",
       "                        <td id=\"T_08a62076_5ea5_11ea_bea4_001a6b0cdb24row89_col2\" class=\"data row89 col2\" >0.000000</td>\n",
       "            </tr>\n",
       "            <tr>\n",
       "                        <th id=\"T_08a62076_5ea5_11ea_bea4_001a6b0cdb24level0_row90\" class=\"row_heading level0 row90\" >Macau</th>\n",
       "                        <th id=\"T_08a62076_5ea5_11ea_bea4_001a6b0cdb24level1_row90\" class=\"row_heading level1 row90\" >Macau</th>\n",
       "                        <td id=\"T_08a62076_5ea5_11ea_bea4_001a6b0cdb24row90_col0\" class=\"data row90 col0\" >10.000000</td>\n",
       "                        <td id=\"T_08a62076_5ea5_11ea_bea4_001a6b0cdb24row90_col1\" class=\"data row90 col1\" >0.000000</td>\n",
       "                        <td id=\"T_08a62076_5ea5_11ea_bea4_001a6b0cdb24row90_col2\" class=\"data row90 col2\" >8.000000</td>\n",
       "            </tr>\n",
       "            <tr>\n",
       "                        <th id=\"T_08a62076_5ea5_11ea_bea4_001a6b0cdb24level0_row91\" class=\"row_heading level0 row91\" >Malaysia</th>\n",
       "                        <th id=\"T_08a62076_5ea5_11ea_bea4_001a6b0cdb24level1_row91\" class=\"row_heading level1 row91\" >NA</th>\n",
       "                        <td id=\"T_08a62076_5ea5_11ea_bea4_001a6b0cdb24row91_col0\" class=\"data row91 col0\" >29.000000</td>\n",
       "                        <td id=\"T_08a62076_5ea5_11ea_bea4_001a6b0cdb24row91_col1\" class=\"data row91 col1\" >0.000000</td>\n",
       "                        <td id=\"T_08a62076_5ea5_11ea_bea4_001a6b0cdb24row91_col2\" class=\"data row91 col2\" >18.000000</td>\n",
       "            </tr>\n",
       "            <tr>\n",
       "                        <th id=\"T_08a62076_5ea5_11ea_bea4_001a6b0cdb24level0_row92\" class=\"row_heading level0 row92\" >Mexico</th>\n",
       "                        <th id=\"T_08a62076_5ea5_11ea_bea4_001a6b0cdb24level1_row92\" class=\"row_heading level1 row92\" >NA</th>\n",
       "                        <td id=\"T_08a62076_5ea5_11ea_bea4_001a6b0cdb24row92_col0\" class=\"data row92 col0\" >5.000000</td>\n",
       "                        <td id=\"T_08a62076_5ea5_11ea_bea4_001a6b0cdb24row92_col1\" class=\"data row92 col1\" >0.000000</td>\n",
       "                        <td id=\"T_08a62076_5ea5_11ea_bea4_001a6b0cdb24row92_col2\" class=\"data row92 col2\" >0.000000</td>\n",
       "            </tr>\n",
       "            <tr>\n",
       "                        <th id=\"T_08a62076_5ea5_11ea_bea4_001a6b0cdb24level0_row93\" class=\"row_heading level0 row93\" >Monaco</th>\n",
       "                        <th id=\"T_08a62076_5ea5_11ea_bea4_001a6b0cdb24level1_row93\" class=\"row_heading level1 row93\" >NA</th>\n",
       "                        <td id=\"T_08a62076_5ea5_11ea_bea4_001a6b0cdb24row93_col0\" class=\"data row93 col0\" >1.000000</td>\n",
       "                        <td id=\"T_08a62076_5ea5_11ea_bea4_001a6b0cdb24row93_col1\" class=\"data row93 col1\" >0.000000</td>\n",
       "                        <td id=\"T_08a62076_5ea5_11ea_bea4_001a6b0cdb24row93_col2\" class=\"data row93 col2\" >0.000000</td>\n",
       "            </tr>\n",
       "            <tr>\n",
       "                        <th id=\"T_08a62076_5ea5_11ea_bea4_001a6b0cdb24level0_row94\" class=\"row_heading level0 row94\" >Morocco</th>\n",
       "                        <th id=\"T_08a62076_5ea5_11ea_bea4_001a6b0cdb24level1_row94\" class=\"row_heading level1 row94\" >NA</th>\n",
       "                        <td id=\"T_08a62076_5ea5_11ea_bea4_001a6b0cdb24row94_col0\" class=\"data row94 col0\" >1.000000</td>\n",
       "                        <td id=\"T_08a62076_5ea5_11ea_bea4_001a6b0cdb24row94_col1\" class=\"data row94 col1\" >0.000000</td>\n",
       "                        <td id=\"T_08a62076_5ea5_11ea_bea4_001a6b0cdb24row94_col2\" class=\"data row94 col2\" >0.000000</td>\n",
       "            </tr>\n",
       "            <tr>\n",
       "                        <th id=\"T_08a62076_5ea5_11ea_bea4_001a6b0cdb24level0_row95\" class=\"row_heading level0 row95\" >Nepal</th>\n",
       "                        <th id=\"T_08a62076_5ea5_11ea_bea4_001a6b0cdb24level1_row95\" class=\"row_heading level1 row95\" >NA</th>\n",
       "                        <td id=\"T_08a62076_5ea5_11ea_bea4_001a6b0cdb24row95_col0\" class=\"data row95 col0\" >1.000000</td>\n",
       "                        <td id=\"T_08a62076_5ea5_11ea_bea4_001a6b0cdb24row95_col1\" class=\"data row95 col1\" >0.000000</td>\n",
       "                        <td id=\"T_08a62076_5ea5_11ea_bea4_001a6b0cdb24row95_col2\" class=\"data row95 col2\" >1.000000</td>\n",
       "            </tr>\n",
       "            <tr>\n",
       "                        <th id=\"T_08a62076_5ea5_11ea_bea4_001a6b0cdb24level0_row96\" class=\"row_heading level0 row96\" >Netherlands</th>\n",
       "                        <th id=\"T_08a62076_5ea5_11ea_bea4_001a6b0cdb24level1_row96\" class=\"row_heading level1 row96\" >NA</th>\n",
       "                        <td id=\"T_08a62076_5ea5_11ea_bea4_001a6b0cdb24row96_col0\" class=\"data row96 col0\" >18.000000</td>\n",
       "                        <td id=\"T_08a62076_5ea5_11ea_bea4_001a6b0cdb24row96_col1\" class=\"data row96 col1\" >0.000000</td>\n",
       "                        <td id=\"T_08a62076_5ea5_11ea_bea4_001a6b0cdb24row96_col2\" class=\"data row96 col2\" >0.000000</td>\n",
       "            </tr>\n",
       "            <tr>\n",
       "                        <th id=\"T_08a62076_5ea5_11ea_bea4_001a6b0cdb24level0_row97\" class=\"row_heading level0 row97\" >New Zealand</th>\n",
       "                        <th id=\"T_08a62076_5ea5_11ea_bea4_001a6b0cdb24level1_row97\" class=\"row_heading level1 row97\" >NA</th>\n",
       "                        <td id=\"T_08a62076_5ea5_11ea_bea4_001a6b0cdb24row97_col0\" class=\"data row97 col0\" >1.000000</td>\n",
       "                        <td id=\"T_08a62076_5ea5_11ea_bea4_001a6b0cdb24row97_col1\" class=\"data row97 col1\" >0.000000</td>\n",
       "                        <td id=\"T_08a62076_5ea5_11ea_bea4_001a6b0cdb24row97_col2\" class=\"data row97 col2\" >0.000000</td>\n",
       "            </tr>\n",
       "            <tr>\n",
       "                        <th id=\"T_08a62076_5ea5_11ea_bea4_001a6b0cdb24level0_row98\" class=\"row_heading level0 row98\" >Nigeria</th>\n",
       "                        <th id=\"T_08a62076_5ea5_11ea_bea4_001a6b0cdb24level1_row98\" class=\"row_heading level1 row98\" >NA</th>\n",
       "                        <td id=\"T_08a62076_5ea5_11ea_bea4_001a6b0cdb24row98_col0\" class=\"data row98 col0\" >1.000000</td>\n",
       "                        <td id=\"T_08a62076_5ea5_11ea_bea4_001a6b0cdb24row98_col1\" class=\"data row98 col1\" >0.000000</td>\n",
       "                        <td id=\"T_08a62076_5ea5_11ea_bea4_001a6b0cdb24row98_col2\" class=\"data row98 col2\" >0.000000</td>\n",
       "            </tr>\n",
       "            <tr>\n",
       "                        <th id=\"T_08a62076_5ea5_11ea_bea4_001a6b0cdb24level0_row99\" class=\"row_heading level0 row99\" >North Ireland</th>\n",
       "                        <th id=\"T_08a62076_5ea5_11ea_bea4_001a6b0cdb24level1_row99\" class=\"row_heading level1 row99\" >NA</th>\n",
       "                        <td id=\"T_08a62076_5ea5_11ea_bea4_001a6b0cdb24row99_col0\" class=\"data row99 col0\" >1.000000</td>\n",
       "                        <td id=\"T_08a62076_5ea5_11ea_bea4_001a6b0cdb24row99_col1\" class=\"data row99 col1\" >0.000000</td>\n",
       "                        <td id=\"T_08a62076_5ea5_11ea_bea4_001a6b0cdb24row99_col2\" class=\"data row99 col2\" >0.000000</td>\n",
       "            </tr>\n",
       "            <tr>\n",
       "                        <th id=\"T_08a62076_5ea5_11ea_bea4_001a6b0cdb24level0_row100\" class=\"row_heading level0 row100\" >North Macedonia</th>\n",
       "                        <th id=\"T_08a62076_5ea5_11ea_bea4_001a6b0cdb24level1_row100\" class=\"row_heading level1 row100\" >NA</th>\n",
       "                        <td id=\"T_08a62076_5ea5_11ea_bea4_001a6b0cdb24row100_col0\" class=\"data row100 col0\" >1.000000</td>\n",
       "                        <td id=\"T_08a62076_5ea5_11ea_bea4_001a6b0cdb24row100_col1\" class=\"data row100 col1\" >0.000000</td>\n",
       "                        <td id=\"T_08a62076_5ea5_11ea_bea4_001a6b0cdb24row100_col2\" class=\"data row100 col2\" >0.000000</td>\n",
       "            </tr>\n",
       "            <tr>\n",
       "                        <th id=\"T_08a62076_5ea5_11ea_bea4_001a6b0cdb24level0_row101\" class=\"row_heading level0 row101\" >Norway</th>\n",
       "                        <th id=\"T_08a62076_5ea5_11ea_bea4_001a6b0cdb24level1_row101\" class=\"row_heading level1 row101\" >NA</th>\n",
       "                        <td id=\"T_08a62076_5ea5_11ea_bea4_001a6b0cdb24row101_col0\" class=\"data row101 col0\" >25.000000</td>\n",
       "                        <td id=\"T_08a62076_5ea5_11ea_bea4_001a6b0cdb24row101_col1\" class=\"data row101 col1\" >0.000000</td>\n",
       "                        <td id=\"T_08a62076_5ea5_11ea_bea4_001a6b0cdb24row101_col2\" class=\"data row101 col2\" >0.000000</td>\n",
       "            </tr>\n",
       "            <tr>\n",
       "                        <th id=\"T_08a62076_5ea5_11ea_bea4_001a6b0cdb24level0_row102\" class=\"row_heading level0 row102\" >Oman</th>\n",
       "                        <th id=\"T_08a62076_5ea5_11ea_bea4_001a6b0cdb24level1_row102\" class=\"row_heading level1 row102\" >NA</th>\n",
       "                        <td id=\"T_08a62076_5ea5_11ea_bea4_001a6b0cdb24row102_col0\" class=\"data row102 col0\" >6.000000</td>\n",
       "                        <td id=\"T_08a62076_5ea5_11ea_bea4_001a6b0cdb24row102_col1\" class=\"data row102 col1\" >0.000000</td>\n",
       "                        <td id=\"T_08a62076_5ea5_11ea_bea4_001a6b0cdb24row102_col2\" class=\"data row102 col2\" >1.000000</td>\n",
       "            </tr>\n",
       "            <tr>\n",
       "                        <th id=\"T_08a62076_5ea5_11ea_bea4_001a6b0cdb24level0_row103\" class=\"row_heading level0 row103\" rowspan=2>Others</th>\n",
       "                        <th id=\"T_08a62076_5ea5_11ea_bea4_001a6b0cdb24level1_row103\" class=\"row_heading level1 row103\" >Cruise Ship</th>\n",
       "                        <td id=\"T_08a62076_5ea5_11ea_bea4_001a6b0cdb24row103_col0\" class=\"data row103 col0\" >61.000000</td>\n",
       "                        <td id=\"T_08a62076_5ea5_11ea_bea4_001a6b0cdb24row103_col1\" class=\"data row103 col1\" >0.000000</td>\n",
       "                        <td id=\"T_08a62076_5ea5_11ea_bea4_001a6b0cdb24row103_col2\" class=\"data row103 col2\" >0.000000</td>\n",
       "            </tr>\n",
       "            <tr>\n",
       "                                <th id=\"T_08a62076_5ea5_11ea_bea4_001a6b0cdb24level1_row104\" class=\"row_heading level1 row104\" >Diamond Princess cruise ship</th>\n",
       "                        <td id=\"T_08a62076_5ea5_11ea_bea4_001a6b0cdb24row104_col0\" class=\"data row104 col0\" >705.000000</td>\n",
       "                        <td id=\"T_08a62076_5ea5_11ea_bea4_001a6b0cdb24row104_col1\" class=\"data row104 col1\" >6.000000</td>\n",
       "                        <td id=\"T_08a62076_5ea5_11ea_bea4_001a6b0cdb24row104_col2\" class=\"data row104 col2\" >10.000000</td>\n",
       "            </tr>\n",
       "            <tr>\n",
       "                        <th id=\"T_08a62076_5ea5_11ea_bea4_001a6b0cdb24level0_row105\" class=\"row_heading level0 row105\" >Pakistan</th>\n",
       "                        <th id=\"T_08a62076_5ea5_11ea_bea4_001a6b0cdb24level1_row105\" class=\"row_heading level1 row105\" >NA</th>\n",
       "                        <td id=\"T_08a62076_5ea5_11ea_bea4_001a6b0cdb24row105_col0\" class=\"data row105 col0\" >4.000000</td>\n",
       "                        <td id=\"T_08a62076_5ea5_11ea_bea4_001a6b0cdb24row105_col1\" class=\"data row105 col1\" >0.000000</td>\n",
       "                        <td id=\"T_08a62076_5ea5_11ea_bea4_001a6b0cdb24row105_col2\" class=\"data row105 col2\" >0.000000</td>\n",
       "            </tr>\n",
       "            <tr>\n",
       "                        <th id=\"T_08a62076_5ea5_11ea_bea4_001a6b0cdb24level0_row106\" class=\"row_heading level0 row106\" >Philippines</th>\n",
       "                        <th id=\"T_08a62076_5ea5_11ea_bea4_001a6b0cdb24level1_row106\" class=\"row_heading level1 row106\" >NA</th>\n",
       "                        <td id=\"T_08a62076_5ea5_11ea_bea4_001a6b0cdb24row106_col0\" class=\"data row106 col0\" >3.000000</td>\n",
       "                        <td id=\"T_08a62076_5ea5_11ea_bea4_001a6b0cdb24row106_col1\" class=\"data row106 col1\" >1.000000</td>\n",
       "                        <td id=\"T_08a62076_5ea5_11ea_bea4_001a6b0cdb24row106_col2\" class=\"data row106 col2\" >1.000000</td>\n",
       "            </tr>\n",
       "            <tr>\n",
       "                        <th id=\"T_08a62076_5ea5_11ea_bea4_001a6b0cdb24level0_row107\" class=\"row_heading level0 row107\" >Portugal</th>\n",
       "                        <th id=\"T_08a62076_5ea5_11ea_bea4_001a6b0cdb24level1_row107\" class=\"row_heading level1 row107\" >NA</th>\n",
       "                        <td id=\"T_08a62076_5ea5_11ea_bea4_001a6b0cdb24row107_col0\" class=\"data row107 col0\" >2.000000</td>\n",
       "                        <td id=\"T_08a62076_5ea5_11ea_bea4_001a6b0cdb24row107_col1\" class=\"data row107 col1\" >0.000000</td>\n",
       "                        <td id=\"T_08a62076_5ea5_11ea_bea4_001a6b0cdb24row107_col2\" class=\"data row107 col2\" >0.000000</td>\n",
       "            </tr>\n",
       "            <tr>\n",
       "                        <th id=\"T_08a62076_5ea5_11ea_bea4_001a6b0cdb24level0_row108\" class=\"row_heading level0 row108\" >Qatar</th>\n",
       "                        <th id=\"T_08a62076_5ea5_11ea_bea4_001a6b0cdb24level1_row108\" class=\"row_heading level1 row108\" >NA</th>\n",
       "                        <td id=\"T_08a62076_5ea5_11ea_bea4_001a6b0cdb24row108_col0\" class=\"data row108 col0\" >3.000000</td>\n",
       "                        <td id=\"T_08a62076_5ea5_11ea_bea4_001a6b0cdb24row108_col1\" class=\"data row108 col1\" >0.000000</td>\n",
       "                        <td id=\"T_08a62076_5ea5_11ea_bea4_001a6b0cdb24row108_col2\" class=\"data row108 col2\" >0.000000</td>\n",
       "            </tr>\n",
       "            <tr>\n",
       "                        <th id=\"T_08a62076_5ea5_11ea_bea4_001a6b0cdb24level0_row109\" class=\"row_heading level0 row109\" >Romania</th>\n",
       "                        <th id=\"T_08a62076_5ea5_11ea_bea4_001a6b0cdb24level1_row109\" class=\"row_heading level1 row109\" >NA</th>\n",
       "                        <td id=\"T_08a62076_5ea5_11ea_bea4_001a6b0cdb24row109_col0\" class=\"data row109 col0\" >3.000000</td>\n",
       "                        <td id=\"T_08a62076_5ea5_11ea_bea4_001a6b0cdb24row109_col1\" class=\"data row109 col1\" >0.000000</td>\n",
       "                        <td id=\"T_08a62076_5ea5_11ea_bea4_001a6b0cdb24row109_col2\" class=\"data row109 col2\" >0.000000</td>\n",
       "            </tr>\n",
       "            <tr>\n",
       "                        <th id=\"T_08a62076_5ea5_11ea_bea4_001a6b0cdb24level0_row110\" class=\"row_heading level0 row110\" >Russia</th>\n",
       "                        <th id=\"T_08a62076_5ea5_11ea_bea4_001a6b0cdb24level1_row110\" class=\"row_heading level1 row110\" >NA</th>\n",
       "                        <td id=\"T_08a62076_5ea5_11ea_bea4_001a6b0cdb24row110_col0\" class=\"data row110 col0\" >3.000000</td>\n",
       "                        <td id=\"T_08a62076_5ea5_11ea_bea4_001a6b0cdb24row110_col1\" class=\"data row110 col1\" >0.000000</td>\n",
       "                        <td id=\"T_08a62076_5ea5_11ea_bea4_001a6b0cdb24row110_col2\" class=\"data row110 col2\" >2.000000</td>\n",
       "            </tr>\n",
       "            <tr>\n",
       "                        <th id=\"T_08a62076_5ea5_11ea_bea4_001a6b0cdb24level0_row111\" class=\"row_heading level0 row111\" >San Marino</th>\n",
       "                        <th id=\"T_08a62076_5ea5_11ea_bea4_001a6b0cdb24level1_row111\" class=\"row_heading level1 row111\" >NA</th>\n",
       "                        <td id=\"T_08a62076_5ea5_11ea_bea4_001a6b0cdb24row111_col0\" class=\"data row111 col0\" >8.000000</td>\n",
       "                        <td id=\"T_08a62076_5ea5_11ea_bea4_001a6b0cdb24row111_col1\" class=\"data row111 col1\" >0.000000</td>\n",
       "                        <td id=\"T_08a62076_5ea5_11ea_bea4_001a6b0cdb24row111_col2\" class=\"data row111 col2\" >0.000000</td>\n",
       "            </tr>\n",
       "            <tr>\n",
       "                        <th id=\"T_08a62076_5ea5_11ea_bea4_001a6b0cdb24level0_row112\" class=\"row_heading level0 row112\" >Saudi Arabia</th>\n",
       "                        <th id=\"T_08a62076_5ea5_11ea_bea4_001a6b0cdb24level1_row112\" class=\"row_heading level1 row112\" >NA</th>\n",
       "                        <td id=\"T_08a62076_5ea5_11ea_bea4_001a6b0cdb24row112_col0\" class=\"data row112 col0\" >1.000000</td>\n",
       "                        <td id=\"T_08a62076_5ea5_11ea_bea4_001a6b0cdb24row112_col1\" class=\"data row112 col1\" >0.000000</td>\n",
       "                        <td id=\"T_08a62076_5ea5_11ea_bea4_001a6b0cdb24row112_col2\" class=\"data row112 col2\" >0.000000</td>\n",
       "            </tr>\n",
       "            <tr>\n",
       "                        <th id=\"T_08a62076_5ea5_11ea_bea4_001a6b0cdb24level0_row113\" class=\"row_heading level0 row113\" >Senegal</th>\n",
       "                        <th id=\"T_08a62076_5ea5_11ea_bea4_001a6b0cdb24level1_row113\" class=\"row_heading level1 row113\" >NA</th>\n",
       "                        <td id=\"T_08a62076_5ea5_11ea_bea4_001a6b0cdb24row113_col0\" class=\"data row113 col0\" >1.000000</td>\n",
       "                        <td id=\"T_08a62076_5ea5_11ea_bea4_001a6b0cdb24row113_col1\" class=\"data row113 col1\" >0.000000</td>\n",
       "                        <td id=\"T_08a62076_5ea5_11ea_bea4_001a6b0cdb24row113_col2\" class=\"data row113 col2\" >0.000000</td>\n",
       "            </tr>\n",
       "            <tr>\n",
       "                        <th id=\"T_08a62076_5ea5_11ea_bea4_001a6b0cdb24level0_row114\" class=\"row_heading level0 row114\" >Singapore</th>\n",
       "                        <th id=\"T_08a62076_5ea5_11ea_bea4_001a6b0cdb24level1_row114\" class=\"row_heading level1 row114\" >NA</th>\n",
       "                        <td id=\"T_08a62076_5ea5_11ea_bea4_001a6b0cdb24row114_col0\" class=\"data row114 col0\" >108.000000</td>\n",
       "                        <td id=\"T_08a62076_5ea5_11ea_bea4_001a6b0cdb24row114_col1\" class=\"data row114 col1\" >0.000000</td>\n",
       "                        <td id=\"T_08a62076_5ea5_11ea_bea4_001a6b0cdb24row114_col2\" class=\"data row114 col2\" >78.000000</td>\n",
       "            </tr>\n",
       "            <tr>\n",
       "                        <th id=\"T_08a62076_5ea5_11ea_bea4_001a6b0cdb24level0_row115\" class=\"row_heading level0 row115\" >South Korea</th>\n",
       "                        <th id=\"T_08a62076_5ea5_11ea_bea4_001a6b0cdb24level1_row115\" class=\"row_heading level1 row115\" >NA</th>\n",
       "                        <td id=\"T_08a62076_5ea5_11ea_bea4_001a6b0cdb24row115_col0\" class=\"data row115 col0\" >4335.000000</td>\n",
       "                        <td id=\"T_08a62076_5ea5_11ea_bea4_001a6b0cdb24row115_col1\" class=\"data row115 col1\" >28.000000</td>\n",
       "                        <td id=\"T_08a62076_5ea5_11ea_bea4_001a6b0cdb24row115_col2\" class=\"data row115 col2\" >30.000000</td>\n",
       "            </tr>\n",
       "            <tr>\n",
       "                        <th id=\"T_08a62076_5ea5_11ea_bea4_001a6b0cdb24level0_row116\" class=\"row_heading level0 row116\" >Spain</th>\n",
       "                        <th id=\"T_08a62076_5ea5_11ea_bea4_001a6b0cdb24level1_row116\" class=\"row_heading level1 row116\" >NA</th>\n",
       "                        <td id=\"T_08a62076_5ea5_11ea_bea4_001a6b0cdb24row116_col0\" class=\"data row116 col0\" >120.000000</td>\n",
       "                        <td id=\"T_08a62076_5ea5_11ea_bea4_001a6b0cdb24row116_col1\" class=\"data row116 col1\" >0.000000</td>\n",
       "                        <td id=\"T_08a62076_5ea5_11ea_bea4_001a6b0cdb24row116_col2\" class=\"data row116 col2\" >2.000000</td>\n",
       "            </tr>\n",
       "            <tr>\n",
       "                        <th id=\"T_08a62076_5ea5_11ea_bea4_001a6b0cdb24level0_row117\" class=\"row_heading level0 row117\" >Sri Lanka</th>\n",
       "                        <th id=\"T_08a62076_5ea5_11ea_bea4_001a6b0cdb24level1_row117\" class=\"row_heading level1 row117\" >NA</th>\n",
       "                        <td id=\"T_08a62076_5ea5_11ea_bea4_001a6b0cdb24row117_col0\" class=\"data row117 col0\" >1.000000</td>\n",
       "                        <td id=\"T_08a62076_5ea5_11ea_bea4_001a6b0cdb24row117_col1\" class=\"data row117 col1\" >0.000000</td>\n",
       "                        <td id=\"T_08a62076_5ea5_11ea_bea4_001a6b0cdb24row117_col2\" class=\"data row117 col2\" >1.000000</td>\n",
       "            </tr>\n",
       "            <tr>\n",
       "                        <th id=\"T_08a62076_5ea5_11ea_bea4_001a6b0cdb24level0_row118\" class=\"row_heading level0 row118\" >Sweden</th>\n",
       "                        <th id=\"T_08a62076_5ea5_11ea_bea4_001a6b0cdb24level1_row118\" class=\"row_heading level1 row118\" >NA</th>\n",
       "                        <td id=\"T_08a62076_5ea5_11ea_bea4_001a6b0cdb24row118_col0\" class=\"data row118 col0\" >15.000000</td>\n",
       "                        <td id=\"T_08a62076_5ea5_11ea_bea4_001a6b0cdb24row118_col1\" class=\"data row118 col1\" >0.000000</td>\n",
       "                        <td id=\"T_08a62076_5ea5_11ea_bea4_001a6b0cdb24row118_col2\" class=\"data row118 col2\" >0.000000</td>\n",
       "            </tr>\n",
       "            <tr>\n",
       "                        <th id=\"T_08a62076_5ea5_11ea_bea4_001a6b0cdb24level0_row119\" class=\"row_heading level0 row119\" >Switzerland</th>\n",
       "                        <th id=\"T_08a62076_5ea5_11ea_bea4_001a6b0cdb24level1_row119\" class=\"row_heading level1 row119\" >NA</th>\n",
       "                        <td id=\"T_08a62076_5ea5_11ea_bea4_001a6b0cdb24row119_col0\" class=\"data row119 col0\" >42.000000</td>\n",
       "                        <td id=\"T_08a62076_5ea5_11ea_bea4_001a6b0cdb24row119_col1\" class=\"data row119 col1\" >0.000000</td>\n",
       "                        <td id=\"T_08a62076_5ea5_11ea_bea4_001a6b0cdb24row119_col2\" class=\"data row119 col2\" >0.000000</td>\n",
       "            </tr>\n",
       "            <tr>\n",
       "                        <th id=\"T_08a62076_5ea5_11ea_bea4_001a6b0cdb24level0_row120\" class=\"row_heading level0 row120\" >Taiwan</th>\n",
       "                        <th id=\"T_08a62076_5ea5_11ea_bea4_001a6b0cdb24level1_row120\" class=\"row_heading level1 row120\" >Taiwan</th>\n",
       "                        <td id=\"T_08a62076_5ea5_11ea_bea4_001a6b0cdb24row120_col0\" class=\"data row120 col0\" >41.000000</td>\n",
       "                        <td id=\"T_08a62076_5ea5_11ea_bea4_001a6b0cdb24row120_col1\" class=\"data row120 col1\" >1.000000</td>\n",
       "                        <td id=\"T_08a62076_5ea5_11ea_bea4_001a6b0cdb24row120_col2\" class=\"data row120 col2\" >12.000000</td>\n",
       "            </tr>\n",
       "            <tr>\n",
       "                        <th id=\"T_08a62076_5ea5_11ea_bea4_001a6b0cdb24level0_row121\" class=\"row_heading level0 row121\" >Thailand</th>\n",
       "                        <th id=\"T_08a62076_5ea5_11ea_bea4_001a6b0cdb24level1_row121\" class=\"row_heading level1 row121\" >NA</th>\n",
       "                        <td id=\"T_08a62076_5ea5_11ea_bea4_001a6b0cdb24row121_col0\" class=\"data row121 col0\" >43.000000</td>\n",
       "                        <td id=\"T_08a62076_5ea5_11ea_bea4_001a6b0cdb24row121_col1\" class=\"data row121 col1\" >1.000000</td>\n",
       "                        <td id=\"T_08a62076_5ea5_11ea_bea4_001a6b0cdb24row121_col2\" class=\"data row121 col2\" >31.000000</td>\n",
       "            </tr>\n",
       "            <tr>\n",
       "                        <th id=\"T_08a62076_5ea5_11ea_bea4_001a6b0cdb24level0_row122\" class=\"row_heading level0 row122\" >UK</th>\n",
       "                        <th id=\"T_08a62076_5ea5_11ea_bea4_001a6b0cdb24level1_row122\" class=\"row_heading level1 row122\" >NA</th>\n",
       "                        <td id=\"T_08a62076_5ea5_11ea_bea4_001a6b0cdb24row122_col0\" class=\"data row122 col0\" >40.000000</td>\n",
       "                        <td id=\"T_08a62076_5ea5_11ea_bea4_001a6b0cdb24row122_col1\" class=\"data row122 col1\" >0.000000</td>\n",
       "                        <td id=\"T_08a62076_5ea5_11ea_bea4_001a6b0cdb24row122_col2\" class=\"data row122 col2\" >8.000000</td>\n",
       "            </tr>\n",
       "            <tr>\n",
       "                        <th id=\"T_08a62076_5ea5_11ea_bea4_001a6b0cdb24level0_row123\" class=\"row_heading level0 row123\" rowspan=38>US</th>\n",
       "                        <th id=\"T_08a62076_5ea5_11ea_bea4_001a6b0cdb24level1_row123\" class=\"row_heading level1 row123\" >Arizona</th>\n",
       "                        <td id=\"T_08a62076_5ea5_11ea_bea4_001a6b0cdb24row123_col0\" class=\"data row123 col0\" >1.000000</td>\n",
       "                        <td id=\"T_08a62076_5ea5_11ea_bea4_001a6b0cdb24row123_col1\" class=\"data row123 col1\" >0.000000</td>\n",
       "                        <td id=\"T_08a62076_5ea5_11ea_bea4_001a6b0cdb24row123_col2\" class=\"data row123 col2\" >0.000000</td>\n",
       "            </tr>\n",
       "            <tr>\n",
       "                                <th id=\"T_08a62076_5ea5_11ea_bea4_001a6b0cdb24level1_row124\" class=\"row_heading level1 row124\" >Ashland, NE</th>\n",
       "                        <td id=\"T_08a62076_5ea5_11ea_bea4_001a6b0cdb24row124_col0\" class=\"data row124 col0\" >11.000000</td>\n",
       "                        <td id=\"T_08a62076_5ea5_11ea_bea4_001a6b0cdb24row124_col1\" class=\"data row124 col1\" >0.000000</td>\n",
       "                        <td id=\"T_08a62076_5ea5_11ea_bea4_001a6b0cdb24row124_col2\" class=\"data row124 col2\" >0.000000</td>\n",
       "            </tr>\n",
       "            <tr>\n",
       "                                <th id=\"T_08a62076_5ea5_11ea_bea4_001a6b0cdb24level1_row125\" class=\"row_heading level1 row125\" >Boston, MA</th>\n",
       "                        <td id=\"T_08a62076_5ea5_11ea_bea4_001a6b0cdb24row125_col0\" class=\"data row125 col0\" >1.000000</td>\n",
       "                        <td id=\"T_08a62076_5ea5_11ea_bea4_001a6b0cdb24row125_col1\" class=\"data row125 col1\" >0.000000</td>\n",
       "                        <td id=\"T_08a62076_5ea5_11ea_bea4_001a6b0cdb24row125_col2\" class=\"data row125 col2\" >1.000000</td>\n",
       "            </tr>\n",
       "            <tr>\n",
       "                                <th id=\"T_08a62076_5ea5_11ea_bea4_001a6b0cdb24level1_row126\" class=\"row_heading level1 row126\" >California</th>\n",
       "                        <td id=\"T_08a62076_5ea5_11ea_bea4_001a6b0cdb24row126_col0\" class=\"data row126 col0\" >2.000000</td>\n",
       "                        <td id=\"T_08a62076_5ea5_11ea_bea4_001a6b0cdb24row126_col1\" class=\"data row126 col1\" >0.000000</td>\n",
       "                        <td id=\"T_08a62076_5ea5_11ea_bea4_001a6b0cdb24row126_col2\" class=\"data row126 col2\" >0.000000</td>\n",
       "            </tr>\n",
       "            <tr>\n",
       "                                <th id=\"T_08a62076_5ea5_11ea_bea4_001a6b0cdb24level1_row127\" class=\"row_heading level1 row127\" >Chicago</th>\n",
       "                        <td id=\"T_08a62076_5ea5_11ea_bea4_001a6b0cdb24row127_col0\" class=\"data row127 col0\" >1.000000</td>\n",
       "                        <td id=\"T_08a62076_5ea5_11ea_bea4_001a6b0cdb24row127_col1\" class=\"data row127 col1\" >0.000000</td>\n",
       "                        <td id=\"T_08a62076_5ea5_11ea_bea4_001a6b0cdb24row127_col2\" class=\"data row127 col2\" >0.000000</td>\n",
       "            </tr>\n",
       "            <tr>\n",
       "                                <th id=\"T_08a62076_5ea5_11ea_bea4_001a6b0cdb24level1_row128\" class=\"row_heading level1 row128\" >Chicago, IL</th>\n",
       "                        <td id=\"T_08a62076_5ea5_11ea_bea4_001a6b0cdb24row128_col0\" class=\"data row128 col0\" >3.000000</td>\n",
       "                        <td id=\"T_08a62076_5ea5_11ea_bea4_001a6b0cdb24row128_col1\" class=\"data row128 col1\" >0.000000</td>\n",
       "                        <td id=\"T_08a62076_5ea5_11ea_bea4_001a6b0cdb24row128_col2\" class=\"data row128 col2\" >2.000000</td>\n",
       "            </tr>\n",
       "            <tr>\n",
       "                                <th id=\"T_08a62076_5ea5_11ea_bea4_001a6b0cdb24level1_row129\" class=\"row_heading level1 row129\" >Cook County, IL</th>\n",
       "                        <td id=\"T_08a62076_5ea5_11ea_bea4_001a6b0cdb24row129_col0\" class=\"data row129 col0\" >4.000000</td>\n",
       "                        <td id=\"T_08a62076_5ea5_11ea_bea4_001a6b0cdb24row129_col1\" class=\"data row129 col1\" >0.000000</td>\n",
       "                        <td id=\"T_08a62076_5ea5_11ea_bea4_001a6b0cdb24row129_col2\" class=\"data row129 col2\" >2.000000</td>\n",
       "            </tr>\n",
       "            <tr>\n",
       "                                <th id=\"T_08a62076_5ea5_11ea_bea4_001a6b0cdb24level1_row130\" class=\"row_heading level1 row130\" >Grafton County, NH</th>\n",
       "                        <td id=\"T_08a62076_5ea5_11ea_bea4_001a6b0cdb24row130_col0\" class=\"data row130 col0\" >1.000000</td>\n",
       "                        <td id=\"T_08a62076_5ea5_11ea_bea4_001a6b0cdb24row130_col1\" class=\"data row130 col1\" >0.000000</td>\n",
       "                        <td id=\"T_08a62076_5ea5_11ea_bea4_001a6b0cdb24row130_col2\" class=\"data row130 col2\" >0.000000</td>\n",
       "            </tr>\n",
       "            <tr>\n",
       "                                <th id=\"T_08a62076_5ea5_11ea_bea4_001a6b0cdb24level1_row131\" class=\"row_heading level1 row131\" >Hillsborough, FL</th>\n",
       "                        <td id=\"T_08a62076_5ea5_11ea_bea4_001a6b0cdb24row131_col0\" class=\"data row131 col0\" >1.000000</td>\n",
       "                        <td id=\"T_08a62076_5ea5_11ea_bea4_001a6b0cdb24row131_col1\" class=\"data row131 col1\" >0.000000</td>\n",
       "                        <td id=\"T_08a62076_5ea5_11ea_bea4_001a6b0cdb24row131_col2\" class=\"data row131 col2\" >0.000000</td>\n",
       "            </tr>\n",
       "            <tr>\n",
       "                                <th id=\"T_08a62076_5ea5_11ea_bea4_001a6b0cdb24level1_row132\" class=\"row_heading level1 row132\" >Humboldt County, CA</th>\n",
       "                        <td id=\"T_08a62076_5ea5_11ea_bea4_001a6b0cdb24row132_col0\" class=\"data row132 col0\" >1.000000</td>\n",
       "                        <td id=\"T_08a62076_5ea5_11ea_bea4_001a6b0cdb24row132_col1\" class=\"data row132 col1\" >0.000000</td>\n",
       "                        <td id=\"T_08a62076_5ea5_11ea_bea4_001a6b0cdb24row132_col2\" class=\"data row132 col2\" >0.000000</td>\n",
       "            </tr>\n",
       "            <tr>\n",
       "                                <th id=\"T_08a62076_5ea5_11ea_bea4_001a6b0cdb24level1_row133\" class=\"row_heading level1 row133\" >Illinois</th>\n",
       "                        <td id=\"T_08a62076_5ea5_11ea_bea4_001a6b0cdb24row133_col0\" class=\"data row133 col0\" >2.000000</td>\n",
       "                        <td id=\"T_08a62076_5ea5_11ea_bea4_001a6b0cdb24row133_col1\" class=\"data row133 col1\" >0.000000</td>\n",
       "                        <td id=\"T_08a62076_5ea5_11ea_bea4_001a6b0cdb24row133_col2\" class=\"data row133 col2\" >0.000000</td>\n",
       "            </tr>\n",
       "            <tr>\n",
       "                                <th id=\"T_08a62076_5ea5_11ea_bea4_001a6b0cdb24level1_row134\" class=\"row_heading level1 row134\" >King County, WA</th>\n",
       "                        <td id=\"T_08a62076_5ea5_11ea_bea4_001a6b0cdb24row134_col0\" class=\"data row134 col0\" >14.000000</td>\n",
       "                        <td id=\"T_08a62076_5ea5_11ea_bea4_001a6b0cdb24row134_col1\" class=\"data row134 col1\" >5.000000</td>\n",
       "                        <td id=\"T_08a62076_5ea5_11ea_bea4_001a6b0cdb24row134_col2\" class=\"data row134 col2\" >1.000000</td>\n",
       "            </tr>\n",
       "            <tr>\n",
       "                                <th id=\"T_08a62076_5ea5_11ea_bea4_001a6b0cdb24level1_row135\" class=\"row_heading level1 row135\" >Lackland, TX</th>\n",
       "                        <td id=\"T_08a62076_5ea5_11ea_bea4_001a6b0cdb24row135_col0\" class=\"data row135 col0\" >2.000000</td>\n",
       "                        <td id=\"T_08a62076_5ea5_11ea_bea4_001a6b0cdb24row135_col1\" class=\"data row135 col1\" >0.000000</td>\n",
       "                        <td id=\"T_08a62076_5ea5_11ea_bea4_001a6b0cdb24row135_col2\" class=\"data row135 col2\" >0.000000</td>\n",
       "            </tr>\n",
       "            <tr>\n",
       "                                <th id=\"T_08a62076_5ea5_11ea_bea4_001a6b0cdb24level1_row136\" class=\"row_heading level1 row136\" >Lackland, TX (From Diamond Princess)</th>\n",
       "                        <td id=\"T_08a62076_5ea5_11ea_bea4_001a6b0cdb24row136_col0\" class=\"data row136 col0\" >2.000000</td>\n",
       "                        <td id=\"T_08a62076_5ea5_11ea_bea4_001a6b0cdb24row136_col1\" class=\"data row136 col1\" >0.000000</td>\n",
       "                        <td id=\"T_08a62076_5ea5_11ea_bea4_001a6b0cdb24row136_col2\" class=\"data row136 col2\" >0.000000</td>\n",
       "            </tr>\n",
       "            <tr>\n",
       "                                <th id=\"T_08a62076_5ea5_11ea_bea4_001a6b0cdb24level1_row137\" class=\"row_heading level1 row137\" >Los Angeles, CA</th>\n",
       "                        <td id=\"T_08a62076_5ea5_11ea_bea4_001a6b0cdb24row137_col0\" class=\"data row137 col0\" >1.000000</td>\n",
       "                        <td id=\"T_08a62076_5ea5_11ea_bea4_001a6b0cdb24row137_col1\" class=\"data row137 col1\" >0.000000</td>\n",
       "                        <td id=\"T_08a62076_5ea5_11ea_bea4_001a6b0cdb24row137_col2\" class=\"data row137 col2\" >0.000000</td>\n",
       "            </tr>\n",
       "            <tr>\n",
       "                                <th id=\"T_08a62076_5ea5_11ea_bea4_001a6b0cdb24level1_row138\" class=\"row_heading level1 row138\" >Madison, WI</th>\n",
       "                        <td id=\"T_08a62076_5ea5_11ea_bea4_001a6b0cdb24row138_col0\" class=\"data row138 col0\" >1.000000</td>\n",
       "                        <td id=\"T_08a62076_5ea5_11ea_bea4_001a6b0cdb24row138_col1\" class=\"data row138 col1\" >0.000000</td>\n",
       "                        <td id=\"T_08a62076_5ea5_11ea_bea4_001a6b0cdb24row138_col2\" class=\"data row138 col2\" >0.000000</td>\n",
       "            </tr>\n",
       "            <tr>\n",
       "                                <th id=\"T_08a62076_5ea5_11ea_bea4_001a6b0cdb24level1_row139\" class=\"row_heading level1 row139\" >New York City, NY</th>\n",
       "                        <td id=\"T_08a62076_5ea5_11ea_bea4_001a6b0cdb24row139_col0\" class=\"data row139 col0\" >1.000000</td>\n",
       "                        <td id=\"T_08a62076_5ea5_11ea_bea4_001a6b0cdb24row139_col1\" class=\"data row139 col1\" >0.000000</td>\n",
       "                        <td id=\"T_08a62076_5ea5_11ea_bea4_001a6b0cdb24row139_col2\" class=\"data row139 col2\" >0.000000</td>\n",
       "            </tr>\n",
       "            <tr>\n",
       "                                <th id=\"T_08a62076_5ea5_11ea_bea4_001a6b0cdb24level1_row140\" class=\"row_heading level1 row140\" >Omaha, NE (From Diamond Princess)</th>\n",
       "                        <td id=\"T_08a62076_5ea5_11ea_bea4_001a6b0cdb24row140_col0\" class=\"data row140 col0\" >11.000000</td>\n",
       "                        <td id=\"T_08a62076_5ea5_11ea_bea4_001a6b0cdb24row140_col1\" class=\"data row140 col1\" >0.000000</td>\n",
       "                        <td id=\"T_08a62076_5ea5_11ea_bea4_001a6b0cdb24row140_col2\" class=\"data row140 col2\" >0.000000</td>\n",
       "            </tr>\n",
       "            <tr>\n",
       "                                <th id=\"T_08a62076_5ea5_11ea_bea4_001a6b0cdb24level1_row141\" class=\"row_heading level1 row141\" >Orange, CA</th>\n",
       "                        <td id=\"T_08a62076_5ea5_11ea_bea4_001a6b0cdb24row141_col0\" class=\"data row141 col0\" >1.000000</td>\n",
       "                        <td id=\"T_08a62076_5ea5_11ea_bea4_001a6b0cdb24row141_col1\" class=\"data row141 col1\" >0.000000</td>\n",
       "                        <td id=\"T_08a62076_5ea5_11ea_bea4_001a6b0cdb24row141_col2\" class=\"data row141 col2\" >0.000000</td>\n",
       "            </tr>\n",
       "            <tr>\n",
       "                                <th id=\"T_08a62076_5ea5_11ea_bea4_001a6b0cdb24level1_row142\" class=\"row_heading level1 row142\" >Placer County, CA</th>\n",
       "                        <td id=\"T_08a62076_5ea5_11ea_bea4_001a6b0cdb24row142_col0\" class=\"data row142 col0\" >1.000000</td>\n",
       "                        <td id=\"T_08a62076_5ea5_11ea_bea4_001a6b0cdb24row142_col1\" class=\"data row142 col1\" >0.000000</td>\n",
       "                        <td id=\"T_08a62076_5ea5_11ea_bea4_001a6b0cdb24row142_col2\" class=\"data row142 col2\" >0.000000</td>\n",
       "            </tr>\n",
       "            <tr>\n",
       "                                <th id=\"T_08a62076_5ea5_11ea_bea4_001a6b0cdb24level1_row143\" class=\"row_heading level1 row143\" >Portland, OR</th>\n",
       "                        <td id=\"T_08a62076_5ea5_11ea_bea4_001a6b0cdb24row143_col0\" class=\"data row143 col0\" >2.000000</td>\n",
       "                        <td id=\"T_08a62076_5ea5_11ea_bea4_001a6b0cdb24row143_col1\" class=\"data row143 col1\" >0.000000</td>\n",
       "                        <td id=\"T_08a62076_5ea5_11ea_bea4_001a6b0cdb24row143_col2\" class=\"data row143 col2\" >0.000000</td>\n",
       "            </tr>\n",
       "            <tr>\n",
       "                                <th id=\"T_08a62076_5ea5_11ea_bea4_001a6b0cdb24level1_row144\" class=\"row_heading level1 row144\" >Providence, RI</th>\n",
       "                        <td id=\"T_08a62076_5ea5_11ea_bea4_001a6b0cdb24row144_col0\" class=\"data row144 col0\" >2.000000</td>\n",
       "                        <td id=\"T_08a62076_5ea5_11ea_bea4_001a6b0cdb24row144_col1\" class=\"data row144 col1\" >0.000000</td>\n",
       "                        <td id=\"T_08a62076_5ea5_11ea_bea4_001a6b0cdb24row144_col2\" class=\"data row144 col2\" >0.000000</td>\n",
       "            </tr>\n",
       "            <tr>\n",
       "                                <th id=\"T_08a62076_5ea5_11ea_bea4_001a6b0cdb24level1_row145\" class=\"row_heading level1 row145\" >Sacramento County, CA</th>\n",
       "                        <td id=\"T_08a62076_5ea5_11ea_bea4_001a6b0cdb24row145_col0\" class=\"data row145 col0\" >2.000000</td>\n",
       "                        <td id=\"T_08a62076_5ea5_11ea_bea4_001a6b0cdb24row145_col1\" class=\"data row145 col1\" >0.000000</td>\n",
       "                        <td id=\"T_08a62076_5ea5_11ea_bea4_001a6b0cdb24row145_col2\" class=\"data row145 col2\" >0.000000</td>\n",
       "            </tr>\n",
       "            <tr>\n",
       "                                <th id=\"T_08a62076_5ea5_11ea_bea4_001a6b0cdb24level1_row146\" class=\"row_heading level1 row146\" >San Antonio, TX</th>\n",
       "                        <td id=\"T_08a62076_5ea5_11ea_bea4_001a6b0cdb24row146_col0\" class=\"data row146 col0\" >1.000000</td>\n",
       "                        <td id=\"T_08a62076_5ea5_11ea_bea4_001a6b0cdb24row146_col1\" class=\"data row146 col1\" >0.000000</td>\n",
       "                        <td id=\"T_08a62076_5ea5_11ea_bea4_001a6b0cdb24row146_col2\" class=\"data row146 col2\" >0.000000</td>\n",
       "            </tr>\n",
       "            <tr>\n",
       "                                <th id=\"T_08a62076_5ea5_11ea_bea4_001a6b0cdb24level1_row147\" class=\"row_heading level1 row147\" >San Benito, CA</th>\n",
       "                        <td id=\"T_08a62076_5ea5_11ea_bea4_001a6b0cdb24row147_col0\" class=\"data row147 col0\" >2.000000</td>\n",
       "                        <td id=\"T_08a62076_5ea5_11ea_bea4_001a6b0cdb24row147_col1\" class=\"data row147 col1\" >0.000000</td>\n",
       "                        <td id=\"T_08a62076_5ea5_11ea_bea4_001a6b0cdb24row147_col2\" class=\"data row147 col2\" >0.000000</td>\n",
       "            </tr>\n",
       "            <tr>\n",
       "                                <th id=\"T_08a62076_5ea5_11ea_bea4_001a6b0cdb24level1_row148\" class=\"row_heading level1 row148\" >San Diego County, CA</th>\n",
       "                        <td id=\"T_08a62076_5ea5_11ea_bea4_001a6b0cdb24row148_col0\" class=\"data row148 col0\" >2.000000</td>\n",
       "                        <td id=\"T_08a62076_5ea5_11ea_bea4_001a6b0cdb24row148_col1\" class=\"data row148 col1\" >0.000000</td>\n",
       "                        <td id=\"T_08a62076_5ea5_11ea_bea4_001a6b0cdb24row148_col2\" class=\"data row148 col2\" >1.000000</td>\n",
       "            </tr>\n",
       "            <tr>\n",
       "                                <th id=\"T_08a62076_5ea5_11ea_bea4_001a6b0cdb24level1_row149\" class=\"row_heading level1 row149\" >San Mateo, CA</th>\n",
       "                        <td id=\"T_08a62076_5ea5_11ea_bea4_001a6b0cdb24row149_col0\" class=\"data row149 col0\" >1.000000</td>\n",
       "                        <td id=\"T_08a62076_5ea5_11ea_bea4_001a6b0cdb24row149_col1\" class=\"data row149 col1\" >0.000000</td>\n",
       "                        <td id=\"T_08a62076_5ea5_11ea_bea4_001a6b0cdb24row149_col2\" class=\"data row149 col2\" >0.000000</td>\n",
       "            </tr>\n",
       "            <tr>\n",
       "                                <th id=\"T_08a62076_5ea5_11ea_bea4_001a6b0cdb24level1_row150\" class=\"row_heading level1 row150\" >Santa Clara, CA</th>\n",
       "                        <td id=\"T_08a62076_5ea5_11ea_bea4_001a6b0cdb24row150_col0\" class=\"data row150 col0\" >9.000000</td>\n",
       "                        <td id=\"T_08a62076_5ea5_11ea_bea4_001a6b0cdb24row150_col1\" class=\"data row150 col1\" >0.000000</td>\n",
       "                        <td id=\"T_08a62076_5ea5_11ea_bea4_001a6b0cdb24row150_col2\" class=\"data row150 col2\" >1.000000</td>\n",
       "            </tr>\n",
       "            <tr>\n",
       "                                <th id=\"T_08a62076_5ea5_11ea_bea4_001a6b0cdb24level1_row151\" class=\"row_heading level1 row151\" >Sarasota, FL</th>\n",
       "                        <td id=\"T_08a62076_5ea5_11ea_bea4_001a6b0cdb24row151_col0\" class=\"data row151 col0\" >1.000000</td>\n",
       "                        <td id=\"T_08a62076_5ea5_11ea_bea4_001a6b0cdb24row151_col1\" class=\"data row151 col1\" >0.000000</td>\n",
       "                        <td id=\"T_08a62076_5ea5_11ea_bea4_001a6b0cdb24row151_col2\" class=\"data row151 col2\" >0.000000</td>\n",
       "            </tr>\n",
       "            <tr>\n",
       "                                <th id=\"T_08a62076_5ea5_11ea_bea4_001a6b0cdb24level1_row152\" class=\"row_heading level1 row152\" >Seattle, WA</th>\n",
       "                        <td id=\"T_08a62076_5ea5_11ea_bea4_001a6b0cdb24row152_col0\" class=\"data row152 col0\" >9.000000</td>\n",
       "                        <td id=\"T_08a62076_5ea5_11ea_bea4_001a6b0cdb24row152_col1\" class=\"data row152 col1\" >1.000000</td>\n",
       "                        <td id=\"T_08a62076_5ea5_11ea_bea4_001a6b0cdb24row152_col2\" class=\"data row152 col2\" >1.000000</td>\n",
       "            </tr>\n",
       "            <tr>\n",
       "                                <th id=\"T_08a62076_5ea5_11ea_bea4_001a6b0cdb24level1_row153\" class=\"row_heading level1 row153\" >Snohomish County, WA</th>\n",
       "                        <td id=\"T_08a62076_5ea5_11ea_bea4_001a6b0cdb24row153_col0\" class=\"data row153 col0\" >4.000000</td>\n",
       "                        <td id=\"T_08a62076_5ea5_11ea_bea4_001a6b0cdb24row153_col1\" class=\"data row153 col1\" >1.000000</td>\n",
       "                        <td id=\"T_08a62076_5ea5_11ea_bea4_001a6b0cdb24row153_col2\" class=\"data row153 col2\" >0.000000</td>\n",
       "            </tr>\n",
       "            <tr>\n",
       "                                <th id=\"T_08a62076_5ea5_11ea_bea4_001a6b0cdb24level1_row154\" class=\"row_heading level1 row154\" >Sonoma County, CA</th>\n",
       "                        <td id=\"T_08a62076_5ea5_11ea_bea4_001a6b0cdb24row154_col0\" class=\"data row154 col0\" >1.000000</td>\n",
       "                        <td id=\"T_08a62076_5ea5_11ea_bea4_001a6b0cdb24row154_col1\" class=\"data row154 col1\" >0.000000</td>\n",
       "                        <td id=\"T_08a62076_5ea5_11ea_bea4_001a6b0cdb24row154_col2\" class=\"data row154 col2\" >0.000000</td>\n",
       "            </tr>\n",
       "            <tr>\n",
       "                                <th id=\"T_08a62076_5ea5_11ea_bea4_001a6b0cdb24level1_row155\" class=\"row_heading level1 row155\" >Tempe, AZ</th>\n",
       "                        <td id=\"T_08a62076_5ea5_11ea_bea4_001a6b0cdb24row155_col0\" class=\"data row155 col0\" >1.000000</td>\n",
       "                        <td id=\"T_08a62076_5ea5_11ea_bea4_001a6b0cdb24row155_col1\" class=\"data row155 col1\" >0.000000</td>\n",
       "                        <td id=\"T_08a62076_5ea5_11ea_bea4_001a6b0cdb24row155_col2\" class=\"data row155 col2\" >1.000000</td>\n",
       "            </tr>\n",
       "            <tr>\n",
       "                                <th id=\"T_08a62076_5ea5_11ea_bea4_001a6b0cdb24level1_row156\" class=\"row_heading level1 row156\" >Travis, CA</th>\n",
       "                        <td id=\"T_08a62076_5ea5_11ea_bea4_001a6b0cdb24row156_col0\" class=\"data row156 col0\" >5.000000</td>\n",
       "                        <td id=\"T_08a62076_5ea5_11ea_bea4_001a6b0cdb24row156_col1\" class=\"data row156 col1\" >0.000000</td>\n",
       "                        <td id=\"T_08a62076_5ea5_11ea_bea4_001a6b0cdb24row156_col2\" class=\"data row156 col2\" >0.000000</td>\n",
       "            </tr>\n",
       "            <tr>\n",
       "                                <th id=\"T_08a62076_5ea5_11ea_bea4_001a6b0cdb24level1_row157\" class=\"row_heading level1 row157\" >Travis, CA (From Diamond Princess)</th>\n",
       "                        <td id=\"T_08a62076_5ea5_11ea_bea4_001a6b0cdb24row157_col0\" class=\"data row157 col0\" >5.000000</td>\n",
       "                        <td id=\"T_08a62076_5ea5_11ea_bea4_001a6b0cdb24row157_col1\" class=\"data row157 col1\" >0.000000</td>\n",
       "                        <td id=\"T_08a62076_5ea5_11ea_bea4_001a6b0cdb24row157_col2\" class=\"data row157 col2\" >0.000000</td>\n",
       "            </tr>\n",
       "            <tr>\n",
       "                                <th id=\"T_08a62076_5ea5_11ea_bea4_001a6b0cdb24level1_row158\" class=\"row_heading level1 row158\" >Umatilla, OR</th>\n",
       "                        <td id=\"T_08a62076_5ea5_11ea_bea4_001a6b0cdb24row158_col0\" class=\"data row158 col0\" >1.000000</td>\n",
       "                        <td id=\"T_08a62076_5ea5_11ea_bea4_001a6b0cdb24row158_col1\" class=\"data row158 col1\" >0.000000</td>\n",
       "                        <td id=\"T_08a62076_5ea5_11ea_bea4_001a6b0cdb24row158_col2\" class=\"data row158 col2\" >0.000000</td>\n",
       "            </tr>\n",
       "            <tr>\n",
       "                                <th id=\"T_08a62076_5ea5_11ea_bea4_001a6b0cdb24level1_row159\" class=\"row_heading level1 row159\" >Unassigned Location (From Diamond Princess)</th>\n",
       "                        <td id=\"T_08a62076_5ea5_11ea_bea4_001a6b0cdb24row159_col0\" class=\"data row159 col0\" >45.000000</td>\n",
       "                        <td id=\"T_08a62076_5ea5_11ea_bea4_001a6b0cdb24row159_col1\" class=\"data row159 col1\" >0.000000</td>\n",
       "                        <td id=\"T_08a62076_5ea5_11ea_bea4_001a6b0cdb24row159_col2\" class=\"data row159 col2\" >0.000000</td>\n",
       "            </tr>\n",
       "            <tr>\n",
       "                                <th id=\"T_08a62076_5ea5_11ea_bea4_001a6b0cdb24level1_row160\" class=\"row_heading level1 row160\" >Washington</th>\n",
       "                        <td id=\"T_08a62076_5ea5_11ea_bea4_001a6b0cdb24row160_col0\" class=\"data row160 col0\" >1.000000</td>\n",
       "                        <td id=\"T_08a62076_5ea5_11ea_bea4_001a6b0cdb24row160_col1\" class=\"data row160 col1\" >0.000000</td>\n",
       "                        <td id=\"T_08a62076_5ea5_11ea_bea4_001a6b0cdb24row160_col2\" class=\"data row160 col2\" >0.000000</td>\n",
       "            </tr>\n",
       "            <tr>\n",
       "                        <th id=\"T_08a62076_5ea5_11ea_bea4_001a6b0cdb24level0_row161\" class=\"row_heading level0 row161\" >United Arab Emirates</th>\n",
       "                        <th id=\"T_08a62076_5ea5_11ea_bea4_001a6b0cdb24level1_row161\" class=\"row_heading level1 row161\" >NA</th>\n",
       "                        <td id=\"T_08a62076_5ea5_11ea_bea4_001a6b0cdb24row161_col0\" class=\"data row161 col0\" >21.000000</td>\n",
       "                        <td id=\"T_08a62076_5ea5_11ea_bea4_001a6b0cdb24row161_col1\" class=\"data row161 col1\" >0.000000</td>\n",
       "                        <td id=\"T_08a62076_5ea5_11ea_bea4_001a6b0cdb24row161_col2\" class=\"data row161 col2\" >5.000000</td>\n",
       "            </tr>\n",
       "            <tr>\n",
       "                        <th id=\"T_08a62076_5ea5_11ea_bea4_001a6b0cdb24level0_row162\" class=\"row_heading level0 row162\" >Vietnam</th>\n",
       "                        <th id=\"T_08a62076_5ea5_11ea_bea4_001a6b0cdb24level1_row162\" class=\"row_heading level1 row162\" >NA</th>\n",
       "                        <td id=\"T_08a62076_5ea5_11ea_bea4_001a6b0cdb24row162_col0\" class=\"data row162 col0\" >16.000000</td>\n",
       "                        <td id=\"T_08a62076_5ea5_11ea_bea4_001a6b0cdb24row162_col1\" class=\"data row162 col1\" >0.000000</td>\n",
       "                        <td id=\"T_08a62076_5ea5_11ea_bea4_001a6b0cdb24row162_col2\" class=\"data row162 col2\" >16.000000</td>\n",
       "            </tr>\n",
       "    </tbody></table>"
      ],
      "text/plain": [
       "<pandas.io.formats.style.Styler at 0x1d157236438>"
      ]
     },
     "execution_count": 159,
     "metadata": {},
     "output_type": "execute_result"
    }
   ],
   "source": [
    "temp = ncov_data.groupby(['Country/Region', 'Province/State'])['Confirmed', 'Deaths', 'Recovered'].max()\n",
    "temp.style.background_gradient(cmap='Blues')"
   ]
  },
  {
   "cell_type": "code",
   "execution_count": 14,
   "metadata": {},
   "outputs": [],
   "source": [
    "#create a new dataframe with max date to get the latest cummulative data\n",
    "ncovd_latest=ncov_data[ncov_data['ObservationDate']==ncov_data['ObservationDate'].max()]\n"
   ]
  },
  {
   "cell_type": "code",
   "execution_count": 30,
   "metadata": {},
   "outputs": [
    {
     "name": "stderr",
     "output_type": "stream",
     "text": [
      "C:\\Users\\Alinahuda\\Anaconda3\\envs\\venv\\lib\\site-packages\\ipykernel_launcher.py:2: FutureWarning:\n",
      "\n",
      "Indexing with multiple keys (implicitly converted to a tuple of keys) will be deprecated, use a list instead.\n",
      "\n"
     ]
    },
    {
     "data": {
      "text/html": [
       "<style  type=\"text/css\" >\n",
       "    #T_93aabc80_5e86_11ea_b50a_001a6b0cdb24row0_col0 {\n",
       "            background-color:  #b40426;\n",
       "            color:  #f1f1f1;\n",
       "        }    #T_93aabc80_5e86_11ea_b50a_001a6b0cdb24row0_col1 {\n",
       "            background-color:  #b40426;\n",
       "            color:  #f1f1f1;\n",
       "        }    #T_93aabc80_5e86_11ea_b50a_001a6b0cdb24row0_col2 {\n",
       "            background-color:  #b40426;\n",
       "            color:  #f1f1f1;\n",
       "        }    #T_93aabc80_5e86_11ea_b50a_001a6b0cdb24row1_col0 {\n",
       "            background-color:  #4a63d3;\n",
       "            color:  #f1f1f1;\n",
       "        }    #T_93aabc80_5e86_11ea_b50a_001a6b0cdb24row1_col1 {\n",
       "            background-color:  #3d50c3;\n",
       "            color:  #f1f1f1;\n",
       "        }    #T_93aabc80_5e86_11ea_b50a_001a6b0cdb24row1_col2 {\n",
       "            background-color:  #3b4cc0;\n",
       "            color:  #f1f1f1;\n",
       "        }    #T_93aabc80_5e86_11ea_b50a_001a6b0cdb24row2_col0 {\n",
       "            background-color:  #4257c9;\n",
       "            color:  #f1f1f1;\n",
       "        }    #T_93aabc80_5e86_11ea_b50a_001a6b0cdb24row2_col1 {\n",
       "            background-color:  #3f53c6;\n",
       "            color:  #f1f1f1;\n",
       "        }    #T_93aabc80_5e86_11ea_b50a_001a6b0cdb24row2_col2 {\n",
       "            background-color:  #3b4cc0;\n",
       "            color:  #f1f1f1;\n",
       "        }    #T_93aabc80_5e86_11ea_b50a_001a6b0cdb24row3_col0 {\n",
       "            background-color:  #3f53c6;\n",
       "            color:  #f1f1f1;\n",
       "        }    #T_93aabc80_5e86_11ea_b50a_001a6b0cdb24row3_col1 {\n",
       "            background-color:  #4055c8;\n",
       "            color:  #f1f1f1;\n",
       "        }    #T_93aabc80_5e86_11ea_b50a_001a6b0cdb24row3_col2 {\n",
       "            background-color:  #3c4ec2;\n",
       "            color:  #f1f1f1;\n",
       "        }    #T_93aabc80_5e86_11ea_b50a_001a6b0cdb24row4_col0 {\n",
       "            background-color:  #3d50c3;\n",
       "            color:  #f1f1f1;\n",
       "        }    #T_93aabc80_5e86_11ea_b50a_001a6b0cdb24row4_col1 {\n",
       "            background-color:  #3b4cc0;\n",
       "            color:  #f1f1f1;\n",
       "        }    #T_93aabc80_5e86_11ea_b50a_001a6b0cdb24row4_col2 {\n",
       "            background-color:  #3b4cc0;\n",
       "            color:  #f1f1f1;\n",
       "        }    #T_93aabc80_5e86_11ea_b50a_001a6b0cdb24row5_col0 {\n",
       "            background-color:  #3b4cc0;\n",
       "            color:  #f1f1f1;\n",
       "        }    #T_93aabc80_5e86_11ea_b50a_001a6b0cdb24row5_col1 {\n",
       "            background-color:  #3b4cc0;\n",
       "            color:  #f1f1f1;\n",
       "        }    #T_93aabc80_5e86_11ea_b50a_001a6b0cdb24row5_col2 {\n",
       "            background-color:  #3b4cc0;\n",
       "            color:  #f1f1f1;\n",
       "        }    #T_93aabc80_5e86_11ea_b50a_001a6b0cdb24row6_col0 {\n",
       "            background-color:  #3b4cc0;\n",
       "            color:  #f1f1f1;\n",
       "        }    #T_93aabc80_5e86_11ea_b50a_001a6b0cdb24row6_col1 {\n",
       "            background-color:  #3b4cc0;\n",
       "            color:  #f1f1f1;\n",
       "        }    #T_93aabc80_5e86_11ea_b50a_001a6b0cdb24row6_col2 {\n",
       "            background-color:  #3b4cc0;\n",
       "            color:  #f1f1f1;\n",
       "        }    #T_93aabc80_5e86_11ea_b50a_001a6b0cdb24row7_col0 {\n",
       "            background-color:  #3b4cc0;\n",
       "            color:  #f1f1f1;\n",
       "        }    #T_93aabc80_5e86_11ea_b50a_001a6b0cdb24row7_col1 {\n",
       "            background-color:  #3b4cc0;\n",
       "            color:  #f1f1f1;\n",
       "        }    #T_93aabc80_5e86_11ea_b50a_001a6b0cdb24row7_col2 {\n",
       "            background-color:  #3b4cc0;\n",
       "            color:  #f1f1f1;\n",
       "        }    #T_93aabc80_5e86_11ea_b50a_001a6b0cdb24row8_col0 {\n",
       "            background-color:  #3b4cc0;\n",
       "            color:  #f1f1f1;\n",
       "        }    #T_93aabc80_5e86_11ea_b50a_001a6b0cdb24row8_col1 {\n",
       "            background-color:  #3b4cc0;\n",
       "            color:  #f1f1f1;\n",
       "        }    #T_93aabc80_5e86_11ea_b50a_001a6b0cdb24row8_col2 {\n",
       "            background-color:  #3b4cc0;\n",
       "            color:  #f1f1f1;\n",
       "        }    #T_93aabc80_5e86_11ea_b50a_001a6b0cdb24row9_col0 {\n",
       "            background-color:  #3b4cc0;\n",
       "            color:  #f1f1f1;\n",
       "        }    #T_93aabc80_5e86_11ea_b50a_001a6b0cdb24row9_col1 {\n",
       "            background-color:  #3b4cc0;\n",
       "            color:  #f1f1f1;\n",
       "        }    #T_93aabc80_5e86_11ea_b50a_001a6b0cdb24row9_col2 {\n",
       "            background-color:  #3b4cc0;\n",
       "            color:  #f1f1f1;\n",
       "        }    #T_93aabc80_5e86_11ea_b50a_001a6b0cdb24row10_col0 {\n",
       "            background-color:  #3b4cc0;\n",
       "            color:  #f1f1f1;\n",
       "        }    #T_93aabc80_5e86_11ea_b50a_001a6b0cdb24row10_col1 {\n",
       "            background-color:  #3b4cc0;\n",
       "            color:  #f1f1f1;\n",
       "        }    #T_93aabc80_5e86_11ea_b50a_001a6b0cdb24row10_col2 {\n",
       "            background-color:  #3b4cc0;\n",
       "            color:  #f1f1f1;\n",
       "        }    #T_93aabc80_5e86_11ea_b50a_001a6b0cdb24row11_col0 {\n",
       "            background-color:  #3b4cc0;\n",
       "            color:  #f1f1f1;\n",
       "        }    #T_93aabc80_5e86_11ea_b50a_001a6b0cdb24row11_col1 {\n",
       "            background-color:  #3b4cc0;\n",
       "            color:  #f1f1f1;\n",
       "        }    #T_93aabc80_5e86_11ea_b50a_001a6b0cdb24row11_col2 {\n",
       "            background-color:  #3b4cc0;\n",
       "            color:  #f1f1f1;\n",
       "        }    #T_93aabc80_5e86_11ea_b50a_001a6b0cdb24row12_col0 {\n",
       "            background-color:  #3b4cc0;\n",
       "            color:  #f1f1f1;\n",
       "        }    #T_93aabc80_5e86_11ea_b50a_001a6b0cdb24row12_col1 {\n",
       "            background-color:  #3b4cc0;\n",
       "            color:  #f1f1f1;\n",
       "        }    #T_93aabc80_5e86_11ea_b50a_001a6b0cdb24row12_col2 {\n",
       "            background-color:  #3b4cc0;\n",
       "            color:  #f1f1f1;\n",
       "        }    #T_93aabc80_5e86_11ea_b50a_001a6b0cdb24row13_col0 {\n",
       "            background-color:  #3b4cc0;\n",
       "            color:  #f1f1f1;\n",
       "        }    #T_93aabc80_5e86_11ea_b50a_001a6b0cdb24row13_col1 {\n",
       "            background-color:  #3b4cc0;\n",
       "            color:  #f1f1f1;\n",
       "        }    #T_93aabc80_5e86_11ea_b50a_001a6b0cdb24row13_col2 {\n",
       "            background-color:  #3b4cc0;\n",
       "            color:  #f1f1f1;\n",
       "        }    #T_93aabc80_5e86_11ea_b50a_001a6b0cdb24row14_col0 {\n",
       "            background-color:  #3b4cc0;\n",
       "            color:  #f1f1f1;\n",
       "        }    #T_93aabc80_5e86_11ea_b50a_001a6b0cdb24row14_col1 {\n",
       "            background-color:  #3b4cc0;\n",
       "            color:  #f1f1f1;\n",
       "        }    #T_93aabc80_5e86_11ea_b50a_001a6b0cdb24row14_col2 {\n",
       "            background-color:  #3b4cc0;\n",
       "            color:  #f1f1f1;\n",
       "        }    #T_93aabc80_5e86_11ea_b50a_001a6b0cdb24row15_col0 {\n",
       "            background-color:  #3b4cc0;\n",
       "            color:  #f1f1f1;\n",
       "        }    #T_93aabc80_5e86_11ea_b50a_001a6b0cdb24row15_col1 {\n",
       "            background-color:  #3b4cc0;\n",
       "            color:  #f1f1f1;\n",
       "        }    #T_93aabc80_5e86_11ea_b50a_001a6b0cdb24row15_col2 {\n",
       "            background-color:  #3b4cc0;\n",
       "            color:  #f1f1f1;\n",
       "        }    #T_93aabc80_5e86_11ea_b50a_001a6b0cdb24row16_col0 {\n",
       "            background-color:  #3b4cc0;\n",
       "            color:  #f1f1f1;\n",
       "        }    #T_93aabc80_5e86_11ea_b50a_001a6b0cdb24row16_col1 {\n",
       "            background-color:  #3b4cc0;\n",
       "            color:  #f1f1f1;\n",
       "        }    #T_93aabc80_5e86_11ea_b50a_001a6b0cdb24row16_col2 {\n",
       "            background-color:  #3b4cc0;\n",
       "            color:  #f1f1f1;\n",
       "        }    #T_93aabc80_5e86_11ea_b50a_001a6b0cdb24row17_col0 {\n",
       "            background-color:  #3b4cc0;\n",
       "            color:  #f1f1f1;\n",
       "        }    #T_93aabc80_5e86_11ea_b50a_001a6b0cdb24row17_col1 {\n",
       "            background-color:  #3b4cc0;\n",
       "            color:  #f1f1f1;\n",
       "        }    #T_93aabc80_5e86_11ea_b50a_001a6b0cdb24row17_col2 {\n",
       "            background-color:  #3b4cc0;\n",
       "            color:  #f1f1f1;\n",
       "        }    #T_93aabc80_5e86_11ea_b50a_001a6b0cdb24row18_col0 {\n",
       "            background-color:  #3b4cc0;\n",
       "            color:  #f1f1f1;\n",
       "        }    #T_93aabc80_5e86_11ea_b50a_001a6b0cdb24row18_col1 {\n",
       "            background-color:  #3b4cc0;\n",
       "            color:  #f1f1f1;\n",
       "        }    #T_93aabc80_5e86_11ea_b50a_001a6b0cdb24row18_col2 {\n",
       "            background-color:  #3b4cc0;\n",
       "            color:  #f1f1f1;\n",
       "        }    #T_93aabc80_5e86_11ea_b50a_001a6b0cdb24row19_col0 {\n",
       "            background-color:  #3b4cc0;\n",
       "            color:  #f1f1f1;\n",
       "        }    #T_93aabc80_5e86_11ea_b50a_001a6b0cdb24row19_col1 {\n",
       "            background-color:  #3b4cc0;\n",
       "            color:  #f1f1f1;\n",
       "        }    #T_93aabc80_5e86_11ea_b50a_001a6b0cdb24row19_col2 {\n",
       "            background-color:  #3b4cc0;\n",
       "            color:  #f1f1f1;\n",
       "        }    #T_93aabc80_5e86_11ea_b50a_001a6b0cdb24row20_col0 {\n",
       "            background-color:  #3b4cc0;\n",
       "            color:  #f1f1f1;\n",
       "        }    #T_93aabc80_5e86_11ea_b50a_001a6b0cdb24row20_col1 {\n",
       "            background-color:  #3b4cc0;\n",
       "            color:  #f1f1f1;\n",
       "        }    #T_93aabc80_5e86_11ea_b50a_001a6b0cdb24row20_col2 {\n",
       "            background-color:  #3b4cc0;\n",
       "            color:  #f1f1f1;\n",
       "        }    #T_93aabc80_5e86_11ea_b50a_001a6b0cdb24row21_col0 {\n",
       "            background-color:  #3b4cc0;\n",
       "            color:  #f1f1f1;\n",
       "        }    #T_93aabc80_5e86_11ea_b50a_001a6b0cdb24row21_col1 {\n",
       "            background-color:  #3b4cc0;\n",
       "            color:  #f1f1f1;\n",
       "        }    #T_93aabc80_5e86_11ea_b50a_001a6b0cdb24row21_col2 {\n",
       "            background-color:  #3b4cc0;\n",
       "            color:  #f1f1f1;\n",
       "        }    #T_93aabc80_5e86_11ea_b50a_001a6b0cdb24row22_col0 {\n",
       "            background-color:  #3b4cc0;\n",
       "            color:  #f1f1f1;\n",
       "        }    #T_93aabc80_5e86_11ea_b50a_001a6b0cdb24row22_col1 {\n",
       "            background-color:  #3b4cc0;\n",
       "            color:  #f1f1f1;\n",
       "        }    #T_93aabc80_5e86_11ea_b50a_001a6b0cdb24row22_col2 {\n",
       "            background-color:  #3b4cc0;\n",
       "            color:  #f1f1f1;\n",
       "        }    #T_93aabc80_5e86_11ea_b50a_001a6b0cdb24row23_col0 {\n",
       "            background-color:  #3b4cc0;\n",
       "            color:  #f1f1f1;\n",
       "        }    #T_93aabc80_5e86_11ea_b50a_001a6b0cdb24row23_col1 {\n",
       "            background-color:  #3b4cc0;\n",
       "            color:  #f1f1f1;\n",
       "        }    #T_93aabc80_5e86_11ea_b50a_001a6b0cdb24row23_col2 {\n",
       "            background-color:  #3b4cc0;\n",
       "            color:  #f1f1f1;\n",
       "        }    #T_93aabc80_5e86_11ea_b50a_001a6b0cdb24row24_col0 {\n",
       "            background-color:  #3b4cc0;\n",
       "            color:  #f1f1f1;\n",
       "        }    #T_93aabc80_5e86_11ea_b50a_001a6b0cdb24row24_col1 {\n",
       "            background-color:  #3b4cc0;\n",
       "            color:  #f1f1f1;\n",
       "        }    #T_93aabc80_5e86_11ea_b50a_001a6b0cdb24row24_col2 {\n",
       "            background-color:  #3b4cc0;\n",
       "            color:  #f1f1f1;\n",
       "        }    #T_93aabc80_5e86_11ea_b50a_001a6b0cdb24row25_col0 {\n",
       "            background-color:  #3b4cc0;\n",
       "            color:  #f1f1f1;\n",
       "        }    #T_93aabc80_5e86_11ea_b50a_001a6b0cdb24row25_col1 {\n",
       "            background-color:  #3b4cc0;\n",
       "            color:  #f1f1f1;\n",
       "        }    #T_93aabc80_5e86_11ea_b50a_001a6b0cdb24row25_col2 {\n",
       "            background-color:  #3b4cc0;\n",
       "            color:  #f1f1f1;\n",
       "        }    #T_93aabc80_5e86_11ea_b50a_001a6b0cdb24row26_col0 {\n",
       "            background-color:  #3b4cc0;\n",
       "            color:  #f1f1f1;\n",
       "        }    #T_93aabc80_5e86_11ea_b50a_001a6b0cdb24row26_col1 {\n",
       "            background-color:  #3b4cc0;\n",
       "            color:  #f1f1f1;\n",
       "        }    #T_93aabc80_5e86_11ea_b50a_001a6b0cdb24row26_col2 {\n",
       "            background-color:  #3b4cc0;\n",
       "            color:  #f1f1f1;\n",
       "        }    #T_93aabc80_5e86_11ea_b50a_001a6b0cdb24row27_col0 {\n",
       "            background-color:  #3b4cc0;\n",
       "            color:  #f1f1f1;\n",
       "        }    #T_93aabc80_5e86_11ea_b50a_001a6b0cdb24row27_col1 {\n",
       "            background-color:  #3b4cc0;\n",
       "            color:  #f1f1f1;\n",
       "        }    #T_93aabc80_5e86_11ea_b50a_001a6b0cdb24row27_col2 {\n",
       "            background-color:  #3b4cc0;\n",
       "            color:  #f1f1f1;\n",
       "        }    #T_93aabc80_5e86_11ea_b50a_001a6b0cdb24row28_col0 {\n",
       "            background-color:  #3b4cc0;\n",
       "            color:  #f1f1f1;\n",
       "        }    #T_93aabc80_5e86_11ea_b50a_001a6b0cdb24row28_col1 {\n",
       "            background-color:  #3b4cc0;\n",
       "            color:  #f1f1f1;\n",
       "        }    #T_93aabc80_5e86_11ea_b50a_001a6b0cdb24row28_col2 {\n",
       "            background-color:  #3b4cc0;\n",
       "            color:  #f1f1f1;\n",
       "        }    #T_93aabc80_5e86_11ea_b50a_001a6b0cdb24row29_col0 {\n",
       "            background-color:  #3b4cc0;\n",
       "            color:  #f1f1f1;\n",
       "        }    #T_93aabc80_5e86_11ea_b50a_001a6b0cdb24row29_col1 {\n",
       "            background-color:  #3b4cc0;\n",
       "            color:  #f1f1f1;\n",
       "        }    #T_93aabc80_5e86_11ea_b50a_001a6b0cdb24row29_col2 {\n",
       "            background-color:  #3b4cc0;\n",
       "            color:  #f1f1f1;\n",
       "        }    #T_93aabc80_5e86_11ea_b50a_001a6b0cdb24row30_col0 {\n",
       "            background-color:  #3b4cc0;\n",
       "            color:  #f1f1f1;\n",
       "        }    #T_93aabc80_5e86_11ea_b50a_001a6b0cdb24row30_col1 {\n",
       "            background-color:  #3b4cc0;\n",
       "            color:  #f1f1f1;\n",
       "        }    #T_93aabc80_5e86_11ea_b50a_001a6b0cdb24row30_col2 {\n",
       "            background-color:  #3b4cc0;\n",
       "            color:  #f1f1f1;\n",
       "        }    #T_93aabc80_5e86_11ea_b50a_001a6b0cdb24row31_col0 {\n",
       "            background-color:  #3b4cc0;\n",
       "            color:  #f1f1f1;\n",
       "        }    #T_93aabc80_5e86_11ea_b50a_001a6b0cdb24row31_col1 {\n",
       "            background-color:  #3b4cc0;\n",
       "            color:  #f1f1f1;\n",
       "        }    #T_93aabc80_5e86_11ea_b50a_001a6b0cdb24row31_col2 {\n",
       "            background-color:  #3b4cc0;\n",
       "            color:  #f1f1f1;\n",
       "        }    #T_93aabc80_5e86_11ea_b50a_001a6b0cdb24row32_col0 {\n",
       "            background-color:  #3b4cc0;\n",
       "            color:  #f1f1f1;\n",
       "        }    #T_93aabc80_5e86_11ea_b50a_001a6b0cdb24row32_col1 {\n",
       "            background-color:  #3b4cc0;\n",
       "            color:  #f1f1f1;\n",
       "        }    #T_93aabc80_5e86_11ea_b50a_001a6b0cdb24row32_col2 {\n",
       "            background-color:  #3b4cc0;\n",
       "            color:  #f1f1f1;\n",
       "        }    #T_93aabc80_5e86_11ea_b50a_001a6b0cdb24row33_col0 {\n",
       "            background-color:  #3b4cc0;\n",
       "            color:  #f1f1f1;\n",
       "        }    #T_93aabc80_5e86_11ea_b50a_001a6b0cdb24row33_col1 {\n",
       "            background-color:  #3b4cc0;\n",
       "            color:  #f1f1f1;\n",
       "        }    #T_93aabc80_5e86_11ea_b50a_001a6b0cdb24row33_col2 {\n",
       "            background-color:  #3b4cc0;\n",
       "            color:  #f1f1f1;\n",
       "        }    #T_93aabc80_5e86_11ea_b50a_001a6b0cdb24row34_col0 {\n",
       "            background-color:  #3b4cc0;\n",
       "            color:  #f1f1f1;\n",
       "        }    #T_93aabc80_5e86_11ea_b50a_001a6b0cdb24row34_col1 {\n",
       "            background-color:  #3b4cc0;\n",
       "            color:  #f1f1f1;\n",
       "        }    #T_93aabc80_5e86_11ea_b50a_001a6b0cdb24row34_col2 {\n",
       "            background-color:  #3b4cc0;\n",
       "            color:  #f1f1f1;\n",
       "        }    #T_93aabc80_5e86_11ea_b50a_001a6b0cdb24row35_col0 {\n",
       "            background-color:  #3b4cc0;\n",
       "            color:  #f1f1f1;\n",
       "        }    #T_93aabc80_5e86_11ea_b50a_001a6b0cdb24row35_col1 {\n",
       "            background-color:  #3b4cc0;\n",
       "            color:  #f1f1f1;\n",
       "        }    #T_93aabc80_5e86_11ea_b50a_001a6b0cdb24row35_col2 {\n",
       "            background-color:  #3b4cc0;\n",
       "            color:  #f1f1f1;\n",
       "        }    #T_93aabc80_5e86_11ea_b50a_001a6b0cdb24row36_col0 {\n",
       "            background-color:  #3b4cc0;\n",
       "            color:  #f1f1f1;\n",
       "        }    #T_93aabc80_5e86_11ea_b50a_001a6b0cdb24row36_col1 {\n",
       "            background-color:  #3b4cc0;\n",
       "            color:  #f1f1f1;\n",
       "        }    #T_93aabc80_5e86_11ea_b50a_001a6b0cdb24row36_col2 {\n",
       "            background-color:  #3b4cc0;\n",
       "            color:  #f1f1f1;\n",
       "        }    #T_93aabc80_5e86_11ea_b50a_001a6b0cdb24row37_col0 {\n",
       "            background-color:  #3b4cc0;\n",
       "            color:  #f1f1f1;\n",
       "        }    #T_93aabc80_5e86_11ea_b50a_001a6b0cdb24row37_col1 {\n",
       "            background-color:  #3b4cc0;\n",
       "            color:  #f1f1f1;\n",
       "        }    #T_93aabc80_5e86_11ea_b50a_001a6b0cdb24row37_col2 {\n",
       "            background-color:  #3b4cc0;\n",
       "            color:  #f1f1f1;\n",
       "        }    #T_93aabc80_5e86_11ea_b50a_001a6b0cdb24row38_col0 {\n",
       "            background-color:  #3b4cc0;\n",
       "            color:  #f1f1f1;\n",
       "        }    #T_93aabc80_5e86_11ea_b50a_001a6b0cdb24row38_col1 {\n",
       "            background-color:  #3b4cc0;\n",
       "            color:  #f1f1f1;\n",
       "        }    #T_93aabc80_5e86_11ea_b50a_001a6b0cdb24row38_col2 {\n",
       "            background-color:  #3b4cc0;\n",
       "            color:  #f1f1f1;\n",
       "        }    #T_93aabc80_5e86_11ea_b50a_001a6b0cdb24row39_col0 {\n",
       "            background-color:  #3b4cc0;\n",
       "            color:  #f1f1f1;\n",
       "        }    #T_93aabc80_5e86_11ea_b50a_001a6b0cdb24row39_col1 {\n",
       "            background-color:  #3b4cc0;\n",
       "            color:  #f1f1f1;\n",
       "        }    #T_93aabc80_5e86_11ea_b50a_001a6b0cdb24row39_col2 {\n",
       "            background-color:  #3b4cc0;\n",
       "            color:  #f1f1f1;\n",
       "        }    #T_93aabc80_5e86_11ea_b50a_001a6b0cdb24row40_col0 {\n",
       "            background-color:  #3b4cc0;\n",
       "            color:  #f1f1f1;\n",
       "        }    #T_93aabc80_5e86_11ea_b50a_001a6b0cdb24row40_col1 {\n",
       "            background-color:  #3b4cc0;\n",
       "            color:  #f1f1f1;\n",
       "        }    #T_93aabc80_5e86_11ea_b50a_001a6b0cdb24row40_col2 {\n",
       "            background-color:  #3b4cc0;\n",
       "            color:  #f1f1f1;\n",
       "        }    #T_93aabc80_5e86_11ea_b50a_001a6b0cdb24row41_col0 {\n",
       "            background-color:  #3b4cc0;\n",
       "            color:  #f1f1f1;\n",
       "        }    #T_93aabc80_5e86_11ea_b50a_001a6b0cdb24row41_col1 {\n",
       "            background-color:  #3b4cc0;\n",
       "            color:  #f1f1f1;\n",
       "        }    #T_93aabc80_5e86_11ea_b50a_001a6b0cdb24row41_col2 {\n",
       "            background-color:  #3b4cc0;\n",
       "            color:  #f1f1f1;\n",
       "        }    #T_93aabc80_5e86_11ea_b50a_001a6b0cdb24row42_col0 {\n",
       "            background-color:  #3b4cc0;\n",
       "            color:  #f1f1f1;\n",
       "        }    #T_93aabc80_5e86_11ea_b50a_001a6b0cdb24row42_col1 {\n",
       "            background-color:  #3b4cc0;\n",
       "            color:  #f1f1f1;\n",
       "        }    #T_93aabc80_5e86_11ea_b50a_001a6b0cdb24row42_col2 {\n",
       "            background-color:  #3b4cc0;\n",
       "            color:  #f1f1f1;\n",
       "        }    #T_93aabc80_5e86_11ea_b50a_001a6b0cdb24row43_col0 {\n",
       "            background-color:  #3b4cc0;\n",
       "            color:  #f1f1f1;\n",
       "        }    #T_93aabc80_5e86_11ea_b50a_001a6b0cdb24row43_col1 {\n",
       "            background-color:  #3b4cc0;\n",
       "            color:  #f1f1f1;\n",
       "        }    #T_93aabc80_5e86_11ea_b50a_001a6b0cdb24row43_col2 {\n",
       "            background-color:  #3b4cc0;\n",
       "            color:  #f1f1f1;\n",
       "        }    #T_93aabc80_5e86_11ea_b50a_001a6b0cdb24row44_col0 {\n",
       "            background-color:  #3b4cc0;\n",
       "            color:  #f1f1f1;\n",
       "        }    #T_93aabc80_5e86_11ea_b50a_001a6b0cdb24row44_col1 {\n",
       "            background-color:  #3b4cc0;\n",
       "            color:  #f1f1f1;\n",
       "        }    #T_93aabc80_5e86_11ea_b50a_001a6b0cdb24row44_col2 {\n",
       "            background-color:  #3b4cc0;\n",
       "            color:  #f1f1f1;\n",
       "        }    #T_93aabc80_5e86_11ea_b50a_001a6b0cdb24row45_col0 {\n",
       "            background-color:  #3b4cc0;\n",
       "            color:  #f1f1f1;\n",
       "        }    #T_93aabc80_5e86_11ea_b50a_001a6b0cdb24row45_col1 {\n",
       "            background-color:  #3b4cc0;\n",
       "            color:  #f1f1f1;\n",
       "        }    #T_93aabc80_5e86_11ea_b50a_001a6b0cdb24row45_col2 {\n",
       "            background-color:  #3b4cc0;\n",
       "            color:  #f1f1f1;\n",
       "        }    #T_93aabc80_5e86_11ea_b50a_001a6b0cdb24row46_col0 {\n",
       "            background-color:  #3b4cc0;\n",
       "            color:  #f1f1f1;\n",
       "        }    #T_93aabc80_5e86_11ea_b50a_001a6b0cdb24row46_col1 {\n",
       "            background-color:  #3b4cc0;\n",
       "            color:  #f1f1f1;\n",
       "        }    #T_93aabc80_5e86_11ea_b50a_001a6b0cdb24row46_col2 {\n",
       "            background-color:  #3b4cc0;\n",
       "            color:  #f1f1f1;\n",
       "        }    #T_93aabc80_5e86_11ea_b50a_001a6b0cdb24row47_col0 {\n",
       "            background-color:  #3b4cc0;\n",
       "            color:  #f1f1f1;\n",
       "        }    #T_93aabc80_5e86_11ea_b50a_001a6b0cdb24row47_col1 {\n",
       "            background-color:  #3b4cc0;\n",
       "            color:  #f1f1f1;\n",
       "        }    #T_93aabc80_5e86_11ea_b50a_001a6b0cdb24row47_col2 {\n",
       "            background-color:  #3b4cc0;\n",
       "            color:  #f1f1f1;\n",
       "        }    #T_93aabc80_5e86_11ea_b50a_001a6b0cdb24row48_col0 {\n",
       "            background-color:  #3b4cc0;\n",
       "            color:  #f1f1f1;\n",
       "        }    #T_93aabc80_5e86_11ea_b50a_001a6b0cdb24row48_col1 {\n",
       "            background-color:  #3b4cc0;\n",
       "            color:  #f1f1f1;\n",
       "        }    #T_93aabc80_5e86_11ea_b50a_001a6b0cdb24row48_col2 {\n",
       "            background-color:  #3b4cc0;\n",
       "            color:  #f1f1f1;\n",
       "        }    #T_93aabc80_5e86_11ea_b50a_001a6b0cdb24row49_col0 {\n",
       "            background-color:  #3b4cc0;\n",
       "            color:  #f1f1f1;\n",
       "        }    #T_93aabc80_5e86_11ea_b50a_001a6b0cdb24row49_col1 {\n",
       "            background-color:  #3b4cc0;\n",
       "            color:  #f1f1f1;\n",
       "        }    #T_93aabc80_5e86_11ea_b50a_001a6b0cdb24row49_col2 {\n",
       "            background-color:  #3b4cc0;\n",
       "            color:  #f1f1f1;\n",
       "        }    #T_93aabc80_5e86_11ea_b50a_001a6b0cdb24row50_col0 {\n",
       "            background-color:  #3b4cc0;\n",
       "            color:  #f1f1f1;\n",
       "        }    #T_93aabc80_5e86_11ea_b50a_001a6b0cdb24row50_col1 {\n",
       "            background-color:  #3b4cc0;\n",
       "            color:  #f1f1f1;\n",
       "        }    #T_93aabc80_5e86_11ea_b50a_001a6b0cdb24row50_col2 {\n",
       "            background-color:  #3b4cc0;\n",
       "            color:  #f1f1f1;\n",
       "        }    #T_93aabc80_5e86_11ea_b50a_001a6b0cdb24row51_col0 {\n",
       "            background-color:  #3b4cc0;\n",
       "            color:  #f1f1f1;\n",
       "        }    #T_93aabc80_5e86_11ea_b50a_001a6b0cdb24row51_col1 {\n",
       "            background-color:  #3b4cc0;\n",
       "            color:  #f1f1f1;\n",
       "        }    #T_93aabc80_5e86_11ea_b50a_001a6b0cdb24row51_col2 {\n",
       "            background-color:  #3b4cc0;\n",
       "            color:  #f1f1f1;\n",
       "        }    #T_93aabc80_5e86_11ea_b50a_001a6b0cdb24row52_col0 {\n",
       "            background-color:  #3b4cc0;\n",
       "            color:  #f1f1f1;\n",
       "        }    #T_93aabc80_5e86_11ea_b50a_001a6b0cdb24row52_col1 {\n",
       "            background-color:  #3b4cc0;\n",
       "            color:  #f1f1f1;\n",
       "        }    #T_93aabc80_5e86_11ea_b50a_001a6b0cdb24row52_col2 {\n",
       "            background-color:  #3b4cc0;\n",
       "            color:  #f1f1f1;\n",
       "        }    #T_93aabc80_5e86_11ea_b50a_001a6b0cdb24row53_col0 {\n",
       "            background-color:  #3b4cc0;\n",
       "            color:  #f1f1f1;\n",
       "        }    #T_93aabc80_5e86_11ea_b50a_001a6b0cdb24row53_col1 {\n",
       "            background-color:  #3b4cc0;\n",
       "            color:  #f1f1f1;\n",
       "        }    #T_93aabc80_5e86_11ea_b50a_001a6b0cdb24row53_col2 {\n",
       "            background-color:  #3b4cc0;\n",
       "            color:  #f1f1f1;\n",
       "        }    #T_93aabc80_5e86_11ea_b50a_001a6b0cdb24row54_col0 {\n",
       "            background-color:  #3b4cc0;\n",
       "            color:  #f1f1f1;\n",
       "        }    #T_93aabc80_5e86_11ea_b50a_001a6b0cdb24row54_col1 {\n",
       "            background-color:  #3b4cc0;\n",
       "            color:  #f1f1f1;\n",
       "        }    #T_93aabc80_5e86_11ea_b50a_001a6b0cdb24row54_col2 {\n",
       "            background-color:  #3b4cc0;\n",
       "            color:  #f1f1f1;\n",
       "        }    #T_93aabc80_5e86_11ea_b50a_001a6b0cdb24row55_col0 {\n",
       "            background-color:  #3b4cc0;\n",
       "            color:  #f1f1f1;\n",
       "        }    #T_93aabc80_5e86_11ea_b50a_001a6b0cdb24row55_col1 {\n",
       "            background-color:  #3b4cc0;\n",
       "            color:  #f1f1f1;\n",
       "        }    #T_93aabc80_5e86_11ea_b50a_001a6b0cdb24row55_col2 {\n",
       "            background-color:  #3b4cc0;\n",
       "            color:  #f1f1f1;\n",
       "        }    #T_93aabc80_5e86_11ea_b50a_001a6b0cdb24row56_col0 {\n",
       "            background-color:  #3b4cc0;\n",
       "            color:  #f1f1f1;\n",
       "        }    #T_93aabc80_5e86_11ea_b50a_001a6b0cdb24row56_col1 {\n",
       "            background-color:  #3b4cc0;\n",
       "            color:  #f1f1f1;\n",
       "        }    #T_93aabc80_5e86_11ea_b50a_001a6b0cdb24row56_col2 {\n",
       "            background-color:  #3b4cc0;\n",
       "            color:  #f1f1f1;\n",
       "        }    #T_93aabc80_5e86_11ea_b50a_001a6b0cdb24row57_col0 {\n",
       "            background-color:  #3b4cc0;\n",
       "            color:  #f1f1f1;\n",
       "        }    #T_93aabc80_5e86_11ea_b50a_001a6b0cdb24row57_col1 {\n",
       "            background-color:  #3b4cc0;\n",
       "            color:  #f1f1f1;\n",
       "        }    #T_93aabc80_5e86_11ea_b50a_001a6b0cdb24row57_col2 {\n",
       "            background-color:  #3b4cc0;\n",
       "            color:  #f1f1f1;\n",
       "        }    #T_93aabc80_5e86_11ea_b50a_001a6b0cdb24row58_col0 {\n",
       "            background-color:  #3b4cc0;\n",
       "            color:  #f1f1f1;\n",
       "        }    #T_93aabc80_5e86_11ea_b50a_001a6b0cdb24row58_col1 {\n",
       "            background-color:  #3b4cc0;\n",
       "            color:  #f1f1f1;\n",
       "        }    #T_93aabc80_5e86_11ea_b50a_001a6b0cdb24row58_col2 {\n",
       "            background-color:  #3b4cc0;\n",
       "            color:  #f1f1f1;\n",
       "        }    #T_93aabc80_5e86_11ea_b50a_001a6b0cdb24row59_col0 {\n",
       "            background-color:  #3b4cc0;\n",
       "            color:  #f1f1f1;\n",
       "        }    #T_93aabc80_5e86_11ea_b50a_001a6b0cdb24row59_col1 {\n",
       "            background-color:  #3b4cc0;\n",
       "            color:  #f1f1f1;\n",
       "        }    #T_93aabc80_5e86_11ea_b50a_001a6b0cdb24row59_col2 {\n",
       "            background-color:  #3b4cc0;\n",
       "            color:  #f1f1f1;\n",
       "        }    #T_93aabc80_5e86_11ea_b50a_001a6b0cdb24row60_col0 {\n",
       "            background-color:  #3b4cc0;\n",
       "            color:  #f1f1f1;\n",
       "        }    #T_93aabc80_5e86_11ea_b50a_001a6b0cdb24row60_col1 {\n",
       "            background-color:  #3b4cc0;\n",
       "            color:  #f1f1f1;\n",
       "        }    #T_93aabc80_5e86_11ea_b50a_001a6b0cdb24row60_col2 {\n",
       "            background-color:  #3b4cc0;\n",
       "            color:  #f1f1f1;\n",
       "        }    #T_93aabc80_5e86_11ea_b50a_001a6b0cdb24row61_col0 {\n",
       "            background-color:  #3b4cc0;\n",
       "            color:  #f1f1f1;\n",
       "        }    #T_93aabc80_5e86_11ea_b50a_001a6b0cdb24row61_col1 {\n",
       "            background-color:  #3b4cc0;\n",
       "            color:  #f1f1f1;\n",
       "        }    #T_93aabc80_5e86_11ea_b50a_001a6b0cdb24row61_col2 {\n",
       "            background-color:  #3b4cc0;\n",
       "            color:  #f1f1f1;\n",
       "        }    #T_93aabc80_5e86_11ea_b50a_001a6b0cdb24row62_col0 {\n",
       "            background-color:  #3b4cc0;\n",
       "            color:  #f1f1f1;\n",
       "        }    #T_93aabc80_5e86_11ea_b50a_001a6b0cdb24row62_col1 {\n",
       "            background-color:  #3b4cc0;\n",
       "            color:  #f1f1f1;\n",
       "        }    #T_93aabc80_5e86_11ea_b50a_001a6b0cdb24row62_col2 {\n",
       "            background-color:  #3b4cc0;\n",
       "            color:  #f1f1f1;\n",
       "        }    #T_93aabc80_5e86_11ea_b50a_001a6b0cdb24row63_col0 {\n",
       "            background-color:  #3b4cc0;\n",
       "            color:  #f1f1f1;\n",
       "        }    #T_93aabc80_5e86_11ea_b50a_001a6b0cdb24row63_col1 {\n",
       "            background-color:  #3b4cc0;\n",
       "            color:  #f1f1f1;\n",
       "        }    #T_93aabc80_5e86_11ea_b50a_001a6b0cdb24row63_col2 {\n",
       "            background-color:  #3b4cc0;\n",
       "            color:  #f1f1f1;\n",
       "        }    #T_93aabc80_5e86_11ea_b50a_001a6b0cdb24row64_col0 {\n",
       "            background-color:  #3b4cc0;\n",
       "            color:  #f1f1f1;\n",
       "        }    #T_93aabc80_5e86_11ea_b50a_001a6b0cdb24row64_col1 {\n",
       "            background-color:  #3b4cc0;\n",
       "            color:  #f1f1f1;\n",
       "        }    #T_93aabc80_5e86_11ea_b50a_001a6b0cdb24row64_col2 {\n",
       "            background-color:  #3b4cc0;\n",
       "            color:  #f1f1f1;\n",
       "        }    #T_93aabc80_5e86_11ea_b50a_001a6b0cdb24row65_col0 {\n",
       "            background-color:  #3b4cc0;\n",
       "            color:  #f1f1f1;\n",
       "        }    #T_93aabc80_5e86_11ea_b50a_001a6b0cdb24row65_col1 {\n",
       "            background-color:  #3b4cc0;\n",
       "            color:  #f1f1f1;\n",
       "        }    #T_93aabc80_5e86_11ea_b50a_001a6b0cdb24row65_col2 {\n",
       "            background-color:  #3b4cc0;\n",
       "            color:  #f1f1f1;\n",
       "        }    #T_93aabc80_5e86_11ea_b50a_001a6b0cdb24row66_col0 {\n",
       "            background-color:  #3b4cc0;\n",
       "            color:  #f1f1f1;\n",
       "        }    #T_93aabc80_5e86_11ea_b50a_001a6b0cdb24row66_col1 {\n",
       "            background-color:  #3b4cc0;\n",
       "            color:  #f1f1f1;\n",
       "        }    #T_93aabc80_5e86_11ea_b50a_001a6b0cdb24row66_col2 {\n",
       "            background-color:  #3b4cc0;\n",
       "            color:  #f1f1f1;\n",
       "        }    #T_93aabc80_5e86_11ea_b50a_001a6b0cdb24row67_col0 {\n",
       "            background-color:  #3b4cc0;\n",
       "            color:  #f1f1f1;\n",
       "        }    #T_93aabc80_5e86_11ea_b50a_001a6b0cdb24row67_col1 {\n",
       "            background-color:  #3b4cc0;\n",
       "            color:  #f1f1f1;\n",
       "        }    #T_93aabc80_5e86_11ea_b50a_001a6b0cdb24row67_col2 {\n",
       "            background-color:  #3b4cc0;\n",
       "            color:  #f1f1f1;\n",
       "        }    #T_93aabc80_5e86_11ea_b50a_001a6b0cdb24row68_col0 {\n",
       "            background-color:  #3b4cc0;\n",
       "            color:  #f1f1f1;\n",
       "        }    #T_93aabc80_5e86_11ea_b50a_001a6b0cdb24row68_col1 {\n",
       "            background-color:  #3b4cc0;\n",
       "            color:  #f1f1f1;\n",
       "        }    #T_93aabc80_5e86_11ea_b50a_001a6b0cdb24row68_col2 {\n",
       "            background-color:  #3b4cc0;\n",
       "            color:  #f1f1f1;\n",
       "        }    #T_93aabc80_5e86_11ea_b50a_001a6b0cdb24row69_col0 {\n",
       "            background-color:  #3b4cc0;\n",
       "            color:  #f1f1f1;\n",
       "        }    #T_93aabc80_5e86_11ea_b50a_001a6b0cdb24row69_col1 {\n",
       "            background-color:  #3b4cc0;\n",
       "            color:  #f1f1f1;\n",
       "        }    #T_93aabc80_5e86_11ea_b50a_001a6b0cdb24row69_col2 {\n",
       "            background-color:  #3b4cc0;\n",
       "            color:  #f1f1f1;\n",
       "        }    #T_93aabc80_5e86_11ea_b50a_001a6b0cdb24row70_col0 {\n",
       "            background-color:  #3b4cc0;\n",
       "            color:  #f1f1f1;\n",
       "        }    #T_93aabc80_5e86_11ea_b50a_001a6b0cdb24row70_col1 {\n",
       "            background-color:  #3b4cc0;\n",
       "            color:  #f1f1f1;\n",
       "        }    #T_93aabc80_5e86_11ea_b50a_001a6b0cdb24row70_col2 {\n",
       "            background-color:  #3b4cc0;\n",
       "            color:  #f1f1f1;\n",
       "        }    #T_93aabc80_5e86_11ea_b50a_001a6b0cdb24row71_col0 {\n",
       "            background-color:  #3b4cc0;\n",
       "            color:  #f1f1f1;\n",
       "        }    #T_93aabc80_5e86_11ea_b50a_001a6b0cdb24row71_col1 {\n",
       "            background-color:  #3b4cc0;\n",
       "            color:  #f1f1f1;\n",
       "        }    #T_93aabc80_5e86_11ea_b50a_001a6b0cdb24row71_col2 {\n",
       "            background-color:  #3b4cc0;\n",
       "            color:  #f1f1f1;\n",
       "        }    #T_93aabc80_5e86_11ea_b50a_001a6b0cdb24row72_col0 {\n",
       "            background-color:  #3b4cc0;\n",
       "            color:  #f1f1f1;\n",
       "        }    #T_93aabc80_5e86_11ea_b50a_001a6b0cdb24row72_col1 {\n",
       "            background-color:  #3b4cc0;\n",
       "            color:  #f1f1f1;\n",
       "        }    #T_93aabc80_5e86_11ea_b50a_001a6b0cdb24row72_col2 {\n",
       "            background-color:  #3b4cc0;\n",
       "            color:  #f1f1f1;\n",
       "        }    #T_93aabc80_5e86_11ea_b50a_001a6b0cdb24row73_col0 {\n",
       "            background-color:  #3b4cc0;\n",
       "            color:  #f1f1f1;\n",
       "        }    #T_93aabc80_5e86_11ea_b50a_001a6b0cdb24row73_col1 {\n",
       "            background-color:  #3b4cc0;\n",
       "            color:  #f1f1f1;\n",
       "        }    #T_93aabc80_5e86_11ea_b50a_001a6b0cdb24row73_col2 {\n",
       "            background-color:  #3b4cc0;\n",
       "            color:  #f1f1f1;\n",
       "        }    #T_93aabc80_5e86_11ea_b50a_001a6b0cdb24row74_col0 {\n",
       "            background-color:  #3b4cc0;\n",
       "            color:  #f1f1f1;\n",
       "        }    #T_93aabc80_5e86_11ea_b50a_001a6b0cdb24row74_col1 {\n",
       "            background-color:  #3b4cc0;\n",
       "            color:  #f1f1f1;\n",
       "        }    #T_93aabc80_5e86_11ea_b50a_001a6b0cdb24row74_col2 {\n",
       "            background-color:  #3b4cc0;\n",
       "            color:  #f1f1f1;\n",
       "        }</style><table id=\"T_93aabc80_5e86_11ea_b50a_001a6b0cdb24\" ><thead>    <tr>        <th class=\"blank level0\" ></th>        <th class=\"col_heading level0 col0\" >Confirmed</th>        <th class=\"col_heading level0 col1\" >Deaths</th>        <th class=\"col_heading level0 col2\" >Recovered</th>    </tr>    <tr>        <th class=\"index_name level0\" >Country/Region</th>        <th class=\"blank\" ></th>        <th class=\"blank\" ></th>        <th class=\"blank\" ></th>    </tr></thead><tbody>\n",
       "                <tr>\n",
       "                        <th id=\"T_93aabc80_5e86_11ea_b50a_001a6b0cdb24level0_row0\" class=\"row_heading level0 row0\" >China</th>\n",
       "                        <td id=\"T_93aabc80_5e86_11ea_b50a_001a6b0cdb24row0_col0\" class=\"data row0 col0\" >80026.000000</td>\n",
       "                        <td id=\"T_93aabc80_5e86_11ea_b50a_001a6b0cdb24row0_col1\" class=\"data row0 col1\" >2912.000000</td>\n",
       "                        <td id=\"T_93aabc80_5e86_11ea_b50a_001a6b0cdb24row0_col2\" class=\"data row0 col2\" >44810.000000</td>\n",
       "            </tr>\n",
       "            <tr>\n",
       "                        <th id=\"T_93aabc80_5e86_11ea_b50a_001a6b0cdb24level0_row1\" class=\"row_heading level0 row1\" >South Korea</th>\n",
       "                        <td id=\"T_93aabc80_5e86_11ea_b50a_001a6b0cdb24row1_col0\" class=\"data row1 col0\" >4335.000000</td>\n",
       "                        <td id=\"T_93aabc80_5e86_11ea_b50a_001a6b0cdb24row1_col1\" class=\"data row1 col1\" >28.000000</td>\n",
       "                        <td id=\"T_93aabc80_5e86_11ea_b50a_001a6b0cdb24row1_col2\" class=\"data row1 col2\" >30.000000</td>\n",
       "            </tr>\n",
       "            <tr>\n",
       "                        <th id=\"T_93aabc80_5e86_11ea_b50a_001a6b0cdb24level0_row2\" class=\"row_heading level0 row2\" >Italy</th>\n",
       "                        <td id=\"T_93aabc80_5e86_11ea_b50a_001a6b0cdb24row2_col0\" class=\"data row2 col0\" >2036.000000</td>\n",
       "                        <td id=\"T_93aabc80_5e86_11ea_b50a_001a6b0cdb24row2_col1\" class=\"data row2 col1\" >52.000000</td>\n",
       "                        <td id=\"T_93aabc80_5e86_11ea_b50a_001a6b0cdb24row2_col2\" class=\"data row2 col2\" >149.000000</td>\n",
       "            </tr>\n",
       "            <tr>\n",
       "                        <th id=\"T_93aabc80_5e86_11ea_b50a_001a6b0cdb24level0_row3\" class=\"row_heading level0 row3\" >Iran</th>\n",
       "                        <td id=\"T_93aabc80_5e86_11ea_b50a_001a6b0cdb24row3_col0\" class=\"data row3 col0\" >1501.000000</td>\n",
       "                        <td id=\"T_93aabc80_5e86_11ea_b50a_001a6b0cdb24row3_col1\" class=\"data row3 col1\" >66.000000</td>\n",
       "                        <td id=\"T_93aabc80_5e86_11ea_b50a_001a6b0cdb24row3_col2\" class=\"data row3 col2\" >291.000000</td>\n",
       "            </tr>\n",
       "            <tr>\n",
       "                        <th id=\"T_93aabc80_5e86_11ea_b50a_001a6b0cdb24level0_row4\" class=\"row_heading level0 row4\" >Others</th>\n",
       "                        <td id=\"T_93aabc80_5e86_11ea_b50a_001a6b0cdb24row4_col0\" class=\"data row4 col0\" >705.000000</td>\n",
       "                        <td id=\"T_93aabc80_5e86_11ea_b50a_001a6b0cdb24row4_col1\" class=\"data row4 col1\" >6.000000</td>\n",
       "                        <td id=\"T_93aabc80_5e86_11ea_b50a_001a6b0cdb24row4_col2\" class=\"data row4 col2\" >10.000000</td>\n",
       "            </tr>\n",
       "            <tr>\n",
       "                        <th id=\"T_93aabc80_5e86_11ea_b50a_001a6b0cdb24level0_row5\" class=\"row_heading level0 row5\" >Japan</th>\n",
       "                        <td id=\"T_93aabc80_5e86_11ea_b50a_001a6b0cdb24row5_col0\" class=\"data row5 col0\" >274.000000</td>\n",
       "                        <td id=\"T_93aabc80_5e86_11ea_b50a_001a6b0cdb24row5_col1\" class=\"data row5 col1\" >6.000000</td>\n",
       "                        <td id=\"T_93aabc80_5e86_11ea_b50a_001a6b0cdb24row5_col2\" class=\"data row5 col2\" >32.000000</td>\n",
       "            </tr>\n",
       "            <tr>\n",
       "                        <th id=\"T_93aabc80_5e86_11ea_b50a_001a6b0cdb24level0_row6\" class=\"row_heading level0 row6\" >France</th>\n",
       "                        <td id=\"T_93aabc80_5e86_11ea_b50a_001a6b0cdb24row6_col0\" class=\"data row6 col0\" >191.000000</td>\n",
       "                        <td id=\"T_93aabc80_5e86_11ea_b50a_001a6b0cdb24row6_col1\" class=\"data row6 col1\" >3.000000</td>\n",
       "                        <td id=\"T_93aabc80_5e86_11ea_b50a_001a6b0cdb24row6_col2\" class=\"data row6 col2\" >12.000000</td>\n",
       "            </tr>\n",
       "            <tr>\n",
       "                        <th id=\"T_93aabc80_5e86_11ea_b50a_001a6b0cdb24level0_row7\" class=\"row_heading level0 row7\" >Germany</th>\n",
       "                        <td id=\"T_93aabc80_5e86_11ea_b50a_001a6b0cdb24row7_col0\" class=\"data row7 col0\" >159.000000</td>\n",
       "                        <td id=\"T_93aabc80_5e86_11ea_b50a_001a6b0cdb24row7_col1\" class=\"data row7 col1\" >0.000000</td>\n",
       "                        <td id=\"T_93aabc80_5e86_11ea_b50a_001a6b0cdb24row7_col2\" class=\"data row7 col2\" >16.000000</td>\n",
       "            </tr>\n",
       "            <tr>\n",
       "                        <th id=\"T_93aabc80_5e86_11ea_b50a_001a6b0cdb24level0_row8\" class=\"row_heading level0 row8\" >Spain</th>\n",
       "                        <td id=\"T_93aabc80_5e86_11ea_b50a_001a6b0cdb24row8_col0\" class=\"data row8 col0\" >120.000000</td>\n",
       "                        <td id=\"T_93aabc80_5e86_11ea_b50a_001a6b0cdb24row8_col1\" class=\"data row8 col1\" >0.000000</td>\n",
       "                        <td id=\"T_93aabc80_5e86_11ea_b50a_001a6b0cdb24row8_col2\" class=\"data row8 col2\" >2.000000</td>\n",
       "            </tr>\n",
       "            <tr>\n",
       "                        <th id=\"T_93aabc80_5e86_11ea_b50a_001a6b0cdb24level0_row9\" class=\"row_heading level0 row9\" >Singapore</th>\n",
       "                        <td id=\"T_93aabc80_5e86_11ea_b50a_001a6b0cdb24row9_col0\" class=\"data row9 col0\" >108.000000</td>\n",
       "                        <td id=\"T_93aabc80_5e86_11ea_b50a_001a6b0cdb24row9_col1\" class=\"data row9 col1\" >0.000000</td>\n",
       "                        <td id=\"T_93aabc80_5e86_11ea_b50a_001a6b0cdb24row9_col2\" class=\"data row9 col2\" >78.000000</td>\n",
       "            </tr>\n",
       "            <tr>\n",
       "                        <th id=\"T_93aabc80_5e86_11ea_b50a_001a6b0cdb24level0_row10\" class=\"row_heading level0 row10\" >US</th>\n",
       "                        <td id=\"T_93aabc80_5e86_11ea_b50a_001a6b0cdb24row10_col0\" class=\"data row10 col0\" >101.000000</td>\n",
       "                        <td id=\"T_93aabc80_5e86_11ea_b50a_001a6b0cdb24row10_col1\" class=\"data row10 col1\" >6.000000</td>\n",
       "                        <td id=\"T_93aabc80_5e86_11ea_b50a_001a6b0cdb24row10_col2\" class=\"data row10 col2\" >7.000000</td>\n",
       "            </tr>\n",
       "            <tr>\n",
       "                        <th id=\"T_93aabc80_5e86_11ea_b50a_001a6b0cdb24level0_row11\" class=\"row_heading level0 row11\" >Hong Kong</th>\n",
       "                        <td id=\"T_93aabc80_5e86_11ea_b50a_001a6b0cdb24row11_col0\" class=\"data row11 col0\" >100.000000</td>\n",
       "                        <td id=\"T_93aabc80_5e86_11ea_b50a_001a6b0cdb24row11_col1\" class=\"data row11 col1\" >2.000000</td>\n",
       "                        <td id=\"T_93aabc80_5e86_11ea_b50a_001a6b0cdb24row11_col2\" class=\"data row11 col2\" >36.000000</td>\n",
       "            </tr>\n",
       "            <tr>\n",
       "                        <th id=\"T_93aabc80_5e86_11ea_b50a_001a6b0cdb24level0_row12\" class=\"row_heading level0 row12\" >Kuwait</th>\n",
       "                        <td id=\"T_93aabc80_5e86_11ea_b50a_001a6b0cdb24row12_col0\" class=\"data row12 col0\" >56.000000</td>\n",
       "                        <td id=\"T_93aabc80_5e86_11ea_b50a_001a6b0cdb24row12_col1\" class=\"data row12 col1\" >0.000000</td>\n",
       "                        <td id=\"T_93aabc80_5e86_11ea_b50a_001a6b0cdb24row12_col2\" class=\"data row12 col2\" >0.000000</td>\n",
       "            </tr>\n",
       "            <tr>\n",
       "                        <th id=\"T_93aabc80_5e86_11ea_b50a_001a6b0cdb24level0_row13\" class=\"row_heading level0 row13\" >Bahrain</th>\n",
       "                        <td id=\"T_93aabc80_5e86_11ea_b50a_001a6b0cdb24row13_col0\" class=\"data row13 col0\" >49.000000</td>\n",
       "                        <td id=\"T_93aabc80_5e86_11ea_b50a_001a6b0cdb24row13_col1\" class=\"data row13 col1\" >0.000000</td>\n",
       "                        <td id=\"T_93aabc80_5e86_11ea_b50a_001a6b0cdb24row13_col2\" class=\"data row13 col2\" >0.000000</td>\n",
       "            </tr>\n",
       "            <tr>\n",
       "                        <th id=\"T_93aabc80_5e86_11ea_b50a_001a6b0cdb24level0_row14\" class=\"row_heading level0 row14\" >Thailand</th>\n",
       "                        <td id=\"T_93aabc80_5e86_11ea_b50a_001a6b0cdb24row14_col0\" class=\"data row14 col0\" >43.000000</td>\n",
       "                        <td id=\"T_93aabc80_5e86_11ea_b50a_001a6b0cdb24row14_col1\" class=\"data row14 col1\" >1.000000</td>\n",
       "                        <td id=\"T_93aabc80_5e86_11ea_b50a_001a6b0cdb24row14_col2\" class=\"data row14 col2\" >31.000000</td>\n",
       "            </tr>\n",
       "            <tr>\n",
       "                        <th id=\"T_93aabc80_5e86_11ea_b50a_001a6b0cdb24level0_row15\" class=\"row_heading level0 row15\" >Switzerland</th>\n",
       "                        <td id=\"T_93aabc80_5e86_11ea_b50a_001a6b0cdb24row15_col0\" class=\"data row15 col0\" >42.000000</td>\n",
       "                        <td id=\"T_93aabc80_5e86_11ea_b50a_001a6b0cdb24row15_col1\" class=\"data row15 col1\" >0.000000</td>\n",
       "                        <td id=\"T_93aabc80_5e86_11ea_b50a_001a6b0cdb24row15_col2\" class=\"data row15 col2\" >0.000000</td>\n",
       "            </tr>\n",
       "            <tr>\n",
       "                        <th id=\"T_93aabc80_5e86_11ea_b50a_001a6b0cdb24level0_row16\" class=\"row_heading level0 row16\" >Taiwan</th>\n",
       "                        <td id=\"T_93aabc80_5e86_11ea_b50a_001a6b0cdb24row16_col0\" class=\"data row16 col0\" >41.000000</td>\n",
       "                        <td id=\"T_93aabc80_5e86_11ea_b50a_001a6b0cdb24row16_col1\" class=\"data row16 col1\" >1.000000</td>\n",
       "                        <td id=\"T_93aabc80_5e86_11ea_b50a_001a6b0cdb24row16_col2\" class=\"data row16 col2\" >12.000000</td>\n",
       "            </tr>\n",
       "            <tr>\n",
       "                        <th id=\"T_93aabc80_5e86_11ea_b50a_001a6b0cdb24level0_row17\" class=\"row_heading level0 row17\" >UK</th>\n",
       "                        <td id=\"T_93aabc80_5e86_11ea_b50a_001a6b0cdb24row17_col0\" class=\"data row17 col0\" >40.000000</td>\n",
       "                        <td id=\"T_93aabc80_5e86_11ea_b50a_001a6b0cdb24row17_col1\" class=\"data row17 col1\" >0.000000</td>\n",
       "                        <td id=\"T_93aabc80_5e86_11ea_b50a_001a6b0cdb24row17_col2\" class=\"data row17 col2\" >8.000000</td>\n",
       "            </tr>\n",
       "            <tr>\n",
       "                        <th id=\"T_93aabc80_5e86_11ea_b50a_001a6b0cdb24level0_row18\" class=\"row_heading level0 row18\" >Australia</th>\n",
       "                        <td id=\"T_93aabc80_5e86_11ea_b50a_001a6b0cdb24row18_col0\" class=\"data row18 col0\" >30.000000</td>\n",
       "                        <td id=\"T_93aabc80_5e86_11ea_b50a_001a6b0cdb24row18_col1\" class=\"data row18 col1\" >1.000000</td>\n",
       "                        <td id=\"T_93aabc80_5e86_11ea_b50a_001a6b0cdb24row18_col2\" class=\"data row18 col2\" >11.000000</td>\n",
       "            </tr>\n",
       "            <tr>\n",
       "                        <th id=\"T_93aabc80_5e86_11ea_b50a_001a6b0cdb24level0_row19\" class=\"row_heading level0 row19\" >Malaysia</th>\n",
       "                        <td id=\"T_93aabc80_5e86_11ea_b50a_001a6b0cdb24row19_col0\" class=\"data row19 col0\" >29.000000</td>\n",
       "                        <td id=\"T_93aabc80_5e86_11ea_b50a_001a6b0cdb24row19_col1\" class=\"data row19 col1\" >0.000000</td>\n",
       "                        <td id=\"T_93aabc80_5e86_11ea_b50a_001a6b0cdb24row19_col2\" class=\"data row19 col2\" >18.000000</td>\n",
       "            </tr>\n",
       "            <tr>\n",
       "                        <th id=\"T_93aabc80_5e86_11ea_b50a_001a6b0cdb24level0_row20\" class=\"row_heading level0 row20\" >Canada</th>\n",
       "                        <td id=\"T_93aabc80_5e86_11ea_b50a_001a6b0cdb24row20_col0\" class=\"data row20 col0\" >27.000000</td>\n",
       "                        <td id=\"T_93aabc80_5e86_11ea_b50a_001a6b0cdb24row20_col1\" class=\"data row20 col1\" >0.000000</td>\n",
       "                        <td id=\"T_93aabc80_5e86_11ea_b50a_001a6b0cdb24row20_col2\" class=\"data row20 col2\" >6.000000</td>\n",
       "            </tr>\n",
       "            <tr>\n",
       "                        <th id=\"T_93aabc80_5e86_11ea_b50a_001a6b0cdb24level0_row21\" class=\"row_heading level0 row21\" >Iraq</th>\n",
       "                        <td id=\"T_93aabc80_5e86_11ea_b50a_001a6b0cdb24row21_col0\" class=\"data row21 col0\" >26.000000</td>\n",
       "                        <td id=\"T_93aabc80_5e86_11ea_b50a_001a6b0cdb24row21_col1\" class=\"data row21 col1\" >0.000000</td>\n",
       "                        <td id=\"T_93aabc80_5e86_11ea_b50a_001a6b0cdb24row21_col2\" class=\"data row21 col2\" >0.000000</td>\n",
       "            </tr>\n",
       "            <tr>\n",
       "                        <th id=\"T_93aabc80_5e86_11ea_b50a_001a6b0cdb24level0_row22\" class=\"row_heading level0 row22\" >Norway</th>\n",
       "                        <td id=\"T_93aabc80_5e86_11ea_b50a_001a6b0cdb24row22_col0\" class=\"data row22 col0\" >25.000000</td>\n",
       "                        <td id=\"T_93aabc80_5e86_11ea_b50a_001a6b0cdb24row22_col1\" class=\"data row22 col1\" >0.000000</td>\n",
       "                        <td id=\"T_93aabc80_5e86_11ea_b50a_001a6b0cdb24row22_col2\" class=\"data row22 col2\" >0.000000</td>\n",
       "            </tr>\n",
       "            <tr>\n",
       "                        <th id=\"T_93aabc80_5e86_11ea_b50a_001a6b0cdb24level0_row23\" class=\"row_heading level0 row23\" >United Arab Emirates</th>\n",
       "                        <td id=\"T_93aabc80_5e86_11ea_b50a_001a6b0cdb24row23_col0\" class=\"data row23 col0\" >21.000000</td>\n",
       "                        <td id=\"T_93aabc80_5e86_11ea_b50a_001a6b0cdb24row23_col1\" class=\"data row23 col1\" >0.000000</td>\n",
       "                        <td id=\"T_93aabc80_5e86_11ea_b50a_001a6b0cdb24row23_col2\" class=\"data row23 col2\" >5.000000</td>\n",
       "            </tr>\n",
       "            <tr>\n",
       "                        <th id=\"T_93aabc80_5e86_11ea_b50a_001a6b0cdb24level0_row24\" class=\"row_heading level0 row24\" >Netherlands</th>\n",
       "                        <td id=\"T_93aabc80_5e86_11ea_b50a_001a6b0cdb24row24_col0\" class=\"data row24 col0\" >18.000000</td>\n",
       "                        <td id=\"T_93aabc80_5e86_11ea_b50a_001a6b0cdb24row24_col1\" class=\"data row24 col1\" >0.000000</td>\n",
       "                        <td id=\"T_93aabc80_5e86_11ea_b50a_001a6b0cdb24row24_col2\" class=\"data row24 col2\" >0.000000</td>\n",
       "            </tr>\n",
       "            <tr>\n",
       "                        <th id=\"T_93aabc80_5e86_11ea_b50a_001a6b0cdb24level0_row25\" class=\"row_heading level0 row25\" >Austria</th>\n",
       "                        <td id=\"T_93aabc80_5e86_11ea_b50a_001a6b0cdb24row25_col0\" class=\"data row25 col0\" >18.000000</td>\n",
       "                        <td id=\"T_93aabc80_5e86_11ea_b50a_001a6b0cdb24row25_col1\" class=\"data row25 col1\" >0.000000</td>\n",
       "                        <td id=\"T_93aabc80_5e86_11ea_b50a_001a6b0cdb24row25_col2\" class=\"data row25 col2\" >0.000000</td>\n",
       "            </tr>\n",
       "            <tr>\n",
       "                        <th id=\"T_93aabc80_5e86_11ea_b50a_001a6b0cdb24level0_row26\" class=\"row_heading level0 row26\" >Vietnam</th>\n",
       "                        <td id=\"T_93aabc80_5e86_11ea_b50a_001a6b0cdb24row26_col0\" class=\"data row26 col0\" >16.000000</td>\n",
       "                        <td id=\"T_93aabc80_5e86_11ea_b50a_001a6b0cdb24row26_col1\" class=\"data row26 col1\" >0.000000</td>\n",
       "                        <td id=\"T_93aabc80_5e86_11ea_b50a_001a6b0cdb24row26_col2\" class=\"data row26 col2\" >16.000000</td>\n",
       "            </tr>\n",
       "            <tr>\n",
       "                        <th id=\"T_93aabc80_5e86_11ea_b50a_001a6b0cdb24level0_row27\" class=\"row_heading level0 row27\" >Sweden</th>\n",
       "                        <td id=\"T_93aabc80_5e86_11ea_b50a_001a6b0cdb24row27_col0\" class=\"data row27 col0\" >15.000000</td>\n",
       "                        <td id=\"T_93aabc80_5e86_11ea_b50a_001a6b0cdb24row27_col1\" class=\"data row27 col1\" >0.000000</td>\n",
       "                        <td id=\"T_93aabc80_5e86_11ea_b50a_001a6b0cdb24row27_col2\" class=\"data row27 col2\" >0.000000</td>\n",
       "            </tr>\n",
       "            <tr>\n",
       "                        <th id=\"T_93aabc80_5e86_11ea_b50a_001a6b0cdb24level0_row28\" class=\"row_heading level0 row28\" >Lebanon</th>\n",
       "                        <td id=\"T_93aabc80_5e86_11ea_b50a_001a6b0cdb24row28_col0\" class=\"data row28 col0\" >13.000000</td>\n",
       "                        <td id=\"T_93aabc80_5e86_11ea_b50a_001a6b0cdb24row28_col1\" class=\"data row28 col1\" >0.000000</td>\n",
       "                        <td id=\"T_93aabc80_5e86_11ea_b50a_001a6b0cdb24row28_col2\" class=\"data row28 col2\" >0.000000</td>\n",
       "            </tr>\n",
       "            <tr>\n",
       "                        <th id=\"T_93aabc80_5e86_11ea_b50a_001a6b0cdb24level0_row29\" class=\"row_heading level0 row29\" >Israel</th>\n",
       "                        <td id=\"T_93aabc80_5e86_11ea_b50a_001a6b0cdb24row29_col0\" class=\"data row29 col0\" >10.000000</td>\n",
       "                        <td id=\"T_93aabc80_5e86_11ea_b50a_001a6b0cdb24row29_col1\" class=\"data row29 col1\" >0.000000</td>\n",
       "                        <td id=\"T_93aabc80_5e86_11ea_b50a_001a6b0cdb24row29_col2\" class=\"data row29 col2\" >1.000000</td>\n",
       "            </tr>\n",
       "            <tr>\n",
       "                        <th id=\"T_93aabc80_5e86_11ea_b50a_001a6b0cdb24level0_row30\" class=\"row_heading level0 row30\" >Macau</th>\n",
       "                        <td id=\"T_93aabc80_5e86_11ea_b50a_001a6b0cdb24row30_col0\" class=\"data row30 col0\" >10.000000</td>\n",
       "                        <td id=\"T_93aabc80_5e86_11ea_b50a_001a6b0cdb24row30_col1\" class=\"data row30 col1\" >0.000000</td>\n",
       "                        <td id=\"T_93aabc80_5e86_11ea_b50a_001a6b0cdb24row30_col2\" class=\"data row30 col2\" >8.000000</td>\n",
       "            </tr>\n",
       "            <tr>\n",
       "                        <th id=\"T_93aabc80_5e86_11ea_b50a_001a6b0cdb24level0_row31\" class=\"row_heading level0 row31\" >San Marino</th>\n",
       "                        <td id=\"T_93aabc80_5e86_11ea_b50a_001a6b0cdb24row31_col0\" class=\"data row31 col0\" >8.000000</td>\n",
       "                        <td id=\"T_93aabc80_5e86_11ea_b50a_001a6b0cdb24row31_col1\" class=\"data row31 col1\" >0.000000</td>\n",
       "                        <td id=\"T_93aabc80_5e86_11ea_b50a_001a6b0cdb24row31_col2\" class=\"data row31 col2\" >0.000000</td>\n",
       "            </tr>\n",
       "            <tr>\n",
       "                        <th id=\"T_93aabc80_5e86_11ea_b50a_001a6b0cdb24level0_row32\" class=\"row_heading level0 row32\" >Belgium</th>\n",
       "                        <td id=\"T_93aabc80_5e86_11ea_b50a_001a6b0cdb24row32_col0\" class=\"data row32 col0\" >8.000000</td>\n",
       "                        <td id=\"T_93aabc80_5e86_11ea_b50a_001a6b0cdb24row32_col1\" class=\"data row32 col1\" >0.000000</td>\n",
       "                        <td id=\"T_93aabc80_5e86_11ea_b50a_001a6b0cdb24row32_col2\" class=\"data row32 col2\" >1.000000</td>\n",
       "            </tr>\n",
       "            <tr>\n",
       "                        <th id=\"T_93aabc80_5e86_11ea_b50a_001a6b0cdb24level0_row33\" class=\"row_heading level0 row33\" >Croatia</th>\n",
       "                        <td id=\"T_93aabc80_5e86_11ea_b50a_001a6b0cdb24row33_col0\" class=\"data row33 col0\" >7.000000</td>\n",
       "                        <td id=\"T_93aabc80_5e86_11ea_b50a_001a6b0cdb24row33_col1\" class=\"data row33 col1\" >0.000000</td>\n",
       "                        <td id=\"T_93aabc80_5e86_11ea_b50a_001a6b0cdb24row33_col2\" class=\"data row33 col2\" >0.000000</td>\n",
       "            </tr>\n",
       "            <tr>\n",
       "                        <th id=\"T_93aabc80_5e86_11ea_b50a_001a6b0cdb24level0_row34\" class=\"row_heading level0 row34\" >Greece</th>\n",
       "                        <td id=\"T_93aabc80_5e86_11ea_b50a_001a6b0cdb24row34_col0\" class=\"data row34 col0\" >7.000000</td>\n",
       "                        <td id=\"T_93aabc80_5e86_11ea_b50a_001a6b0cdb24row34_col1\" class=\"data row34 col1\" >0.000000</td>\n",
       "                        <td id=\"T_93aabc80_5e86_11ea_b50a_001a6b0cdb24row34_col2\" class=\"data row34 col2\" >0.000000</td>\n",
       "            </tr>\n",
       "            <tr>\n",
       "                        <th id=\"T_93aabc80_5e86_11ea_b50a_001a6b0cdb24level0_row35\" class=\"row_heading level0 row35\" >Iceland</th>\n",
       "                        <td id=\"T_93aabc80_5e86_11ea_b50a_001a6b0cdb24row35_col0\" class=\"data row35 col0\" >6.000000</td>\n",
       "                        <td id=\"T_93aabc80_5e86_11ea_b50a_001a6b0cdb24row35_col1\" class=\"data row35 col1\" >0.000000</td>\n",
       "                        <td id=\"T_93aabc80_5e86_11ea_b50a_001a6b0cdb24row35_col2\" class=\"data row35 col2\" >0.000000</td>\n",
       "            </tr>\n",
       "            <tr>\n",
       "                        <th id=\"T_93aabc80_5e86_11ea_b50a_001a6b0cdb24level0_row36\" class=\"row_heading level0 row36\" >Finland</th>\n",
       "                        <td id=\"T_93aabc80_5e86_11ea_b50a_001a6b0cdb24row36_col0\" class=\"data row36 col0\" >6.000000</td>\n",
       "                        <td id=\"T_93aabc80_5e86_11ea_b50a_001a6b0cdb24row36_col1\" class=\"data row36 col1\" >0.000000</td>\n",
       "                        <td id=\"T_93aabc80_5e86_11ea_b50a_001a6b0cdb24row36_col2\" class=\"data row36 col2\" >1.000000</td>\n",
       "            </tr>\n",
       "            <tr>\n",
       "                        <th id=\"T_93aabc80_5e86_11ea_b50a_001a6b0cdb24level0_row37\" class=\"row_heading level0 row37\" >Oman</th>\n",
       "                        <td id=\"T_93aabc80_5e86_11ea_b50a_001a6b0cdb24row37_col0\" class=\"data row37 col0\" >6.000000</td>\n",
       "                        <td id=\"T_93aabc80_5e86_11ea_b50a_001a6b0cdb24row37_col1\" class=\"data row37 col1\" >0.000000</td>\n",
       "                        <td id=\"T_93aabc80_5e86_11ea_b50a_001a6b0cdb24row37_col2\" class=\"data row37 col2\" >1.000000</td>\n",
       "            </tr>\n",
       "            <tr>\n",
       "                        <th id=\"T_93aabc80_5e86_11ea_b50a_001a6b0cdb24level0_row38\" class=\"row_heading level0 row38\" >Ecuador</th>\n",
       "                        <td id=\"T_93aabc80_5e86_11ea_b50a_001a6b0cdb24row38_col0\" class=\"data row38 col0\" >6.000000</td>\n",
       "                        <td id=\"T_93aabc80_5e86_11ea_b50a_001a6b0cdb24row38_col1\" class=\"data row38 col1\" >0.000000</td>\n",
       "                        <td id=\"T_93aabc80_5e86_11ea_b50a_001a6b0cdb24row38_col2\" class=\"data row38 col2\" >0.000000</td>\n",
       "            </tr>\n",
       "            <tr>\n",
       "                        <th id=\"T_93aabc80_5e86_11ea_b50a_001a6b0cdb24level0_row39\" class=\"row_heading level0 row39\" >India</th>\n",
       "                        <td id=\"T_93aabc80_5e86_11ea_b50a_001a6b0cdb24row39_col0\" class=\"data row39 col0\" >5.000000</td>\n",
       "                        <td id=\"T_93aabc80_5e86_11ea_b50a_001a6b0cdb24row39_col1\" class=\"data row39 col1\" >0.000000</td>\n",
       "                        <td id=\"T_93aabc80_5e86_11ea_b50a_001a6b0cdb24row39_col2\" class=\"data row39 col2\" >3.000000</td>\n",
       "            </tr>\n",
       "            <tr>\n",
       "                        <th id=\"T_93aabc80_5e86_11ea_b50a_001a6b0cdb24level0_row40\" class=\"row_heading level0 row40\" >Mexico</th>\n",
       "                        <td id=\"T_93aabc80_5e86_11ea_b50a_001a6b0cdb24row40_col0\" class=\"data row40 col0\" >5.000000</td>\n",
       "                        <td id=\"T_93aabc80_5e86_11ea_b50a_001a6b0cdb24row40_col1\" class=\"data row40 col1\" >0.000000</td>\n",
       "                        <td id=\"T_93aabc80_5e86_11ea_b50a_001a6b0cdb24row40_col2\" class=\"data row40 col2\" >0.000000</td>\n",
       "            </tr>\n",
       "            <tr>\n",
       "                        <th id=\"T_93aabc80_5e86_11ea_b50a_001a6b0cdb24level0_row41\" class=\"row_heading level0 row41\" >Pakistan</th>\n",
       "                        <td id=\"T_93aabc80_5e86_11ea_b50a_001a6b0cdb24row41_col0\" class=\"data row41 col0\" >4.000000</td>\n",
       "                        <td id=\"T_93aabc80_5e86_11ea_b50a_001a6b0cdb24row41_col1\" class=\"data row41 col1\" >0.000000</td>\n",
       "                        <td id=\"T_93aabc80_5e86_11ea_b50a_001a6b0cdb24row41_col2\" class=\"data row41 col2\" >0.000000</td>\n",
       "            </tr>\n",
       "            <tr>\n",
       "                        <th id=\"T_93aabc80_5e86_11ea_b50a_001a6b0cdb24level0_row42\" class=\"row_heading level0 row42\" >Denmark</th>\n",
       "                        <td id=\"T_93aabc80_5e86_11ea_b50a_001a6b0cdb24row42_col0\" class=\"data row42 col0\" >4.000000</td>\n",
       "                        <td id=\"T_93aabc80_5e86_11ea_b50a_001a6b0cdb24row42_col1\" class=\"data row42 col1\" >0.000000</td>\n",
       "                        <td id=\"T_93aabc80_5e86_11ea_b50a_001a6b0cdb24row42_col2\" class=\"data row42 col2\" >0.000000</td>\n",
       "            </tr>\n",
       "            <tr>\n",
       "                        <th id=\"T_93aabc80_5e86_11ea_b50a_001a6b0cdb24level0_row43\" class=\"row_heading level0 row43\" >Philippines</th>\n",
       "                        <td id=\"T_93aabc80_5e86_11ea_b50a_001a6b0cdb24row43_col0\" class=\"data row43 col0\" >3.000000</td>\n",
       "                        <td id=\"T_93aabc80_5e86_11ea_b50a_001a6b0cdb24row43_col1\" class=\"data row43 col1\" >1.000000</td>\n",
       "                        <td id=\"T_93aabc80_5e86_11ea_b50a_001a6b0cdb24row43_col2\" class=\"data row43 col2\" >1.000000</td>\n",
       "            </tr>\n",
       "            <tr>\n",
       "                        <th id=\"T_93aabc80_5e86_11ea_b50a_001a6b0cdb24level0_row44\" class=\"row_heading level0 row44\" >Russia</th>\n",
       "                        <td id=\"T_93aabc80_5e86_11ea_b50a_001a6b0cdb24row44_col0\" class=\"data row44 col0\" >3.000000</td>\n",
       "                        <td id=\"T_93aabc80_5e86_11ea_b50a_001a6b0cdb24row44_col1\" class=\"data row44 col1\" >0.000000</td>\n",
       "                        <td id=\"T_93aabc80_5e86_11ea_b50a_001a6b0cdb24row44_col2\" class=\"data row44 col2\" >2.000000</td>\n",
       "            </tr>\n",
       "            <tr>\n",
       "                        <th id=\"T_93aabc80_5e86_11ea_b50a_001a6b0cdb24level0_row45\" class=\"row_heading level0 row45\" >Qatar</th>\n",
       "                        <td id=\"T_93aabc80_5e86_11ea_b50a_001a6b0cdb24row45_col0\" class=\"data row45 col0\" >3.000000</td>\n",
       "                        <td id=\"T_93aabc80_5e86_11ea_b50a_001a6b0cdb24row45_col1\" class=\"data row45 col1\" >0.000000</td>\n",
       "                        <td id=\"T_93aabc80_5e86_11ea_b50a_001a6b0cdb24row45_col2\" class=\"data row45 col2\" >0.000000</td>\n",
       "            </tr>\n",
       "            <tr>\n",
       "                        <th id=\"T_93aabc80_5e86_11ea_b50a_001a6b0cdb24level0_row46\" class=\"row_heading level0 row46\" >Algeria</th>\n",
       "                        <td id=\"T_93aabc80_5e86_11ea_b50a_001a6b0cdb24row46_col0\" class=\"data row46 col0\" >3.000000</td>\n",
       "                        <td id=\"T_93aabc80_5e86_11ea_b50a_001a6b0cdb24row46_col1\" class=\"data row46 col1\" >0.000000</td>\n",
       "                        <td id=\"T_93aabc80_5e86_11ea_b50a_001a6b0cdb24row46_col2\" class=\"data row46 col2\" >0.000000</td>\n",
       "            </tr>\n",
       "            <tr>\n",
       "                        <th id=\"T_93aabc80_5e86_11ea_b50a_001a6b0cdb24level0_row47\" class=\"row_heading level0 row47\" >Romania</th>\n",
       "                        <td id=\"T_93aabc80_5e86_11ea_b50a_001a6b0cdb24row47_col0\" class=\"data row47 col0\" >3.000000</td>\n",
       "                        <td id=\"T_93aabc80_5e86_11ea_b50a_001a6b0cdb24row47_col1\" class=\"data row47 col1\" >0.000000</td>\n",
       "                        <td id=\"T_93aabc80_5e86_11ea_b50a_001a6b0cdb24row47_col2\" class=\"data row47 col2\" >0.000000</td>\n",
       "            </tr>\n",
       "            <tr>\n",
       "                        <th id=\"T_93aabc80_5e86_11ea_b50a_001a6b0cdb24level0_row48\" class=\"row_heading level0 row48\" >Georgia</th>\n",
       "                        <td id=\"T_93aabc80_5e86_11ea_b50a_001a6b0cdb24row48_col0\" class=\"data row48 col0\" >3.000000</td>\n",
       "                        <td id=\"T_93aabc80_5e86_11ea_b50a_001a6b0cdb24row48_col1\" class=\"data row48 col1\" >0.000000</td>\n",
       "                        <td id=\"T_93aabc80_5e86_11ea_b50a_001a6b0cdb24row48_col2\" class=\"data row48 col2\" >0.000000</td>\n",
       "            </tr>\n",
       "            <tr>\n",
       "                        <th id=\"T_93aabc80_5e86_11ea_b50a_001a6b0cdb24level0_row49\" class=\"row_heading level0 row49\" >Czech Republic</th>\n",
       "                        <td id=\"T_93aabc80_5e86_11ea_b50a_001a6b0cdb24row49_col0\" class=\"data row49 col0\" >3.000000</td>\n",
       "                        <td id=\"T_93aabc80_5e86_11ea_b50a_001a6b0cdb24row49_col1\" class=\"data row49 col1\" >0.000000</td>\n",
       "                        <td id=\"T_93aabc80_5e86_11ea_b50a_001a6b0cdb24row49_col2\" class=\"data row49 col2\" >0.000000</td>\n",
       "            </tr>\n",
       "            <tr>\n",
       "                        <th id=\"T_93aabc80_5e86_11ea_b50a_001a6b0cdb24level0_row50\" class=\"row_heading level0 row50\" >Azerbaijan</th>\n",
       "                        <td id=\"T_93aabc80_5e86_11ea_b50a_001a6b0cdb24row50_col0\" class=\"data row50 col0\" >3.000000</td>\n",
       "                        <td id=\"T_93aabc80_5e86_11ea_b50a_001a6b0cdb24row50_col1\" class=\"data row50 col1\" >0.000000</td>\n",
       "                        <td id=\"T_93aabc80_5e86_11ea_b50a_001a6b0cdb24row50_col2\" class=\"data row50 col2\" >0.000000</td>\n",
       "            </tr>\n",
       "            <tr>\n",
       "                        <th id=\"T_93aabc80_5e86_11ea_b50a_001a6b0cdb24level0_row51\" class=\"row_heading level0 row51\" >Egypt</th>\n",
       "                        <td id=\"T_93aabc80_5e86_11ea_b50a_001a6b0cdb24row51_col0\" class=\"data row51 col0\" >2.000000</td>\n",
       "                        <td id=\"T_93aabc80_5e86_11ea_b50a_001a6b0cdb24row51_col1\" class=\"data row51 col1\" >0.000000</td>\n",
       "                        <td id=\"T_93aabc80_5e86_11ea_b50a_001a6b0cdb24row51_col2\" class=\"data row51 col2\" >1.000000</td>\n",
       "            </tr>\n",
       "            <tr>\n",
       "                        <th id=\"T_93aabc80_5e86_11ea_b50a_001a6b0cdb24level0_row52\" class=\"row_heading level0 row52\" >Brazil</th>\n",
       "                        <td id=\"T_93aabc80_5e86_11ea_b50a_001a6b0cdb24row52_col0\" class=\"data row52 col0\" >2.000000</td>\n",
       "                        <td id=\"T_93aabc80_5e86_11ea_b50a_001a6b0cdb24row52_col1\" class=\"data row52 col1\" >0.000000</td>\n",
       "                        <td id=\"T_93aabc80_5e86_11ea_b50a_001a6b0cdb24row52_col2\" class=\"data row52 col2\" >0.000000</td>\n",
       "            </tr>\n",
       "            <tr>\n",
       "                        <th id=\"T_93aabc80_5e86_11ea_b50a_001a6b0cdb24level0_row53\" class=\"row_heading level0 row53\" >Portugal</th>\n",
       "                        <td id=\"T_93aabc80_5e86_11ea_b50a_001a6b0cdb24row53_col0\" class=\"data row53 col0\" >2.000000</td>\n",
       "                        <td id=\"T_93aabc80_5e86_11ea_b50a_001a6b0cdb24row53_col1\" class=\"data row53 col1\" >0.000000</td>\n",
       "                        <td id=\"T_93aabc80_5e86_11ea_b50a_001a6b0cdb24row53_col2\" class=\"data row53 col2\" >0.000000</td>\n",
       "            </tr>\n",
       "            <tr>\n",
       "                        <th id=\"T_93aabc80_5e86_11ea_b50a_001a6b0cdb24level0_row54\" class=\"row_heading level0 row54\" >Indonesia</th>\n",
       "                        <td id=\"T_93aabc80_5e86_11ea_b50a_001a6b0cdb24row54_col0\" class=\"data row54 col0\" >2.000000</td>\n",
       "                        <td id=\"T_93aabc80_5e86_11ea_b50a_001a6b0cdb24row54_col1\" class=\"data row54 col1\" >0.000000</td>\n",
       "                        <td id=\"T_93aabc80_5e86_11ea_b50a_001a6b0cdb24row54_col2\" class=\"data row54 col2\" >0.000000</td>\n",
       "            </tr>\n",
       "            <tr>\n",
       "                        <th id=\"T_93aabc80_5e86_11ea_b50a_001a6b0cdb24level0_row55\" class=\"row_heading level0 row55\" >Senegal</th>\n",
       "                        <td id=\"T_93aabc80_5e86_11ea_b50a_001a6b0cdb24row55_col0\" class=\"data row55 col0\" >1.000000</td>\n",
       "                        <td id=\"T_93aabc80_5e86_11ea_b50a_001a6b0cdb24row55_col1\" class=\"data row55 col1\" >0.000000</td>\n",
       "                        <td id=\"T_93aabc80_5e86_11ea_b50a_001a6b0cdb24row55_col2\" class=\"data row55 col2\" >0.000000</td>\n",
       "            </tr>\n",
       "            <tr>\n",
       "                        <th id=\"T_93aabc80_5e86_11ea_b50a_001a6b0cdb24level0_row56\" class=\"row_heading level0 row56\" >Sri Lanka</th>\n",
       "                        <td id=\"T_93aabc80_5e86_11ea_b50a_001a6b0cdb24row56_col0\" class=\"data row56 col0\" >1.000000</td>\n",
       "                        <td id=\"T_93aabc80_5e86_11ea_b50a_001a6b0cdb24row56_col1\" class=\"data row56 col1\" >0.000000</td>\n",
       "                        <td id=\"T_93aabc80_5e86_11ea_b50a_001a6b0cdb24row56_col2\" class=\"data row56 col2\" >1.000000</td>\n",
       "            </tr>\n",
       "            <tr>\n",
       "                        <th id=\"T_93aabc80_5e86_11ea_b50a_001a6b0cdb24level0_row57\" class=\"row_heading level0 row57\" >Saudi Arabia</th>\n",
       "                        <td id=\"T_93aabc80_5e86_11ea_b50a_001a6b0cdb24row57_col0\" class=\"data row57 col0\" >1.000000</td>\n",
       "                        <td id=\"T_93aabc80_5e86_11ea_b50a_001a6b0cdb24row57_col1\" class=\"data row57 col1\" >0.000000</td>\n",
       "                        <td id=\"T_93aabc80_5e86_11ea_b50a_001a6b0cdb24row57_col2\" class=\"data row57 col2\" >0.000000</td>\n",
       "            </tr>\n",
       "            <tr>\n",
       "                        <th id=\"T_93aabc80_5e86_11ea_b50a_001a6b0cdb24level0_row58\" class=\"row_heading level0 row58\" >Afghanistan</th>\n",
       "                        <td id=\"T_93aabc80_5e86_11ea_b50a_001a6b0cdb24row58_col0\" class=\"data row58 col0\" >1.000000</td>\n",
       "                        <td id=\"T_93aabc80_5e86_11ea_b50a_001a6b0cdb24row58_col1\" class=\"data row58 col1\" >0.000000</td>\n",
       "                        <td id=\"T_93aabc80_5e86_11ea_b50a_001a6b0cdb24row58_col2\" class=\"data row58 col2\" >0.000000</td>\n",
       "            </tr>\n",
       "            <tr>\n",
       "                        <th id=\"T_93aabc80_5e86_11ea_b50a_001a6b0cdb24level0_row59\" class=\"row_heading level0 row59\" >North Macedonia</th>\n",
       "                        <td id=\"T_93aabc80_5e86_11ea_b50a_001a6b0cdb24row59_col0\" class=\"data row59 col0\" >1.000000</td>\n",
       "                        <td id=\"T_93aabc80_5e86_11ea_b50a_001a6b0cdb24row59_col1\" class=\"data row59 col1\" >0.000000</td>\n",
       "                        <td id=\"T_93aabc80_5e86_11ea_b50a_001a6b0cdb24row59_col2\" class=\"data row59 col2\" >0.000000</td>\n",
       "            </tr>\n",
       "            <tr>\n",
       "                        <th id=\"T_93aabc80_5e86_11ea_b50a_001a6b0cdb24level0_row60\" class=\"row_heading level0 row60\" >Nigeria</th>\n",
       "                        <td id=\"T_93aabc80_5e86_11ea_b50a_001a6b0cdb24row60_col0\" class=\"data row60 col0\" >1.000000</td>\n",
       "                        <td id=\"T_93aabc80_5e86_11ea_b50a_001a6b0cdb24row60_col1\" class=\"data row60 col1\" >0.000000</td>\n",
       "                        <td id=\"T_93aabc80_5e86_11ea_b50a_001a6b0cdb24row60_col2\" class=\"data row60 col2\" >0.000000</td>\n",
       "            </tr>\n",
       "            <tr>\n",
       "                        <th id=\"T_93aabc80_5e86_11ea_b50a_001a6b0cdb24level0_row61\" class=\"row_heading level0 row61\" >New Zealand</th>\n",
       "                        <td id=\"T_93aabc80_5e86_11ea_b50a_001a6b0cdb24row61_col0\" class=\"data row61 col0\" >1.000000</td>\n",
       "                        <td id=\"T_93aabc80_5e86_11ea_b50a_001a6b0cdb24row61_col1\" class=\"data row61 col1\" >0.000000</td>\n",
       "                        <td id=\"T_93aabc80_5e86_11ea_b50a_001a6b0cdb24row61_col2\" class=\"data row61 col2\" >0.000000</td>\n",
       "            </tr>\n",
       "            <tr>\n",
       "                        <th id=\"T_93aabc80_5e86_11ea_b50a_001a6b0cdb24level0_row62\" class=\"row_heading level0 row62\" >Nepal</th>\n",
       "                        <td id=\"T_93aabc80_5e86_11ea_b50a_001a6b0cdb24row62_col0\" class=\"data row62 col0\" >1.000000</td>\n",
       "                        <td id=\"T_93aabc80_5e86_11ea_b50a_001a6b0cdb24row62_col1\" class=\"data row62 col1\" >0.000000</td>\n",
       "                        <td id=\"T_93aabc80_5e86_11ea_b50a_001a6b0cdb24row62_col2\" class=\"data row62 col2\" >1.000000</td>\n",
       "            </tr>\n",
       "            <tr>\n",
       "                        <th id=\"T_93aabc80_5e86_11ea_b50a_001a6b0cdb24level0_row63\" class=\"row_heading level0 row63\" >Morocco</th>\n",
       "                        <td id=\"T_93aabc80_5e86_11ea_b50a_001a6b0cdb24row63_col0\" class=\"data row63 col0\" >1.000000</td>\n",
       "                        <td id=\"T_93aabc80_5e86_11ea_b50a_001a6b0cdb24row63_col1\" class=\"data row63 col1\" >0.000000</td>\n",
       "                        <td id=\"T_93aabc80_5e86_11ea_b50a_001a6b0cdb24row63_col2\" class=\"data row63 col2\" >0.000000</td>\n",
       "            </tr>\n",
       "            <tr>\n",
       "                        <th id=\"T_93aabc80_5e86_11ea_b50a_001a6b0cdb24level0_row64\" class=\"row_heading level0 row64\" >Monaco</th>\n",
       "                        <td id=\"T_93aabc80_5e86_11ea_b50a_001a6b0cdb24row64_col0\" class=\"data row64 col0\" >1.000000</td>\n",
       "                        <td id=\"T_93aabc80_5e86_11ea_b50a_001a6b0cdb24row64_col1\" class=\"data row64 col1\" >0.000000</td>\n",
       "                        <td id=\"T_93aabc80_5e86_11ea_b50a_001a6b0cdb24row64_col2\" class=\"data row64 col2\" >0.000000</td>\n",
       "            </tr>\n",
       "            <tr>\n",
       "                        <th id=\"T_93aabc80_5e86_11ea_b50a_001a6b0cdb24level0_row65\" class=\"row_heading level0 row65\" >Luxembourg</th>\n",
       "                        <td id=\"T_93aabc80_5e86_11ea_b50a_001a6b0cdb24row65_col0\" class=\"data row65 col0\" >1.000000</td>\n",
       "                        <td id=\"T_93aabc80_5e86_11ea_b50a_001a6b0cdb24row65_col1\" class=\"data row65 col1\" >0.000000</td>\n",
       "                        <td id=\"T_93aabc80_5e86_11ea_b50a_001a6b0cdb24row65_col2\" class=\"data row65 col2\" >0.000000</td>\n",
       "            </tr>\n",
       "            <tr>\n",
       "                        <th id=\"T_93aabc80_5e86_11ea_b50a_001a6b0cdb24level0_row66\" class=\"row_heading level0 row66\" >Lithuania</th>\n",
       "                        <td id=\"T_93aabc80_5e86_11ea_b50a_001a6b0cdb24row66_col0\" class=\"data row66 col0\" >1.000000</td>\n",
       "                        <td id=\"T_93aabc80_5e86_11ea_b50a_001a6b0cdb24row66_col1\" class=\"data row66 col1\" >0.000000</td>\n",
       "                        <td id=\"T_93aabc80_5e86_11ea_b50a_001a6b0cdb24row66_col2\" class=\"data row66 col2\" >0.000000</td>\n",
       "            </tr>\n",
       "            <tr>\n",
       "                        <th id=\"T_93aabc80_5e86_11ea_b50a_001a6b0cdb24level0_row67\" class=\"row_heading level0 row67\" >Ireland</th>\n",
       "                        <td id=\"T_93aabc80_5e86_11ea_b50a_001a6b0cdb24row67_col0\" class=\"data row67 col0\" >1.000000</td>\n",
       "                        <td id=\"T_93aabc80_5e86_11ea_b50a_001a6b0cdb24row67_col1\" class=\"data row67 col1\" >0.000000</td>\n",
       "                        <td id=\"T_93aabc80_5e86_11ea_b50a_001a6b0cdb24row67_col2\" class=\"data row67 col2\" >0.000000</td>\n",
       "            </tr>\n",
       "            <tr>\n",
       "                        <th id=\"T_93aabc80_5e86_11ea_b50a_001a6b0cdb24level0_row68\" class=\"row_heading level0 row68\" >Estonia</th>\n",
       "                        <td id=\"T_93aabc80_5e86_11ea_b50a_001a6b0cdb24row68_col0\" class=\"data row68 col0\" >1.000000</td>\n",
       "                        <td id=\"T_93aabc80_5e86_11ea_b50a_001a6b0cdb24row68_col1\" class=\"data row68 col1\" >0.000000</td>\n",
       "                        <td id=\"T_93aabc80_5e86_11ea_b50a_001a6b0cdb24row68_col2\" class=\"data row68 col2\" >0.000000</td>\n",
       "            </tr>\n",
       "            <tr>\n",
       "                        <th id=\"T_93aabc80_5e86_11ea_b50a_001a6b0cdb24level0_row69\" class=\"row_heading level0 row69\" >Dominican Republic</th>\n",
       "                        <td id=\"T_93aabc80_5e86_11ea_b50a_001a6b0cdb24row69_col0\" class=\"data row69 col0\" >1.000000</td>\n",
       "                        <td id=\"T_93aabc80_5e86_11ea_b50a_001a6b0cdb24row69_col1\" class=\"data row69 col1\" >0.000000</td>\n",
       "                        <td id=\"T_93aabc80_5e86_11ea_b50a_001a6b0cdb24row69_col2\" class=\"data row69 col2\" >0.000000</td>\n",
       "            </tr>\n",
       "            <tr>\n",
       "                        <th id=\"T_93aabc80_5e86_11ea_b50a_001a6b0cdb24level0_row70\" class=\"row_heading level0 row70\" >Cambodia</th>\n",
       "                        <td id=\"T_93aabc80_5e86_11ea_b50a_001a6b0cdb24row70_col0\" class=\"data row70 col0\" >1.000000</td>\n",
       "                        <td id=\"T_93aabc80_5e86_11ea_b50a_001a6b0cdb24row70_col1\" class=\"data row70 col1\" >0.000000</td>\n",
       "                        <td id=\"T_93aabc80_5e86_11ea_b50a_001a6b0cdb24row70_col2\" class=\"data row70 col2\" >1.000000</td>\n",
       "            </tr>\n",
       "            <tr>\n",
       "                        <th id=\"T_93aabc80_5e86_11ea_b50a_001a6b0cdb24level0_row71\" class=\"row_heading level0 row71\" >Belarus</th>\n",
       "                        <td id=\"T_93aabc80_5e86_11ea_b50a_001a6b0cdb24row71_col0\" class=\"data row71 col0\" >1.000000</td>\n",
       "                        <td id=\"T_93aabc80_5e86_11ea_b50a_001a6b0cdb24row71_col1\" class=\"data row71 col1\" >0.000000</td>\n",
       "                        <td id=\"T_93aabc80_5e86_11ea_b50a_001a6b0cdb24row71_col2\" class=\"data row71 col2\" >0.000000</td>\n",
       "            </tr>\n",
       "            <tr>\n",
       "                        <th id=\"T_93aabc80_5e86_11ea_b50a_001a6b0cdb24level0_row72\" class=\"row_heading level0 row72\" >Armenia</th>\n",
       "                        <td id=\"T_93aabc80_5e86_11ea_b50a_001a6b0cdb24row72_col0\" class=\"data row72 col0\" >1.000000</td>\n",
       "                        <td id=\"T_93aabc80_5e86_11ea_b50a_001a6b0cdb24row72_col1\" class=\"data row72 col1\" >0.000000</td>\n",
       "                        <td id=\"T_93aabc80_5e86_11ea_b50a_001a6b0cdb24row72_col2\" class=\"data row72 col2\" >0.000000</td>\n",
       "            </tr>\n",
       "            <tr>\n",
       "                        <th id=\"T_93aabc80_5e86_11ea_b50a_001a6b0cdb24level0_row73\" class=\"row_heading level0 row73\" >Andorra</th>\n",
       "                        <td id=\"T_93aabc80_5e86_11ea_b50a_001a6b0cdb24row73_col0\" class=\"data row73 col0\" >1.000000</td>\n",
       "                        <td id=\"T_93aabc80_5e86_11ea_b50a_001a6b0cdb24row73_col1\" class=\"data row73 col1\" >0.000000</td>\n",
       "                        <td id=\"T_93aabc80_5e86_11ea_b50a_001a6b0cdb24row73_col2\" class=\"data row73 col2\" >0.000000</td>\n",
       "            </tr>\n",
       "            <tr>\n",
       "                        <th id=\"T_93aabc80_5e86_11ea_b50a_001a6b0cdb24level0_row74\" class=\"row_heading level0 row74\" >Latvia</th>\n",
       "                        <td id=\"T_93aabc80_5e86_11ea_b50a_001a6b0cdb24row74_col0\" class=\"data row74 col0\" >1.000000</td>\n",
       "                        <td id=\"T_93aabc80_5e86_11ea_b50a_001a6b0cdb24row74_col1\" class=\"data row74 col1\" >0.000000</td>\n",
       "                        <td id=\"T_93aabc80_5e86_11ea_b50a_001a6b0cdb24row74_col2\" class=\"data row74 col2\" >0.000000</td>\n",
       "            </tr>\n",
       "    </tbody></table>"
      ],
      "text/plain": [
       "<pandas.io.formats.style.Styler at 0x1d155031e10>"
      ]
     },
     "execution_count": 30,
     "metadata": {},
     "output_type": "execute_result"
    }
   ],
   "source": [
    "#Total number of latest cases \n",
    "temp = ncovd_latest.groupby('Country/Region')['Confirmed', 'Deaths', 'Recovered'].sum()\n",
    "temp=temp.sort_values(by='Confirmed',ascending=False)\n",
    "temp.style.background_gradient(cmap='coolwarm')"
   ]
  },
  {
   "cell_type": "code",
   "execution_count": 16,
   "metadata": {},
   "outputs": [
    {
     "name": "stdout",
     "output_type": "stream",
     "text": [
      "Number of countries effected 75\n"
     ]
    }
   ],
   "source": [
    "#Number of countries Effected by coronavirus\n",
    "count=ncovd_latest['Country/Region'].unique()\n",
    "print(\"Number of countries effected\",len(count))"
   ]
  },
  {
   "cell_type": "code",
   "execution_count": 127,
   "metadata": {},
   "outputs": [
    {
     "data": {
      "text/html": [
       "<style  type=\"text/css\" >\n",
       "    #T_d7f99dbe_5e98_11ea_8c33_001a6b0cdb24row0_col0 {\n",
       "            background-color:  #440154;\n",
       "            color:  #f1f1f1;\n",
       "        }    #T_d7f99dbe_5e98_11ea_8c33_001a6b0cdb24row0_col1 {\n",
       "            background-color:  #440154;\n",
       "            color:  #f1f1f1;\n",
       "        }    #T_d7f99dbe_5e98_11ea_8c33_001a6b0cdb24row0_col2 {\n",
       "            background-color:  #440154;\n",
       "            color:  #f1f1f1;\n",
       "        }</style><table id=\"T_d7f99dbe_5e98_11ea_8c33_001a6b0cdb24\" ><thead>    <tr>        <th class=\"blank level0\" ></th>        <th class=\"col_heading level0 col0\" >Confirmed</th>        <th class=\"col_heading level0 col1\" >Deaths</th>        <th class=\"col_heading level0 col2\" >Recovered</th>    </tr>    <tr>        <th class=\"index_name level0\" >ObservationDate</th>        <th class=\"blank\" ></th>        <th class=\"blank\" ></th>        <th class=\"blank\" ></th>    </tr></thead><tbody>\n",
       "                <tr>\n",
       "                        <th id=\"T_d7f99dbe_5e98_11ea_8c33_001a6b0cdb24level0_row0\" class=\"row_heading level0 row0\" >03/02/2020</th>\n",
       "                        <td id=\"T_d7f99dbe_5e98_11ea_8c33_001a6b0cdb24row0_col0\" class=\"data row0 col0\" >90309.000000</td>\n",
       "                        <td id=\"T_d7f99dbe_5e98_11ea_8c33_001a6b0cdb24row0_col1\" class=\"data row0 col1\" >3085.000000</td>\n",
       "                        <td id=\"T_d7f99dbe_5e98_11ea_8c33_001a6b0cdb24row0_col2\" class=\"data row0 col2\" >45602.000000</td>\n",
       "            </tr>\n",
       "    </tbody></table>"
      ],
      "text/plain": [
       "<pandas.io.formats.style.Styler at 0x1d1566c85f8>"
      ]
     },
     "execution_count": 127,
     "metadata": {},
     "output_type": "execute_result"
    }
   ],
   "source": [
    "#Latest confirmed, recovered death cases\n",
    "latest=ncovd_latest.groupby('ObservationDate').sum()\n",
    "latest.style.background_gradient(cmap=\"viridis\")\n"
   ]
  },
  {
   "cell_type": "code",
   "execution_count": 34,
   "metadata": {},
   "outputs": [],
   "source": [
    "#Cases in china\n",
    "china=ncovd_latest[ncovd_latest['Country/Region']=='China']\n"
   ]
  },
  {
   "cell_type": "code",
   "execution_count": 35,
   "metadata": {},
   "outputs": [
    {
     "data": {
      "text/html": [
       "<style  type=\"text/css\" >\n",
       "    #T_d976169a_5e86_11ea_865b_001a6b0cdb24row0_col0 {\n",
       "            background-color:  #67000d;\n",
       "            color:  #f1f1f1;\n",
       "        }    #T_d976169a_5e86_11ea_865b_001a6b0cdb24row0_col1 {\n",
       "            background-color:  #67000d;\n",
       "            color:  #f1f1f1;\n",
       "        }    #T_d976169a_5e86_11ea_865b_001a6b0cdb24row0_col2 {\n",
       "            background-color:  #67000d;\n",
       "            color:  #f1f1f1;\n",
       "        }    #T_d976169a_5e86_11ea_865b_001a6b0cdb24row1_col0 {\n",
       "            background-color:  #fff2eb;\n",
       "            color:  #000000;\n",
       "        }    #T_d976169a_5e86_11ea_865b_001a6b0cdb24row1_col1 {\n",
       "            background-color:  #fff5f0;\n",
       "            color:  #000000;\n",
       "        }    #T_d976169a_5e86_11ea_865b_001a6b0cdb24row1_col2 {\n",
       "            background-color:  #fff0e9;\n",
       "            color:  #000000;\n",
       "        }    #T_d976169a_5e86_11ea_865b_001a6b0cdb24row2_col0 {\n",
       "            background-color:  #fff2ec;\n",
       "            color:  #000000;\n",
       "        }    #T_d976169a_5e86_11ea_865b_001a6b0cdb24row2_col1 {\n",
       "            background-color:  #fff4ee;\n",
       "            color:  #000000;\n",
       "        }    #T_d976169a_5e86_11ea_865b_001a6b0cdb24row2_col2 {\n",
       "            background-color:  #ffefe8;\n",
       "            color:  #000000;\n",
       "        }    #T_d976169a_5e86_11ea_865b_001a6b0cdb24row3_col0 {\n",
       "            background-color:  #fff2ec;\n",
       "            color:  #000000;\n",
       "        }    #T_d976169a_5e86_11ea_865b_001a6b0cdb24row3_col1 {\n",
       "            background-color:  #fff5f0;\n",
       "            color:  #000000;\n",
       "        }    #T_d976169a_5e86_11ea_865b_001a6b0cdb24row3_col2 {\n",
       "            background-color:  #fff0e8;\n",
       "            color:  #000000;\n",
       "        }    #T_d976169a_5e86_11ea_865b_001a6b0cdb24row4_col0 {\n",
       "            background-color:  #fff3ed;\n",
       "            color:  #000000;\n",
       "        }    #T_d976169a_5e86_11ea_865b_001a6b0cdb24row4_col1 {\n",
       "            background-color:  #fff5f0;\n",
       "            color:  #000000;\n",
       "        }    #T_d976169a_5e86_11ea_865b_001a6b0cdb24row4_col2 {\n",
       "            background-color:  #fff1ea;\n",
       "            color:  #000000;\n",
       "        }    #T_d976169a_5e86_11ea_865b_001a6b0cdb24row5_col0 {\n",
       "            background-color:  #fff3ed;\n",
       "            color:  #000000;\n",
       "        }    #T_d976169a_5e86_11ea_865b_001a6b0cdb24row5_col1 {\n",
       "            background-color:  #fff5f0;\n",
       "            color:  #000000;\n",
       "        }    #T_d976169a_5e86_11ea_865b_001a6b0cdb24row5_col2 {\n",
       "            background-color:  #fff1ea;\n",
       "            color:  #000000;\n",
       "        }    #T_d976169a_5e86_11ea_865b_001a6b0cdb24row6_col0 {\n",
       "            background-color:  #fff3ed;\n",
       "            color:  #000000;\n",
       "        }    #T_d976169a_5e86_11ea_865b_001a6b0cdb24row6_col1 {\n",
       "            background-color:  #fff5f0;\n",
       "            color:  #000000;\n",
       "        }    #T_d976169a_5e86_11ea_865b_001a6b0cdb24row6_col2 {\n",
       "            background-color:  #fff1ea;\n",
       "            color:  #000000;\n",
       "        }    #T_d976169a_5e86_11ea_865b_001a6b0cdb24row7_col0 {\n",
       "            background-color:  #fff4ee;\n",
       "            color:  #000000;\n",
       "        }    #T_d976169a_5e86_11ea_865b_001a6b0cdb24row7_col1 {\n",
       "            background-color:  #fff5f0;\n",
       "            color:  #000000;\n",
       "        }    #T_d976169a_5e86_11ea_865b_001a6b0cdb24row7_col2 {\n",
       "            background-color:  #fff3ed;\n",
       "            color:  #000000;\n",
       "        }    #T_d976169a_5e86_11ea_865b_001a6b0cdb24row8_col0 {\n",
       "            background-color:  #fff4ee;\n",
       "            color:  #000000;\n",
       "        }    #T_d976169a_5e86_11ea_865b_001a6b0cdb24row8_col1 {\n",
       "            background-color:  #fff5f0;\n",
       "            color:  #000000;\n",
       "        }    #T_d976169a_5e86_11ea_865b_001a6b0cdb24row8_col2 {\n",
       "            background-color:  #fff2ec;\n",
       "            color:  #000000;\n",
       "        }    #T_d976169a_5e86_11ea_865b_001a6b0cdb24row9_col0 {\n",
       "            background-color:  #fff4ee;\n",
       "            color:  #000000;\n",
       "        }    #T_d976169a_5e86_11ea_865b_001a6b0cdb24row9_col1 {\n",
       "            background-color:  #fff5f0;\n",
       "            color:  #000000;\n",
       "        }    #T_d976169a_5e86_11ea_865b_001a6b0cdb24row9_col2 {\n",
       "            background-color:  #fff3ed;\n",
       "            color:  #000000;\n",
       "        }    #T_d976169a_5e86_11ea_865b_001a6b0cdb24row10_col0 {\n",
       "            background-color:  #fff4ee;\n",
       "            color:  #000000;\n",
       "        }    #T_d976169a_5e86_11ea_865b_001a6b0cdb24row10_col1 {\n",
       "            background-color:  #fff5f0;\n",
       "            color:  #000000;\n",
       "        }    #T_d976169a_5e86_11ea_865b_001a6b0cdb24row10_col2 {\n",
       "            background-color:  #fff4ee;\n",
       "            color:  #000000;\n",
       "        }    #T_d976169a_5e86_11ea_865b_001a6b0cdb24row11_col0 {\n",
       "            background-color:  #fff4ef;\n",
       "            color:  #000000;\n",
       "        }    #T_d976169a_5e86_11ea_865b_001a6b0cdb24row11_col1 {\n",
       "            background-color:  #fff4ef;\n",
       "            color:  #000000;\n",
       "        }    #T_d976169a_5e86_11ea_865b_001a6b0cdb24row11_col2 {\n",
       "            background-color:  #fff4ee;\n",
       "            color:  #000000;\n",
       "        }    #T_d976169a_5e86_11ea_865b_001a6b0cdb24row12_col0 {\n",
       "            background-color:  #fff4ef;\n",
       "            color:  #000000;\n",
       "        }    #T_d976169a_5e86_11ea_865b_001a6b0cdb24row12_col1 {\n",
       "            background-color:  #fff5f0;\n",
       "            color:  #000000;\n",
       "        }    #T_d976169a_5e86_11ea_865b_001a6b0cdb24row12_col2 {\n",
       "            background-color:  #fff4ee;\n",
       "            color:  #000000;\n",
       "        }    #T_d976169a_5e86_11ea_865b_001a6b0cdb24row13_col0 {\n",
       "            background-color:  #fff4ef;\n",
       "            color:  #000000;\n",
       "        }    #T_d976169a_5e86_11ea_865b_001a6b0cdb24row13_col1 {\n",
       "            background-color:  #fff5f0;\n",
       "            color:  #000000;\n",
       "        }    #T_d976169a_5e86_11ea_865b_001a6b0cdb24row13_col2 {\n",
       "            background-color:  #fff4ee;\n",
       "            color:  #000000;\n",
       "        }    #T_d976169a_5e86_11ea_865b_001a6b0cdb24row14_col0 {\n",
       "            background-color:  #fff4ef;\n",
       "            color:  #000000;\n",
       "        }    #T_d976169a_5e86_11ea_865b_001a6b0cdb24row14_col1 {\n",
       "            background-color:  #fff5f0;\n",
       "            color:  #000000;\n",
       "        }    #T_d976169a_5e86_11ea_865b_001a6b0cdb24row14_col2 {\n",
       "            background-color:  #fff4ee;\n",
       "            color:  #000000;\n",
       "        }    #T_d976169a_5e86_11ea_865b_001a6b0cdb24row15_col0 {\n",
       "            background-color:  #fff4ef;\n",
       "            color:  #000000;\n",
       "        }    #T_d976169a_5e86_11ea_865b_001a6b0cdb24row15_col1 {\n",
       "            background-color:  #fff5f0;\n",
       "            color:  #000000;\n",
       "        }    #T_d976169a_5e86_11ea_865b_001a6b0cdb24row15_col2 {\n",
       "            background-color:  #fff4ef;\n",
       "            color:  #000000;\n",
       "        }    #T_d976169a_5e86_11ea_865b_001a6b0cdb24row16_col0 {\n",
       "            background-color:  #fff5f0;\n",
       "            color:  #000000;\n",
       "        }    #T_d976169a_5e86_11ea_865b_001a6b0cdb24row16_col1 {\n",
       "            background-color:  #fff5f0;\n",
       "            color:  #000000;\n",
       "        }    #T_d976169a_5e86_11ea_865b_001a6b0cdb24row16_col2 {\n",
       "            background-color:  #fff4ef;\n",
       "            color:  #000000;\n",
       "        }    #T_d976169a_5e86_11ea_865b_001a6b0cdb24row17_col0 {\n",
       "            background-color:  #fff5f0;\n",
       "            color:  #000000;\n",
       "        }    #T_d976169a_5e86_11ea_865b_001a6b0cdb24row17_col1 {\n",
       "            background-color:  #fff5f0;\n",
       "            color:  #000000;\n",
       "        }    #T_d976169a_5e86_11ea_865b_001a6b0cdb24row17_col2 {\n",
       "            background-color:  #fff4ef;\n",
       "            color:  #000000;\n",
       "        }    #T_d976169a_5e86_11ea_865b_001a6b0cdb24row18_col0 {\n",
       "            background-color:  #fff5f0;\n",
       "            color:  #000000;\n",
       "        }    #T_d976169a_5e86_11ea_865b_001a6b0cdb24row18_col1 {\n",
       "            background-color:  #fff5f0;\n",
       "            color:  #000000;\n",
       "        }    #T_d976169a_5e86_11ea_865b_001a6b0cdb24row18_col2 {\n",
       "            background-color:  #fff4ef;\n",
       "            color:  #000000;\n",
       "        }    #T_d976169a_5e86_11ea_865b_001a6b0cdb24row19_col0 {\n",
       "            background-color:  #fff5f0;\n",
       "            color:  #000000;\n",
       "        }    #T_d976169a_5e86_11ea_865b_001a6b0cdb24row19_col1 {\n",
       "            background-color:  #fff5f0;\n",
       "            color:  #000000;\n",
       "        }    #T_d976169a_5e86_11ea_865b_001a6b0cdb24row19_col2 {\n",
       "            background-color:  #fff4ef;\n",
       "            color:  #000000;\n",
       "        }    #T_d976169a_5e86_11ea_865b_001a6b0cdb24row20_col0 {\n",
       "            background-color:  #fff5f0;\n",
       "            color:  #000000;\n",
       "        }    #T_d976169a_5e86_11ea_865b_001a6b0cdb24row20_col1 {\n",
       "            background-color:  #fff5f0;\n",
       "            color:  #000000;\n",
       "        }    #T_d976169a_5e86_11ea_865b_001a6b0cdb24row20_col2 {\n",
       "            background-color:  #fff5f0;\n",
       "            color:  #000000;\n",
       "        }    #T_d976169a_5e86_11ea_865b_001a6b0cdb24row21_col0 {\n",
       "            background-color:  #fff5f0;\n",
       "            color:  #000000;\n",
       "        }    #T_d976169a_5e86_11ea_865b_001a6b0cdb24row21_col1 {\n",
       "            background-color:  #fff5f0;\n",
       "            color:  #000000;\n",
       "        }    #T_d976169a_5e86_11ea_865b_001a6b0cdb24row21_col2 {\n",
       "            background-color:  #fff5f0;\n",
       "            color:  #000000;\n",
       "        }    #T_d976169a_5e86_11ea_865b_001a6b0cdb24row22_col0 {\n",
       "            background-color:  #fff5f0;\n",
       "            color:  #000000;\n",
       "        }    #T_d976169a_5e86_11ea_865b_001a6b0cdb24row22_col1 {\n",
       "            background-color:  #fff5f0;\n",
       "            color:  #000000;\n",
       "        }    #T_d976169a_5e86_11ea_865b_001a6b0cdb24row22_col2 {\n",
       "            background-color:  #fff5f0;\n",
       "            color:  #000000;\n",
       "        }    #T_d976169a_5e86_11ea_865b_001a6b0cdb24row23_col0 {\n",
       "            background-color:  #fff5f0;\n",
       "            color:  #000000;\n",
       "        }    #T_d976169a_5e86_11ea_865b_001a6b0cdb24row23_col1 {\n",
       "            background-color:  #fff5f0;\n",
       "            color:  #000000;\n",
       "        }    #T_d976169a_5e86_11ea_865b_001a6b0cdb24row23_col2 {\n",
       "            background-color:  #fff5f0;\n",
       "            color:  #000000;\n",
       "        }    #T_d976169a_5e86_11ea_865b_001a6b0cdb24row24_col0 {\n",
       "            background-color:  #fff5f0;\n",
       "            color:  #000000;\n",
       "        }    #T_d976169a_5e86_11ea_865b_001a6b0cdb24row24_col1 {\n",
       "            background-color:  #fff5f0;\n",
       "            color:  #000000;\n",
       "        }    #T_d976169a_5e86_11ea_865b_001a6b0cdb24row24_col2 {\n",
       "            background-color:  #fff5f0;\n",
       "            color:  #000000;\n",
       "        }    #T_d976169a_5e86_11ea_865b_001a6b0cdb24row25_col0 {\n",
       "            background-color:  #fff5f0;\n",
       "            color:  #000000;\n",
       "        }    #T_d976169a_5e86_11ea_865b_001a6b0cdb24row25_col1 {\n",
       "            background-color:  #fff5f0;\n",
       "            color:  #000000;\n",
       "        }    #T_d976169a_5e86_11ea_865b_001a6b0cdb24row25_col2 {\n",
       "            background-color:  #fff5f0;\n",
       "            color:  #000000;\n",
       "        }    #T_d976169a_5e86_11ea_865b_001a6b0cdb24row26_col0 {\n",
       "            background-color:  #fff5f0;\n",
       "            color:  #000000;\n",
       "        }    #T_d976169a_5e86_11ea_865b_001a6b0cdb24row26_col1 {\n",
       "            background-color:  #fff5f0;\n",
       "            color:  #000000;\n",
       "        }    #T_d976169a_5e86_11ea_865b_001a6b0cdb24row26_col2 {\n",
       "            background-color:  #fff5f0;\n",
       "            color:  #000000;\n",
       "        }    #T_d976169a_5e86_11ea_865b_001a6b0cdb24row27_col0 {\n",
       "            background-color:  #fff5f0;\n",
       "            color:  #000000;\n",
       "        }    #T_d976169a_5e86_11ea_865b_001a6b0cdb24row27_col1 {\n",
       "            background-color:  #fff5f0;\n",
       "            color:  #000000;\n",
       "        }    #T_d976169a_5e86_11ea_865b_001a6b0cdb24row27_col2 {\n",
       "            background-color:  #fff5f0;\n",
       "            color:  #000000;\n",
       "        }    #T_d976169a_5e86_11ea_865b_001a6b0cdb24row28_col0 {\n",
       "            background-color:  #fff5f0;\n",
       "            color:  #000000;\n",
       "        }    #T_d976169a_5e86_11ea_865b_001a6b0cdb24row28_col1 {\n",
       "            background-color:  #fff5f0;\n",
       "            color:  #000000;\n",
       "        }    #T_d976169a_5e86_11ea_865b_001a6b0cdb24row28_col2 {\n",
       "            background-color:  #fff5f0;\n",
       "            color:  #000000;\n",
       "        }    #T_d976169a_5e86_11ea_865b_001a6b0cdb24row29_col0 {\n",
       "            background-color:  #fff5f0;\n",
       "            color:  #000000;\n",
       "        }    #T_d976169a_5e86_11ea_865b_001a6b0cdb24row29_col1 {\n",
       "            background-color:  #fff5f0;\n",
       "            color:  #000000;\n",
       "        }    #T_d976169a_5e86_11ea_865b_001a6b0cdb24row29_col2 {\n",
       "            background-color:  #fff5f0;\n",
       "            color:  #000000;\n",
       "        }    #T_d976169a_5e86_11ea_865b_001a6b0cdb24row30_col0 {\n",
       "            background-color:  #fff5f0;\n",
       "            color:  #000000;\n",
       "        }    #T_d976169a_5e86_11ea_865b_001a6b0cdb24row30_col1 {\n",
       "            background-color:  #fff5f0;\n",
       "            color:  #000000;\n",
       "        }    #T_d976169a_5e86_11ea_865b_001a6b0cdb24row30_col2 {\n",
       "            background-color:  #fff5f0;\n",
       "            color:  #000000;\n",
       "        }</style><table id=\"T_d976169a_5e86_11ea_865b_001a6b0cdb24\" ><thead>    <tr>        <th class=\"blank level0\" ></th>        <th class=\"col_heading level0 col0\" >Confirmed</th>        <th class=\"col_heading level0 col1\" >Deaths</th>        <th class=\"col_heading level0 col2\" >Recovered</th>    </tr>    <tr>        <th class=\"index_name level0\" >Province/State</th>        <th class=\"blank\" ></th>        <th class=\"blank\" ></th>        <th class=\"blank\" ></th>    </tr></thead><tbody>\n",
       "                <tr>\n",
       "                        <th id=\"T_d976169a_5e86_11ea_865b_001a6b0cdb24level0_row0\" class=\"row_heading level0 row0\" >Hubei</th>\n",
       "                        <td id=\"T_d976169a_5e86_11ea_865b_001a6b0cdb24row0_col0\" class=\"data row0 col0\" >67103.000000</td>\n",
       "                        <td id=\"T_d976169a_5e86_11ea_865b_001a6b0cdb24row0_col1\" class=\"data row0 col1\" >2803.000000</td>\n",
       "                        <td id=\"T_d976169a_5e86_11ea_865b_001a6b0cdb24row0_col2\" class=\"data row0 col2\" >33934.000000</td>\n",
       "            </tr>\n",
       "            <tr>\n",
       "                        <th id=\"T_d976169a_5e86_11ea_865b_001a6b0cdb24level0_row1\" class=\"row_heading level0 row1\" >Guangdong</th>\n",
       "                        <td id=\"T_d976169a_5e86_11ea_865b_001a6b0cdb24row1_col0\" class=\"data row1 col0\" >1350.000000</td>\n",
       "                        <td id=\"T_d976169a_5e86_11ea_865b_001a6b0cdb24row1_col1\" class=\"data row1 col1\" >7.000000</td>\n",
       "                        <td id=\"T_d976169a_5e86_11ea_865b_001a6b0cdb24row1_col2\" class=\"data row1 col2\" >1059.000000</td>\n",
       "            </tr>\n",
       "            <tr>\n",
       "                        <th id=\"T_d976169a_5e86_11ea_865b_001a6b0cdb24level0_row2\" class=\"row_heading level0 row2\" >Henan</th>\n",
       "                        <td id=\"T_d976169a_5e86_11ea_865b_001a6b0cdb24row2_col0\" class=\"data row2 col0\" >1272.000000</td>\n",
       "                        <td id=\"T_d976169a_5e86_11ea_865b_001a6b0cdb24row2_col1\" class=\"data row2 col1\" >22.000000</td>\n",
       "                        <td id=\"T_d976169a_5e86_11ea_865b_001a6b0cdb24row2_col2\" class=\"data row2 col2\" >1205.000000</td>\n",
       "            </tr>\n",
       "            <tr>\n",
       "                        <th id=\"T_d976169a_5e86_11ea_865b_001a6b0cdb24level0_row3\" class=\"row_heading level0 row3\" >Zhejiang</th>\n",
       "                        <td id=\"T_d976169a_5e86_11ea_865b_001a6b0cdb24row3_col0\" class=\"data row3 col0\" >1206.000000</td>\n",
       "                        <td id=\"T_d976169a_5e86_11ea_865b_001a6b0cdb24row3_col1\" class=\"data row3 col1\" >1.000000</td>\n",
       "                        <td id=\"T_d976169a_5e86_11ea_865b_001a6b0cdb24row3_col2\" class=\"data row3 col2\" >1069.000000</td>\n",
       "            </tr>\n",
       "            <tr>\n",
       "                        <th id=\"T_d976169a_5e86_11ea_865b_001a6b0cdb24level0_row4\" class=\"row_heading level0 row4\" >Hunan</th>\n",
       "                        <td id=\"T_d976169a_5e86_11ea_865b_001a6b0cdb24row4_col0\" class=\"data row4 col0\" >1018.000000</td>\n",
       "                        <td id=\"T_d976169a_5e86_11ea_865b_001a6b0cdb24row4_col1\" class=\"data row4 col1\" >4.000000</td>\n",
       "                        <td id=\"T_d976169a_5e86_11ea_865b_001a6b0cdb24row4_col2\" class=\"data row4 col2\" >887.000000</td>\n",
       "            </tr>\n",
       "            <tr>\n",
       "                        <th id=\"T_d976169a_5e86_11ea_865b_001a6b0cdb24level0_row5\" class=\"row_heading level0 row5\" >Anhui</th>\n",
       "                        <td id=\"T_d976169a_5e86_11ea_865b_001a6b0cdb24row5_col0\" class=\"data row5 col0\" >990.000000</td>\n",
       "                        <td id=\"T_d976169a_5e86_11ea_865b_001a6b0cdb24row5_col1\" class=\"data row5 col1\" >6.000000</td>\n",
       "                        <td id=\"T_d976169a_5e86_11ea_865b_001a6b0cdb24row5_col2\" class=\"data row5 col2\" >917.000000</td>\n",
       "            </tr>\n",
       "            <tr>\n",
       "                        <th id=\"T_d976169a_5e86_11ea_865b_001a6b0cdb24level0_row6\" class=\"row_heading level0 row6\" >Jiangxi</th>\n",
       "                        <td id=\"T_d976169a_5e86_11ea_865b_001a6b0cdb24row6_col0\" class=\"data row6 col0\" >935.000000</td>\n",
       "                        <td id=\"T_d976169a_5e86_11ea_865b_001a6b0cdb24row6_col1\" class=\"data row6 col1\" >1.000000</td>\n",
       "                        <td id=\"T_d976169a_5e86_11ea_865b_001a6b0cdb24row6_col2\" class=\"data row6 col2\" >850.000000</td>\n",
       "            </tr>\n",
       "            <tr>\n",
       "                        <th id=\"T_d976169a_5e86_11ea_865b_001a6b0cdb24level0_row7\" class=\"row_heading level0 row7\" >Shandong</th>\n",
       "                        <td id=\"T_d976169a_5e86_11ea_865b_001a6b0cdb24row7_col0\" class=\"data row7 col0\" >758.000000</td>\n",
       "                        <td id=\"T_d976169a_5e86_11ea_865b_001a6b0cdb24row7_col1\" class=\"data row7 col1\" >6.000000</td>\n",
       "                        <td id=\"T_d976169a_5e86_11ea_865b_001a6b0cdb24row7_col2\" class=\"data row7 col2\" >460.000000</td>\n",
       "            </tr>\n",
       "            <tr>\n",
       "                        <th id=\"T_d976169a_5e86_11ea_865b_001a6b0cdb24level0_row8\" class=\"row_heading level0 row8\" >Jiangsu</th>\n",
       "                        <td id=\"T_d976169a_5e86_11ea_865b_001a6b0cdb24row8_col0\" class=\"data row8 col0\" >631.000000</td>\n",
       "                        <td id=\"T_d976169a_5e86_11ea_865b_001a6b0cdb24row8_col1\" class=\"data row8 col1\" >0.000000</td>\n",
       "                        <td id=\"T_d976169a_5e86_11ea_865b_001a6b0cdb24row8_col2\" class=\"data row8 col2\" >543.000000</td>\n",
       "            </tr>\n",
       "            <tr>\n",
       "                        <th id=\"T_d976169a_5e86_11ea_865b_001a6b0cdb24level0_row9\" class=\"row_heading level0 row9\" >Chongqing</th>\n",
       "                        <td id=\"T_d976169a_5e86_11ea_865b_001a6b0cdb24row9_col0\" class=\"data row9 col0\" >576.000000</td>\n",
       "                        <td id=\"T_d976169a_5e86_11ea_865b_001a6b0cdb24row9_col1\" class=\"data row9 col1\" >6.000000</td>\n",
       "                        <td id=\"T_d976169a_5e86_11ea_865b_001a6b0cdb24row9_col2\" class=\"data row9 col2\" >469.000000</td>\n",
       "            </tr>\n",
       "            <tr>\n",
       "                        <th id=\"T_d976169a_5e86_11ea_865b_001a6b0cdb24level0_row10\" class=\"row_heading level0 row10\" >Sichuan</th>\n",
       "                        <td id=\"T_d976169a_5e86_11ea_865b_001a6b0cdb24row10_col0\" class=\"data row10 col0\" >538.000000</td>\n",
       "                        <td id=\"T_d976169a_5e86_11ea_865b_001a6b0cdb24row10_col1\" class=\"data row10 col1\" >3.000000</td>\n",
       "                        <td id=\"T_d976169a_5e86_11ea_865b_001a6b0cdb24row10_col2\" class=\"data row10 col2\" >386.000000</td>\n",
       "            </tr>\n",
       "            <tr>\n",
       "                        <th id=\"T_d976169a_5e86_11ea_865b_001a6b0cdb24level0_row11\" class=\"row_heading level0 row11\" >Heilongjiang</th>\n",
       "                        <td id=\"T_d976169a_5e86_11ea_865b_001a6b0cdb24row11_col0\" class=\"data row11 col0\" >480.000000</td>\n",
       "                        <td id=\"T_d976169a_5e86_11ea_865b_001a6b0cdb24row11_col1\" class=\"data row11 col1\" >13.000000</td>\n",
       "                        <td id=\"T_d976169a_5e86_11ea_865b_001a6b0cdb24row11_col2\" class=\"data row11 col2\" >356.000000</td>\n",
       "            </tr>\n",
       "            <tr>\n",
       "                        <th id=\"T_d976169a_5e86_11ea_865b_001a6b0cdb24level0_row12\" class=\"row_heading level0 row12\" >Beijing</th>\n",
       "                        <td id=\"T_d976169a_5e86_11ea_865b_001a6b0cdb24row12_col0\" class=\"data row12 col0\" >414.000000</td>\n",
       "                        <td id=\"T_d976169a_5e86_11ea_865b_001a6b0cdb24row12_col1\" class=\"data row12 col1\" >8.000000</td>\n",
       "                        <td id=\"T_d976169a_5e86_11ea_865b_001a6b0cdb24row12_col2\" class=\"data row12 col2\" >282.000000</td>\n",
       "            </tr>\n",
       "            <tr>\n",
       "                        <th id=\"T_d976169a_5e86_11ea_865b_001a6b0cdb24level0_row13\" class=\"row_heading level0 row13\" >Shanghai</th>\n",
       "                        <td id=\"T_d976169a_5e86_11ea_865b_001a6b0cdb24row13_col0\" class=\"data row13 col0\" >337.000000</td>\n",
       "                        <td id=\"T_d976169a_5e86_11ea_865b_001a6b0cdb24row13_col1\" class=\"data row13 col1\" >3.000000</td>\n",
       "                        <td id=\"T_d976169a_5e86_11ea_865b_001a6b0cdb24row13_col2\" class=\"data row13 col2\" >292.000000</td>\n",
       "            </tr>\n",
       "            <tr>\n",
       "                        <th id=\"T_d976169a_5e86_11ea_865b_001a6b0cdb24level0_row14\" class=\"row_heading level0 row14\" >Hebei</th>\n",
       "                        <td id=\"T_d976169a_5e86_11ea_865b_001a6b0cdb24row14_col0\" class=\"data row14 col0\" >318.000000</td>\n",
       "                        <td id=\"T_d976169a_5e86_11ea_865b_001a6b0cdb24row14_col1\" class=\"data row14 col1\" >6.000000</td>\n",
       "                        <td id=\"T_d976169a_5e86_11ea_865b_001a6b0cdb24row14_col2\" class=\"data row14 col2\" >296.000000</td>\n",
       "            </tr>\n",
       "            <tr>\n",
       "                        <th id=\"T_d976169a_5e86_11ea_865b_001a6b0cdb24level0_row15\" class=\"row_heading level0 row15\" >Fujian</th>\n",
       "                        <td id=\"T_d976169a_5e86_11ea_865b_001a6b0cdb24row15_col0\" class=\"data row15 col0\" >296.000000</td>\n",
       "                        <td id=\"T_d976169a_5e86_11ea_865b_001a6b0cdb24row15_col1\" class=\"data row15 col1\" >1.000000</td>\n",
       "                        <td id=\"T_d976169a_5e86_11ea_865b_001a6b0cdb24row15_col2\" class=\"data row15 col2\" >255.000000</td>\n",
       "            </tr>\n",
       "            <tr>\n",
       "                        <th id=\"T_d976169a_5e86_11ea_865b_001a6b0cdb24level0_row16\" class=\"row_heading level0 row16\" >Guangxi</th>\n",
       "                        <td id=\"T_d976169a_5e86_11ea_865b_001a6b0cdb24row16_col0\" class=\"data row16 col0\" >252.000000</td>\n",
       "                        <td id=\"T_d976169a_5e86_11ea_865b_001a6b0cdb24row16_col1\" class=\"data row16 col1\" >2.000000</td>\n",
       "                        <td id=\"T_d976169a_5e86_11ea_865b_001a6b0cdb24row16_col2\" class=\"data row16 col2\" >192.000000</td>\n",
       "            </tr>\n",
       "            <tr>\n",
       "                        <th id=\"T_d976169a_5e86_11ea_865b_001a6b0cdb24level0_row17\" class=\"row_heading level0 row17\" >Shaanxi</th>\n",
       "                        <td id=\"T_d976169a_5e86_11ea_865b_001a6b0cdb24row17_col0\" class=\"data row17 col0\" >245.000000</td>\n",
       "                        <td id=\"T_d976169a_5e86_11ea_865b_001a6b0cdb24row17_col1\" class=\"data row17 col1\" >1.000000</td>\n",
       "                        <td id=\"T_d976169a_5e86_11ea_865b_001a6b0cdb24row17_col2\" class=\"data row17 col2\" >216.000000</td>\n",
       "            </tr>\n",
       "            <tr>\n",
       "                        <th id=\"T_d976169a_5e86_11ea_865b_001a6b0cdb24level0_row18\" class=\"row_heading level0 row18\" >Yunnan</th>\n",
       "                        <td id=\"T_d976169a_5e86_11ea_865b_001a6b0cdb24row18_col0\" class=\"data row18 col0\" >174.000000</td>\n",
       "                        <td id=\"T_d976169a_5e86_11ea_865b_001a6b0cdb24row18_col1\" class=\"data row18 col1\" >2.000000</td>\n",
       "                        <td id=\"T_d976169a_5e86_11ea_865b_001a6b0cdb24row18_col2\" class=\"data row18 col2\" >168.000000</td>\n",
       "            </tr>\n",
       "            <tr>\n",
       "                        <th id=\"T_d976169a_5e86_11ea_865b_001a6b0cdb24level0_row19\" class=\"row_heading level0 row19\" >Hainan</th>\n",
       "                        <td id=\"T_d976169a_5e86_11ea_865b_001a6b0cdb24row19_col0\" class=\"data row19 col0\" >168.000000</td>\n",
       "                        <td id=\"T_d976169a_5e86_11ea_865b_001a6b0cdb24row19_col1\" class=\"data row19 col1\" >5.000000</td>\n",
       "                        <td id=\"T_d976169a_5e86_11ea_865b_001a6b0cdb24row19_col2\" class=\"data row19 col2\" >151.000000</td>\n",
       "            </tr>\n",
       "            <tr>\n",
       "                        <th id=\"T_d976169a_5e86_11ea_865b_001a6b0cdb24level0_row20\" class=\"row_heading level0 row20\" >Guizhou</th>\n",
       "                        <td id=\"T_d976169a_5e86_11ea_865b_001a6b0cdb24row20_col0\" class=\"data row20 col0\" >146.000000</td>\n",
       "                        <td id=\"T_d976169a_5e86_11ea_865b_001a6b0cdb24row20_col1\" class=\"data row20 col1\" >2.000000</td>\n",
       "                        <td id=\"T_d976169a_5e86_11ea_865b_001a6b0cdb24row20_col2\" class=\"data row20 col2\" >114.000000</td>\n",
       "            </tr>\n",
       "            <tr>\n",
       "                        <th id=\"T_d976169a_5e86_11ea_865b_001a6b0cdb24level0_row21\" class=\"row_heading level0 row21\" >Tianjin</th>\n",
       "                        <td id=\"T_d976169a_5e86_11ea_865b_001a6b0cdb24row21_col0\" class=\"data row21 col0\" >136.000000</td>\n",
       "                        <td id=\"T_d976169a_5e86_11ea_865b_001a6b0cdb24row21_col1\" class=\"data row21 col1\" >3.000000</td>\n",
       "                        <td id=\"T_d976169a_5e86_11ea_865b_001a6b0cdb24row21_col2\" class=\"data row21 col2\" >111.000000</td>\n",
       "            </tr>\n",
       "            <tr>\n",
       "                        <th id=\"T_d976169a_5e86_11ea_865b_001a6b0cdb24level0_row22\" class=\"row_heading level0 row22\" >Shanxi</th>\n",
       "                        <td id=\"T_d976169a_5e86_11ea_865b_001a6b0cdb24row22_col0\" class=\"data row22 col0\" >133.000000</td>\n",
       "                        <td id=\"T_d976169a_5e86_11ea_865b_001a6b0cdb24row22_col1\" class=\"data row22 col1\" >0.000000</td>\n",
       "                        <td id=\"T_d976169a_5e86_11ea_865b_001a6b0cdb24row22_col2\" class=\"data row22 col2\" >119.000000</td>\n",
       "            </tr>\n",
       "            <tr>\n",
       "                        <th id=\"T_d976169a_5e86_11ea_865b_001a6b0cdb24level0_row23\" class=\"row_heading level0 row23\" >Liaoning</th>\n",
       "                        <td id=\"T_d976169a_5e86_11ea_865b_001a6b0cdb24row23_col0\" class=\"data row23 col0\" >122.000000</td>\n",
       "                        <td id=\"T_d976169a_5e86_11ea_865b_001a6b0cdb24row23_col1\" class=\"data row23 col1\" >1.000000</td>\n",
       "                        <td id=\"T_d976169a_5e86_11ea_865b_001a6b0cdb24row23_col2\" class=\"data row23 col2\" >103.000000</td>\n",
       "            </tr>\n",
       "            <tr>\n",
       "                        <th id=\"T_d976169a_5e86_11ea_865b_001a6b0cdb24level0_row24\" class=\"row_heading level0 row24\" >Jilin</th>\n",
       "                        <td id=\"T_d976169a_5e86_11ea_865b_001a6b0cdb24row24_col0\" class=\"data row24 col0\" >93.000000</td>\n",
       "                        <td id=\"T_d976169a_5e86_11ea_865b_001a6b0cdb24row24_col1\" class=\"data row24 col1\" >1.000000</td>\n",
       "                        <td id=\"T_d976169a_5e86_11ea_865b_001a6b0cdb24row24_col2\" class=\"data row24 col2\" >83.000000</td>\n",
       "            </tr>\n",
       "            <tr>\n",
       "                        <th id=\"T_d976169a_5e86_11ea_865b_001a6b0cdb24level0_row25\" class=\"row_heading level0 row25\" >Gansu</th>\n",
       "                        <td id=\"T_d976169a_5e86_11ea_865b_001a6b0cdb24row25_col0\" class=\"data row25 col0\" >91.000000</td>\n",
       "                        <td id=\"T_d976169a_5e86_11ea_865b_001a6b0cdb24row25_col1\" class=\"data row25 col1\" >2.000000</td>\n",
       "                        <td id=\"T_d976169a_5e86_11ea_865b_001a6b0cdb24row25_col2\" class=\"data row25 col2\" >85.000000</td>\n",
       "            </tr>\n",
       "            <tr>\n",
       "                        <th id=\"T_d976169a_5e86_11ea_865b_001a6b0cdb24level0_row26\" class=\"row_heading level0 row26\" >Xinjiang</th>\n",
       "                        <td id=\"T_d976169a_5e86_11ea_865b_001a6b0cdb24row26_col0\" class=\"data row26 col0\" >76.000000</td>\n",
       "                        <td id=\"T_d976169a_5e86_11ea_865b_001a6b0cdb24row26_col1\" class=\"data row26 col1\" >3.000000</td>\n",
       "                        <td id=\"T_d976169a_5e86_11ea_865b_001a6b0cdb24row26_col2\" class=\"data row26 col2\" >66.000000</td>\n",
       "            </tr>\n",
       "            <tr>\n",
       "                        <th id=\"T_d976169a_5e86_11ea_865b_001a6b0cdb24level0_row27\" class=\"row_heading level0 row27\" >Inner Mongolia</th>\n",
       "                        <td id=\"T_d976169a_5e86_11ea_865b_001a6b0cdb24row27_col0\" class=\"data row27 col0\" >75.000000</td>\n",
       "                        <td id=\"T_d976169a_5e86_11ea_865b_001a6b0cdb24row27_col1\" class=\"data row27 col1\" >0.000000</td>\n",
       "                        <td id=\"T_d976169a_5e86_11ea_865b_001a6b0cdb24row27_col2\" class=\"data row27 col2\" >54.000000</td>\n",
       "            </tr>\n",
       "            <tr>\n",
       "                        <th id=\"T_d976169a_5e86_11ea_865b_001a6b0cdb24level0_row28\" class=\"row_heading level0 row28\" >Ningxia</th>\n",
       "                        <td id=\"T_d976169a_5e86_11ea_865b_001a6b0cdb24row28_col0\" class=\"data row28 col0\" >74.000000</td>\n",
       "                        <td id=\"T_d976169a_5e86_11ea_865b_001a6b0cdb24row28_col1\" class=\"data row28 col1\" >0.000000</td>\n",
       "                        <td id=\"T_d976169a_5e86_11ea_865b_001a6b0cdb24row28_col2\" class=\"data row28 col2\" >69.000000</td>\n",
       "            </tr>\n",
       "            <tr>\n",
       "                        <th id=\"T_d976169a_5e86_11ea_865b_001a6b0cdb24level0_row29\" class=\"row_heading level0 row29\" >Qinghai</th>\n",
       "                        <td id=\"T_d976169a_5e86_11ea_865b_001a6b0cdb24row29_col0\" class=\"data row29 col0\" >18.000000</td>\n",
       "                        <td id=\"T_d976169a_5e86_11ea_865b_001a6b0cdb24row29_col1\" class=\"data row29 col1\" >0.000000</td>\n",
       "                        <td id=\"T_d976169a_5e86_11ea_865b_001a6b0cdb24row29_col2\" class=\"data row29 col2\" >18.000000</td>\n",
       "            </tr>\n",
       "            <tr>\n",
       "                        <th id=\"T_d976169a_5e86_11ea_865b_001a6b0cdb24level0_row30\" class=\"row_heading level0 row30\" >Tibet</th>\n",
       "                        <td id=\"T_d976169a_5e86_11ea_865b_001a6b0cdb24row30_col0\" class=\"data row30 col0\" >1.000000</td>\n",
       "                        <td id=\"T_d976169a_5e86_11ea_865b_001a6b0cdb24row30_col1\" class=\"data row30 col1\" >0.000000</td>\n",
       "                        <td id=\"T_d976169a_5e86_11ea_865b_001a6b0cdb24row30_col2\" class=\"data row30 col2\" >1.000000</td>\n",
       "            </tr>\n",
       "    </tbody></table>"
      ],
      "text/plain": [
       "<pandas.io.formats.style.Styler at 0x1d14dea5e80>"
      ]
     },
     "execution_count": 35,
     "metadata": {},
     "output_type": "execute_result"
    }
   ],
   "source": [
    "china_cases=china.groupby('Province/State').sum()\n",
    "china_cases=china_cases.sort_values(by='Confirmed',ascending=False)\n",
    "china_cases.style.background_gradient(cmap='Reds')"
   ]
  },
  {
   "cell_type": "code",
   "execution_count": 36,
   "metadata": {},
   "outputs": [],
   "source": [
    "#Cases in USA\n",
    "USA=ncovd_latest[ncovd_latest['Country/Region']=='US']\n"
   ]
  },
  {
   "cell_type": "code",
   "execution_count": 37,
   "metadata": {},
   "outputs": [
    {
     "data": {
      "text/html": [
       "<style  type=\"text/css\" >\n",
       "    #T_dce64d1a_5e86_11ea_817f_001a6b0cdb24row0_col0 {\n",
       "            background-color:  #08306b;\n",
       "            color:  #f1f1f1;\n",
       "        }    #T_dce64d1a_5e86_11ea_817f_001a6b0cdb24row0_col1 {\n",
       "            background-color:  #f7fbff;\n",
       "            color:  #000000;\n",
       "        }    #T_dce64d1a_5e86_11ea_817f_001a6b0cdb24row0_col2 {\n",
       "            background-color:  #f7fbff;\n",
       "            color:  #000000;\n",
       "        }    #T_dce64d1a_5e86_11ea_817f_001a6b0cdb24row1_col0 {\n",
       "            background-color:  #b3d3e8;\n",
       "            color:  #000000;\n",
       "        }    #T_dce64d1a_5e86_11ea_817f_001a6b0cdb24row1_col1 {\n",
       "            background-color:  #08306b;\n",
       "            color:  #f1f1f1;\n",
       "        }    #T_dce64d1a_5e86_11ea_817f_001a6b0cdb24row1_col2 {\n",
       "            background-color:  #6aaed6;\n",
       "            color:  #000000;\n",
       "        }    #T_dce64d1a_5e86_11ea_817f_001a6b0cdb24row2_col0 {\n",
       "            background-color:  #d0e1f2;\n",
       "            color:  #000000;\n",
       "        }    #T_dce64d1a_5e86_11ea_817f_001a6b0cdb24row2_col1 {\n",
       "            background-color:  #f7fbff;\n",
       "            color:  #000000;\n",
       "        }    #T_dce64d1a_5e86_11ea_817f_001a6b0cdb24row2_col2 {\n",
       "            background-color:  #6aaed6;\n",
       "            color:  #000000;\n",
       "        }    #T_dce64d1a_5e86_11ea_817f_001a6b0cdb24row3_col0 {\n",
       "            background-color:  #e6f0f9;\n",
       "            color:  #000000;\n",
       "        }    #T_dce64d1a_5e86_11ea_817f_001a6b0cdb24row3_col1 {\n",
       "            background-color:  #d0e1f2;\n",
       "            color:  #000000;\n",
       "        }    #T_dce64d1a_5e86_11ea_817f_001a6b0cdb24row3_col2 {\n",
       "            background-color:  #f7fbff;\n",
       "            color:  #000000;\n",
       "        }    #T_dce64d1a_5e86_11ea_817f_001a6b0cdb24row4_col0 {\n",
       "            background-color:  #e6f0f9;\n",
       "            color:  #000000;\n",
       "        }    #T_dce64d1a_5e86_11ea_817f_001a6b0cdb24row4_col1 {\n",
       "            background-color:  #f7fbff;\n",
       "            color:  #000000;\n",
       "        }    #T_dce64d1a_5e86_11ea_817f_001a6b0cdb24row4_col2 {\n",
       "            background-color:  #08306b;\n",
       "            color:  #f1f1f1;\n",
       "        }    #T_dce64d1a_5e86_11ea_817f_001a6b0cdb24row5_col0 {\n",
       "            background-color:  #eef5fc;\n",
       "            color:  #000000;\n",
       "        }    #T_dce64d1a_5e86_11ea_817f_001a6b0cdb24row5_col1 {\n",
       "            background-color:  #f7fbff;\n",
       "            color:  #000000;\n",
       "        }    #T_dce64d1a_5e86_11ea_817f_001a6b0cdb24row5_col2 {\n",
       "            background-color:  #f7fbff;\n",
       "            color:  #000000;\n",
       "        }    #T_dce64d1a_5e86_11ea_817f_001a6b0cdb24row6_col0 {\n",
       "            background-color:  #eef5fc;\n",
       "            color:  #000000;\n",
       "        }    #T_dce64d1a_5e86_11ea_817f_001a6b0cdb24row6_col1 {\n",
       "            background-color:  #f7fbff;\n",
       "            color:  #000000;\n",
       "        }    #T_dce64d1a_5e86_11ea_817f_001a6b0cdb24row6_col2 {\n",
       "            background-color:  #6aaed6;\n",
       "            color:  #000000;\n",
       "        }    #T_dce64d1a_5e86_11ea_817f_001a6b0cdb24row7_col0 {\n",
       "            background-color:  #eef5fc;\n",
       "            color:  #000000;\n",
       "        }    #T_dce64d1a_5e86_11ea_817f_001a6b0cdb24row7_col1 {\n",
       "            background-color:  #f7fbff;\n",
       "            color:  #000000;\n",
       "        }    #T_dce64d1a_5e86_11ea_817f_001a6b0cdb24row7_col2 {\n",
       "            background-color:  #f7fbff;\n",
       "            color:  #000000;\n",
       "        }    #T_dce64d1a_5e86_11ea_817f_001a6b0cdb24row8_col0 {\n",
       "            background-color:  #eef5fc;\n",
       "            color:  #000000;\n",
       "        }    #T_dce64d1a_5e86_11ea_817f_001a6b0cdb24row8_col1 {\n",
       "            background-color:  #f7fbff;\n",
       "            color:  #000000;\n",
       "        }    #T_dce64d1a_5e86_11ea_817f_001a6b0cdb24row8_col2 {\n",
       "            background-color:  #f7fbff;\n",
       "            color:  #000000;\n",
       "        }    #T_dce64d1a_5e86_11ea_817f_001a6b0cdb24row9_col0 {\n",
       "            background-color:  #eef5fc;\n",
       "            color:  #000000;\n",
       "        }    #T_dce64d1a_5e86_11ea_817f_001a6b0cdb24row9_col1 {\n",
       "            background-color:  #f7fbff;\n",
       "            color:  #000000;\n",
       "        }    #T_dce64d1a_5e86_11ea_817f_001a6b0cdb24row9_col2 {\n",
       "            background-color:  #f7fbff;\n",
       "            color:  #000000;\n",
       "        }    #T_dce64d1a_5e86_11ea_817f_001a6b0cdb24row10_col0 {\n",
       "            background-color:  #f3f8fe;\n",
       "            color:  #000000;\n",
       "        }    #T_dce64d1a_5e86_11ea_817f_001a6b0cdb24row10_col1 {\n",
       "            background-color:  #f7fbff;\n",
       "            color:  #000000;\n",
       "        }    #T_dce64d1a_5e86_11ea_817f_001a6b0cdb24row10_col2 {\n",
       "            background-color:  #f7fbff;\n",
       "            color:  #000000;\n",
       "        }    #T_dce64d1a_5e86_11ea_817f_001a6b0cdb24row11_col0 {\n",
       "            background-color:  #f3f8fe;\n",
       "            color:  #000000;\n",
       "        }    #T_dce64d1a_5e86_11ea_817f_001a6b0cdb24row11_col1 {\n",
       "            background-color:  #f7fbff;\n",
       "            color:  #000000;\n",
       "        }    #T_dce64d1a_5e86_11ea_817f_001a6b0cdb24row11_col2 {\n",
       "            background-color:  #f7fbff;\n",
       "            color:  #000000;\n",
       "        }    #T_dce64d1a_5e86_11ea_817f_001a6b0cdb24row12_col0 {\n",
       "            background-color:  #f3f8fe;\n",
       "            color:  #000000;\n",
       "        }    #T_dce64d1a_5e86_11ea_817f_001a6b0cdb24row12_col1 {\n",
       "            background-color:  #f7fbff;\n",
       "            color:  #000000;\n",
       "        }    #T_dce64d1a_5e86_11ea_817f_001a6b0cdb24row12_col2 {\n",
       "            background-color:  #f7fbff;\n",
       "            color:  #000000;\n",
       "        }    #T_dce64d1a_5e86_11ea_817f_001a6b0cdb24row13_col0 {\n",
       "            background-color:  #f3f8fe;\n",
       "            color:  #000000;\n",
       "        }    #T_dce64d1a_5e86_11ea_817f_001a6b0cdb24row13_col1 {\n",
       "            background-color:  #f7fbff;\n",
       "            color:  #000000;\n",
       "        }    #T_dce64d1a_5e86_11ea_817f_001a6b0cdb24row13_col2 {\n",
       "            background-color:  #6aaed6;\n",
       "            color:  #000000;\n",
       "        }    #T_dce64d1a_5e86_11ea_817f_001a6b0cdb24row14_col0 {\n",
       "            background-color:  #f3f8fe;\n",
       "            color:  #000000;\n",
       "        }    #T_dce64d1a_5e86_11ea_817f_001a6b0cdb24row14_col1 {\n",
       "            background-color:  #f7fbff;\n",
       "            color:  #000000;\n",
       "        }    #T_dce64d1a_5e86_11ea_817f_001a6b0cdb24row14_col2 {\n",
       "            background-color:  #f7fbff;\n",
       "            color:  #000000;\n",
       "        }    #T_dce64d1a_5e86_11ea_817f_001a6b0cdb24row15_col0 {\n",
       "            background-color:  #f3f8fe;\n",
       "            color:  #000000;\n",
       "        }    #T_dce64d1a_5e86_11ea_817f_001a6b0cdb24row15_col1 {\n",
       "            background-color:  #f7fbff;\n",
       "            color:  #000000;\n",
       "        }    #T_dce64d1a_5e86_11ea_817f_001a6b0cdb24row15_col2 {\n",
       "            background-color:  #f7fbff;\n",
       "            color:  #000000;\n",
       "        }    #T_dce64d1a_5e86_11ea_817f_001a6b0cdb24row16_col0 {\n",
       "            background-color:  #f3f8fe;\n",
       "            color:  #000000;\n",
       "        }    #T_dce64d1a_5e86_11ea_817f_001a6b0cdb24row16_col1 {\n",
       "            background-color:  #f7fbff;\n",
       "            color:  #000000;\n",
       "        }    #T_dce64d1a_5e86_11ea_817f_001a6b0cdb24row16_col2 {\n",
       "            background-color:  #f7fbff;\n",
       "            color:  #000000;\n",
       "        }    #T_dce64d1a_5e86_11ea_817f_001a6b0cdb24row17_col0 {\n",
       "            background-color:  #f3f8fe;\n",
       "            color:  #000000;\n",
       "        }    #T_dce64d1a_5e86_11ea_817f_001a6b0cdb24row17_col1 {\n",
       "            background-color:  #f7fbff;\n",
       "            color:  #000000;\n",
       "        }    #T_dce64d1a_5e86_11ea_817f_001a6b0cdb24row17_col2 {\n",
       "            background-color:  #f7fbff;\n",
       "            color:  #000000;\n",
       "        }    #T_dce64d1a_5e86_11ea_817f_001a6b0cdb24row18_col0 {\n",
       "            background-color:  #f3f8fe;\n",
       "            color:  #000000;\n",
       "        }    #T_dce64d1a_5e86_11ea_817f_001a6b0cdb24row18_col1 {\n",
       "            background-color:  #f7fbff;\n",
       "            color:  #000000;\n",
       "        }    #T_dce64d1a_5e86_11ea_817f_001a6b0cdb24row18_col2 {\n",
       "            background-color:  #6aaed6;\n",
       "            color:  #000000;\n",
       "        }    #T_dce64d1a_5e86_11ea_817f_001a6b0cdb24row19_col0 {\n",
       "            background-color:  #f3f8fe;\n",
       "            color:  #000000;\n",
       "        }    #T_dce64d1a_5e86_11ea_817f_001a6b0cdb24row19_col1 {\n",
       "            background-color:  #f7fbff;\n",
       "            color:  #000000;\n",
       "        }    #T_dce64d1a_5e86_11ea_817f_001a6b0cdb24row19_col2 {\n",
       "            background-color:  #f7fbff;\n",
       "            color:  #000000;\n",
       "        }    #T_dce64d1a_5e86_11ea_817f_001a6b0cdb24row20_col0 {\n",
       "            background-color:  #f3f8fe;\n",
       "            color:  #000000;\n",
       "        }    #T_dce64d1a_5e86_11ea_817f_001a6b0cdb24row20_col1 {\n",
       "            background-color:  #f7fbff;\n",
       "            color:  #000000;\n",
       "        }    #T_dce64d1a_5e86_11ea_817f_001a6b0cdb24row20_col2 {\n",
       "            background-color:  #f7fbff;\n",
       "            color:  #000000;\n",
       "        }    #T_dce64d1a_5e86_11ea_817f_001a6b0cdb24row21_col0 {\n",
       "            background-color:  #f3f8fe;\n",
       "            color:  #000000;\n",
       "        }    #T_dce64d1a_5e86_11ea_817f_001a6b0cdb24row21_col1 {\n",
       "            background-color:  #f7fbff;\n",
       "            color:  #000000;\n",
       "        }    #T_dce64d1a_5e86_11ea_817f_001a6b0cdb24row21_col2 {\n",
       "            background-color:  #f7fbff;\n",
       "            color:  #000000;\n",
       "        }    #T_dce64d1a_5e86_11ea_817f_001a6b0cdb24row22_col0 {\n",
       "            background-color:  #f3f8fe;\n",
       "            color:  #000000;\n",
       "        }    #T_dce64d1a_5e86_11ea_817f_001a6b0cdb24row22_col1 {\n",
       "            background-color:  #f7fbff;\n",
       "            color:  #000000;\n",
       "        }    #T_dce64d1a_5e86_11ea_817f_001a6b0cdb24row22_col2 {\n",
       "            background-color:  #f7fbff;\n",
       "            color:  #000000;\n",
       "        }    #T_dce64d1a_5e86_11ea_817f_001a6b0cdb24row23_col0 {\n",
       "            background-color:  #f3f8fe;\n",
       "            color:  #000000;\n",
       "        }    #T_dce64d1a_5e86_11ea_817f_001a6b0cdb24row23_col1 {\n",
       "            background-color:  #f7fbff;\n",
       "            color:  #000000;\n",
       "        }    #T_dce64d1a_5e86_11ea_817f_001a6b0cdb24row23_col2 {\n",
       "            background-color:  #f7fbff;\n",
       "            color:  #000000;\n",
       "        }    #T_dce64d1a_5e86_11ea_817f_001a6b0cdb24row24_col0 {\n",
       "            background-color:  #f3f8fe;\n",
       "            color:  #000000;\n",
       "        }    #T_dce64d1a_5e86_11ea_817f_001a6b0cdb24row24_col1 {\n",
       "            background-color:  #f7fbff;\n",
       "            color:  #000000;\n",
       "        }    #T_dce64d1a_5e86_11ea_817f_001a6b0cdb24row24_col2 {\n",
       "            background-color:  #f7fbff;\n",
       "            color:  #000000;\n",
       "        }    #T_dce64d1a_5e86_11ea_817f_001a6b0cdb24row25_col0 {\n",
       "            background-color:  #f7fbff;\n",
       "            color:  #000000;\n",
       "        }    #T_dce64d1a_5e86_11ea_817f_001a6b0cdb24row25_col1 {\n",
       "            background-color:  #f7fbff;\n",
       "            color:  #000000;\n",
       "        }    #T_dce64d1a_5e86_11ea_817f_001a6b0cdb24row25_col2 {\n",
       "            background-color:  #f7fbff;\n",
       "            color:  #000000;\n",
       "        }    #T_dce64d1a_5e86_11ea_817f_001a6b0cdb24row26_col0 {\n",
       "            background-color:  #f7fbff;\n",
       "            color:  #000000;\n",
       "        }    #T_dce64d1a_5e86_11ea_817f_001a6b0cdb24row26_col1 {\n",
       "            background-color:  #f7fbff;\n",
       "            color:  #000000;\n",
       "        }    #T_dce64d1a_5e86_11ea_817f_001a6b0cdb24row26_col2 {\n",
       "            background-color:  #f7fbff;\n",
       "            color:  #000000;\n",
       "        }    #T_dce64d1a_5e86_11ea_817f_001a6b0cdb24row27_col0 {\n",
       "            background-color:  #f7fbff;\n",
       "            color:  #000000;\n",
       "        }    #T_dce64d1a_5e86_11ea_817f_001a6b0cdb24row27_col1 {\n",
       "            background-color:  #f7fbff;\n",
       "            color:  #000000;\n",
       "        }    #T_dce64d1a_5e86_11ea_817f_001a6b0cdb24row27_col2 {\n",
       "            background-color:  #f7fbff;\n",
       "            color:  #000000;\n",
       "        }</style><table id=\"T_dce64d1a_5e86_11ea_817f_001a6b0cdb24\" ><thead>    <tr>        <th class=\"blank level0\" ></th>        <th class=\"col_heading level0 col0\" >Confirmed</th>        <th class=\"col_heading level0 col1\" >Deaths</th>        <th class=\"col_heading level0 col2\" >Recovered</th>    </tr>    <tr>        <th class=\"index_name level0\" >Province/State</th>        <th class=\"blank\" ></th>        <th class=\"blank\" ></th>        <th class=\"blank\" ></th>    </tr></thead><tbody>\n",
       "                <tr>\n",
       "                        <th id=\"T_dce64d1a_5e86_11ea_817f_001a6b0cdb24level0_row0\" class=\"row_heading level0 row0\" >Unassigned Location (From Diamond Princess)</th>\n",
       "                        <td id=\"T_dce64d1a_5e86_11ea_817f_001a6b0cdb24row0_col0\" class=\"data row0 col0\" >45.000000</td>\n",
       "                        <td id=\"T_dce64d1a_5e86_11ea_817f_001a6b0cdb24row0_col1\" class=\"data row0 col1\" >0.000000</td>\n",
       "                        <td id=\"T_dce64d1a_5e86_11ea_817f_001a6b0cdb24row0_col2\" class=\"data row0 col2\" >0.000000</td>\n",
       "            </tr>\n",
       "            <tr>\n",
       "                        <th id=\"T_dce64d1a_5e86_11ea_817f_001a6b0cdb24level0_row1\" class=\"row_heading level0 row1\" >King County, WA</th>\n",
       "                        <td id=\"T_dce64d1a_5e86_11ea_817f_001a6b0cdb24row1_col0\" class=\"data row1 col0\" >14.000000</td>\n",
       "                        <td id=\"T_dce64d1a_5e86_11ea_817f_001a6b0cdb24row1_col1\" class=\"data row1 col1\" >5.000000</td>\n",
       "                        <td id=\"T_dce64d1a_5e86_11ea_817f_001a6b0cdb24row1_col2\" class=\"data row1 col2\" >1.000000</td>\n",
       "            </tr>\n",
       "            <tr>\n",
       "                        <th id=\"T_dce64d1a_5e86_11ea_817f_001a6b0cdb24level0_row2\" class=\"row_heading level0 row2\" >Santa Clara, CA</th>\n",
       "                        <td id=\"T_dce64d1a_5e86_11ea_817f_001a6b0cdb24row2_col0\" class=\"data row2 col0\" >9.000000</td>\n",
       "                        <td id=\"T_dce64d1a_5e86_11ea_817f_001a6b0cdb24row2_col1\" class=\"data row2 col1\" >0.000000</td>\n",
       "                        <td id=\"T_dce64d1a_5e86_11ea_817f_001a6b0cdb24row2_col2\" class=\"data row2 col2\" >1.000000</td>\n",
       "            </tr>\n",
       "            <tr>\n",
       "                        <th id=\"T_dce64d1a_5e86_11ea_817f_001a6b0cdb24level0_row3\" class=\"row_heading level0 row3\" >Snohomish County, WA</th>\n",
       "                        <td id=\"T_dce64d1a_5e86_11ea_817f_001a6b0cdb24row3_col0\" class=\"data row3 col0\" >4.000000</td>\n",
       "                        <td id=\"T_dce64d1a_5e86_11ea_817f_001a6b0cdb24row3_col1\" class=\"data row3 col1\" >1.000000</td>\n",
       "                        <td id=\"T_dce64d1a_5e86_11ea_817f_001a6b0cdb24row3_col2\" class=\"data row3 col2\" >0.000000</td>\n",
       "            </tr>\n",
       "            <tr>\n",
       "                        <th id=\"T_dce64d1a_5e86_11ea_817f_001a6b0cdb24level0_row4\" class=\"row_heading level0 row4\" >Cook County, IL</th>\n",
       "                        <td id=\"T_dce64d1a_5e86_11ea_817f_001a6b0cdb24row4_col0\" class=\"data row4 col0\" >4.000000</td>\n",
       "                        <td id=\"T_dce64d1a_5e86_11ea_817f_001a6b0cdb24row4_col1\" class=\"data row4 col1\" >0.000000</td>\n",
       "                        <td id=\"T_dce64d1a_5e86_11ea_817f_001a6b0cdb24row4_col2\" class=\"data row4 col2\" >2.000000</td>\n",
       "            </tr>\n",
       "            <tr>\n",
       "                        <th id=\"T_dce64d1a_5e86_11ea_817f_001a6b0cdb24level0_row5\" class=\"row_heading level0 row5\" >Portland, OR</th>\n",
       "                        <td id=\"T_dce64d1a_5e86_11ea_817f_001a6b0cdb24row5_col0\" class=\"data row5 col0\" >2.000000</td>\n",
       "                        <td id=\"T_dce64d1a_5e86_11ea_817f_001a6b0cdb24row5_col1\" class=\"data row5 col1\" >0.000000</td>\n",
       "                        <td id=\"T_dce64d1a_5e86_11ea_817f_001a6b0cdb24row5_col2\" class=\"data row5 col2\" >0.000000</td>\n",
       "            </tr>\n",
       "            <tr>\n",
       "                        <th id=\"T_dce64d1a_5e86_11ea_817f_001a6b0cdb24level0_row6\" class=\"row_heading level0 row6\" >San Diego County, CA</th>\n",
       "                        <td id=\"T_dce64d1a_5e86_11ea_817f_001a6b0cdb24row6_col0\" class=\"data row6 col0\" >2.000000</td>\n",
       "                        <td id=\"T_dce64d1a_5e86_11ea_817f_001a6b0cdb24row6_col1\" class=\"data row6 col1\" >0.000000</td>\n",
       "                        <td id=\"T_dce64d1a_5e86_11ea_817f_001a6b0cdb24row6_col2\" class=\"data row6 col2\" >1.000000</td>\n",
       "            </tr>\n",
       "            <tr>\n",
       "                        <th id=\"T_dce64d1a_5e86_11ea_817f_001a6b0cdb24level0_row7\" class=\"row_heading level0 row7\" >San Benito, CA</th>\n",
       "                        <td id=\"T_dce64d1a_5e86_11ea_817f_001a6b0cdb24row7_col0\" class=\"data row7 col0\" >2.000000</td>\n",
       "                        <td id=\"T_dce64d1a_5e86_11ea_817f_001a6b0cdb24row7_col1\" class=\"data row7 col1\" >0.000000</td>\n",
       "                        <td id=\"T_dce64d1a_5e86_11ea_817f_001a6b0cdb24row7_col2\" class=\"data row7 col2\" >0.000000</td>\n",
       "            </tr>\n",
       "            <tr>\n",
       "                        <th id=\"T_dce64d1a_5e86_11ea_817f_001a6b0cdb24level0_row8\" class=\"row_heading level0 row8\" >Sacramento County, CA</th>\n",
       "                        <td id=\"T_dce64d1a_5e86_11ea_817f_001a6b0cdb24row8_col0\" class=\"data row8 col0\" >2.000000</td>\n",
       "                        <td id=\"T_dce64d1a_5e86_11ea_817f_001a6b0cdb24row8_col1\" class=\"data row8 col1\" >0.000000</td>\n",
       "                        <td id=\"T_dce64d1a_5e86_11ea_817f_001a6b0cdb24row8_col2\" class=\"data row8 col2\" >0.000000</td>\n",
       "            </tr>\n",
       "            <tr>\n",
       "                        <th id=\"T_dce64d1a_5e86_11ea_817f_001a6b0cdb24level0_row9\" class=\"row_heading level0 row9\" >Providence, RI</th>\n",
       "                        <td id=\"T_dce64d1a_5e86_11ea_817f_001a6b0cdb24row9_col0\" class=\"data row9 col0\" >2.000000</td>\n",
       "                        <td id=\"T_dce64d1a_5e86_11ea_817f_001a6b0cdb24row9_col1\" class=\"data row9 col1\" >0.000000</td>\n",
       "                        <td id=\"T_dce64d1a_5e86_11ea_817f_001a6b0cdb24row9_col2\" class=\"data row9 col2\" >0.000000</td>\n",
       "            </tr>\n",
       "            <tr>\n",
       "                        <th id=\"T_dce64d1a_5e86_11ea_817f_001a6b0cdb24level0_row10\" class=\"row_heading level0 row10\" >San Mateo, CA</th>\n",
       "                        <td id=\"T_dce64d1a_5e86_11ea_817f_001a6b0cdb24row10_col0\" class=\"data row10 col0\" >1.000000</td>\n",
       "                        <td id=\"T_dce64d1a_5e86_11ea_817f_001a6b0cdb24row10_col1\" class=\"data row10 col1\" >0.000000</td>\n",
       "                        <td id=\"T_dce64d1a_5e86_11ea_817f_001a6b0cdb24row10_col2\" class=\"data row10 col2\" >0.000000</td>\n",
       "            </tr>\n",
       "            <tr>\n",
       "                        <th id=\"T_dce64d1a_5e86_11ea_817f_001a6b0cdb24level0_row11\" class=\"row_heading level0 row11\" >Orange, CA</th>\n",
       "                        <td id=\"T_dce64d1a_5e86_11ea_817f_001a6b0cdb24row11_col0\" class=\"data row11 col0\" >1.000000</td>\n",
       "                        <td id=\"T_dce64d1a_5e86_11ea_817f_001a6b0cdb24row11_col1\" class=\"data row11 col1\" >0.000000</td>\n",
       "                        <td id=\"T_dce64d1a_5e86_11ea_817f_001a6b0cdb24row11_col2\" class=\"data row11 col2\" >0.000000</td>\n",
       "            </tr>\n",
       "            <tr>\n",
       "                        <th id=\"T_dce64d1a_5e86_11ea_817f_001a6b0cdb24level0_row12\" class=\"row_heading level0 row12\" >Umatilla, OR</th>\n",
       "                        <td id=\"T_dce64d1a_5e86_11ea_817f_001a6b0cdb24row12_col0\" class=\"data row12 col0\" >1.000000</td>\n",
       "                        <td id=\"T_dce64d1a_5e86_11ea_817f_001a6b0cdb24row12_col1\" class=\"data row12 col1\" >0.000000</td>\n",
       "                        <td id=\"T_dce64d1a_5e86_11ea_817f_001a6b0cdb24row12_col2\" class=\"data row12 col2\" >0.000000</td>\n",
       "            </tr>\n",
       "            <tr>\n",
       "                        <th id=\"T_dce64d1a_5e86_11ea_817f_001a6b0cdb24level0_row13\" class=\"row_heading level0 row13\" >Tempe, AZ</th>\n",
       "                        <td id=\"T_dce64d1a_5e86_11ea_817f_001a6b0cdb24row13_col0\" class=\"data row13 col0\" >1.000000</td>\n",
       "                        <td id=\"T_dce64d1a_5e86_11ea_817f_001a6b0cdb24row13_col1\" class=\"data row13 col1\" >0.000000</td>\n",
       "                        <td id=\"T_dce64d1a_5e86_11ea_817f_001a6b0cdb24row13_col2\" class=\"data row13 col2\" >1.000000</td>\n",
       "            </tr>\n",
       "            <tr>\n",
       "                        <th id=\"T_dce64d1a_5e86_11ea_817f_001a6b0cdb24level0_row14\" class=\"row_heading level0 row14\" >Sonoma County, CA</th>\n",
       "                        <td id=\"T_dce64d1a_5e86_11ea_817f_001a6b0cdb24row14_col0\" class=\"data row14 col0\" >1.000000</td>\n",
       "                        <td id=\"T_dce64d1a_5e86_11ea_817f_001a6b0cdb24row14_col1\" class=\"data row14 col1\" >0.000000</td>\n",
       "                        <td id=\"T_dce64d1a_5e86_11ea_817f_001a6b0cdb24row14_col2\" class=\"data row14 col2\" >0.000000</td>\n",
       "            </tr>\n",
       "            <tr>\n",
       "                        <th id=\"T_dce64d1a_5e86_11ea_817f_001a6b0cdb24level0_row15\" class=\"row_heading level0 row15\" >Grafton County, NH</th>\n",
       "                        <td id=\"T_dce64d1a_5e86_11ea_817f_001a6b0cdb24row15_col0\" class=\"data row15 col0\" >1.000000</td>\n",
       "                        <td id=\"T_dce64d1a_5e86_11ea_817f_001a6b0cdb24row15_col1\" class=\"data row15 col1\" >0.000000</td>\n",
       "                        <td id=\"T_dce64d1a_5e86_11ea_817f_001a6b0cdb24row15_col2\" class=\"data row15 col2\" >0.000000</td>\n",
       "            </tr>\n",
       "            <tr>\n",
       "                        <th id=\"T_dce64d1a_5e86_11ea_817f_001a6b0cdb24level0_row16\" class=\"row_heading level0 row16\" >Sarasota, FL</th>\n",
       "                        <td id=\"T_dce64d1a_5e86_11ea_817f_001a6b0cdb24row16_col0\" class=\"data row16 col0\" >1.000000</td>\n",
       "                        <td id=\"T_dce64d1a_5e86_11ea_817f_001a6b0cdb24row16_col1\" class=\"data row16 col1\" >0.000000</td>\n",
       "                        <td id=\"T_dce64d1a_5e86_11ea_817f_001a6b0cdb24row16_col2\" class=\"data row16 col2\" >0.000000</td>\n",
       "            </tr>\n",
       "            <tr>\n",
       "                        <th id=\"T_dce64d1a_5e86_11ea_817f_001a6b0cdb24level0_row17\" class=\"row_heading level0 row17\" >Hillsborough, FL</th>\n",
       "                        <td id=\"T_dce64d1a_5e86_11ea_817f_001a6b0cdb24row17_col0\" class=\"data row17 col0\" >1.000000</td>\n",
       "                        <td id=\"T_dce64d1a_5e86_11ea_817f_001a6b0cdb24row17_col1\" class=\"data row17 col1\" >0.000000</td>\n",
       "                        <td id=\"T_dce64d1a_5e86_11ea_817f_001a6b0cdb24row17_col2\" class=\"data row17 col2\" >0.000000</td>\n",
       "            </tr>\n",
       "            <tr>\n",
       "                        <th id=\"T_dce64d1a_5e86_11ea_817f_001a6b0cdb24level0_row18\" class=\"row_heading level0 row18\" >Boston, MA</th>\n",
       "                        <td id=\"T_dce64d1a_5e86_11ea_817f_001a6b0cdb24row18_col0\" class=\"data row18 col0\" >1.000000</td>\n",
       "                        <td id=\"T_dce64d1a_5e86_11ea_817f_001a6b0cdb24row18_col1\" class=\"data row18 col1\" >0.000000</td>\n",
       "                        <td id=\"T_dce64d1a_5e86_11ea_817f_001a6b0cdb24row18_col2\" class=\"data row18 col2\" >1.000000</td>\n",
       "            </tr>\n",
       "            <tr>\n",
       "                        <th id=\"T_dce64d1a_5e86_11ea_817f_001a6b0cdb24level0_row19\" class=\"row_heading level0 row19\" >Humboldt County, CA</th>\n",
       "                        <td id=\"T_dce64d1a_5e86_11ea_817f_001a6b0cdb24row19_col0\" class=\"data row19 col0\" >1.000000</td>\n",
       "                        <td id=\"T_dce64d1a_5e86_11ea_817f_001a6b0cdb24row19_col1\" class=\"data row19 col1\" >0.000000</td>\n",
       "                        <td id=\"T_dce64d1a_5e86_11ea_817f_001a6b0cdb24row19_col2\" class=\"data row19 col2\" >0.000000</td>\n",
       "            </tr>\n",
       "            <tr>\n",
       "                        <th id=\"T_dce64d1a_5e86_11ea_817f_001a6b0cdb24level0_row20\" class=\"row_heading level0 row20\" >San Antonio, TX</th>\n",
       "                        <td id=\"T_dce64d1a_5e86_11ea_817f_001a6b0cdb24row20_col0\" class=\"data row20 col0\" >1.000000</td>\n",
       "                        <td id=\"T_dce64d1a_5e86_11ea_817f_001a6b0cdb24row20_col1\" class=\"data row20 col1\" >0.000000</td>\n",
       "                        <td id=\"T_dce64d1a_5e86_11ea_817f_001a6b0cdb24row20_col2\" class=\"data row20 col2\" >0.000000</td>\n",
       "            </tr>\n",
       "            <tr>\n",
       "                        <th id=\"T_dce64d1a_5e86_11ea_817f_001a6b0cdb24level0_row21\" class=\"row_heading level0 row21\" >Los Angeles, CA</th>\n",
       "                        <td id=\"T_dce64d1a_5e86_11ea_817f_001a6b0cdb24row21_col0\" class=\"data row21 col0\" >1.000000</td>\n",
       "                        <td id=\"T_dce64d1a_5e86_11ea_817f_001a6b0cdb24row21_col1\" class=\"data row21 col1\" >0.000000</td>\n",
       "                        <td id=\"T_dce64d1a_5e86_11ea_817f_001a6b0cdb24row21_col2\" class=\"data row21 col2\" >0.000000</td>\n",
       "            </tr>\n",
       "            <tr>\n",
       "                        <th id=\"T_dce64d1a_5e86_11ea_817f_001a6b0cdb24level0_row22\" class=\"row_heading level0 row22\" >Madison, WI</th>\n",
       "                        <td id=\"T_dce64d1a_5e86_11ea_817f_001a6b0cdb24row22_col0\" class=\"data row22 col0\" >1.000000</td>\n",
       "                        <td id=\"T_dce64d1a_5e86_11ea_817f_001a6b0cdb24row22_col1\" class=\"data row22 col1\" >0.000000</td>\n",
       "                        <td id=\"T_dce64d1a_5e86_11ea_817f_001a6b0cdb24row22_col2\" class=\"data row22 col2\" >0.000000</td>\n",
       "            </tr>\n",
       "            <tr>\n",
       "                        <th id=\"T_dce64d1a_5e86_11ea_817f_001a6b0cdb24level0_row23\" class=\"row_heading level0 row23\" >New York City, NY</th>\n",
       "                        <td id=\"T_dce64d1a_5e86_11ea_817f_001a6b0cdb24row23_col0\" class=\"data row23 col0\" >1.000000</td>\n",
       "                        <td id=\"T_dce64d1a_5e86_11ea_817f_001a6b0cdb24row23_col1\" class=\"data row23 col1\" >0.000000</td>\n",
       "                        <td id=\"T_dce64d1a_5e86_11ea_817f_001a6b0cdb24row23_col2\" class=\"data row23 col2\" >0.000000</td>\n",
       "            </tr>\n",
       "            <tr>\n",
       "                        <th id=\"T_dce64d1a_5e86_11ea_817f_001a6b0cdb24level0_row24\" class=\"row_heading level0 row24\" >Placer County, CA</th>\n",
       "                        <td id=\"T_dce64d1a_5e86_11ea_817f_001a6b0cdb24row24_col0\" class=\"data row24 col0\" >1.000000</td>\n",
       "                        <td id=\"T_dce64d1a_5e86_11ea_817f_001a6b0cdb24row24_col1\" class=\"data row24 col1\" >0.000000</td>\n",
       "                        <td id=\"T_dce64d1a_5e86_11ea_817f_001a6b0cdb24row24_col2\" class=\"data row24 col2\" >0.000000</td>\n",
       "            </tr>\n",
       "            <tr>\n",
       "                        <th id=\"T_dce64d1a_5e86_11ea_817f_001a6b0cdb24level0_row25\" class=\"row_heading level0 row25\" >Lackland, TX (From Diamond Princess)</th>\n",
       "                        <td id=\"T_dce64d1a_5e86_11ea_817f_001a6b0cdb24row25_col0\" class=\"data row25 col0\" >0.000000</td>\n",
       "                        <td id=\"T_dce64d1a_5e86_11ea_817f_001a6b0cdb24row25_col1\" class=\"data row25 col1\" >0.000000</td>\n",
       "                        <td id=\"T_dce64d1a_5e86_11ea_817f_001a6b0cdb24row25_col2\" class=\"data row25 col2\" >0.000000</td>\n",
       "            </tr>\n",
       "            <tr>\n",
       "                        <th id=\"T_dce64d1a_5e86_11ea_817f_001a6b0cdb24level0_row26\" class=\"row_heading level0 row26\" >Travis, CA (From Diamond Princess)</th>\n",
       "                        <td id=\"T_dce64d1a_5e86_11ea_817f_001a6b0cdb24row26_col0\" class=\"data row26 col0\" >0.000000</td>\n",
       "                        <td id=\"T_dce64d1a_5e86_11ea_817f_001a6b0cdb24row26_col1\" class=\"data row26 col1\" >0.000000</td>\n",
       "                        <td id=\"T_dce64d1a_5e86_11ea_817f_001a6b0cdb24row26_col2\" class=\"data row26 col2\" >0.000000</td>\n",
       "            </tr>\n",
       "            <tr>\n",
       "                        <th id=\"T_dce64d1a_5e86_11ea_817f_001a6b0cdb24level0_row27\" class=\"row_heading level0 row27\" >Omaha, NE (From Diamond Princess)</th>\n",
       "                        <td id=\"T_dce64d1a_5e86_11ea_817f_001a6b0cdb24row27_col0\" class=\"data row27 col0\" >0.000000</td>\n",
       "                        <td id=\"T_dce64d1a_5e86_11ea_817f_001a6b0cdb24row27_col1\" class=\"data row27 col1\" >0.000000</td>\n",
       "                        <td id=\"T_dce64d1a_5e86_11ea_817f_001a6b0cdb24row27_col2\" class=\"data row27 col2\" >0.000000</td>\n",
       "            </tr>\n",
       "    </tbody></table>"
      ],
      "text/plain": [
       "<pandas.io.formats.style.Styler at 0x1d155156128>"
      ]
     },
     "execution_count": 37,
     "metadata": {},
     "output_type": "execute_result"
    }
   ],
   "source": [
    "USA_cases=USA.groupby('Province/State').sum()\n",
    "USA_cases=USA_cases.sort_values(by='Confirmed',ascending=False)\n",
    "USA_cases.style.background_gradient(cmap='Blues')"
   ]
  },
  {
   "cell_type": "code",
   "execution_count": 81,
   "metadata": {},
   "outputs": [],
   "source": [
    "plot=ncovd_latest.groupby(['Country/Region']).sum().reset_index().sort_values(by='Confirmed',ascending=False)"
   ]
  },
  {
   "cell_type": "code",
   "execution_count": 79,
   "metadata": {},
   "outputs": [
    {
     "data": {
      "application/vnd.plotly.v1+json": {
       "config": {
        "plotlyServerURL": "https://plot.ly"
       },
       "data": [
        {
         "alignmentgroup": "True",
         "hoverlabel": {
          "namelength": 0
         },
         "hovertemplate": "Country/Region=%{x}<br>Confirmed=%{y}",
         "legendgroup": "China",
         "marker": {
          "color": "#636efa"
         },
         "name": "China",
         "offsetgroup": "China",
         "orientation": "v",
         "showlegend": true,
         "textposition": "auto",
         "type": "bar",
         "x": [
          "China"
         ],
         "xaxis": "x",
         "y": [
          80026
         ],
         "yaxis": "y"
        },
        {
         "alignmentgroup": "True",
         "hoverlabel": {
          "namelength": 0
         },
         "hovertemplate": "Country/Region=%{x}<br>Confirmed=%{y}",
         "legendgroup": "South Korea",
         "marker": {
          "color": "#EF553B"
         },
         "name": "South Korea",
         "offsetgroup": "South Korea",
         "orientation": "v",
         "showlegend": true,
         "textposition": "auto",
         "type": "bar",
         "x": [
          "South Korea"
         ],
         "xaxis": "x",
         "y": [
          4335
         ],
         "yaxis": "y"
        },
        {
         "alignmentgroup": "True",
         "hoverlabel": {
          "namelength": 0
         },
         "hovertemplate": "Country/Region=%{x}<br>Confirmed=%{y}",
         "legendgroup": "Italy",
         "marker": {
          "color": "#00cc96"
         },
         "name": "Italy",
         "offsetgroup": "Italy",
         "orientation": "v",
         "showlegend": true,
         "textposition": "auto",
         "type": "bar",
         "x": [
          "Italy"
         ],
         "xaxis": "x",
         "y": [
          2036
         ],
         "yaxis": "y"
        },
        {
         "alignmentgroup": "True",
         "hoverlabel": {
          "namelength": 0
         },
         "hovertemplate": "Country/Region=%{x}<br>Confirmed=%{y}",
         "legendgroup": "Iran",
         "marker": {
          "color": "#ab63fa"
         },
         "name": "Iran",
         "offsetgroup": "Iran",
         "orientation": "v",
         "showlegend": true,
         "textposition": "auto",
         "type": "bar",
         "x": [
          "Iran"
         ],
         "xaxis": "x",
         "y": [
          1501
         ],
         "yaxis": "y"
        },
        {
         "alignmentgroup": "True",
         "hoverlabel": {
          "namelength": 0
         },
         "hovertemplate": "Country/Region=%{x}<br>Confirmed=%{y}",
         "legendgroup": "Others",
         "marker": {
          "color": "#FFA15A"
         },
         "name": "Others",
         "offsetgroup": "Others",
         "orientation": "v",
         "showlegend": true,
         "textposition": "auto",
         "type": "bar",
         "x": [
          "Others"
         ],
         "xaxis": "x",
         "y": [
          705
         ],
         "yaxis": "y"
        },
        {
         "alignmentgroup": "True",
         "hoverlabel": {
          "namelength": 0
         },
         "hovertemplate": "Country/Region=%{x}<br>Confirmed=%{y}",
         "legendgroup": "Japan",
         "marker": {
          "color": "#19d3f3"
         },
         "name": "Japan",
         "offsetgroup": "Japan",
         "orientation": "v",
         "showlegend": true,
         "textposition": "auto",
         "type": "bar",
         "x": [
          "Japan"
         ],
         "xaxis": "x",
         "y": [
          274
         ],
         "yaxis": "y"
        },
        {
         "alignmentgroup": "True",
         "hoverlabel": {
          "namelength": 0
         },
         "hovertemplate": "Country/Region=%{x}<br>Confirmed=%{y}",
         "legendgroup": "France",
         "marker": {
          "color": "#FF6692"
         },
         "name": "France",
         "offsetgroup": "France",
         "orientation": "v",
         "showlegend": true,
         "textposition": "auto",
         "type": "bar",
         "x": [
          "France"
         ],
         "xaxis": "x",
         "y": [
          191
         ],
         "yaxis": "y"
        },
        {
         "alignmentgroup": "True",
         "hoverlabel": {
          "namelength": 0
         },
         "hovertemplate": "Country/Region=%{x}<br>Confirmed=%{y}",
         "legendgroup": "Germany",
         "marker": {
          "color": "#B6E880"
         },
         "name": "Germany",
         "offsetgroup": "Germany",
         "orientation": "v",
         "showlegend": true,
         "textposition": "auto",
         "type": "bar",
         "x": [
          "Germany"
         ],
         "xaxis": "x",
         "y": [
          159
         ],
         "yaxis": "y"
        },
        {
         "alignmentgroup": "True",
         "hoverlabel": {
          "namelength": 0
         },
         "hovertemplate": "Country/Region=%{x}<br>Confirmed=%{y}",
         "legendgroup": "Spain",
         "marker": {
          "color": "#FF97FF"
         },
         "name": "Spain",
         "offsetgroup": "Spain",
         "orientation": "v",
         "showlegend": true,
         "textposition": "auto",
         "type": "bar",
         "x": [
          "Spain"
         ],
         "xaxis": "x",
         "y": [
          120
         ],
         "yaxis": "y"
        },
        {
         "alignmentgroup": "True",
         "hoverlabel": {
          "namelength": 0
         },
         "hovertemplate": "Country/Region=%{x}<br>Confirmed=%{y}",
         "legendgroup": "Singapore",
         "marker": {
          "color": "#FECB52"
         },
         "name": "Singapore",
         "offsetgroup": "Singapore",
         "orientation": "v",
         "showlegend": true,
         "textposition": "auto",
         "type": "bar",
         "x": [
          "Singapore"
         ],
         "xaxis": "x",
         "y": [
          108
         ],
         "yaxis": "y"
        },
        {
         "alignmentgroup": "True",
         "hoverlabel": {
          "namelength": 0
         },
         "hovertemplate": "Country/Region=%{x}<br>Confirmed=%{y}",
         "legendgroup": "US",
         "marker": {
          "color": "#636efa"
         },
         "name": "US",
         "offsetgroup": "US",
         "orientation": "v",
         "showlegend": true,
         "textposition": "auto",
         "type": "bar",
         "x": [
          "US"
         ],
         "xaxis": "x",
         "y": [
          101
         ],
         "yaxis": "y"
        },
        {
         "alignmentgroup": "True",
         "hoverlabel": {
          "namelength": 0
         },
         "hovertemplate": "Country/Region=%{x}<br>Confirmed=%{y}",
         "legendgroup": "Hong Kong",
         "marker": {
          "color": "#EF553B"
         },
         "name": "Hong Kong",
         "offsetgroup": "Hong Kong",
         "orientation": "v",
         "showlegend": true,
         "textposition": "auto",
         "type": "bar",
         "x": [
          "Hong Kong"
         ],
         "xaxis": "x",
         "y": [
          100
         ],
         "yaxis": "y"
        },
        {
         "alignmentgroup": "True",
         "hoverlabel": {
          "namelength": 0
         },
         "hovertemplate": "Country/Region=%{x}<br>Confirmed=%{y}",
         "legendgroup": "Kuwait",
         "marker": {
          "color": "#00cc96"
         },
         "name": "Kuwait",
         "offsetgroup": "Kuwait",
         "orientation": "v",
         "showlegend": true,
         "textposition": "auto",
         "type": "bar",
         "x": [
          "Kuwait"
         ],
         "xaxis": "x",
         "y": [
          56
         ],
         "yaxis": "y"
        },
        {
         "alignmentgroup": "True",
         "hoverlabel": {
          "namelength": 0
         },
         "hovertemplate": "Country/Region=%{x}<br>Confirmed=%{y}",
         "legendgroup": "Bahrain",
         "marker": {
          "color": "#ab63fa"
         },
         "name": "Bahrain",
         "offsetgroup": "Bahrain",
         "orientation": "v",
         "showlegend": true,
         "textposition": "auto",
         "type": "bar",
         "x": [
          "Bahrain"
         ],
         "xaxis": "x",
         "y": [
          49
         ],
         "yaxis": "y"
        },
        {
         "alignmentgroup": "True",
         "hoverlabel": {
          "namelength": 0
         },
         "hovertemplate": "Country/Region=%{x}<br>Confirmed=%{y}",
         "legendgroup": "Thailand",
         "marker": {
          "color": "#FFA15A"
         },
         "name": "Thailand",
         "offsetgroup": "Thailand",
         "orientation": "v",
         "showlegend": true,
         "textposition": "auto",
         "type": "bar",
         "x": [
          "Thailand"
         ],
         "xaxis": "x",
         "y": [
          43
         ],
         "yaxis": "y"
        },
        {
         "alignmentgroup": "True",
         "hoverlabel": {
          "namelength": 0
         },
         "hovertemplate": "Country/Region=%{x}<br>Confirmed=%{y}",
         "legendgroup": "Switzerland",
         "marker": {
          "color": "#19d3f3"
         },
         "name": "Switzerland",
         "offsetgroup": "Switzerland",
         "orientation": "v",
         "showlegend": true,
         "textposition": "auto",
         "type": "bar",
         "x": [
          "Switzerland"
         ],
         "xaxis": "x",
         "y": [
          42
         ],
         "yaxis": "y"
        },
        {
         "alignmentgroup": "True",
         "hoverlabel": {
          "namelength": 0
         },
         "hovertemplate": "Country/Region=%{x}<br>Confirmed=%{y}",
         "legendgroup": "Taiwan",
         "marker": {
          "color": "#FF6692"
         },
         "name": "Taiwan",
         "offsetgroup": "Taiwan",
         "orientation": "v",
         "showlegend": true,
         "textposition": "auto",
         "type": "bar",
         "x": [
          "Taiwan"
         ],
         "xaxis": "x",
         "y": [
          41
         ],
         "yaxis": "y"
        },
        {
         "alignmentgroup": "True",
         "hoverlabel": {
          "namelength": 0
         },
         "hovertemplate": "Country/Region=%{x}<br>Confirmed=%{y}",
         "legendgroup": "UK",
         "marker": {
          "color": "#B6E880"
         },
         "name": "UK",
         "offsetgroup": "UK",
         "orientation": "v",
         "showlegend": true,
         "textposition": "auto",
         "type": "bar",
         "x": [
          "UK"
         ],
         "xaxis": "x",
         "y": [
          40
         ],
         "yaxis": "y"
        },
        {
         "alignmentgroup": "True",
         "hoverlabel": {
          "namelength": 0
         },
         "hovertemplate": "Country/Region=%{x}<br>Confirmed=%{y}",
         "legendgroup": "Australia",
         "marker": {
          "color": "#FF97FF"
         },
         "name": "Australia",
         "offsetgroup": "Australia",
         "orientation": "v",
         "showlegend": true,
         "textposition": "auto",
         "type": "bar",
         "x": [
          "Australia"
         ],
         "xaxis": "x",
         "y": [
          30
         ],
         "yaxis": "y"
        },
        {
         "alignmentgroup": "True",
         "hoverlabel": {
          "namelength": 0
         },
         "hovertemplate": "Country/Region=%{x}<br>Confirmed=%{y}",
         "legendgroup": "Malaysia",
         "marker": {
          "color": "#FECB52"
         },
         "name": "Malaysia",
         "offsetgroup": "Malaysia",
         "orientation": "v",
         "showlegend": true,
         "textposition": "auto",
         "type": "bar",
         "x": [
          "Malaysia"
         ],
         "xaxis": "x",
         "y": [
          29
         ],
         "yaxis": "y"
        },
        {
         "alignmentgroup": "True",
         "hoverlabel": {
          "namelength": 0
         },
         "hovertemplate": "Country/Region=%{x}<br>Confirmed=%{y}",
         "legendgroup": "Canada",
         "marker": {
          "color": "#636efa"
         },
         "name": "Canada",
         "offsetgroup": "Canada",
         "orientation": "v",
         "showlegend": true,
         "textposition": "auto",
         "type": "bar",
         "x": [
          "Canada"
         ],
         "xaxis": "x",
         "y": [
          27
         ],
         "yaxis": "y"
        },
        {
         "alignmentgroup": "True",
         "hoverlabel": {
          "namelength": 0
         },
         "hovertemplate": "Country/Region=%{x}<br>Confirmed=%{y}",
         "legendgroup": "Iraq",
         "marker": {
          "color": "#EF553B"
         },
         "name": "Iraq",
         "offsetgroup": "Iraq",
         "orientation": "v",
         "showlegend": true,
         "textposition": "auto",
         "type": "bar",
         "x": [
          "Iraq"
         ],
         "xaxis": "x",
         "y": [
          26
         ],
         "yaxis": "y"
        },
        {
         "alignmentgroup": "True",
         "hoverlabel": {
          "namelength": 0
         },
         "hovertemplate": "Country/Region=%{x}<br>Confirmed=%{y}",
         "legendgroup": "Norway",
         "marker": {
          "color": "#00cc96"
         },
         "name": "Norway",
         "offsetgroup": "Norway",
         "orientation": "v",
         "showlegend": true,
         "textposition": "auto",
         "type": "bar",
         "x": [
          "Norway"
         ],
         "xaxis": "x",
         "y": [
          25
         ],
         "yaxis": "y"
        },
        {
         "alignmentgroup": "True",
         "hoverlabel": {
          "namelength": 0
         },
         "hovertemplate": "Country/Region=%{x}<br>Confirmed=%{y}",
         "legendgroup": "United Arab Emirates",
         "marker": {
          "color": "#ab63fa"
         },
         "name": "United Arab Emirates",
         "offsetgroup": "United Arab Emirates",
         "orientation": "v",
         "showlegend": true,
         "textposition": "auto",
         "type": "bar",
         "x": [
          "United Arab Emirates"
         ],
         "xaxis": "x",
         "y": [
          21
         ],
         "yaxis": "y"
        },
        {
         "alignmentgroup": "True",
         "hoverlabel": {
          "namelength": 0
         },
         "hovertemplate": "Country/Region=%{x}<br>Confirmed=%{y}",
         "legendgroup": "Netherlands",
         "marker": {
          "color": "#FFA15A"
         },
         "name": "Netherlands",
         "offsetgroup": "Netherlands",
         "orientation": "v",
         "showlegend": true,
         "textposition": "auto",
         "type": "bar",
         "x": [
          "Netherlands"
         ],
         "xaxis": "x",
         "y": [
          18
         ],
         "yaxis": "y"
        },
        {
         "alignmentgroup": "True",
         "hoverlabel": {
          "namelength": 0
         },
         "hovertemplate": "Country/Region=%{x}<br>Confirmed=%{y}",
         "legendgroup": "Austria",
         "marker": {
          "color": "#19d3f3"
         },
         "name": "Austria",
         "offsetgroup": "Austria",
         "orientation": "v",
         "showlegend": true,
         "textposition": "auto",
         "type": "bar",
         "x": [
          "Austria"
         ],
         "xaxis": "x",
         "y": [
          18
         ],
         "yaxis": "y"
        },
        {
         "alignmentgroup": "True",
         "hoverlabel": {
          "namelength": 0
         },
         "hovertemplate": "Country/Region=%{x}<br>Confirmed=%{y}",
         "legendgroup": "Vietnam",
         "marker": {
          "color": "#FF6692"
         },
         "name": "Vietnam",
         "offsetgroup": "Vietnam",
         "orientation": "v",
         "showlegend": true,
         "textposition": "auto",
         "type": "bar",
         "x": [
          "Vietnam"
         ],
         "xaxis": "x",
         "y": [
          16
         ],
         "yaxis": "y"
        },
        {
         "alignmentgroup": "True",
         "hoverlabel": {
          "namelength": 0
         },
         "hovertemplate": "Country/Region=%{x}<br>Confirmed=%{y}",
         "legendgroup": "Sweden",
         "marker": {
          "color": "#B6E880"
         },
         "name": "Sweden",
         "offsetgroup": "Sweden",
         "orientation": "v",
         "showlegend": true,
         "textposition": "auto",
         "type": "bar",
         "x": [
          "Sweden"
         ],
         "xaxis": "x",
         "y": [
          15
         ],
         "yaxis": "y"
        },
        {
         "alignmentgroup": "True",
         "hoverlabel": {
          "namelength": 0
         },
         "hovertemplate": "Country/Region=%{x}<br>Confirmed=%{y}",
         "legendgroup": "Lebanon",
         "marker": {
          "color": "#FF97FF"
         },
         "name": "Lebanon",
         "offsetgroup": "Lebanon",
         "orientation": "v",
         "showlegend": true,
         "textposition": "auto",
         "type": "bar",
         "x": [
          "Lebanon"
         ],
         "xaxis": "x",
         "y": [
          13
         ],
         "yaxis": "y"
        },
        {
         "alignmentgroup": "True",
         "hoverlabel": {
          "namelength": 0
         },
         "hovertemplate": "Country/Region=%{x}<br>Confirmed=%{y}",
         "legendgroup": "Israel",
         "marker": {
          "color": "#FECB52"
         },
         "name": "Israel",
         "offsetgroup": "Israel",
         "orientation": "v",
         "showlegend": true,
         "textposition": "auto",
         "type": "bar",
         "x": [
          "Israel"
         ],
         "xaxis": "x",
         "y": [
          10
         ],
         "yaxis": "y"
        },
        {
         "alignmentgroup": "True",
         "hoverlabel": {
          "namelength": 0
         },
         "hovertemplate": "Country/Region=%{x}<br>Confirmed=%{y}",
         "legendgroup": "Macau",
         "marker": {
          "color": "#636efa"
         },
         "name": "Macau",
         "offsetgroup": "Macau",
         "orientation": "v",
         "showlegend": true,
         "textposition": "auto",
         "type": "bar",
         "x": [
          "Macau"
         ],
         "xaxis": "x",
         "y": [
          10
         ],
         "yaxis": "y"
        },
        {
         "alignmentgroup": "True",
         "hoverlabel": {
          "namelength": 0
         },
         "hovertemplate": "Country/Region=%{x}<br>Confirmed=%{y}",
         "legendgroup": "San Marino",
         "marker": {
          "color": "#EF553B"
         },
         "name": "San Marino",
         "offsetgroup": "San Marino",
         "orientation": "v",
         "showlegend": true,
         "textposition": "auto",
         "type": "bar",
         "x": [
          "San Marino"
         ],
         "xaxis": "x",
         "y": [
          8
         ],
         "yaxis": "y"
        },
        {
         "alignmentgroup": "True",
         "hoverlabel": {
          "namelength": 0
         },
         "hovertemplate": "Country/Region=%{x}<br>Confirmed=%{y}",
         "legendgroup": "Belgium",
         "marker": {
          "color": "#00cc96"
         },
         "name": "Belgium",
         "offsetgroup": "Belgium",
         "orientation": "v",
         "showlegend": true,
         "textposition": "auto",
         "type": "bar",
         "x": [
          "Belgium"
         ],
         "xaxis": "x",
         "y": [
          8
         ],
         "yaxis": "y"
        },
        {
         "alignmentgroup": "True",
         "hoverlabel": {
          "namelength": 0
         },
         "hovertemplate": "Country/Region=%{x}<br>Confirmed=%{y}",
         "legendgroup": "Croatia",
         "marker": {
          "color": "#ab63fa"
         },
         "name": "Croatia",
         "offsetgroup": "Croatia",
         "orientation": "v",
         "showlegend": true,
         "textposition": "auto",
         "type": "bar",
         "x": [
          "Croatia"
         ],
         "xaxis": "x",
         "y": [
          7
         ],
         "yaxis": "y"
        },
        {
         "alignmentgroup": "True",
         "hoverlabel": {
          "namelength": 0
         },
         "hovertemplate": "Country/Region=%{x}<br>Confirmed=%{y}",
         "legendgroup": "Greece",
         "marker": {
          "color": "#FFA15A"
         },
         "name": "Greece",
         "offsetgroup": "Greece",
         "orientation": "v",
         "showlegend": true,
         "textposition": "auto",
         "type": "bar",
         "x": [
          "Greece"
         ],
         "xaxis": "x",
         "y": [
          7
         ],
         "yaxis": "y"
        },
        {
         "alignmentgroup": "True",
         "hoverlabel": {
          "namelength": 0
         },
         "hovertemplate": "Country/Region=%{x}<br>Confirmed=%{y}",
         "legendgroup": "Iceland",
         "marker": {
          "color": "#19d3f3"
         },
         "name": "Iceland",
         "offsetgroup": "Iceland",
         "orientation": "v",
         "showlegend": true,
         "textposition": "auto",
         "type": "bar",
         "x": [
          "Iceland"
         ],
         "xaxis": "x",
         "y": [
          6
         ],
         "yaxis": "y"
        },
        {
         "alignmentgroup": "True",
         "hoverlabel": {
          "namelength": 0
         },
         "hovertemplate": "Country/Region=%{x}<br>Confirmed=%{y}",
         "legendgroup": "Finland",
         "marker": {
          "color": "#FF6692"
         },
         "name": "Finland",
         "offsetgroup": "Finland",
         "orientation": "v",
         "showlegend": true,
         "textposition": "auto",
         "type": "bar",
         "x": [
          "Finland"
         ],
         "xaxis": "x",
         "y": [
          6
         ],
         "yaxis": "y"
        },
        {
         "alignmentgroup": "True",
         "hoverlabel": {
          "namelength": 0
         },
         "hovertemplate": "Country/Region=%{x}<br>Confirmed=%{y}",
         "legendgroup": "Oman",
         "marker": {
          "color": "#B6E880"
         },
         "name": "Oman",
         "offsetgroup": "Oman",
         "orientation": "v",
         "showlegend": true,
         "textposition": "auto",
         "type": "bar",
         "x": [
          "Oman"
         ],
         "xaxis": "x",
         "y": [
          6
         ],
         "yaxis": "y"
        },
        {
         "alignmentgroup": "True",
         "hoverlabel": {
          "namelength": 0
         },
         "hovertemplate": "Country/Region=%{x}<br>Confirmed=%{y}",
         "legendgroup": "Ecuador",
         "marker": {
          "color": "#FF97FF"
         },
         "name": "Ecuador",
         "offsetgroup": "Ecuador",
         "orientation": "v",
         "showlegend": true,
         "textposition": "auto",
         "type": "bar",
         "x": [
          "Ecuador"
         ],
         "xaxis": "x",
         "y": [
          6
         ],
         "yaxis": "y"
        },
        {
         "alignmentgroup": "True",
         "hoverlabel": {
          "namelength": 0
         },
         "hovertemplate": "Country/Region=%{x}<br>Confirmed=%{y}",
         "legendgroup": "India",
         "marker": {
          "color": "#FECB52"
         },
         "name": "India",
         "offsetgroup": "India",
         "orientation": "v",
         "showlegend": true,
         "textposition": "auto",
         "type": "bar",
         "x": [
          "India"
         ],
         "xaxis": "x",
         "y": [
          5
         ],
         "yaxis": "y"
        },
        {
         "alignmentgroup": "True",
         "hoverlabel": {
          "namelength": 0
         },
         "hovertemplate": "Country/Region=%{x}<br>Confirmed=%{y}",
         "legendgroup": "Mexico",
         "marker": {
          "color": "#636efa"
         },
         "name": "Mexico",
         "offsetgroup": "Mexico",
         "orientation": "v",
         "showlegend": true,
         "textposition": "auto",
         "type": "bar",
         "x": [
          "Mexico"
         ],
         "xaxis": "x",
         "y": [
          5
         ],
         "yaxis": "y"
        },
        {
         "alignmentgroup": "True",
         "hoverlabel": {
          "namelength": 0
         },
         "hovertemplate": "Country/Region=%{x}<br>Confirmed=%{y}",
         "legendgroup": "Pakistan",
         "marker": {
          "color": "#EF553B"
         },
         "name": "Pakistan",
         "offsetgroup": "Pakistan",
         "orientation": "v",
         "showlegend": true,
         "textposition": "auto",
         "type": "bar",
         "x": [
          "Pakistan"
         ],
         "xaxis": "x",
         "y": [
          4
         ],
         "yaxis": "y"
        },
        {
         "alignmentgroup": "True",
         "hoverlabel": {
          "namelength": 0
         },
         "hovertemplate": "Country/Region=%{x}<br>Confirmed=%{y}",
         "legendgroup": "Denmark",
         "marker": {
          "color": "#00cc96"
         },
         "name": "Denmark",
         "offsetgroup": "Denmark",
         "orientation": "v",
         "showlegend": true,
         "textposition": "auto",
         "type": "bar",
         "x": [
          "Denmark"
         ],
         "xaxis": "x",
         "y": [
          4
         ],
         "yaxis": "y"
        },
        {
         "alignmentgroup": "True",
         "hoverlabel": {
          "namelength": 0
         },
         "hovertemplate": "Country/Region=%{x}<br>Confirmed=%{y}",
         "legendgroup": "Philippines",
         "marker": {
          "color": "#ab63fa"
         },
         "name": "Philippines",
         "offsetgroup": "Philippines",
         "orientation": "v",
         "showlegend": true,
         "textposition": "auto",
         "type": "bar",
         "x": [
          "Philippines"
         ],
         "xaxis": "x",
         "y": [
          3
         ],
         "yaxis": "y"
        },
        {
         "alignmentgroup": "True",
         "hoverlabel": {
          "namelength": 0
         },
         "hovertemplate": "Country/Region=%{x}<br>Confirmed=%{y}",
         "legendgroup": "Russia",
         "marker": {
          "color": "#FFA15A"
         },
         "name": "Russia",
         "offsetgroup": "Russia",
         "orientation": "v",
         "showlegend": true,
         "textposition": "auto",
         "type": "bar",
         "x": [
          "Russia"
         ],
         "xaxis": "x",
         "y": [
          3
         ],
         "yaxis": "y"
        },
        {
         "alignmentgroup": "True",
         "hoverlabel": {
          "namelength": 0
         },
         "hovertemplate": "Country/Region=%{x}<br>Confirmed=%{y}",
         "legendgroup": "Qatar",
         "marker": {
          "color": "#19d3f3"
         },
         "name": "Qatar",
         "offsetgroup": "Qatar",
         "orientation": "v",
         "showlegend": true,
         "textposition": "auto",
         "type": "bar",
         "x": [
          "Qatar"
         ],
         "xaxis": "x",
         "y": [
          3
         ],
         "yaxis": "y"
        },
        {
         "alignmentgroup": "True",
         "hoverlabel": {
          "namelength": 0
         },
         "hovertemplate": "Country/Region=%{x}<br>Confirmed=%{y}",
         "legendgroup": "Algeria",
         "marker": {
          "color": "#FF6692"
         },
         "name": "Algeria",
         "offsetgroup": "Algeria",
         "orientation": "v",
         "showlegend": true,
         "textposition": "auto",
         "type": "bar",
         "x": [
          "Algeria"
         ],
         "xaxis": "x",
         "y": [
          3
         ],
         "yaxis": "y"
        },
        {
         "alignmentgroup": "True",
         "hoverlabel": {
          "namelength": 0
         },
         "hovertemplate": "Country/Region=%{x}<br>Confirmed=%{y}",
         "legendgroup": "Romania",
         "marker": {
          "color": "#B6E880"
         },
         "name": "Romania",
         "offsetgroup": "Romania",
         "orientation": "v",
         "showlegend": true,
         "textposition": "auto",
         "type": "bar",
         "x": [
          "Romania"
         ],
         "xaxis": "x",
         "y": [
          3
         ],
         "yaxis": "y"
        },
        {
         "alignmentgroup": "True",
         "hoverlabel": {
          "namelength": 0
         },
         "hovertemplate": "Country/Region=%{x}<br>Confirmed=%{y}",
         "legendgroup": "Georgia",
         "marker": {
          "color": "#FF97FF"
         },
         "name": "Georgia",
         "offsetgroup": "Georgia",
         "orientation": "v",
         "showlegend": true,
         "textposition": "auto",
         "type": "bar",
         "x": [
          "Georgia"
         ],
         "xaxis": "x",
         "y": [
          3
         ],
         "yaxis": "y"
        },
        {
         "alignmentgroup": "True",
         "hoverlabel": {
          "namelength": 0
         },
         "hovertemplate": "Country/Region=%{x}<br>Confirmed=%{y}",
         "legendgroup": "Czech Republic",
         "marker": {
          "color": "#FECB52"
         },
         "name": "Czech Republic",
         "offsetgroup": "Czech Republic",
         "orientation": "v",
         "showlegend": true,
         "textposition": "auto",
         "type": "bar",
         "x": [
          "Czech Republic"
         ],
         "xaxis": "x",
         "y": [
          3
         ],
         "yaxis": "y"
        },
        {
         "alignmentgroup": "True",
         "hoverlabel": {
          "namelength": 0
         },
         "hovertemplate": "Country/Region=%{x}<br>Confirmed=%{y}",
         "legendgroup": "Azerbaijan",
         "marker": {
          "color": "#636efa"
         },
         "name": "Azerbaijan",
         "offsetgroup": "Azerbaijan",
         "orientation": "v",
         "showlegend": true,
         "textposition": "auto",
         "type": "bar",
         "x": [
          "Azerbaijan"
         ],
         "xaxis": "x",
         "y": [
          3
         ],
         "yaxis": "y"
        },
        {
         "alignmentgroup": "True",
         "hoverlabel": {
          "namelength": 0
         },
         "hovertemplate": "Country/Region=%{x}<br>Confirmed=%{y}",
         "legendgroup": "Egypt",
         "marker": {
          "color": "#EF553B"
         },
         "name": "Egypt",
         "offsetgroup": "Egypt",
         "orientation": "v",
         "showlegend": true,
         "textposition": "auto",
         "type": "bar",
         "x": [
          "Egypt"
         ],
         "xaxis": "x",
         "y": [
          2
         ],
         "yaxis": "y"
        },
        {
         "alignmentgroup": "True",
         "hoverlabel": {
          "namelength": 0
         },
         "hovertemplate": "Country/Region=%{x}<br>Confirmed=%{y}",
         "legendgroup": "Brazil",
         "marker": {
          "color": "#00cc96"
         },
         "name": "Brazil",
         "offsetgroup": "Brazil",
         "orientation": "v",
         "showlegend": true,
         "textposition": "auto",
         "type": "bar",
         "x": [
          "Brazil"
         ],
         "xaxis": "x",
         "y": [
          2
         ],
         "yaxis": "y"
        },
        {
         "alignmentgroup": "True",
         "hoverlabel": {
          "namelength": 0
         },
         "hovertemplate": "Country/Region=%{x}<br>Confirmed=%{y}",
         "legendgroup": "Portugal",
         "marker": {
          "color": "#ab63fa"
         },
         "name": "Portugal",
         "offsetgroup": "Portugal",
         "orientation": "v",
         "showlegend": true,
         "textposition": "auto",
         "type": "bar",
         "x": [
          "Portugal"
         ],
         "xaxis": "x",
         "y": [
          2
         ],
         "yaxis": "y"
        },
        {
         "alignmentgroup": "True",
         "hoverlabel": {
          "namelength": 0
         },
         "hovertemplate": "Country/Region=%{x}<br>Confirmed=%{y}",
         "legendgroup": "Indonesia",
         "marker": {
          "color": "#FFA15A"
         },
         "name": "Indonesia",
         "offsetgroup": "Indonesia",
         "orientation": "v",
         "showlegend": true,
         "textposition": "auto",
         "type": "bar",
         "x": [
          "Indonesia"
         ],
         "xaxis": "x",
         "y": [
          2
         ],
         "yaxis": "y"
        },
        {
         "alignmentgroup": "True",
         "hoverlabel": {
          "namelength": 0
         },
         "hovertemplate": "Country/Region=%{x}<br>Confirmed=%{y}",
         "legendgroup": "Senegal",
         "marker": {
          "color": "#19d3f3"
         },
         "name": "Senegal",
         "offsetgroup": "Senegal",
         "orientation": "v",
         "showlegend": true,
         "textposition": "auto",
         "type": "bar",
         "x": [
          "Senegal"
         ],
         "xaxis": "x",
         "y": [
          1
         ],
         "yaxis": "y"
        },
        {
         "alignmentgroup": "True",
         "hoverlabel": {
          "namelength": 0
         },
         "hovertemplate": "Country/Region=%{x}<br>Confirmed=%{y}",
         "legendgroup": "Sri Lanka",
         "marker": {
          "color": "#FF6692"
         },
         "name": "Sri Lanka",
         "offsetgroup": "Sri Lanka",
         "orientation": "v",
         "showlegend": true,
         "textposition": "auto",
         "type": "bar",
         "x": [
          "Sri Lanka"
         ],
         "xaxis": "x",
         "y": [
          1
         ],
         "yaxis": "y"
        },
        {
         "alignmentgroup": "True",
         "hoverlabel": {
          "namelength": 0
         },
         "hovertemplate": "Country/Region=%{x}<br>Confirmed=%{y}",
         "legendgroup": "Saudi Arabia",
         "marker": {
          "color": "#B6E880"
         },
         "name": "Saudi Arabia",
         "offsetgroup": "Saudi Arabia",
         "orientation": "v",
         "showlegend": true,
         "textposition": "auto",
         "type": "bar",
         "x": [
          "Saudi Arabia"
         ],
         "xaxis": "x",
         "y": [
          1
         ],
         "yaxis": "y"
        },
        {
         "alignmentgroup": "True",
         "hoverlabel": {
          "namelength": 0
         },
         "hovertemplate": "Country/Region=%{x}<br>Confirmed=%{y}",
         "legendgroup": "Afghanistan",
         "marker": {
          "color": "#FF97FF"
         },
         "name": "Afghanistan",
         "offsetgroup": "Afghanistan",
         "orientation": "v",
         "showlegend": true,
         "textposition": "auto",
         "type": "bar",
         "x": [
          "Afghanistan"
         ],
         "xaxis": "x",
         "y": [
          1
         ],
         "yaxis": "y"
        },
        {
         "alignmentgroup": "True",
         "hoverlabel": {
          "namelength": 0
         },
         "hovertemplate": "Country/Region=%{x}<br>Confirmed=%{y}",
         "legendgroup": "North Macedonia",
         "marker": {
          "color": "#FECB52"
         },
         "name": "North Macedonia",
         "offsetgroup": "North Macedonia",
         "orientation": "v",
         "showlegend": true,
         "textposition": "auto",
         "type": "bar",
         "x": [
          "North Macedonia"
         ],
         "xaxis": "x",
         "y": [
          1
         ],
         "yaxis": "y"
        },
        {
         "alignmentgroup": "True",
         "hoverlabel": {
          "namelength": 0
         },
         "hovertemplate": "Country/Region=%{x}<br>Confirmed=%{y}",
         "legendgroup": "Nigeria",
         "marker": {
          "color": "#636efa"
         },
         "name": "Nigeria",
         "offsetgroup": "Nigeria",
         "orientation": "v",
         "showlegend": true,
         "textposition": "auto",
         "type": "bar",
         "x": [
          "Nigeria"
         ],
         "xaxis": "x",
         "y": [
          1
         ],
         "yaxis": "y"
        },
        {
         "alignmentgroup": "True",
         "hoverlabel": {
          "namelength": 0
         },
         "hovertemplate": "Country/Region=%{x}<br>Confirmed=%{y}",
         "legendgroup": "New Zealand",
         "marker": {
          "color": "#EF553B"
         },
         "name": "New Zealand",
         "offsetgroup": "New Zealand",
         "orientation": "v",
         "showlegend": true,
         "textposition": "auto",
         "type": "bar",
         "x": [
          "New Zealand"
         ],
         "xaxis": "x",
         "y": [
          1
         ],
         "yaxis": "y"
        },
        {
         "alignmentgroup": "True",
         "hoverlabel": {
          "namelength": 0
         },
         "hovertemplate": "Country/Region=%{x}<br>Confirmed=%{y}",
         "legendgroup": "Nepal",
         "marker": {
          "color": "#00cc96"
         },
         "name": "Nepal",
         "offsetgroup": "Nepal",
         "orientation": "v",
         "showlegend": true,
         "textposition": "auto",
         "type": "bar",
         "x": [
          "Nepal"
         ],
         "xaxis": "x",
         "y": [
          1
         ],
         "yaxis": "y"
        },
        {
         "alignmentgroup": "True",
         "hoverlabel": {
          "namelength": 0
         },
         "hovertemplate": "Country/Region=%{x}<br>Confirmed=%{y}",
         "legendgroup": "Morocco",
         "marker": {
          "color": "#ab63fa"
         },
         "name": "Morocco",
         "offsetgroup": "Morocco",
         "orientation": "v",
         "showlegend": true,
         "textposition": "auto",
         "type": "bar",
         "x": [
          "Morocco"
         ],
         "xaxis": "x",
         "y": [
          1
         ],
         "yaxis": "y"
        },
        {
         "alignmentgroup": "True",
         "hoverlabel": {
          "namelength": 0
         },
         "hovertemplate": "Country/Region=%{x}<br>Confirmed=%{y}",
         "legendgroup": "Monaco",
         "marker": {
          "color": "#FFA15A"
         },
         "name": "Monaco",
         "offsetgroup": "Monaco",
         "orientation": "v",
         "showlegend": true,
         "textposition": "auto",
         "type": "bar",
         "x": [
          "Monaco"
         ],
         "xaxis": "x",
         "y": [
          1
         ],
         "yaxis": "y"
        },
        {
         "alignmentgroup": "True",
         "hoverlabel": {
          "namelength": 0
         },
         "hovertemplate": "Country/Region=%{x}<br>Confirmed=%{y}",
         "legendgroup": "Luxembourg",
         "marker": {
          "color": "#19d3f3"
         },
         "name": "Luxembourg",
         "offsetgroup": "Luxembourg",
         "orientation": "v",
         "showlegend": true,
         "textposition": "auto",
         "type": "bar",
         "x": [
          "Luxembourg"
         ],
         "xaxis": "x",
         "y": [
          1
         ],
         "yaxis": "y"
        },
        {
         "alignmentgroup": "True",
         "hoverlabel": {
          "namelength": 0
         },
         "hovertemplate": "Country/Region=%{x}<br>Confirmed=%{y}",
         "legendgroup": "Lithuania",
         "marker": {
          "color": "#FF6692"
         },
         "name": "Lithuania",
         "offsetgroup": "Lithuania",
         "orientation": "v",
         "showlegend": true,
         "textposition": "auto",
         "type": "bar",
         "x": [
          "Lithuania"
         ],
         "xaxis": "x",
         "y": [
          1
         ],
         "yaxis": "y"
        },
        {
         "alignmentgroup": "True",
         "hoverlabel": {
          "namelength": 0
         },
         "hovertemplate": "Country/Region=%{x}<br>Confirmed=%{y}",
         "legendgroup": "Ireland",
         "marker": {
          "color": "#B6E880"
         },
         "name": "Ireland",
         "offsetgroup": "Ireland",
         "orientation": "v",
         "showlegend": true,
         "textposition": "auto",
         "type": "bar",
         "x": [
          "Ireland"
         ],
         "xaxis": "x",
         "y": [
          1
         ],
         "yaxis": "y"
        },
        {
         "alignmentgroup": "True",
         "hoverlabel": {
          "namelength": 0
         },
         "hovertemplate": "Country/Region=%{x}<br>Confirmed=%{y}",
         "legendgroup": "Estonia",
         "marker": {
          "color": "#FF97FF"
         },
         "name": "Estonia",
         "offsetgroup": "Estonia",
         "orientation": "v",
         "showlegend": true,
         "textposition": "auto",
         "type": "bar",
         "x": [
          "Estonia"
         ],
         "xaxis": "x",
         "y": [
          1
         ],
         "yaxis": "y"
        },
        {
         "alignmentgroup": "True",
         "hoverlabel": {
          "namelength": 0
         },
         "hovertemplate": "Country/Region=%{x}<br>Confirmed=%{y}",
         "legendgroup": "Dominican Republic",
         "marker": {
          "color": "#FECB52"
         },
         "name": "Dominican Republic",
         "offsetgroup": "Dominican Republic",
         "orientation": "v",
         "showlegend": true,
         "textposition": "auto",
         "type": "bar",
         "x": [
          "Dominican Republic"
         ],
         "xaxis": "x",
         "y": [
          1
         ],
         "yaxis": "y"
        },
        {
         "alignmentgroup": "True",
         "hoverlabel": {
          "namelength": 0
         },
         "hovertemplate": "Country/Region=%{x}<br>Confirmed=%{y}",
         "legendgroup": "Cambodia",
         "marker": {
          "color": "#636efa"
         },
         "name": "Cambodia",
         "offsetgroup": "Cambodia",
         "orientation": "v",
         "showlegend": true,
         "textposition": "auto",
         "type": "bar",
         "x": [
          "Cambodia"
         ],
         "xaxis": "x",
         "y": [
          1
         ],
         "yaxis": "y"
        },
        {
         "alignmentgroup": "True",
         "hoverlabel": {
          "namelength": 0
         },
         "hovertemplate": "Country/Region=%{x}<br>Confirmed=%{y}",
         "legendgroup": "Belarus",
         "marker": {
          "color": "#EF553B"
         },
         "name": "Belarus",
         "offsetgroup": "Belarus",
         "orientation": "v",
         "showlegend": true,
         "textposition": "auto",
         "type": "bar",
         "x": [
          "Belarus"
         ],
         "xaxis": "x",
         "y": [
          1
         ],
         "yaxis": "y"
        },
        {
         "alignmentgroup": "True",
         "hoverlabel": {
          "namelength": 0
         },
         "hovertemplate": "Country/Region=%{x}<br>Confirmed=%{y}",
         "legendgroup": "Armenia",
         "marker": {
          "color": "#00cc96"
         },
         "name": "Armenia",
         "offsetgroup": "Armenia",
         "orientation": "v",
         "showlegend": true,
         "textposition": "auto",
         "type": "bar",
         "x": [
          "Armenia"
         ],
         "xaxis": "x",
         "y": [
          1
         ],
         "yaxis": "y"
        },
        {
         "alignmentgroup": "True",
         "hoverlabel": {
          "namelength": 0
         },
         "hovertemplate": "Country/Region=%{x}<br>Confirmed=%{y}",
         "legendgroup": "Andorra",
         "marker": {
          "color": "#ab63fa"
         },
         "name": "Andorra",
         "offsetgroup": "Andorra",
         "orientation": "v",
         "showlegend": true,
         "textposition": "auto",
         "type": "bar",
         "x": [
          "Andorra"
         ],
         "xaxis": "x",
         "y": [
          1
         ],
         "yaxis": "y"
        },
        {
         "alignmentgroup": "True",
         "hoverlabel": {
          "namelength": 0
         },
         "hovertemplate": "Country/Region=%{x}<br>Confirmed=%{y}",
         "legendgroup": "Latvia",
         "marker": {
          "color": "#FFA15A"
         },
         "name": "Latvia",
         "offsetgroup": "Latvia",
         "orientation": "v",
         "showlegend": true,
         "textposition": "auto",
         "type": "bar",
         "x": [
          "Latvia"
         ],
         "xaxis": "x",
         "y": [
          1
         ],
         "yaxis": "y"
        }
       ],
       "layout": {
        "barmode": "relative",
        "height": 400,
        "legend": {
         "title": {
          "text": "Country/Region"
         },
         "tracegroupgap": 0
        },
        "margin": {
         "t": 60
        },
        "template": {
         "data": {
          "bar": [
           {
            "error_x": {
             "color": "#2a3f5f"
            },
            "error_y": {
             "color": "#2a3f5f"
            },
            "marker": {
             "line": {
              "color": "#E5ECF6",
              "width": 0.5
             }
            },
            "type": "bar"
           }
          ],
          "barpolar": [
           {
            "marker": {
             "line": {
              "color": "#E5ECF6",
              "width": 0.5
             }
            },
            "type": "barpolar"
           }
          ],
          "carpet": [
           {
            "aaxis": {
             "endlinecolor": "#2a3f5f",
             "gridcolor": "white",
             "linecolor": "white",
             "minorgridcolor": "white",
             "startlinecolor": "#2a3f5f"
            },
            "baxis": {
             "endlinecolor": "#2a3f5f",
             "gridcolor": "white",
             "linecolor": "white",
             "minorgridcolor": "white",
             "startlinecolor": "#2a3f5f"
            },
            "type": "carpet"
           }
          ],
          "choropleth": [
           {
            "colorbar": {
             "outlinewidth": 0,
             "ticks": ""
            },
            "type": "choropleth"
           }
          ],
          "contour": [
           {
            "colorbar": {
             "outlinewidth": 0,
             "ticks": ""
            },
            "colorscale": [
             [
              0,
              "#0d0887"
             ],
             [
              0.1111111111111111,
              "#46039f"
             ],
             [
              0.2222222222222222,
              "#7201a8"
             ],
             [
              0.3333333333333333,
              "#9c179e"
             ],
             [
              0.4444444444444444,
              "#bd3786"
             ],
             [
              0.5555555555555556,
              "#d8576b"
             ],
             [
              0.6666666666666666,
              "#ed7953"
             ],
             [
              0.7777777777777778,
              "#fb9f3a"
             ],
             [
              0.8888888888888888,
              "#fdca26"
             ],
             [
              1,
              "#f0f921"
             ]
            ],
            "type": "contour"
           }
          ],
          "contourcarpet": [
           {
            "colorbar": {
             "outlinewidth": 0,
             "ticks": ""
            },
            "type": "contourcarpet"
           }
          ],
          "heatmap": [
           {
            "colorbar": {
             "outlinewidth": 0,
             "ticks": ""
            },
            "colorscale": [
             [
              0,
              "#0d0887"
             ],
             [
              0.1111111111111111,
              "#46039f"
             ],
             [
              0.2222222222222222,
              "#7201a8"
             ],
             [
              0.3333333333333333,
              "#9c179e"
             ],
             [
              0.4444444444444444,
              "#bd3786"
             ],
             [
              0.5555555555555556,
              "#d8576b"
             ],
             [
              0.6666666666666666,
              "#ed7953"
             ],
             [
              0.7777777777777778,
              "#fb9f3a"
             ],
             [
              0.8888888888888888,
              "#fdca26"
             ],
             [
              1,
              "#f0f921"
             ]
            ],
            "type": "heatmap"
           }
          ],
          "heatmapgl": [
           {
            "colorbar": {
             "outlinewidth": 0,
             "ticks": ""
            },
            "colorscale": [
             [
              0,
              "#0d0887"
             ],
             [
              0.1111111111111111,
              "#46039f"
             ],
             [
              0.2222222222222222,
              "#7201a8"
             ],
             [
              0.3333333333333333,
              "#9c179e"
             ],
             [
              0.4444444444444444,
              "#bd3786"
             ],
             [
              0.5555555555555556,
              "#d8576b"
             ],
             [
              0.6666666666666666,
              "#ed7953"
             ],
             [
              0.7777777777777778,
              "#fb9f3a"
             ],
             [
              0.8888888888888888,
              "#fdca26"
             ],
             [
              1,
              "#f0f921"
             ]
            ],
            "type": "heatmapgl"
           }
          ],
          "histogram": [
           {
            "marker": {
             "colorbar": {
              "outlinewidth": 0,
              "ticks": ""
             }
            },
            "type": "histogram"
           }
          ],
          "histogram2d": [
           {
            "colorbar": {
             "outlinewidth": 0,
             "ticks": ""
            },
            "colorscale": [
             [
              0,
              "#0d0887"
             ],
             [
              0.1111111111111111,
              "#46039f"
             ],
             [
              0.2222222222222222,
              "#7201a8"
             ],
             [
              0.3333333333333333,
              "#9c179e"
             ],
             [
              0.4444444444444444,
              "#bd3786"
             ],
             [
              0.5555555555555556,
              "#d8576b"
             ],
             [
              0.6666666666666666,
              "#ed7953"
             ],
             [
              0.7777777777777778,
              "#fb9f3a"
             ],
             [
              0.8888888888888888,
              "#fdca26"
             ],
             [
              1,
              "#f0f921"
             ]
            ],
            "type": "histogram2d"
           }
          ],
          "histogram2dcontour": [
           {
            "colorbar": {
             "outlinewidth": 0,
             "ticks": ""
            },
            "colorscale": [
             [
              0,
              "#0d0887"
             ],
             [
              0.1111111111111111,
              "#46039f"
             ],
             [
              0.2222222222222222,
              "#7201a8"
             ],
             [
              0.3333333333333333,
              "#9c179e"
             ],
             [
              0.4444444444444444,
              "#bd3786"
             ],
             [
              0.5555555555555556,
              "#d8576b"
             ],
             [
              0.6666666666666666,
              "#ed7953"
             ],
             [
              0.7777777777777778,
              "#fb9f3a"
             ],
             [
              0.8888888888888888,
              "#fdca26"
             ],
             [
              1,
              "#f0f921"
             ]
            ],
            "type": "histogram2dcontour"
           }
          ],
          "mesh3d": [
           {
            "colorbar": {
             "outlinewidth": 0,
             "ticks": ""
            },
            "type": "mesh3d"
           }
          ],
          "parcoords": [
           {
            "line": {
             "colorbar": {
              "outlinewidth": 0,
              "ticks": ""
             }
            },
            "type": "parcoords"
           }
          ],
          "pie": [
           {
            "automargin": true,
            "type": "pie"
           }
          ],
          "scatter": [
           {
            "marker": {
             "colorbar": {
              "outlinewidth": 0,
              "ticks": ""
             }
            },
            "type": "scatter"
           }
          ],
          "scatter3d": [
           {
            "line": {
             "colorbar": {
              "outlinewidth": 0,
              "ticks": ""
             }
            },
            "marker": {
             "colorbar": {
              "outlinewidth": 0,
              "ticks": ""
             }
            },
            "type": "scatter3d"
           }
          ],
          "scattercarpet": [
           {
            "marker": {
             "colorbar": {
              "outlinewidth": 0,
              "ticks": ""
             }
            },
            "type": "scattercarpet"
           }
          ],
          "scattergeo": [
           {
            "marker": {
             "colorbar": {
              "outlinewidth": 0,
              "ticks": ""
             }
            },
            "type": "scattergeo"
           }
          ],
          "scattergl": [
           {
            "marker": {
             "colorbar": {
              "outlinewidth": 0,
              "ticks": ""
             }
            },
            "type": "scattergl"
           }
          ],
          "scattermapbox": [
           {
            "marker": {
             "colorbar": {
              "outlinewidth": 0,
              "ticks": ""
             }
            },
            "type": "scattermapbox"
           }
          ],
          "scatterpolar": [
           {
            "marker": {
             "colorbar": {
              "outlinewidth": 0,
              "ticks": ""
             }
            },
            "type": "scatterpolar"
           }
          ],
          "scatterpolargl": [
           {
            "marker": {
             "colorbar": {
              "outlinewidth": 0,
              "ticks": ""
             }
            },
            "type": "scatterpolargl"
           }
          ],
          "scatterternary": [
           {
            "marker": {
             "colorbar": {
              "outlinewidth": 0,
              "ticks": ""
             }
            },
            "type": "scatterternary"
           }
          ],
          "surface": [
           {
            "colorbar": {
             "outlinewidth": 0,
             "ticks": ""
            },
            "colorscale": [
             [
              0,
              "#0d0887"
             ],
             [
              0.1111111111111111,
              "#46039f"
             ],
             [
              0.2222222222222222,
              "#7201a8"
             ],
             [
              0.3333333333333333,
              "#9c179e"
             ],
             [
              0.4444444444444444,
              "#bd3786"
             ],
             [
              0.5555555555555556,
              "#d8576b"
             ],
             [
              0.6666666666666666,
              "#ed7953"
             ],
             [
              0.7777777777777778,
              "#fb9f3a"
             ],
             [
              0.8888888888888888,
              "#fdca26"
             ],
             [
              1,
              "#f0f921"
             ]
            ],
            "type": "surface"
           }
          ],
          "table": [
           {
            "cells": {
             "fill": {
              "color": "#EBF0F8"
             },
             "line": {
              "color": "white"
             }
            },
            "header": {
             "fill": {
              "color": "#C8D4E3"
             },
             "line": {
              "color": "white"
             }
            },
            "type": "table"
           }
          ]
         },
         "layout": {
          "annotationdefaults": {
           "arrowcolor": "#2a3f5f",
           "arrowhead": 0,
           "arrowwidth": 1
          },
          "coloraxis": {
           "colorbar": {
            "outlinewidth": 0,
            "ticks": ""
           }
          },
          "colorscale": {
           "diverging": [
            [
             0,
             "#8e0152"
            ],
            [
             0.1,
             "#c51b7d"
            ],
            [
             0.2,
             "#de77ae"
            ],
            [
             0.3,
             "#f1b6da"
            ],
            [
             0.4,
             "#fde0ef"
            ],
            [
             0.5,
             "#f7f7f7"
            ],
            [
             0.6,
             "#e6f5d0"
            ],
            [
             0.7,
             "#b8e186"
            ],
            [
             0.8,
             "#7fbc41"
            ],
            [
             0.9,
             "#4d9221"
            ],
            [
             1,
             "#276419"
            ]
           ],
           "sequential": [
            [
             0,
             "#0d0887"
            ],
            [
             0.1111111111111111,
             "#46039f"
            ],
            [
             0.2222222222222222,
             "#7201a8"
            ],
            [
             0.3333333333333333,
             "#9c179e"
            ],
            [
             0.4444444444444444,
             "#bd3786"
            ],
            [
             0.5555555555555556,
             "#d8576b"
            ],
            [
             0.6666666666666666,
             "#ed7953"
            ],
            [
             0.7777777777777778,
             "#fb9f3a"
            ],
            [
             0.8888888888888888,
             "#fdca26"
            ],
            [
             1,
             "#f0f921"
            ]
           ],
           "sequentialminus": [
            [
             0,
             "#0d0887"
            ],
            [
             0.1111111111111111,
             "#46039f"
            ],
            [
             0.2222222222222222,
             "#7201a8"
            ],
            [
             0.3333333333333333,
             "#9c179e"
            ],
            [
             0.4444444444444444,
             "#bd3786"
            ],
            [
             0.5555555555555556,
             "#d8576b"
            ],
            [
             0.6666666666666666,
             "#ed7953"
            ],
            [
             0.7777777777777778,
             "#fb9f3a"
            ],
            [
             0.8888888888888888,
             "#fdca26"
            ],
            [
             1,
             "#f0f921"
            ]
           ]
          },
          "colorway": [
           "#636efa",
           "#EF553B",
           "#00cc96",
           "#ab63fa",
           "#FFA15A",
           "#19d3f3",
           "#FF6692",
           "#B6E880",
           "#FF97FF",
           "#FECB52"
          ],
          "font": {
           "color": "#2a3f5f"
          },
          "geo": {
           "bgcolor": "white",
           "lakecolor": "white",
           "landcolor": "#E5ECF6",
           "showlakes": true,
           "showland": true,
           "subunitcolor": "white"
          },
          "hoverlabel": {
           "align": "left"
          },
          "hovermode": "closest",
          "mapbox": {
           "style": "light"
          },
          "paper_bgcolor": "white",
          "plot_bgcolor": "#E5ECF6",
          "polar": {
           "angularaxis": {
            "gridcolor": "white",
            "linecolor": "white",
            "ticks": ""
           },
           "bgcolor": "#E5ECF6",
           "radialaxis": {
            "gridcolor": "white",
            "linecolor": "white",
            "ticks": ""
           }
          },
          "scene": {
           "xaxis": {
            "backgroundcolor": "#E5ECF6",
            "gridcolor": "white",
            "gridwidth": 2,
            "linecolor": "white",
            "showbackground": true,
            "ticks": "",
            "zerolinecolor": "white"
           },
           "yaxis": {
            "backgroundcolor": "#E5ECF6",
            "gridcolor": "white",
            "gridwidth": 2,
            "linecolor": "white",
            "showbackground": true,
            "ticks": "",
            "zerolinecolor": "white"
           },
           "zaxis": {
            "backgroundcolor": "#E5ECF6",
            "gridcolor": "white",
            "gridwidth": 2,
            "linecolor": "white",
            "showbackground": true,
            "ticks": "",
            "zerolinecolor": "white"
           }
          },
          "shapedefaults": {
           "line": {
            "color": "#2a3f5f"
           }
          },
          "ternary": {
           "aaxis": {
            "gridcolor": "white",
            "linecolor": "white",
            "ticks": ""
           },
           "baxis": {
            "gridcolor": "white",
            "linecolor": "white",
            "ticks": ""
           },
           "bgcolor": "#E5ECF6",
           "caxis": {
            "gridcolor": "white",
            "linecolor": "white",
            "ticks": ""
           }
          },
          "title": {
           "x": 0.05
          },
          "xaxis": {
           "automargin": true,
           "gridcolor": "white",
           "linecolor": "white",
           "ticks": "",
           "title": {
            "standoff": 15
           },
           "zerolinecolor": "white",
           "zerolinewidth": 2
          },
          "yaxis": {
           "automargin": true,
           "gridcolor": "white",
           "linecolor": "white",
           "ticks": "",
           "title": {
            "standoff": 15
           },
           "zerolinecolor": "white",
           "zerolinewidth": 2
          }
         }
        },
        "xaxis": {
         "anchor": "y",
         "categoryarray": [
          "China",
          "South Korea",
          "Italy",
          "Iran",
          "Others",
          "Japan",
          "France",
          "Germany",
          "Spain",
          "Singapore",
          "US",
          "Hong Kong",
          "Kuwait",
          "Bahrain",
          "Thailand",
          "Switzerland",
          "Taiwan",
          "UK",
          "Australia",
          "Malaysia",
          "Canada",
          "Iraq",
          "Norway",
          "United Arab Emirates",
          "Netherlands",
          "Austria",
          "Vietnam",
          "Sweden",
          "Lebanon",
          "Israel",
          "Macau",
          "San Marino",
          "Belgium",
          "Croatia",
          "Greece",
          "Iceland",
          "Finland",
          "Oman",
          "Ecuador",
          "India",
          "Mexico",
          "Pakistan",
          "Denmark",
          "Philippines",
          "Russia",
          "Qatar",
          "Algeria",
          "Romania",
          "Georgia",
          "Czech Republic",
          "Azerbaijan",
          "Egypt",
          "Brazil",
          "Portugal",
          "Indonesia",
          "Senegal",
          "Sri Lanka",
          "Saudi Arabia",
          "Afghanistan",
          "North Macedonia",
          "Nigeria",
          "New Zealand",
          "Nepal",
          "Morocco",
          "Monaco",
          "Luxembourg",
          "Lithuania",
          "Ireland",
          "Estonia",
          "Dominican Republic",
          "Cambodia",
          "Belarus",
          "Armenia",
          "Andorra",
          "Latvia"
         ],
         "categoryorder": "array",
         "domain": [
          0,
          1
         ],
         "title": {
          "text": "Country/Region"
         }
        },
        "yaxis": {
         "anchor": "x",
         "domain": [
          0,
          1
         ],
         "title": {
          "text": "Confirmed"
         },
         "type": "log"
        }
       }
      },
      "text/html": [
       "<div>\n",
       "        \n",
       "        \n",
       "            <div id=\"b52018be-e9bc-449f-a987-8f18a94f1742\" class=\"plotly-graph-div\" style=\"height:400px; width:100%;\"></div>\n",
       "            <script type=\"text/javascript\">\n",
       "                require([\"plotly\"], function(Plotly) {\n",
       "                    window.PLOTLYENV=window.PLOTLYENV || {};\n",
       "                    \n",
       "                if (document.getElementById(\"b52018be-e9bc-449f-a987-8f18a94f1742\")) {\n",
       "                    Plotly.newPlot(\n",
       "                        'b52018be-e9bc-449f-a987-8f18a94f1742',\n",
       "                        [{\"alignmentgroup\": \"True\", \"hoverlabel\": {\"namelength\": 0}, \"hovertemplate\": \"Country/Region=%{x}<br>Confirmed=%{y}\", \"legendgroup\": \"China\", \"marker\": {\"color\": \"#636efa\"}, \"name\": \"China\", \"offsetgroup\": \"China\", \"orientation\": \"v\", \"showlegend\": true, \"textposition\": \"auto\", \"type\": \"bar\", \"x\": [\"China\"], \"xaxis\": \"x\", \"y\": [80026.0], \"yaxis\": \"y\"}, {\"alignmentgroup\": \"True\", \"hoverlabel\": {\"namelength\": 0}, \"hovertemplate\": \"Country/Region=%{x}<br>Confirmed=%{y}\", \"legendgroup\": \"South Korea\", \"marker\": {\"color\": \"#EF553B\"}, \"name\": \"South Korea\", \"offsetgroup\": \"South Korea\", \"orientation\": \"v\", \"showlegend\": true, \"textposition\": \"auto\", \"type\": \"bar\", \"x\": [\"South Korea\"], \"xaxis\": \"x\", \"y\": [4335.0], \"yaxis\": \"y\"}, {\"alignmentgroup\": \"True\", \"hoverlabel\": {\"namelength\": 0}, \"hovertemplate\": \"Country/Region=%{x}<br>Confirmed=%{y}\", \"legendgroup\": \"Italy\", \"marker\": {\"color\": \"#00cc96\"}, \"name\": \"Italy\", \"offsetgroup\": \"Italy\", \"orientation\": \"v\", \"showlegend\": true, \"textposition\": \"auto\", \"type\": \"bar\", \"x\": [\"Italy\"], \"xaxis\": \"x\", \"y\": [2036.0], \"yaxis\": \"y\"}, {\"alignmentgroup\": \"True\", \"hoverlabel\": {\"namelength\": 0}, \"hovertemplate\": \"Country/Region=%{x}<br>Confirmed=%{y}\", \"legendgroup\": \"Iran\", \"marker\": {\"color\": \"#ab63fa\"}, \"name\": \"Iran\", \"offsetgroup\": \"Iran\", \"orientation\": \"v\", \"showlegend\": true, \"textposition\": \"auto\", \"type\": \"bar\", \"x\": [\"Iran\"], \"xaxis\": \"x\", \"y\": [1501.0], \"yaxis\": \"y\"}, {\"alignmentgroup\": \"True\", \"hoverlabel\": {\"namelength\": 0}, \"hovertemplate\": \"Country/Region=%{x}<br>Confirmed=%{y}\", \"legendgroup\": \"Others\", \"marker\": {\"color\": \"#FFA15A\"}, \"name\": \"Others\", \"offsetgroup\": \"Others\", \"orientation\": \"v\", \"showlegend\": true, \"textposition\": \"auto\", \"type\": \"bar\", \"x\": [\"Others\"], \"xaxis\": \"x\", \"y\": [705.0], \"yaxis\": \"y\"}, {\"alignmentgroup\": \"True\", \"hoverlabel\": {\"namelength\": 0}, \"hovertemplate\": \"Country/Region=%{x}<br>Confirmed=%{y}\", \"legendgroup\": \"Japan\", \"marker\": {\"color\": \"#19d3f3\"}, \"name\": \"Japan\", \"offsetgroup\": \"Japan\", \"orientation\": \"v\", \"showlegend\": true, \"textposition\": \"auto\", \"type\": \"bar\", \"x\": [\"Japan\"], \"xaxis\": \"x\", \"y\": [274.0], \"yaxis\": \"y\"}, {\"alignmentgroup\": \"True\", \"hoverlabel\": {\"namelength\": 0}, \"hovertemplate\": \"Country/Region=%{x}<br>Confirmed=%{y}\", \"legendgroup\": \"France\", \"marker\": {\"color\": \"#FF6692\"}, \"name\": \"France\", \"offsetgroup\": \"France\", \"orientation\": \"v\", \"showlegend\": true, \"textposition\": \"auto\", \"type\": \"bar\", \"x\": [\"France\"], \"xaxis\": \"x\", \"y\": [191.0], \"yaxis\": \"y\"}, {\"alignmentgroup\": \"True\", \"hoverlabel\": {\"namelength\": 0}, \"hovertemplate\": \"Country/Region=%{x}<br>Confirmed=%{y}\", \"legendgroup\": \"Germany\", \"marker\": {\"color\": \"#B6E880\"}, \"name\": \"Germany\", \"offsetgroup\": \"Germany\", \"orientation\": \"v\", \"showlegend\": true, \"textposition\": \"auto\", \"type\": \"bar\", \"x\": [\"Germany\"], \"xaxis\": \"x\", \"y\": [159.0], \"yaxis\": \"y\"}, {\"alignmentgroup\": \"True\", \"hoverlabel\": {\"namelength\": 0}, \"hovertemplate\": \"Country/Region=%{x}<br>Confirmed=%{y}\", \"legendgroup\": \"Spain\", \"marker\": {\"color\": \"#FF97FF\"}, \"name\": \"Spain\", \"offsetgroup\": \"Spain\", \"orientation\": \"v\", \"showlegend\": true, \"textposition\": \"auto\", \"type\": \"bar\", \"x\": [\"Spain\"], \"xaxis\": \"x\", \"y\": [120.0], \"yaxis\": \"y\"}, {\"alignmentgroup\": \"True\", \"hoverlabel\": {\"namelength\": 0}, \"hovertemplate\": \"Country/Region=%{x}<br>Confirmed=%{y}\", \"legendgroup\": \"Singapore\", \"marker\": {\"color\": \"#FECB52\"}, \"name\": \"Singapore\", \"offsetgroup\": \"Singapore\", \"orientation\": \"v\", \"showlegend\": true, \"textposition\": \"auto\", \"type\": \"bar\", \"x\": [\"Singapore\"], \"xaxis\": \"x\", \"y\": [108.0], \"yaxis\": \"y\"}, {\"alignmentgroup\": \"True\", \"hoverlabel\": {\"namelength\": 0}, \"hovertemplate\": \"Country/Region=%{x}<br>Confirmed=%{y}\", \"legendgroup\": \"US\", \"marker\": {\"color\": \"#636efa\"}, \"name\": \"US\", \"offsetgroup\": \"US\", \"orientation\": \"v\", \"showlegend\": true, \"textposition\": \"auto\", \"type\": \"bar\", \"x\": [\"US\"], \"xaxis\": \"x\", \"y\": [101.0], \"yaxis\": \"y\"}, {\"alignmentgroup\": \"True\", \"hoverlabel\": {\"namelength\": 0}, \"hovertemplate\": \"Country/Region=%{x}<br>Confirmed=%{y}\", \"legendgroup\": \"Hong Kong\", \"marker\": {\"color\": \"#EF553B\"}, \"name\": \"Hong Kong\", \"offsetgroup\": \"Hong Kong\", \"orientation\": \"v\", \"showlegend\": true, \"textposition\": \"auto\", \"type\": \"bar\", \"x\": [\"Hong Kong\"], \"xaxis\": \"x\", \"y\": [100.0], \"yaxis\": \"y\"}, {\"alignmentgroup\": \"True\", \"hoverlabel\": {\"namelength\": 0}, \"hovertemplate\": \"Country/Region=%{x}<br>Confirmed=%{y}\", \"legendgroup\": \"Kuwait\", \"marker\": {\"color\": \"#00cc96\"}, \"name\": \"Kuwait\", \"offsetgroup\": \"Kuwait\", \"orientation\": \"v\", \"showlegend\": true, \"textposition\": \"auto\", \"type\": \"bar\", \"x\": [\"Kuwait\"], \"xaxis\": \"x\", \"y\": [56.0], \"yaxis\": \"y\"}, {\"alignmentgroup\": \"True\", \"hoverlabel\": {\"namelength\": 0}, \"hovertemplate\": \"Country/Region=%{x}<br>Confirmed=%{y}\", \"legendgroup\": \"Bahrain\", \"marker\": {\"color\": \"#ab63fa\"}, \"name\": \"Bahrain\", \"offsetgroup\": \"Bahrain\", \"orientation\": \"v\", \"showlegend\": true, \"textposition\": \"auto\", \"type\": \"bar\", \"x\": [\"Bahrain\"], \"xaxis\": \"x\", \"y\": [49.0], \"yaxis\": \"y\"}, {\"alignmentgroup\": \"True\", \"hoverlabel\": {\"namelength\": 0}, \"hovertemplate\": \"Country/Region=%{x}<br>Confirmed=%{y}\", \"legendgroup\": \"Thailand\", \"marker\": {\"color\": \"#FFA15A\"}, \"name\": \"Thailand\", \"offsetgroup\": \"Thailand\", \"orientation\": \"v\", \"showlegend\": true, \"textposition\": \"auto\", \"type\": \"bar\", \"x\": [\"Thailand\"], \"xaxis\": \"x\", \"y\": [43.0], \"yaxis\": \"y\"}, {\"alignmentgroup\": \"True\", \"hoverlabel\": {\"namelength\": 0}, \"hovertemplate\": \"Country/Region=%{x}<br>Confirmed=%{y}\", \"legendgroup\": \"Switzerland\", \"marker\": {\"color\": \"#19d3f3\"}, \"name\": \"Switzerland\", \"offsetgroup\": \"Switzerland\", \"orientation\": \"v\", \"showlegend\": true, \"textposition\": \"auto\", \"type\": \"bar\", \"x\": [\"Switzerland\"], \"xaxis\": \"x\", \"y\": [42.0], \"yaxis\": \"y\"}, {\"alignmentgroup\": \"True\", \"hoverlabel\": {\"namelength\": 0}, \"hovertemplate\": \"Country/Region=%{x}<br>Confirmed=%{y}\", \"legendgroup\": \"Taiwan\", \"marker\": {\"color\": \"#FF6692\"}, \"name\": \"Taiwan\", \"offsetgroup\": \"Taiwan\", \"orientation\": \"v\", \"showlegend\": true, \"textposition\": \"auto\", \"type\": \"bar\", \"x\": [\"Taiwan\"], \"xaxis\": \"x\", \"y\": [41.0], \"yaxis\": \"y\"}, {\"alignmentgroup\": \"True\", \"hoverlabel\": {\"namelength\": 0}, \"hovertemplate\": \"Country/Region=%{x}<br>Confirmed=%{y}\", \"legendgroup\": \"UK\", \"marker\": {\"color\": \"#B6E880\"}, \"name\": \"UK\", \"offsetgroup\": \"UK\", \"orientation\": \"v\", \"showlegend\": true, \"textposition\": \"auto\", \"type\": \"bar\", \"x\": [\"UK\"], \"xaxis\": \"x\", \"y\": [40.0], \"yaxis\": \"y\"}, {\"alignmentgroup\": \"True\", \"hoverlabel\": {\"namelength\": 0}, \"hovertemplate\": \"Country/Region=%{x}<br>Confirmed=%{y}\", \"legendgroup\": \"Australia\", \"marker\": {\"color\": \"#FF97FF\"}, \"name\": \"Australia\", \"offsetgroup\": \"Australia\", \"orientation\": \"v\", \"showlegend\": true, \"textposition\": \"auto\", \"type\": \"bar\", \"x\": [\"Australia\"], \"xaxis\": \"x\", \"y\": [30.0], \"yaxis\": \"y\"}, {\"alignmentgroup\": \"True\", \"hoverlabel\": {\"namelength\": 0}, \"hovertemplate\": \"Country/Region=%{x}<br>Confirmed=%{y}\", \"legendgroup\": \"Malaysia\", \"marker\": {\"color\": \"#FECB52\"}, \"name\": \"Malaysia\", \"offsetgroup\": \"Malaysia\", \"orientation\": \"v\", \"showlegend\": true, \"textposition\": \"auto\", \"type\": \"bar\", \"x\": [\"Malaysia\"], \"xaxis\": \"x\", \"y\": [29.0], \"yaxis\": \"y\"}, {\"alignmentgroup\": \"True\", \"hoverlabel\": {\"namelength\": 0}, \"hovertemplate\": \"Country/Region=%{x}<br>Confirmed=%{y}\", \"legendgroup\": \"Canada\", \"marker\": {\"color\": \"#636efa\"}, \"name\": \"Canada\", \"offsetgroup\": \"Canada\", \"orientation\": \"v\", \"showlegend\": true, \"textposition\": \"auto\", \"type\": \"bar\", \"x\": [\"Canada\"], \"xaxis\": \"x\", \"y\": [27.0], \"yaxis\": \"y\"}, {\"alignmentgroup\": \"True\", \"hoverlabel\": {\"namelength\": 0}, \"hovertemplate\": \"Country/Region=%{x}<br>Confirmed=%{y}\", \"legendgroup\": \"Iraq\", \"marker\": {\"color\": \"#EF553B\"}, \"name\": \"Iraq\", \"offsetgroup\": \"Iraq\", \"orientation\": \"v\", \"showlegend\": true, \"textposition\": \"auto\", \"type\": \"bar\", \"x\": [\"Iraq\"], \"xaxis\": \"x\", \"y\": [26.0], \"yaxis\": \"y\"}, {\"alignmentgroup\": \"True\", \"hoverlabel\": {\"namelength\": 0}, \"hovertemplate\": \"Country/Region=%{x}<br>Confirmed=%{y}\", \"legendgroup\": \"Norway\", \"marker\": {\"color\": \"#00cc96\"}, \"name\": \"Norway\", \"offsetgroup\": \"Norway\", \"orientation\": \"v\", \"showlegend\": true, \"textposition\": \"auto\", \"type\": \"bar\", \"x\": [\"Norway\"], \"xaxis\": \"x\", \"y\": [25.0], \"yaxis\": \"y\"}, {\"alignmentgroup\": \"True\", \"hoverlabel\": {\"namelength\": 0}, \"hovertemplate\": \"Country/Region=%{x}<br>Confirmed=%{y}\", \"legendgroup\": \"United Arab Emirates\", \"marker\": {\"color\": \"#ab63fa\"}, \"name\": \"United Arab Emirates\", \"offsetgroup\": \"United Arab Emirates\", \"orientation\": \"v\", \"showlegend\": true, \"textposition\": \"auto\", \"type\": \"bar\", \"x\": [\"United Arab Emirates\"], \"xaxis\": \"x\", \"y\": [21.0], \"yaxis\": \"y\"}, {\"alignmentgroup\": \"True\", \"hoverlabel\": {\"namelength\": 0}, \"hovertemplate\": \"Country/Region=%{x}<br>Confirmed=%{y}\", \"legendgroup\": \"Netherlands\", \"marker\": {\"color\": \"#FFA15A\"}, \"name\": \"Netherlands\", \"offsetgroup\": \"Netherlands\", \"orientation\": \"v\", \"showlegend\": true, \"textposition\": \"auto\", \"type\": \"bar\", \"x\": [\"Netherlands\"], \"xaxis\": \"x\", \"y\": [18.0], \"yaxis\": \"y\"}, {\"alignmentgroup\": \"True\", \"hoverlabel\": {\"namelength\": 0}, \"hovertemplate\": \"Country/Region=%{x}<br>Confirmed=%{y}\", \"legendgroup\": \"Austria\", \"marker\": {\"color\": \"#19d3f3\"}, \"name\": \"Austria\", \"offsetgroup\": \"Austria\", \"orientation\": \"v\", \"showlegend\": true, \"textposition\": \"auto\", \"type\": \"bar\", \"x\": [\"Austria\"], \"xaxis\": \"x\", \"y\": [18.0], \"yaxis\": \"y\"}, {\"alignmentgroup\": \"True\", \"hoverlabel\": {\"namelength\": 0}, \"hovertemplate\": \"Country/Region=%{x}<br>Confirmed=%{y}\", \"legendgroup\": \"Vietnam\", \"marker\": {\"color\": \"#FF6692\"}, \"name\": \"Vietnam\", \"offsetgroup\": \"Vietnam\", \"orientation\": \"v\", \"showlegend\": true, \"textposition\": \"auto\", \"type\": \"bar\", \"x\": [\"Vietnam\"], \"xaxis\": \"x\", \"y\": [16.0], \"yaxis\": \"y\"}, {\"alignmentgroup\": \"True\", \"hoverlabel\": {\"namelength\": 0}, \"hovertemplate\": \"Country/Region=%{x}<br>Confirmed=%{y}\", \"legendgroup\": \"Sweden\", \"marker\": {\"color\": \"#B6E880\"}, \"name\": \"Sweden\", \"offsetgroup\": \"Sweden\", \"orientation\": \"v\", \"showlegend\": true, \"textposition\": \"auto\", \"type\": \"bar\", \"x\": [\"Sweden\"], \"xaxis\": \"x\", \"y\": [15.0], \"yaxis\": \"y\"}, {\"alignmentgroup\": \"True\", \"hoverlabel\": {\"namelength\": 0}, \"hovertemplate\": \"Country/Region=%{x}<br>Confirmed=%{y}\", \"legendgroup\": \"Lebanon\", \"marker\": {\"color\": \"#FF97FF\"}, \"name\": \"Lebanon\", \"offsetgroup\": \"Lebanon\", \"orientation\": \"v\", \"showlegend\": true, \"textposition\": \"auto\", \"type\": \"bar\", \"x\": [\"Lebanon\"], \"xaxis\": \"x\", \"y\": [13.0], \"yaxis\": \"y\"}, {\"alignmentgroup\": \"True\", \"hoverlabel\": {\"namelength\": 0}, \"hovertemplate\": \"Country/Region=%{x}<br>Confirmed=%{y}\", \"legendgroup\": \"Israel\", \"marker\": {\"color\": \"#FECB52\"}, \"name\": \"Israel\", \"offsetgroup\": \"Israel\", \"orientation\": \"v\", \"showlegend\": true, \"textposition\": \"auto\", \"type\": \"bar\", \"x\": [\"Israel\"], \"xaxis\": \"x\", \"y\": [10.0], \"yaxis\": \"y\"}, {\"alignmentgroup\": \"True\", \"hoverlabel\": {\"namelength\": 0}, \"hovertemplate\": \"Country/Region=%{x}<br>Confirmed=%{y}\", \"legendgroup\": \"Macau\", \"marker\": {\"color\": \"#636efa\"}, \"name\": \"Macau\", \"offsetgroup\": \"Macau\", \"orientation\": \"v\", \"showlegend\": true, \"textposition\": \"auto\", \"type\": \"bar\", \"x\": [\"Macau\"], \"xaxis\": \"x\", \"y\": [10.0], \"yaxis\": \"y\"}, {\"alignmentgroup\": \"True\", \"hoverlabel\": {\"namelength\": 0}, \"hovertemplate\": \"Country/Region=%{x}<br>Confirmed=%{y}\", \"legendgroup\": \"San Marino\", \"marker\": {\"color\": \"#EF553B\"}, \"name\": \"San Marino\", \"offsetgroup\": \"San Marino\", \"orientation\": \"v\", \"showlegend\": true, \"textposition\": \"auto\", \"type\": \"bar\", \"x\": [\"San Marino\"], \"xaxis\": \"x\", \"y\": [8.0], \"yaxis\": \"y\"}, {\"alignmentgroup\": \"True\", \"hoverlabel\": {\"namelength\": 0}, \"hovertemplate\": \"Country/Region=%{x}<br>Confirmed=%{y}\", \"legendgroup\": \"Belgium\", \"marker\": {\"color\": \"#00cc96\"}, \"name\": \"Belgium\", \"offsetgroup\": \"Belgium\", \"orientation\": \"v\", \"showlegend\": true, \"textposition\": \"auto\", \"type\": \"bar\", \"x\": [\"Belgium\"], \"xaxis\": \"x\", \"y\": [8.0], \"yaxis\": \"y\"}, {\"alignmentgroup\": \"True\", \"hoverlabel\": {\"namelength\": 0}, \"hovertemplate\": \"Country/Region=%{x}<br>Confirmed=%{y}\", \"legendgroup\": \"Croatia\", \"marker\": {\"color\": \"#ab63fa\"}, \"name\": \"Croatia\", \"offsetgroup\": \"Croatia\", \"orientation\": \"v\", \"showlegend\": true, \"textposition\": \"auto\", \"type\": \"bar\", \"x\": [\"Croatia\"], \"xaxis\": \"x\", \"y\": [7.0], \"yaxis\": \"y\"}, {\"alignmentgroup\": \"True\", \"hoverlabel\": {\"namelength\": 0}, \"hovertemplate\": \"Country/Region=%{x}<br>Confirmed=%{y}\", \"legendgroup\": \"Greece\", \"marker\": {\"color\": \"#FFA15A\"}, \"name\": \"Greece\", \"offsetgroup\": \"Greece\", \"orientation\": \"v\", \"showlegend\": true, \"textposition\": \"auto\", \"type\": \"bar\", \"x\": [\"Greece\"], \"xaxis\": \"x\", \"y\": [7.0], \"yaxis\": \"y\"}, {\"alignmentgroup\": \"True\", \"hoverlabel\": {\"namelength\": 0}, \"hovertemplate\": \"Country/Region=%{x}<br>Confirmed=%{y}\", \"legendgroup\": \"Iceland\", \"marker\": {\"color\": \"#19d3f3\"}, \"name\": \"Iceland\", \"offsetgroup\": \"Iceland\", \"orientation\": \"v\", \"showlegend\": true, \"textposition\": \"auto\", \"type\": \"bar\", \"x\": [\"Iceland\"], \"xaxis\": \"x\", \"y\": [6.0], \"yaxis\": \"y\"}, {\"alignmentgroup\": \"True\", \"hoverlabel\": {\"namelength\": 0}, \"hovertemplate\": \"Country/Region=%{x}<br>Confirmed=%{y}\", \"legendgroup\": \"Finland\", \"marker\": {\"color\": \"#FF6692\"}, \"name\": \"Finland\", \"offsetgroup\": \"Finland\", \"orientation\": \"v\", \"showlegend\": true, \"textposition\": \"auto\", \"type\": \"bar\", \"x\": [\"Finland\"], \"xaxis\": \"x\", \"y\": [6.0], \"yaxis\": \"y\"}, {\"alignmentgroup\": \"True\", \"hoverlabel\": {\"namelength\": 0}, \"hovertemplate\": \"Country/Region=%{x}<br>Confirmed=%{y}\", \"legendgroup\": \"Oman\", \"marker\": {\"color\": \"#B6E880\"}, \"name\": \"Oman\", \"offsetgroup\": \"Oman\", \"orientation\": \"v\", \"showlegend\": true, \"textposition\": \"auto\", \"type\": \"bar\", \"x\": [\"Oman\"], \"xaxis\": \"x\", \"y\": [6.0], \"yaxis\": \"y\"}, {\"alignmentgroup\": \"True\", \"hoverlabel\": {\"namelength\": 0}, \"hovertemplate\": \"Country/Region=%{x}<br>Confirmed=%{y}\", \"legendgroup\": \"Ecuador\", \"marker\": {\"color\": \"#FF97FF\"}, \"name\": \"Ecuador\", \"offsetgroup\": \"Ecuador\", \"orientation\": \"v\", \"showlegend\": true, \"textposition\": \"auto\", \"type\": \"bar\", \"x\": [\"Ecuador\"], \"xaxis\": \"x\", \"y\": [6.0], \"yaxis\": \"y\"}, {\"alignmentgroup\": \"True\", \"hoverlabel\": {\"namelength\": 0}, \"hovertemplate\": \"Country/Region=%{x}<br>Confirmed=%{y}\", \"legendgroup\": \"India\", \"marker\": {\"color\": \"#FECB52\"}, \"name\": \"India\", \"offsetgroup\": \"India\", \"orientation\": \"v\", \"showlegend\": true, \"textposition\": \"auto\", \"type\": \"bar\", \"x\": [\"India\"], \"xaxis\": \"x\", \"y\": [5.0], \"yaxis\": \"y\"}, {\"alignmentgroup\": \"True\", \"hoverlabel\": {\"namelength\": 0}, \"hovertemplate\": \"Country/Region=%{x}<br>Confirmed=%{y}\", \"legendgroup\": \"Mexico\", \"marker\": {\"color\": \"#636efa\"}, \"name\": \"Mexico\", \"offsetgroup\": \"Mexico\", \"orientation\": \"v\", \"showlegend\": true, \"textposition\": \"auto\", \"type\": \"bar\", \"x\": [\"Mexico\"], \"xaxis\": \"x\", \"y\": [5.0], \"yaxis\": \"y\"}, {\"alignmentgroup\": \"True\", \"hoverlabel\": {\"namelength\": 0}, \"hovertemplate\": \"Country/Region=%{x}<br>Confirmed=%{y}\", \"legendgroup\": \"Pakistan\", \"marker\": {\"color\": \"#EF553B\"}, \"name\": \"Pakistan\", \"offsetgroup\": \"Pakistan\", \"orientation\": \"v\", \"showlegend\": true, \"textposition\": \"auto\", \"type\": \"bar\", \"x\": [\"Pakistan\"], \"xaxis\": \"x\", \"y\": [4.0], \"yaxis\": \"y\"}, {\"alignmentgroup\": \"True\", \"hoverlabel\": {\"namelength\": 0}, \"hovertemplate\": \"Country/Region=%{x}<br>Confirmed=%{y}\", \"legendgroup\": \"Denmark\", \"marker\": {\"color\": \"#00cc96\"}, \"name\": \"Denmark\", \"offsetgroup\": \"Denmark\", \"orientation\": \"v\", \"showlegend\": true, \"textposition\": \"auto\", \"type\": \"bar\", \"x\": [\"Denmark\"], \"xaxis\": \"x\", \"y\": [4.0], \"yaxis\": \"y\"}, {\"alignmentgroup\": \"True\", \"hoverlabel\": {\"namelength\": 0}, \"hovertemplate\": \"Country/Region=%{x}<br>Confirmed=%{y}\", \"legendgroup\": \"Philippines\", \"marker\": {\"color\": \"#ab63fa\"}, \"name\": \"Philippines\", \"offsetgroup\": \"Philippines\", \"orientation\": \"v\", \"showlegend\": true, \"textposition\": \"auto\", \"type\": \"bar\", \"x\": [\"Philippines\"], \"xaxis\": \"x\", \"y\": [3.0], \"yaxis\": \"y\"}, {\"alignmentgroup\": \"True\", \"hoverlabel\": {\"namelength\": 0}, \"hovertemplate\": \"Country/Region=%{x}<br>Confirmed=%{y}\", \"legendgroup\": \"Russia\", \"marker\": {\"color\": \"#FFA15A\"}, \"name\": \"Russia\", \"offsetgroup\": \"Russia\", \"orientation\": \"v\", \"showlegend\": true, \"textposition\": \"auto\", \"type\": \"bar\", \"x\": [\"Russia\"], \"xaxis\": \"x\", \"y\": [3.0], \"yaxis\": \"y\"}, {\"alignmentgroup\": \"True\", \"hoverlabel\": {\"namelength\": 0}, \"hovertemplate\": \"Country/Region=%{x}<br>Confirmed=%{y}\", \"legendgroup\": \"Qatar\", \"marker\": {\"color\": \"#19d3f3\"}, \"name\": \"Qatar\", \"offsetgroup\": \"Qatar\", \"orientation\": \"v\", \"showlegend\": true, \"textposition\": \"auto\", \"type\": \"bar\", \"x\": [\"Qatar\"], \"xaxis\": \"x\", \"y\": [3.0], \"yaxis\": \"y\"}, {\"alignmentgroup\": \"True\", \"hoverlabel\": {\"namelength\": 0}, \"hovertemplate\": \"Country/Region=%{x}<br>Confirmed=%{y}\", \"legendgroup\": \"Algeria\", \"marker\": {\"color\": \"#FF6692\"}, \"name\": \"Algeria\", \"offsetgroup\": \"Algeria\", \"orientation\": \"v\", \"showlegend\": true, \"textposition\": \"auto\", \"type\": \"bar\", \"x\": [\"Algeria\"], \"xaxis\": \"x\", \"y\": [3.0], \"yaxis\": \"y\"}, {\"alignmentgroup\": \"True\", \"hoverlabel\": {\"namelength\": 0}, \"hovertemplate\": \"Country/Region=%{x}<br>Confirmed=%{y}\", \"legendgroup\": \"Romania\", \"marker\": {\"color\": \"#B6E880\"}, \"name\": \"Romania\", \"offsetgroup\": \"Romania\", \"orientation\": \"v\", \"showlegend\": true, \"textposition\": \"auto\", \"type\": \"bar\", \"x\": [\"Romania\"], \"xaxis\": \"x\", \"y\": [3.0], \"yaxis\": \"y\"}, {\"alignmentgroup\": \"True\", \"hoverlabel\": {\"namelength\": 0}, \"hovertemplate\": \"Country/Region=%{x}<br>Confirmed=%{y}\", \"legendgroup\": \"Georgia\", \"marker\": {\"color\": \"#FF97FF\"}, \"name\": \"Georgia\", \"offsetgroup\": \"Georgia\", \"orientation\": \"v\", \"showlegend\": true, \"textposition\": \"auto\", \"type\": \"bar\", \"x\": [\"Georgia\"], \"xaxis\": \"x\", \"y\": [3.0], \"yaxis\": \"y\"}, {\"alignmentgroup\": \"True\", \"hoverlabel\": {\"namelength\": 0}, \"hovertemplate\": \"Country/Region=%{x}<br>Confirmed=%{y}\", \"legendgroup\": \"Czech Republic\", \"marker\": {\"color\": \"#FECB52\"}, \"name\": \"Czech Republic\", \"offsetgroup\": \"Czech Republic\", \"orientation\": \"v\", \"showlegend\": true, \"textposition\": \"auto\", \"type\": \"bar\", \"x\": [\"Czech Republic\"], \"xaxis\": \"x\", \"y\": [3.0], \"yaxis\": \"y\"}, {\"alignmentgroup\": \"True\", \"hoverlabel\": {\"namelength\": 0}, \"hovertemplate\": \"Country/Region=%{x}<br>Confirmed=%{y}\", \"legendgroup\": \"Azerbaijan\", \"marker\": {\"color\": \"#636efa\"}, \"name\": \"Azerbaijan\", \"offsetgroup\": \"Azerbaijan\", \"orientation\": \"v\", \"showlegend\": true, \"textposition\": \"auto\", \"type\": \"bar\", \"x\": [\"Azerbaijan\"], \"xaxis\": \"x\", \"y\": [3.0], \"yaxis\": \"y\"}, {\"alignmentgroup\": \"True\", \"hoverlabel\": {\"namelength\": 0}, \"hovertemplate\": \"Country/Region=%{x}<br>Confirmed=%{y}\", \"legendgroup\": \"Egypt\", \"marker\": {\"color\": \"#EF553B\"}, \"name\": \"Egypt\", \"offsetgroup\": \"Egypt\", \"orientation\": \"v\", \"showlegend\": true, \"textposition\": \"auto\", \"type\": \"bar\", \"x\": [\"Egypt\"], \"xaxis\": \"x\", \"y\": [2.0], \"yaxis\": \"y\"}, {\"alignmentgroup\": \"True\", \"hoverlabel\": {\"namelength\": 0}, \"hovertemplate\": \"Country/Region=%{x}<br>Confirmed=%{y}\", \"legendgroup\": \"Brazil\", \"marker\": {\"color\": \"#00cc96\"}, \"name\": \"Brazil\", \"offsetgroup\": \"Brazil\", \"orientation\": \"v\", \"showlegend\": true, \"textposition\": \"auto\", \"type\": \"bar\", \"x\": [\"Brazil\"], \"xaxis\": \"x\", \"y\": [2.0], \"yaxis\": \"y\"}, {\"alignmentgroup\": \"True\", \"hoverlabel\": {\"namelength\": 0}, \"hovertemplate\": \"Country/Region=%{x}<br>Confirmed=%{y}\", \"legendgroup\": \"Portugal\", \"marker\": {\"color\": \"#ab63fa\"}, \"name\": \"Portugal\", \"offsetgroup\": \"Portugal\", \"orientation\": \"v\", \"showlegend\": true, \"textposition\": \"auto\", \"type\": \"bar\", \"x\": [\"Portugal\"], \"xaxis\": \"x\", \"y\": [2.0], \"yaxis\": \"y\"}, {\"alignmentgroup\": \"True\", \"hoverlabel\": {\"namelength\": 0}, \"hovertemplate\": \"Country/Region=%{x}<br>Confirmed=%{y}\", \"legendgroup\": \"Indonesia\", \"marker\": {\"color\": \"#FFA15A\"}, \"name\": \"Indonesia\", \"offsetgroup\": \"Indonesia\", \"orientation\": \"v\", \"showlegend\": true, \"textposition\": \"auto\", \"type\": \"bar\", \"x\": [\"Indonesia\"], \"xaxis\": \"x\", \"y\": [2.0], \"yaxis\": \"y\"}, {\"alignmentgroup\": \"True\", \"hoverlabel\": {\"namelength\": 0}, \"hovertemplate\": \"Country/Region=%{x}<br>Confirmed=%{y}\", \"legendgroup\": \"Senegal\", \"marker\": {\"color\": \"#19d3f3\"}, \"name\": \"Senegal\", \"offsetgroup\": \"Senegal\", \"orientation\": \"v\", \"showlegend\": true, \"textposition\": \"auto\", \"type\": \"bar\", \"x\": [\"Senegal\"], \"xaxis\": \"x\", \"y\": [1.0], \"yaxis\": \"y\"}, {\"alignmentgroup\": \"True\", \"hoverlabel\": {\"namelength\": 0}, \"hovertemplate\": \"Country/Region=%{x}<br>Confirmed=%{y}\", \"legendgroup\": \"Sri Lanka\", \"marker\": {\"color\": \"#FF6692\"}, \"name\": \"Sri Lanka\", \"offsetgroup\": \"Sri Lanka\", \"orientation\": \"v\", \"showlegend\": true, \"textposition\": \"auto\", \"type\": \"bar\", \"x\": [\"Sri Lanka\"], \"xaxis\": \"x\", \"y\": [1.0], \"yaxis\": \"y\"}, {\"alignmentgroup\": \"True\", \"hoverlabel\": {\"namelength\": 0}, \"hovertemplate\": \"Country/Region=%{x}<br>Confirmed=%{y}\", \"legendgroup\": \"Saudi Arabia\", \"marker\": {\"color\": \"#B6E880\"}, \"name\": \"Saudi Arabia\", \"offsetgroup\": \"Saudi Arabia\", \"orientation\": \"v\", \"showlegend\": true, \"textposition\": \"auto\", \"type\": \"bar\", \"x\": [\"Saudi Arabia\"], \"xaxis\": \"x\", \"y\": [1.0], \"yaxis\": \"y\"}, {\"alignmentgroup\": \"True\", \"hoverlabel\": {\"namelength\": 0}, \"hovertemplate\": \"Country/Region=%{x}<br>Confirmed=%{y}\", \"legendgroup\": \"Afghanistan\", \"marker\": {\"color\": \"#FF97FF\"}, \"name\": \"Afghanistan\", \"offsetgroup\": \"Afghanistan\", \"orientation\": \"v\", \"showlegend\": true, \"textposition\": \"auto\", \"type\": \"bar\", \"x\": [\"Afghanistan\"], \"xaxis\": \"x\", \"y\": [1.0], \"yaxis\": \"y\"}, {\"alignmentgroup\": \"True\", \"hoverlabel\": {\"namelength\": 0}, \"hovertemplate\": \"Country/Region=%{x}<br>Confirmed=%{y}\", \"legendgroup\": \"North Macedonia\", \"marker\": {\"color\": \"#FECB52\"}, \"name\": \"North Macedonia\", \"offsetgroup\": \"North Macedonia\", \"orientation\": \"v\", \"showlegend\": true, \"textposition\": \"auto\", \"type\": \"bar\", \"x\": [\"North Macedonia\"], \"xaxis\": \"x\", \"y\": [1.0], \"yaxis\": \"y\"}, {\"alignmentgroup\": \"True\", \"hoverlabel\": {\"namelength\": 0}, \"hovertemplate\": \"Country/Region=%{x}<br>Confirmed=%{y}\", \"legendgroup\": \"Nigeria\", \"marker\": {\"color\": \"#636efa\"}, \"name\": \"Nigeria\", \"offsetgroup\": \"Nigeria\", \"orientation\": \"v\", \"showlegend\": true, \"textposition\": \"auto\", \"type\": \"bar\", \"x\": [\"Nigeria\"], \"xaxis\": \"x\", \"y\": [1.0], \"yaxis\": \"y\"}, {\"alignmentgroup\": \"True\", \"hoverlabel\": {\"namelength\": 0}, \"hovertemplate\": \"Country/Region=%{x}<br>Confirmed=%{y}\", \"legendgroup\": \"New Zealand\", \"marker\": {\"color\": \"#EF553B\"}, \"name\": \"New Zealand\", \"offsetgroup\": \"New Zealand\", \"orientation\": \"v\", \"showlegend\": true, \"textposition\": \"auto\", \"type\": \"bar\", \"x\": [\"New Zealand\"], \"xaxis\": \"x\", \"y\": [1.0], \"yaxis\": \"y\"}, {\"alignmentgroup\": \"True\", \"hoverlabel\": {\"namelength\": 0}, \"hovertemplate\": \"Country/Region=%{x}<br>Confirmed=%{y}\", \"legendgroup\": \"Nepal\", \"marker\": {\"color\": \"#00cc96\"}, \"name\": \"Nepal\", \"offsetgroup\": \"Nepal\", \"orientation\": \"v\", \"showlegend\": true, \"textposition\": \"auto\", \"type\": \"bar\", \"x\": [\"Nepal\"], \"xaxis\": \"x\", \"y\": [1.0], \"yaxis\": \"y\"}, {\"alignmentgroup\": \"True\", \"hoverlabel\": {\"namelength\": 0}, \"hovertemplate\": \"Country/Region=%{x}<br>Confirmed=%{y}\", \"legendgroup\": \"Morocco\", \"marker\": {\"color\": \"#ab63fa\"}, \"name\": \"Morocco\", \"offsetgroup\": \"Morocco\", \"orientation\": \"v\", \"showlegend\": true, \"textposition\": \"auto\", \"type\": \"bar\", \"x\": [\"Morocco\"], \"xaxis\": \"x\", \"y\": [1.0], \"yaxis\": \"y\"}, {\"alignmentgroup\": \"True\", \"hoverlabel\": {\"namelength\": 0}, \"hovertemplate\": \"Country/Region=%{x}<br>Confirmed=%{y}\", \"legendgroup\": \"Monaco\", \"marker\": {\"color\": \"#FFA15A\"}, \"name\": \"Monaco\", \"offsetgroup\": \"Monaco\", \"orientation\": \"v\", \"showlegend\": true, \"textposition\": \"auto\", \"type\": \"bar\", \"x\": [\"Monaco\"], \"xaxis\": \"x\", \"y\": [1.0], \"yaxis\": \"y\"}, {\"alignmentgroup\": \"True\", \"hoverlabel\": {\"namelength\": 0}, \"hovertemplate\": \"Country/Region=%{x}<br>Confirmed=%{y}\", \"legendgroup\": \"Luxembourg\", \"marker\": {\"color\": \"#19d3f3\"}, \"name\": \"Luxembourg\", \"offsetgroup\": \"Luxembourg\", \"orientation\": \"v\", \"showlegend\": true, \"textposition\": \"auto\", \"type\": \"bar\", \"x\": [\"Luxembourg\"], \"xaxis\": \"x\", \"y\": [1.0], \"yaxis\": \"y\"}, {\"alignmentgroup\": \"True\", \"hoverlabel\": {\"namelength\": 0}, \"hovertemplate\": \"Country/Region=%{x}<br>Confirmed=%{y}\", \"legendgroup\": \"Lithuania\", \"marker\": {\"color\": \"#FF6692\"}, \"name\": \"Lithuania\", \"offsetgroup\": \"Lithuania\", \"orientation\": \"v\", \"showlegend\": true, \"textposition\": \"auto\", \"type\": \"bar\", \"x\": [\"Lithuania\"], \"xaxis\": \"x\", \"y\": [1.0], \"yaxis\": \"y\"}, {\"alignmentgroup\": \"True\", \"hoverlabel\": {\"namelength\": 0}, \"hovertemplate\": \"Country/Region=%{x}<br>Confirmed=%{y}\", \"legendgroup\": \"Ireland\", \"marker\": {\"color\": \"#B6E880\"}, \"name\": \"Ireland\", \"offsetgroup\": \"Ireland\", \"orientation\": \"v\", \"showlegend\": true, \"textposition\": \"auto\", \"type\": \"bar\", \"x\": [\"Ireland\"], \"xaxis\": \"x\", \"y\": [1.0], \"yaxis\": \"y\"}, {\"alignmentgroup\": \"True\", \"hoverlabel\": {\"namelength\": 0}, \"hovertemplate\": \"Country/Region=%{x}<br>Confirmed=%{y}\", \"legendgroup\": \"Estonia\", \"marker\": {\"color\": \"#FF97FF\"}, \"name\": \"Estonia\", \"offsetgroup\": \"Estonia\", \"orientation\": \"v\", \"showlegend\": true, \"textposition\": \"auto\", \"type\": \"bar\", \"x\": [\"Estonia\"], \"xaxis\": \"x\", \"y\": [1.0], \"yaxis\": \"y\"}, {\"alignmentgroup\": \"True\", \"hoverlabel\": {\"namelength\": 0}, \"hovertemplate\": \"Country/Region=%{x}<br>Confirmed=%{y}\", \"legendgroup\": \"Dominican Republic\", \"marker\": {\"color\": \"#FECB52\"}, \"name\": \"Dominican Republic\", \"offsetgroup\": \"Dominican Republic\", \"orientation\": \"v\", \"showlegend\": true, \"textposition\": \"auto\", \"type\": \"bar\", \"x\": [\"Dominican Republic\"], \"xaxis\": \"x\", \"y\": [1.0], \"yaxis\": \"y\"}, {\"alignmentgroup\": \"True\", \"hoverlabel\": {\"namelength\": 0}, \"hovertemplate\": \"Country/Region=%{x}<br>Confirmed=%{y}\", \"legendgroup\": \"Cambodia\", \"marker\": {\"color\": \"#636efa\"}, \"name\": \"Cambodia\", \"offsetgroup\": \"Cambodia\", \"orientation\": \"v\", \"showlegend\": true, \"textposition\": \"auto\", \"type\": \"bar\", \"x\": [\"Cambodia\"], \"xaxis\": \"x\", \"y\": [1.0], \"yaxis\": \"y\"}, {\"alignmentgroup\": \"True\", \"hoverlabel\": {\"namelength\": 0}, \"hovertemplate\": \"Country/Region=%{x}<br>Confirmed=%{y}\", \"legendgroup\": \"Belarus\", \"marker\": {\"color\": \"#EF553B\"}, \"name\": \"Belarus\", \"offsetgroup\": \"Belarus\", \"orientation\": \"v\", \"showlegend\": true, \"textposition\": \"auto\", \"type\": \"bar\", \"x\": [\"Belarus\"], \"xaxis\": \"x\", \"y\": [1.0], \"yaxis\": \"y\"}, {\"alignmentgroup\": \"True\", \"hoverlabel\": {\"namelength\": 0}, \"hovertemplate\": \"Country/Region=%{x}<br>Confirmed=%{y}\", \"legendgroup\": \"Armenia\", \"marker\": {\"color\": \"#00cc96\"}, \"name\": \"Armenia\", \"offsetgroup\": \"Armenia\", \"orientation\": \"v\", \"showlegend\": true, \"textposition\": \"auto\", \"type\": \"bar\", \"x\": [\"Armenia\"], \"xaxis\": \"x\", \"y\": [1.0], \"yaxis\": \"y\"}, {\"alignmentgroup\": \"True\", \"hoverlabel\": {\"namelength\": 0}, \"hovertemplate\": \"Country/Region=%{x}<br>Confirmed=%{y}\", \"legendgroup\": \"Andorra\", \"marker\": {\"color\": \"#ab63fa\"}, \"name\": \"Andorra\", \"offsetgroup\": \"Andorra\", \"orientation\": \"v\", \"showlegend\": true, \"textposition\": \"auto\", \"type\": \"bar\", \"x\": [\"Andorra\"], \"xaxis\": \"x\", \"y\": [1.0], \"yaxis\": \"y\"}, {\"alignmentgroup\": \"True\", \"hoverlabel\": {\"namelength\": 0}, \"hovertemplate\": \"Country/Region=%{x}<br>Confirmed=%{y}\", \"legendgroup\": \"Latvia\", \"marker\": {\"color\": \"#FFA15A\"}, \"name\": \"Latvia\", \"offsetgroup\": \"Latvia\", \"orientation\": \"v\", \"showlegend\": true, \"textposition\": \"auto\", \"type\": \"bar\", \"x\": [\"Latvia\"], \"xaxis\": \"x\", \"y\": [1.0], \"yaxis\": \"y\"}],\n",
       "                        {\"barmode\": \"relative\", \"height\": 400, \"legend\": {\"title\": {\"text\": \"Country/Region\"}, \"tracegroupgap\": 0}, \"margin\": {\"t\": 60}, \"template\": {\"data\": {\"bar\": [{\"error_x\": {\"color\": \"#2a3f5f\"}, \"error_y\": {\"color\": \"#2a3f5f\"}, \"marker\": {\"line\": {\"color\": \"#E5ECF6\", \"width\": 0.5}}, \"type\": \"bar\"}], \"barpolar\": [{\"marker\": {\"line\": {\"color\": \"#E5ECF6\", \"width\": 0.5}}, \"type\": \"barpolar\"}], \"carpet\": [{\"aaxis\": {\"endlinecolor\": \"#2a3f5f\", \"gridcolor\": \"white\", \"linecolor\": \"white\", \"minorgridcolor\": \"white\", \"startlinecolor\": \"#2a3f5f\"}, \"baxis\": {\"endlinecolor\": \"#2a3f5f\", \"gridcolor\": \"white\", \"linecolor\": \"white\", \"minorgridcolor\": \"white\", \"startlinecolor\": \"#2a3f5f\"}, \"type\": \"carpet\"}], \"choropleth\": [{\"colorbar\": {\"outlinewidth\": 0, \"ticks\": \"\"}, \"type\": \"choropleth\"}], \"contour\": [{\"colorbar\": {\"outlinewidth\": 0, \"ticks\": \"\"}, \"colorscale\": [[0.0, \"#0d0887\"], [0.1111111111111111, \"#46039f\"], [0.2222222222222222, \"#7201a8\"], [0.3333333333333333, \"#9c179e\"], [0.4444444444444444, \"#bd3786\"], [0.5555555555555556, \"#d8576b\"], [0.6666666666666666, \"#ed7953\"], [0.7777777777777778, \"#fb9f3a\"], [0.8888888888888888, \"#fdca26\"], [1.0, \"#f0f921\"]], \"type\": \"contour\"}], \"contourcarpet\": [{\"colorbar\": {\"outlinewidth\": 0, \"ticks\": \"\"}, \"type\": \"contourcarpet\"}], \"heatmap\": [{\"colorbar\": {\"outlinewidth\": 0, \"ticks\": \"\"}, \"colorscale\": [[0.0, \"#0d0887\"], [0.1111111111111111, \"#46039f\"], [0.2222222222222222, \"#7201a8\"], [0.3333333333333333, \"#9c179e\"], [0.4444444444444444, \"#bd3786\"], [0.5555555555555556, \"#d8576b\"], [0.6666666666666666, \"#ed7953\"], [0.7777777777777778, \"#fb9f3a\"], [0.8888888888888888, \"#fdca26\"], [1.0, \"#f0f921\"]], \"type\": \"heatmap\"}], \"heatmapgl\": [{\"colorbar\": {\"outlinewidth\": 0, \"ticks\": \"\"}, \"colorscale\": [[0.0, \"#0d0887\"], [0.1111111111111111, \"#46039f\"], [0.2222222222222222, \"#7201a8\"], [0.3333333333333333, \"#9c179e\"], [0.4444444444444444, \"#bd3786\"], [0.5555555555555556, \"#d8576b\"], [0.6666666666666666, \"#ed7953\"], [0.7777777777777778, \"#fb9f3a\"], [0.8888888888888888, \"#fdca26\"], [1.0, \"#f0f921\"]], \"type\": \"heatmapgl\"}], \"histogram\": [{\"marker\": {\"colorbar\": {\"outlinewidth\": 0, \"ticks\": \"\"}}, \"type\": \"histogram\"}], \"histogram2d\": [{\"colorbar\": {\"outlinewidth\": 0, \"ticks\": \"\"}, \"colorscale\": [[0.0, \"#0d0887\"], [0.1111111111111111, \"#46039f\"], [0.2222222222222222, \"#7201a8\"], [0.3333333333333333, \"#9c179e\"], [0.4444444444444444, \"#bd3786\"], [0.5555555555555556, \"#d8576b\"], [0.6666666666666666, \"#ed7953\"], [0.7777777777777778, \"#fb9f3a\"], [0.8888888888888888, \"#fdca26\"], [1.0, \"#f0f921\"]], \"type\": \"histogram2d\"}], \"histogram2dcontour\": [{\"colorbar\": {\"outlinewidth\": 0, \"ticks\": \"\"}, \"colorscale\": [[0.0, \"#0d0887\"], [0.1111111111111111, \"#46039f\"], [0.2222222222222222, \"#7201a8\"], [0.3333333333333333, \"#9c179e\"], [0.4444444444444444, \"#bd3786\"], [0.5555555555555556, \"#d8576b\"], [0.6666666666666666, \"#ed7953\"], [0.7777777777777778, \"#fb9f3a\"], [0.8888888888888888, \"#fdca26\"], [1.0, \"#f0f921\"]], \"type\": \"histogram2dcontour\"}], \"mesh3d\": [{\"colorbar\": {\"outlinewidth\": 0, \"ticks\": \"\"}, \"type\": \"mesh3d\"}], \"parcoords\": [{\"line\": {\"colorbar\": {\"outlinewidth\": 0, \"ticks\": \"\"}}, \"type\": \"parcoords\"}], \"pie\": [{\"automargin\": true, \"type\": \"pie\"}], \"scatter\": [{\"marker\": {\"colorbar\": {\"outlinewidth\": 0, \"ticks\": \"\"}}, \"type\": \"scatter\"}], \"scatter3d\": [{\"line\": {\"colorbar\": {\"outlinewidth\": 0, \"ticks\": \"\"}}, \"marker\": {\"colorbar\": {\"outlinewidth\": 0, \"ticks\": \"\"}}, \"type\": \"scatter3d\"}], \"scattercarpet\": [{\"marker\": {\"colorbar\": {\"outlinewidth\": 0, \"ticks\": \"\"}}, \"type\": \"scattercarpet\"}], \"scattergeo\": [{\"marker\": {\"colorbar\": {\"outlinewidth\": 0, \"ticks\": \"\"}}, \"type\": \"scattergeo\"}], \"scattergl\": [{\"marker\": {\"colorbar\": {\"outlinewidth\": 0, \"ticks\": \"\"}}, \"type\": \"scattergl\"}], \"scattermapbox\": [{\"marker\": {\"colorbar\": {\"outlinewidth\": 0, \"ticks\": \"\"}}, \"type\": \"scattermapbox\"}], \"scatterpolar\": [{\"marker\": {\"colorbar\": {\"outlinewidth\": 0, \"ticks\": \"\"}}, \"type\": \"scatterpolar\"}], \"scatterpolargl\": [{\"marker\": {\"colorbar\": {\"outlinewidth\": 0, \"ticks\": \"\"}}, \"type\": \"scatterpolargl\"}], \"scatterternary\": [{\"marker\": {\"colorbar\": {\"outlinewidth\": 0, \"ticks\": \"\"}}, \"type\": \"scatterternary\"}], \"surface\": [{\"colorbar\": {\"outlinewidth\": 0, \"ticks\": \"\"}, \"colorscale\": [[0.0, \"#0d0887\"], [0.1111111111111111, \"#46039f\"], [0.2222222222222222, \"#7201a8\"], [0.3333333333333333, \"#9c179e\"], [0.4444444444444444, \"#bd3786\"], [0.5555555555555556, \"#d8576b\"], [0.6666666666666666, \"#ed7953\"], [0.7777777777777778, \"#fb9f3a\"], [0.8888888888888888, \"#fdca26\"], [1.0, \"#f0f921\"]], \"type\": \"surface\"}], \"table\": [{\"cells\": {\"fill\": {\"color\": \"#EBF0F8\"}, \"line\": {\"color\": \"white\"}}, \"header\": {\"fill\": {\"color\": \"#C8D4E3\"}, \"line\": {\"color\": \"white\"}}, \"type\": \"table\"}]}, \"layout\": {\"annotationdefaults\": {\"arrowcolor\": \"#2a3f5f\", \"arrowhead\": 0, \"arrowwidth\": 1}, \"coloraxis\": {\"colorbar\": {\"outlinewidth\": 0, \"ticks\": \"\"}}, \"colorscale\": {\"diverging\": [[0, \"#8e0152\"], [0.1, \"#c51b7d\"], [0.2, \"#de77ae\"], [0.3, \"#f1b6da\"], [0.4, \"#fde0ef\"], [0.5, \"#f7f7f7\"], [0.6, \"#e6f5d0\"], [0.7, \"#b8e186\"], [0.8, \"#7fbc41\"], [0.9, \"#4d9221\"], [1, \"#276419\"]], \"sequential\": [[0.0, \"#0d0887\"], [0.1111111111111111, \"#46039f\"], [0.2222222222222222, \"#7201a8\"], [0.3333333333333333, \"#9c179e\"], [0.4444444444444444, \"#bd3786\"], [0.5555555555555556, \"#d8576b\"], [0.6666666666666666, \"#ed7953\"], [0.7777777777777778, \"#fb9f3a\"], [0.8888888888888888, \"#fdca26\"], [1.0, \"#f0f921\"]], \"sequentialminus\": [[0.0, \"#0d0887\"], [0.1111111111111111, \"#46039f\"], [0.2222222222222222, \"#7201a8\"], [0.3333333333333333, \"#9c179e\"], [0.4444444444444444, \"#bd3786\"], [0.5555555555555556, \"#d8576b\"], [0.6666666666666666, \"#ed7953\"], [0.7777777777777778, \"#fb9f3a\"], [0.8888888888888888, \"#fdca26\"], [1.0, \"#f0f921\"]]}, \"colorway\": [\"#636efa\", \"#EF553B\", \"#00cc96\", \"#ab63fa\", \"#FFA15A\", \"#19d3f3\", \"#FF6692\", \"#B6E880\", \"#FF97FF\", \"#FECB52\"], \"font\": {\"color\": \"#2a3f5f\"}, \"geo\": {\"bgcolor\": \"white\", \"lakecolor\": \"white\", \"landcolor\": \"#E5ECF6\", \"showlakes\": true, \"showland\": true, \"subunitcolor\": \"white\"}, \"hoverlabel\": {\"align\": \"left\"}, \"hovermode\": \"closest\", \"mapbox\": {\"style\": \"light\"}, \"paper_bgcolor\": \"white\", \"plot_bgcolor\": \"#E5ECF6\", \"polar\": {\"angularaxis\": {\"gridcolor\": \"white\", \"linecolor\": \"white\", \"ticks\": \"\"}, \"bgcolor\": \"#E5ECF6\", \"radialaxis\": {\"gridcolor\": \"white\", \"linecolor\": \"white\", \"ticks\": \"\"}}, \"scene\": {\"xaxis\": {\"backgroundcolor\": \"#E5ECF6\", \"gridcolor\": \"white\", \"gridwidth\": 2, \"linecolor\": \"white\", \"showbackground\": true, \"ticks\": \"\", \"zerolinecolor\": \"white\"}, \"yaxis\": {\"backgroundcolor\": \"#E5ECF6\", \"gridcolor\": \"white\", \"gridwidth\": 2, \"linecolor\": \"white\", \"showbackground\": true, \"ticks\": \"\", \"zerolinecolor\": \"white\"}, \"zaxis\": {\"backgroundcolor\": \"#E5ECF6\", \"gridcolor\": \"white\", \"gridwidth\": 2, \"linecolor\": \"white\", \"showbackground\": true, \"ticks\": \"\", \"zerolinecolor\": \"white\"}}, \"shapedefaults\": {\"line\": {\"color\": \"#2a3f5f\"}}, \"ternary\": {\"aaxis\": {\"gridcolor\": \"white\", \"linecolor\": \"white\", \"ticks\": \"\"}, \"baxis\": {\"gridcolor\": \"white\", \"linecolor\": \"white\", \"ticks\": \"\"}, \"bgcolor\": \"#E5ECF6\", \"caxis\": {\"gridcolor\": \"white\", \"linecolor\": \"white\", \"ticks\": \"\"}}, \"title\": {\"x\": 0.05}, \"xaxis\": {\"automargin\": true, \"gridcolor\": \"white\", \"linecolor\": \"white\", \"ticks\": \"\", \"title\": {\"standoff\": 15}, \"zerolinecolor\": \"white\", \"zerolinewidth\": 2}, \"yaxis\": {\"automargin\": true, \"gridcolor\": \"white\", \"linecolor\": \"white\", \"ticks\": \"\", \"title\": {\"standoff\": 15}, \"zerolinecolor\": \"white\", \"zerolinewidth\": 2}}}, \"xaxis\": {\"anchor\": \"y\", \"categoryarray\": [\"China\", \"South Korea\", \"Italy\", \"Iran\", \"Others\", \"Japan\", \"France\", \"Germany\", \"Spain\", \"Singapore\", \"US\", \"Hong Kong\", \"Kuwait\", \"Bahrain\", \"Thailand\", \"Switzerland\", \"Taiwan\", \"UK\", \"Australia\", \"Malaysia\", \"Canada\", \"Iraq\", \"Norway\", \"United Arab Emirates\", \"Netherlands\", \"Austria\", \"Vietnam\", \"Sweden\", \"Lebanon\", \"Israel\", \"Macau\", \"San Marino\", \"Belgium\", \"Croatia\", \"Greece\", \"Iceland\", \"Finland\", \"Oman\", \"Ecuador\", \"India\", \"Mexico\", \"Pakistan\", \"Denmark\", \"Philippines\", \"Russia\", \"Qatar\", \"Algeria\", \"Romania\", \"Georgia\", \"Czech Republic\", \"Azerbaijan\", \"Egypt\", \"Brazil\", \"Portugal\", \"Indonesia\", \"Senegal\", \"Sri Lanka\", \"Saudi Arabia\", \"Afghanistan\", \"North Macedonia\", \"Nigeria\", \"New Zealand\", \"Nepal\", \"Morocco\", \"Monaco\", \"Luxembourg\", \"Lithuania\", \"Ireland\", \"Estonia\", \"Dominican Republic\", \"Cambodia\", \"Belarus\", \"Armenia\", \"Andorra\", \"Latvia\"], \"categoryorder\": \"array\", \"domain\": [0.0, 1.0], \"title\": {\"text\": \"Country/Region\"}}, \"yaxis\": {\"anchor\": \"x\", \"domain\": [0.0, 1.0], \"title\": {\"text\": \"Confirmed\"}, \"type\": \"log\"}},\n",
       "                        {\"responsive\": true}\n",
       "                    ).then(function(){\n",
       "                            \n",
       "var gd = document.getElementById('b52018be-e9bc-449f-a987-8f18a94f1742');\n",
       "var x = new MutationObserver(function (mutations, observer) {{\n",
       "        var display = window.getComputedStyle(gd).display;\n",
       "        if (!display || display === 'none') {{\n",
       "            console.log([gd, 'removed!']);\n",
       "            Plotly.purge(gd);\n",
       "            observer.disconnect();\n",
       "        }}\n",
       "}});\n",
       "\n",
       "// Listen for the removal of the full notebook cells\n",
       "var notebookContainer = gd.closest('#notebook-container');\n",
       "if (notebookContainer) {{\n",
       "    x.observe(notebookContainer, {childList: true});\n",
       "}}\n",
       "\n",
       "// Listen for the clearing of the current output cell\n",
       "var outputEl = gd.closest('.output');\n",
       "if (outputEl) {{\n",
       "    x.observe(outputEl, {childList: true});\n",
       "}}\n",
       "\n",
       "                        })\n",
       "                };\n",
       "                });\n",
       "            </script>\n",
       "        </div>"
      ]
     },
     "metadata": {},
     "output_type": "display_data"
    }
   ],
   "source": [
    "#Plotting confirmed cases \n",
    "import plotly.express as px\n",
    "fig = px.bar(plot,x=plot['Country/Region'],y=plot['Confirmed'], color=plot['Country/Region'],height=400,log_y=True)\n",
    "fig.show()\n"
   ]
  },
  {
   "cell_type": "code",
   "execution_count": 80,
   "metadata": {},
   "outputs": [
    {
     "data": {
      "application/vnd.plotly.v1+json": {
       "config": {
        "plotlyServerURL": "https://plot.ly"
       },
       "data": [
        {
         "alignmentgroup": "True",
         "hoverlabel": {
          "namelength": 0
         },
         "hovertemplate": "Country/Region=%{x}<br>Deaths=%{y}",
         "legendgroup": "China",
         "marker": {
          "color": "#636efa"
         },
         "name": "China",
         "offsetgroup": "China",
         "orientation": "v",
         "showlegend": true,
         "textposition": "auto",
         "type": "bar",
         "x": [
          "China"
         ],
         "xaxis": "x",
         "y": [
          2912
         ],
         "yaxis": "y"
        },
        {
         "alignmentgroup": "True",
         "hoverlabel": {
          "namelength": 0
         },
         "hovertemplate": "Country/Region=%{x}<br>Deaths=%{y}",
         "legendgroup": "South Korea",
         "marker": {
          "color": "#EF553B"
         },
         "name": "South Korea",
         "offsetgroup": "South Korea",
         "orientation": "v",
         "showlegend": true,
         "textposition": "auto",
         "type": "bar",
         "x": [
          "South Korea"
         ],
         "xaxis": "x",
         "y": [
          28
         ],
         "yaxis": "y"
        },
        {
         "alignmentgroup": "True",
         "hoverlabel": {
          "namelength": 0
         },
         "hovertemplate": "Country/Region=%{x}<br>Deaths=%{y}",
         "legendgroup": "Italy",
         "marker": {
          "color": "#00cc96"
         },
         "name": "Italy",
         "offsetgroup": "Italy",
         "orientation": "v",
         "showlegend": true,
         "textposition": "auto",
         "type": "bar",
         "x": [
          "Italy"
         ],
         "xaxis": "x",
         "y": [
          52
         ],
         "yaxis": "y"
        },
        {
         "alignmentgroup": "True",
         "hoverlabel": {
          "namelength": 0
         },
         "hovertemplate": "Country/Region=%{x}<br>Deaths=%{y}",
         "legendgroup": "Iran",
         "marker": {
          "color": "#ab63fa"
         },
         "name": "Iran",
         "offsetgroup": "Iran",
         "orientation": "v",
         "showlegend": true,
         "textposition": "auto",
         "type": "bar",
         "x": [
          "Iran"
         ],
         "xaxis": "x",
         "y": [
          66
         ],
         "yaxis": "y"
        },
        {
         "alignmentgroup": "True",
         "hoverlabel": {
          "namelength": 0
         },
         "hovertemplate": "Country/Region=%{x}<br>Deaths=%{y}",
         "legendgroup": "Others",
         "marker": {
          "color": "#FFA15A"
         },
         "name": "Others",
         "offsetgroup": "Others",
         "orientation": "v",
         "showlegend": true,
         "textposition": "auto",
         "type": "bar",
         "x": [
          "Others"
         ],
         "xaxis": "x",
         "y": [
          6
         ],
         "yaxis": "y"
        },
        {
         "alignmentgroup": "True",
         "hoverlabel": {
          "namelength": 0
         },
         "hovertemplate": "Country/Region=%{x}<br>Deaths=%{y}",
         "legendgroup": "Japan",
         "marker": {
          "color": "#19d3f3"
         },
         "name": "Japan",
         "offsetgroup": "Japan",
         "orientation": "v",
         "showlegend": true,
         "textposition": "auto",
         "type": "bar",
         "x": [
          "Japan"
         ],
         "xaxis": "x",
         "y": [
          6
         ],
         "yaxis": "y"
        },
        {
         "alignmentgroup": "True",
         "hoverlabel": {
          "namelength": 0
         },
         "hovertemplate": "Country/Region=%{x}<br>Deaths=%{y}",
         "legendgroup": "France",
         "marker": {
          "color": "#FF6692"
         },
         "name": "France",
         "offsetgroup": "France",
         "orientation": "v",
         "showlegend": true,
         "textposition": "auto",
         "type": "bar",
         "x": [
          "France"
         ],
         "xaxis": "x",
         "y": [
          3
         ],
         "yaxis": "y"
        },
        {
         "alignmentgroup": "True",
         "hoverlabel": {
          "namelength": 0
         },
         "hovertemplate": "Country/Region=%{x}<br>Deaths=%{y}",
         "legendgroup": "Germany",
         "marker": {
          "color": "#B6E880"
         },
         "name": "Germany",
         "offsetgroup": "Germany",
         "orientation": "v",
         "showlegend": true,
         "textposition": "auto",
         "type": "bar",
         "x": [
          "Germany"
         ],
         "xaxis": "x",
         "y": [
          0
         ],
         "yaxis": "y"
        },
        {
         "alignmentgroup": "True",
         "hoverlabel": {
          "namelength": 0
         },
         "hovertemplate": "Country/Region=%{x}<br>Deaths=%{y}",
         "legendgroup": "Spain",
         "marker": {
          "color": "#FF97FF"
         },
         "name": "Spain",
         "offsetgroup": "Spain",
         "orientation": "v",
         "showlegend": true,
         "textposition": "auto",
         "type": "bar",
         "x": [
          "Spain"
         ],
         "xaxis": "x",
         "y": [
          0
         ],
         "yaxis": "y"
        },
        {
         "alignmentgroup": "True",
         "hoverlabel": {
          "namelength": 0
         },
         "hovertemplate": "Country/Region=%{x}<br>Deaths=%{y}",
         "legendgroup": "Singapore",
         "marker": {
          "color": "#FECB52"
         },
         "name": "Singapore",
         "offsetgroup": "Singapore",
         "orientation": "v",
         "showlegend": true,
         "textposition": "auto",
         "type": "bar",
         "x": [
          "Singapore"
         ],
         "xaxis": "x",
         "y": [
          0
         ],
         "yaxis": "y"
        },
        {
         "alignmentgroup": "True",
         "hoverlabel": {
          "namelength": 0
         },
         "hovertemplate": "Country/Region=%{x}<br>Deaths=%{y}",
         "legendgroup": "US",
         "marker": {
          "color": "#636efa"
         },
         "name": "US",
         "offsetgroup": "US",
         "orientation": "v",
         "showlegend": true,
         "textposition": "auto",
         "type": "bar",
         "x": [
          "US"
         ],
         "xaxis": "x",
         "y": [
          6
         ],
         "yaxis": "y"
        },
        {
         "alignmentgroup": "True",
         "hoverlabel": {
          "namelength": 0
         },
         "hovertemplate": "Country/Region=%{x}<br>Deaths=%{y}",
         "legendgroup": "Hong Kong",
         "marker": {
          "color": "#EF553B"
         },
         "name": "Hong Kong",
         "offsetgroup": "Hong Kong",
         "orientation": "v",
         "showlegend": true,
         "textposition": "auto",
         "type": "bar",
         "x": [
          "Hong Kong"
         ],
         "xaxis": "x",
         "y": [
          2
         ],
         "yaxis": "y"
        },
        {
         "alignmentgroup": "True",
         "hoverlabel": {
          "namelength": 0
         },
         "hovertemplate": "Country/Region=%{x}<br>Deaths=%{y}",
         "legendgroup": "Kuwait",
         "marker": {
          "color": "#00cc96"
         },
         "name": "Kuwait",
         "offsetgroup": "Kuwait",
         "orientation": "v",
         "showlegend": true,
         "textposition": "auto",
         "type": "bar",
         "x": [
          "Kuwait"
         ],
         "xaxis": "x",
         "y": [
          0
         ],
         "yaxis": "y"
        },
        {
         "alignmentgroup": "True",
         "hoverlabel": {
          "namelength": 0
         },
         "hovertemplate": "Country/Region=%{x}<br>Deaths=%{y}",
         "legendgroup": "Bahrain",
         "marker": {
          "color": "#ab63fa"
         },
         "name": "Bahrain",
         "offsetgroup": "Bahrain",
         "orientation": "v",
         "showlegend": true,
         "textposition": "auto",
         "type": "bar",
         "x": [
          "Bahrain"
         ],
         "xaxis": "x",
         "y": [
          0
         ],
         "yaxis": "y"
        },
        {
         "alignmentgroup": "True",
         "hoverlabel": {
          "namelength": 0
         },
         "hovertemplate": "Country/Region=%{x}<br>Deaths=%{y}",
         "legendgroup": "Thailand",
         "marker": {
          "color": "#FFA15A"
         },
         "name": "Thailand",
         "offsetgroup": "Thailand",
         "orientation": "v",
         "showlegend": true,
         "textposition": "auto",
         "type": "bar",
         "x": [
          "Thailand"
         ],
         "xaxis": "x",
         "y": [
          1
         ],
         "yaxis": "y"
        },
        {
         "alignmentgroup": "True",
         "hoverlabel": {
          "namelength": 0
         },
         "hovertemplate": "Country/Region=%{x}<br>Deaths=%{y}",
         "legendgroup": "Switzerland",
         "marker": {
          "color": "#19d3f3"
         },
         "name": "Switzerland",
         "offsetgroup": "Switzerland",
         "orientation": "v",
         "showlegend": true,
         "textposition": "auto",
         "type": "bar",
         "x": [
          "Switzerland"
         ],
         "xaxis": "x",
         "y": [
          0
         ],
         "yaxis": "y"
        },
        {
         "alignmentgroup": "True",
         "hoverlabel": {
          "namelength": 0
         },
         "hovertemplate": "Country/Region=%{x}<br>Deaths=%{y}",
         "legendgroup": "Taiwan",
         "marker": {
          "color": "#FF6692"
         },
         "name": "Taiwan",
         "offsetgroup": "Taiwan",
         "orientation": "v",
         "showlegend": true,
         "textposition": "auto",
         "type": "bar",
         "x": [
          "Taiwan"
         ],
         "xaxis": "x",
         "y": [
          1
         ],
         "yaxis": "y"
        },
        {
         "alignmentgroup": "True",
         "hoverlabel": {
          "namelength": 0
         },
         "hovertemplate": "Country/Region=%{x}<br>Deaths=%{y}",
         "legendgroup": "UK",
         "marker": {
          "color": "#B6E880"
         },
         "name": "UK",
         "offsetgroup": "UK",
         "orientation": "v",
         "showlegend": true,
         "textposition": "auto",
         "type": "bar",
         "x": [
          "UK"
         ],
         "xaxis": "x",
         "y": [
          0
         ],
         "yaxis": "y"
        },
        {
         "alignmentgroup": "True",
         "hoverlabel": {
          "namelength": 0
         },
         "hovertemplate": "Country/Region=%{x}<br>Deaths=%{y}",
         "legendgroup": "Australia",
         "marker": {
          "color": "#FF97FF"
         },
         "name": "Australia",
         "offsetgroup": "Australia",
         "orientation": "v",
         "showlegend": true,
         "textposition": "auto",
         "type": "bar",
         "x": [
          "Australia"
         ],
         "xaxis": "x",
         "y": [
          1
         ],
         "yaxis": "y"
        },
        {
         "alignmentgroup": "True",
         "hoverlabel": {
          "namelength": 0
         },
         "hovertemplate": "Country/Region=%{x}<br>Deaths=%{y}",
         "legendgroup": "Malaysia",
         "marker": {
          "color": "#FECB52"
         },
         "name": "Malaysia",
         "offsetgroup": "Malaysia",
         "orientation": "v",
         "showlegend": true,
         "textposition": "auto",
         "type": "bar",
         "x": [
          "Malaysia"
         ],
         "xaxis": "x",
         "y": [
          0
         ],
         "yaxis": "y"
        },
        {
         "alignmentgroup": "True",
         "hoverlabel": {
          "namelength": 0
         },
         "hovertemplate": "Country/Region=%{x}<br>Deaths=%{y}",
         "legendgroup": "Canada",
         "marker": {
          "color": "#636efa"
         },
         "name": "Canada",
         "offsetgroup": "Canada",
         "orientation": "v",
         "showlegend": true,
         "textposition": "auto",
         "type": "bar",
         "x": [
          "Canada"
         ],
         "xaxis": "x",
         "y": [
          0
         ],
         "yaxis": "y"
        },
        {
         "alignmentgroup": "True",
         "hoverlabel": {
          "namelength": 0
         },
         "hovertemplate": "Country/Region=%{x}<br>Deaths=%{y}",
         "legendgroup": "Iraq",
         "marker": {
          "color": "#EF553B"
         },
         "name": "Iraq",
         "offsetgroup": "Iraq",
         "orientation": "v",
         "showlegend": true,
         "textposition": "auto",
         "type": "bar",
         "x": [
          "Iraq"
         ],
         "xaxis": "x",
         "y": [
          0
         ],
         "yaxis": "y"
        },
        {
         "alignmentgroup": "True",
         "hoverlabel": {
          "namelength": 0
         },
         "hovertemplate": "Country/Region=%{x}<br>Deaths=%{y}",
         "legendgroup": "Norway",
         "marker": {
          "color": "#00cc96"
         },
         "name": "Norway",
         "offsetgroup": "Norway",
         "orientation": "v",
         "showlegend": true,
         "textposition": "auto",
         "type": "bar",
         "x": [
          "Norway"
         ],
         "xaxis": "x",
         "y": [
          0
         ],
         "yaxis": "y"
        },
        {
         "alignmentgroup": "True",
         "hoverlabel": {
          "namelength": 0
         },
         "hovertemplate": "Country/Region=%{x}<br>Deaths=%{y}",
         "legendgroup": "United Arab Emirates",
         "marker": {
          "color": "#ab63fa"
         },
         "name": "United Arab Emirates",
         "offsetgroup": "United Arab Emirates",
         "orientation": "v",
         "showlegend": true,
         "textposition": "auto",
         "type": "bar",
         "x": [
          "United Arab Emirates"
         ],
         "xaxis": "x",
         "y": [
          0
         ],
         "yaxis": "y"
        },
        {
         "alignmentgroup": "True",
         "hoverlabel": {
          "namelength": 0
         },
         "hovertemplate": "Country/Region=%{x}<br>Deaths=%{y}",
         "legendgroup": "Netherlands",
         "marker": {
          "color": "#FFA15A"
         },
         "name": "Netherlands",
         "offsetgroup": "Netherlands",
         "orientation": "v",
         "showlegend": true,
         "textposition": "auto",
         "type": "bar",
         "x": [
          "Netherlands"
         ],
         "xaxis": "x",
         "y": [
          0
         ],
         "yaxis": "y"
        },
        {
         "alignmentgroup": "True",
         "hoverlabel": {
          "namelength": 0
         },
         "hovertemplate": "Country/Region=%{x}<br>Deaths=%{y}",
         "legendgroup": "Austria",
         "marker": {
          "color": "#19d3f3"
         },
         "name": "Austria",
         "offsetgroup": "Austria",
         "orientation": "v",
         "showlegend": true,
         "textposition": "auto",
         "type": "bar",
         "x": [
          "Austria"
         ],
         "xaxis": "x",
         "y": [
          0
         ],
         "yaxis": "y"
        },
        {
         "alignmentgroup": "True",
         "hoverlabel": {
          "namelength": 0
         },
         "hovertemplate": "Country/Region=%{x}<br>Deaths=%{y}",
         "legendgroup": "Vietnam",
         "marker": {
          "color": "#FF6692"
         },
         "name": "Vietnam",
         "offsetgroup": "Vietnam",
         "orientation": "v",
         "showlegend": true,
         "textposition": "auto",
         "type": "bar",
         "x": [
          "Vietnam"
         ],
         "xaxis": "x",
         "y": [
          0
         ],
         "yaxis": "y"
        },
        {
         "alignmentgroup": "True",
         "hoverlabel": {
          "namelength": 0
         },
         "hovertemplate": "Country/Region=%{x}<br>Deaths=%{y}",
         "legendgroup": "Sweden",
         "marker": {
          "color": "#B6E880"
         },
         "name": "Sweden",
         "offsetgroup": "Sweden",
         "orientation": "v",
         "showlegend": true,
         "textposition": "auto",
         "type": "bar",
         "x": [
          "Sweden"
         ],
         "xaxis": "x",
         "y": [
          0
         ],
         "yaxis": "y"
        },
        {
         "alignmentgroup": "True",
         "hoverlabel": {
          "namelength": 0
         },
         "hovertemplate": "Country/Region=%{x}<br>Deaths=%{y}",
         "legendgroup": "Lebanon",
         "marker": {
          "color": "#FF97FF"
         },
         "name": "Lebanon",
         "offsetgroup": "Lebanon",
         "orientation": "v",
         "showlegend": true,
         "textposition": "auto",
         "type": "bar",
         "x": [
          "Lebanon"
         ],
         "xaxis": "x",
         "y": [
          0
         ],
         "yaxis": "y"
        },
        {
         "alignmentgroup": "True",
         "hoverlabel": {
          "namelength": 0
         },
         "hovertemplate": "Country/Region=%{x}<br>Deaths=%{y}",
         "legendgroup": "Israel",
         "marker": {
          "color": "#FECB52"
         },
         "name": "Israel",
         "offsetgroup": "Israel",
         "orientation": "v",
         "showlegend": true,
         "textposition": "auto",
         "type": "bar",
         "x": [
          "Israel"
         ],
         "xaxis": "x",
         "y": [
          0
         ],
         "yaxis": "y"
        },
        {
         "alignmentgroup": "True",
         "hoverlabel": {
          "namelength": 0
         },
         "hovertemplate": "Country/Region=%{x}<br>Deaths=%{y}",
         "legendgroup": "Macau",
         "marker": {
          "color": "#636efa"
         },
         "name": "Macau",
         "offsetgroup": "Macau",
         "orientation": "v",
         "showlegend": true,
         "textposition": "auto",
         "type": "bar",
         "x": [
          "Macau"
         ],
         "xaxis": "x",
         "y": [
          0
         ],
         "yaxis": "y"
        },
        {
         "alignmentgroup": "True",
         "hoverlabel": {
          "namelength": 0
         },
         "hovertemplate": "Country/Region=%{x}<br>Deaths=%{y}",
         "legendgroup": "San Marino",
         "marker": {
          "color": "#EF553B"
         },
         "name": "San Marino",
         "offsetgroup": "San Marino",
         "orientation": "v",
         "showlegend": true,
         "textposition": "auto",
         "type": "bar",
         "x": [
          "San Marino"
         ],
         "xaxis": "x",
         "y": [
          0
         ],
         "yaxis": "y"
        },
        {
         "alignmentgroup": "True",
         "hoverlabel": {
          "namelength": 0
         },
         "hovertemplate": "Country/Region=%{x}<br>Deaths=%{y}",
         "legendgroup": "Belgium",
         "marker": {
          "color": "#00cc96"
         },
         "name": "Belgium",
         "offsetgroup": "Belgium",
         "orientation": "v",
         "showlegend": true,
         "textposition": "auto",
         "type": "bar",
         "x": [
          "Belgium"
         ],
         "xaxis": "x",
         "y": [
          0
         ],
         "yaxis": "y"
        },
        {
         "alignmentgroup": "True",
         "hoverlabel": {
          "namelength": 0
         },
         "hovertemplate": "Country/Region=%{x}<br>Deaths=%{y}",
         "legendgroup": "Croatia",
         "marker": {
          "color": "#ab63fa"
         },
         "name": "Croatia",
         "offsetgroup": "Croatia",
         "orientation": "v",
         "showlegend": true,
         "textposition": "auto",
         "type": "bar",
         "x": [
          "Croatia"
         ],
         "xaxis": "x",
         "y": [
          0
         ],
         "yaxis": "y"
        },
        {
         "alignmentgroup": "True",
         "hoverlabel": {
          "namelength": 0
         },
         "hovertemplate": "Country/Region=%{x}<br>Deaths=%{y}",
         "legendgroup": "Greece",
         "marker": {
          "color": "#FFA15A"
         },
         "name": "Greece",
         "offsetgroup": "Greece",
         "orientation": "v",
         "showlegend": true,
         "textposition": "auto",
         "type": "bar",
         "x": [
          "Greece"
         ],
         "xaxis": "x",
         "y": [
          0
         ],
         "yaxis": "y"
        },
        {
         "alignmentgroup": "True",
         "hoverlabel": {
          "namelength": 0
         },
         "hovertemplate": "Country/Region=%{x}<br>Deaths=%{y}",
         "legendgroup": "Iceland",
         "marker": {
          "color": "#19d3f3"
         },
         "name": "Iceland",
         "offsetgroup": "Iceland",
         "orientation": "v",
         "showlegend": true,
         "textposition": "auto",
         "type": "bar",
         "x": [
          "Iceland"
         ],
         "xaxis": "x",
         "y": [
          0
         ],
         "yaxis": "y"
        },
        {
         "alignmentgroup": "True",
         "hoverlabel": {
          "namelength": 0
         },
         "hovertemplate": "Country/Region=%{x}<br>Deaths=%{y}",
         "legendgroup": "Finland",
         "marker": {
          "color": "#FF6692"
         },
         "name": "Finland",
         "offsetgroup": "Finland",
         "orientation": "v",
         "showlegend": true,
         "textposition": "auto",
         "type": "bar",
         "x": [
          "Finland"
         ],
         "xaxis": "x",
         "y": [
          0
         ],
         "yaxis": "y"
        },
        {
         "alignmentgroup": "True",
         "hoverlabel": {
          "namelength": 0
         },
         "hovertemplate": "Country/Region=%{x}<br>Deaths=%{y}",
         "legendgroup": "Oman",
         "marker": {
          "color": "#B6E880"
         },
         "name": "Oman",
         "offsetgroup": "Oman",
         "orientation": "v",
         "showlegend": true,
         "textposition": "auto",
         "type": "bar",
         "x": [
          "Oman"
         ],
         "xaxis": "x",
         "y": [
          0
         ],
         "yaxis": "y"
        },
        {
         "alignmentgroup": "True",
         "hoverlabel": {
          "namelength": 0
         },
         "hovertemplate": "Country/Region=%{x}<br>Deaths=%{y}",
         "legendgroup": "Ecuador",
         "marker": {
          "color": "#FF97FF"
         },
         "name": "Ecuador",
         "offsetgroup": "Ecuador",
         "orientation": "v",
         "showlegend": true,
         "textposition": "auto",
         "type": "bar",
         "x": [
          "Ecuador"
         ],
         "xaxis": "x",
         "y": [
          0
         ],
         "yaxis": "y"
        },
        {
         "alignmentgroup": "True",
         "hoverlabel": {
          "namelength": 0
         },
         "hovertemplate": "Country/Region=%{x}<br>Deaths=%{y}",
         "legendgroup": "India",
         "marker": {
          "color": "#FECB52"
         },
         "name": "India",
         "offsetgroup": "India",
         "orientation": "v",
         "showlegend": true,
         "textposition": "auto",
         "type": "bar",
         "x": [
          "India"
         ],
         "xaxis": "x",
         "y": [
          0
         ],
         "yaxis": "y"
        },
        {
         "alignmentgroup": "True",
         "hoverlabel": {
          "namelength": 0
         },
         "hovertemplate": "Country/Region=%{x}<br>Deaths=%{y}",
         "legendgroup": "Mexico",
         "marker": {
          "color": "#636efa"
         },
         "name": "Mexico",
         "offsetgroup": "Mexico",
         "orientation": "v",
         "showlegend": true,
         "textposition": "auto",
         "type": "bar",
         "x": [
          "Mexico"
         ],
         "xaxis": "x",
         "y": [
          0
         ],
         "yaxis": "y"
        },
        {
         "alignmentgroup": "True",
         "hoverlabel": {
          "namelength": 0
         },
         "hovertemplate": "Country/Region=%{x}<br>Deaths=%{y}",
         "legendgroup": "Pakistan",
         "marker": {
          "color": "#EF553B"
         },
         "name": "Pakistan",
         "offsetgroup": "Pakistan",
         "orientation": "v",
         "showlegend": true,
         "textposition": "auto",
         "type": "bar",
         "x": [
          "Pakistan"
         ],
         "xaxis": "x",
         "y": [
          0
         ],
         "yaxis": "y"
        },
        {
         "alignmentgroup": "True",
         "hoverlabel": {
          "namelength": 0
         },
         "hovertemplate": "Country/Region=%{x}<br>Deaths=%{y}",
         "legendgroup": "Denmark",
         "marker": {
          "color": "#00cc96"
         },
         "name": "Denmark",
         "offsetgroup": "Denmark",
         "orientation": "v",
         "showlegend": true,
         "textposition": "auto",
         "type": "bar",
         "x": [
          "Denmark"
         ],
         "xaxis": "x",
         "y": [
          0
         ],
         "yaxis": "y"
        },
        {
         "alignmentgroup": "True",
         "hoverlabel": {
          "namelength": 0
         },
         "hovertemplate": "Country/Region=%{x}<br>Deaths=%{y}",
         "legendgroup": "Philippines",
         "marker": {
          "color": "#ab63fa"
         },
         "name": "Philippines",
         "offsetgroup": "Philippines",
         "orientation": "v",
         "showlegend": true,
         "textposition": "auto",
         "type": "bar",
         "x": [
          "Philippines"
         ],
         "xaxis": "x",
         "y": [
          1
         ],
         "yaxis": "y"
        },
        {
         "alignmentgroup": "True",
         "hoverlabel": {
          "namelength": 0
         },
         "hovertemplate": "Country/Region=%{x}<br>Deaths=%{y}",
         "legendgroup": "Russia",
         "marker": {
          "color": "#FFA15A"
         },
         "name": "Russia",
         "offsetgroup": "Russia",
         "orientation": "v",
         "showlegend": true,
         "textposition": "auto",
         "type": "bar",
         "x": [
          "Russia"
         ],
         "xaxis": "x",
         "y": [
          0
         ],
         "yaxis": "y"
        },
        {
         "alignmentgroup": "True",
         "hoverlabel": {
          "namelength": 0
         },
         "hovertemplate": "Country/Region=%{x}<br>Deaths=%{y}",
         "legendgroup": "Qatar",
         "marker": {
          "color": "#19d3f3"
         },
         "name": "Qatar",
         "offsetgroup": "Qatar",
         "orientation": "v",
         "showlegend": true,
         "textposition": "auto",
         "type": "bar",
         "x": [
          "Qatar"
         ],
         "xaxis": "x",
         "y": [
          0
         ],
         "yaxis": "y"
        },
        {
         "alignmentgroup": "True",
         "hoverlabel": {
          "namelength": 0
         },
         "hovertemplate": "Country/Region=%{x}<br>Deaths=%{y}",
         "legendgroup": "Algeria",
         "marker": {
          "color": "#FF6692"
         },
         "name": "Algeria",
         "offsetgroup": "Algeria",
         "orientation": "v",
         "showlegend": true,
         "textposition": "auto",
         "type": "bar",
         "x": [
          "Algeria"
         ],
         "xaxis": "x",
         "y": [
          0
         ],
         "yaxis": "y"
        },
        {
         "alignmentgroup": "True",
         "hoverlabel": {
          "namelength": 0
         },
         "hovertemplate": "Country/Region=%{x}<br>Deaths=%{y}",
         "legendgroup": "Romania",
         "marker": {
          "color": "#B6E880"
         },
         "name": "Romania",
         "offsetgroup": "Romania",
         "orientation": "v",
         "showlegend": true,
         "textposition": "auto",
         "type": "bar",
         "x": [
          "Romania"
         ],
         "xaxis": "x",
         "y": [
          0
         ],
         "yaxis": "y"
        },
        {
         "alignmentgroup": "True",
         "hoverlabel": {
          "namelength": 0
         },
         "hovertemplate": "Country/Region=%{x}<br>Deaths=%{y}",
         "legendgroup": "Georgia",
         "marker": {
          "color": "#FF97FF"
         },
         "name": "Georgia",
         "offsetgroup": "Georgia",
         "orientation": "v",
         "showlegend": true,
         "textposition": "auto",
         "type": "bar",
         "x": [
          "Georgia"
         ],
         "xaxis": "x",
         "y": [
          0
         ],
         "yaxis": "y"
        },
        {
         "alignmentgroup": "True",
         "hoverlabel": {
          "namelength": 0
         },
         "hovertemplate": "Country/Region=%{x}<br>Deaths=%{y}",
         "legendgroup": "Czech Republic",
         "marker": {
          "color": "#FECB52"
         },
         "name": "Czech Republic",
         "offsetgroup": "Czech Republic",
         "orientation": "v",
         "showlegend": true,
         "textposition": "auto",
         "type": "bar",
         "x": [
          "Czech Republic"
         ],
         "xaxis": "x",
         "y": [
          0
         ],
         "yaxis": "y"
        },
        {
         "alignmentgroup": "True",
         "hoverlabel": {
          "namelength": 0
         },
         "hovertemplate": "Country/Region=%{x}<br>Deaths=%{y}",
         "legendgroup": "Azerbaijan",
         "marker": {
          "color": "#636efa"
         },
         "name": "Azerbaijan",
         "offsetgroup": "Azerbaijan",
         "orientation": "v",
         "showlegend": true,
         "textposition": "auto",
         "type": "bar",
         "x": [
          "Azerbaijan"
         ],
         "xaxis": "x",
         "y": [
          0
         ],
         "yaxis": "y"
        },
        {
         "alignmentgroup": "True",
         "hoverlabel": {
          "namelength": 0
         },
         "hovertemplate": "Country/Region=%{x}<br>Deaths=%{y}",
         "legendgroup": "Egypt",
         "marker": {
          "color": "#EF553B"
         },
         "name": "Egypt",
         "offsetgroup": "Egypt",
         "orientation": "v",
         "showlegend": true,
         "textposition": "auto",
         "type": "bar",
         "x": [
          "Egypt"
         ],
         "xaxis": "x",
         "y": [
          0
         ],
         "yaxis": "y"
        },
        {
         "alignmentgroup": "True",
         "hoverlabel": {
          "namelength": 0
         },
         "hovertemplate": "Country/Region=%{x}<br>Deaths=%{y}",
         "legendgroup": "Brazil",
         "marker": {
          "color": "#00cc96"
         },
         "name": "Brazil",
         "offsetgroup": "Brazil",
         "orientation": "v",
         "showlegend": true,
         "textposition": "auto",
         "type": "bar",
         "x": [
          "Brazil"
         ],
         "xaxis": "x",
         "y": [
          0
         ],
         "yaxis": "y"
        },
        {
         "alignmentgroup": "True",
         "hoverlabel": {
          "namelength": 0
         },
         "hovertemplate": "Country/Region=%{x}<br>Deaths=%{y}",
         "legendgroup": "Portugal",
         "marker": {
          "color": "#ab63fa"
         },
         "name": "Portugal",
         "offsetgroup": "Portugal",
         "orientation": "v",
         "showlegend": true,
         "textposition": "auto",
         "type": "bar",
         "x": [
          "Portugal"
         ],
         "xaxis": "x",
         "y": [
          0
         ],
         "yaxis": "y"
        },
        {
         "alignmentgroup": "True",
         "hoverlabel": {
          "namelength": 0
         },
         "hovertemplate": "Country/Region=%{x}<br>Deaths=%{y}",
         "legendgroup": "Indonesia",
         "marker": {
          "color": "#FFA15A"
         },
         "name": "Indonesia",
         "offsetgroup": "Indonesia",
         "orientation": "v",
         "showlegend": true,
         "textposition": "auto",
         "type": "bar",
         "x": [
          "Indonesia"
         ],
         "xaxis": "x",
         "y": [
          0
         ],
         "yaxis": "y"
        },
        {
         "alignmentgroup": "True",
         "hoverlabel": {
          "namelength": 0
         },
         "hovertemplate": "Country/Region=%{x}<br>Deaths=%{y}",
         "legendgroup": "Senegal",
         "marker": {
          "color": "#19d3f3"
         },
         "name": "Senegal",
         "offsetgroup": "Senegal",
         "orientation": "v",
         "showlegend": true,
         "textposition": "auto",
         "type": "bar",
         "x": [
          "Senegal"
         ],
         "xaxis": "x",
         "y": [
          0
         ],
         "yaxis": "y"
        },
        {
         "alignmentgroup": "True",
         "hoverlabel": {
          "namelength": 0
         },
         "hovertemplate": "Country/Region=%{x}<br>Deaths=%{y}",
         "legendgroup": "Sri Lanka",
         "marker": {
          "color": "#FF6692"
         },
         "name": "Sri Lanka",
         "offsetgroup": "Sri Lanka",
         "orientation": "v",
         "showlegend": true,
         "textposition": "auto",
         "type": "bar",
         "x": [
          "Sri Lanka"
         ],
         "xaxis": "x",
         "y": [
          0
         ],
         "yaxis": "y"
        },
        {
         "alignmentgroup": "True",
         "hoverlabel": {
          "namelength": 0
         },
         "hovertemplate": "Country/Region=%{x}<br>Deaths=%{y}",
         "legendgroup": "Saudi Arabia",
         "marker": {
          "color": "#B6E880"
         },
         "name": "Saudi Arabia",
         "offsetgroup": "Saudi Arabia",
         "orientation": "v",
         "showlegend": true,
         "textposition": "auto",
         "type": "bar",
         "x": [
          "Saudi Arabia"
         ],
         "xaxis": "x",
         "y": [
          0
         ],
         "yaxis": "y"
        },
        {
         "alignmentgroup": "True",
         "hoverlabel": {
          "namelength": 0
         },
         "hovertemplate": "Country/Region=%{x}<br>Deaths=%{y}",
         "legendgroup": "Afghanistan",
         "marker": {
          "color": "#FF97FF"
         },
         "name": "Afghanistan",
         "offsetgroup": "Afghanistan",
         "orientation": "v",
         "showlegend": true,
         "textposition": "auto",
         "type": "bar",
         "x": [
          "Afghanistan"
         ],
         "xaxis": "x",
         "y": [
          0
         ],
         "yaxis": "y"
        },
        {
         "alignmentgroup": "True",
         "hoverlabel": {
          "namelength": 0
         },
         "hovertemplate": "Country/Region=%{x}<br>Deaths=%{y}",
         "legendgroup": "North Macedonia",
         "marker": {
          "color": "#FECB52"
         },
         "name": "North Macedonia",
         "offsetgroup": "North Macedonia",
         "orientation": "v",
         "showlegend": true,
         "textposition": "auto",
         "type": "bar",
         "x": [
          "North Macedonia"
         ],
         "xaxis": "x",
         "y": [
          0
         ],
         "yaxis": "y"
        },
        {
         "alignmentgroup": "True",
         "hoverlabel": {
          "namelength": 0
         },
         "hovertemplate": "Country/Region=%{x}<br>Deaths=%{y}",
         "legendgroup": "Nigeria",
         "marker": {
          "color": "#636efa"
         },
         "name": "Nigeria",
         "offsetgroup": "Nigeria",
         "orientation": "v",
         "showlegend": true,
         "textposition": "auto",
         "type": "bar",
         "x": [
          "Nigeria"
         ],
         "xaxis": "x",
         "y": [
          0
         ],
         "yaxis": "y"
        },
        {
         "alignmentgroup": "True",
         "hoverlabel": {
          "namelength": 0
         },
         "hovertemplate": "Country/Region=%{x}<br>Deaths=%{y}",
         "legendgroup": "New Zealand",
         "marker": {
          "color": "#EF553B"
         },
         "name": "New Zealand",
         "offsetgroup": "New Zealand",
         "orientation": "v",
         "showlegend": true,
         "textposition": "auto",
         "type": "bar",
         "x": [
          "New Zealand"
         ],
         "xaxis": "x",
         "y": [
          0
         ],
         "yaxis": "y"
        },
        {
         "alignmentgroup": "True",
         "hoverlabel": {
          "namelength": 0
         },
         "hovertemplate": "Country/Region=%{x}<br>Deaths=%{y}",
         "legendgroup": "Nepal",
         "marker": {
          "color": "#00cc96"
         },
         "name": "Nepal",
         "offsetgroup": "Nepal",
         "orientation": "v",
         "showlegend": true,
         "textposition": "auto",
         "type": "bar",
         "x": [
          "Nepal"
         ],
         "xaxis": "x",
         "y": [
          0
         ],
         "yaxis": "y"
        },
        {
         "alignmentgroup": "True",
         "hoverlabel": {
          "namelength": 0
         },
         "hovertemplate": "Country/Region=%{x}<br>Deaths=%{y}",
         "legendgroup": "Morocco",
         "marker": {
          "color": "#ab63fa"
         },
         "name": "Morocco",
         "offsetgroup": "Morocco",
         "orientation": "v",
         "showlegend": true,
         "textposition": "auto",
         "type": "bar",
         "x": [
          "Morocco"
         ],
         "xaxis": "x",
         "y": [
          0
         ],
         "yaxis": "y"
        },
        {
         "alignmentgroup": "True",
         "hoverlabel": {
          "namelength": 0
         },
         "hovertemplate": "Country/Region=%{x}<br>Deaths=%{y}",
         "legendgroup": "Monaco",
         "marker": {
          "color": "#FFA15A"
         },
         "name": "Monaco",
         "offsetgroup": "Monaco",
         "orientation": "v",
         "showlegend": true,
         "textposition": "auto",
         "type": "bar",
         "x": [
          "Monaco"
         ],
         "xaxis": "x",
         "y": [
          0
         ],
         "yaxis": "y"
        },
        {
         "alignmentgroup": "True",
         "hoverlabel": {
          "namelength": 0
         },
         "hovertemplate": "Country/Region=%{x}<br>Deaths=%{y}",
         "legendgroup": "Luxembourg",
         "marker": {
          "color": "#19d3f3"
         },
         "name": "Luxembourg",
         "offsetgroup": "Luxembourg",
         "orientation": "v",
         "showlegend": true,
         "textposition": "auto",
         "type": "bar",
         "x": [
          "Luxembourg"
         ],
         "xaxis": "x",
         "y": [
          0
         ],
         "yaxis": "y"
        },
        {
         "alignmentgroup": "True",
         "hoverlabel": {
          "namelength": 0
         },
         "hovertemplate": "Country/Region=%{x}<br>Deaths=%{y}",
         "legendgroup": "Lithuania",
         "marker": {
          "color": "#FF6692"
         },
         "name": "Lithuania",
         "offsetgroup": "Lithuania",
         "orientation": "v",
         "showlegend": true,
         "textposition": "auto",
         "type": "bar",
         "x": [
          "Lithuania"
         ],
         "xaxis": "x",
         "y": [
          0
         ],
         "yaxis": "y"
        },
        {
         "alignmentgroup": "True",
         "hoverlabel": {
          "namelength": 0
         },
         "hovertemplate": "Country/Region=%{x}<br>Deaths=%{y}",
         "legendgroup": "Ireland",
         "marker": {
          "color": "#B6E880"
         },
         "name": "Ireland",
         "offsetgroup": "Ireland",
         "orientation": "v",
         "showlegend": true,
         "textposition": "auto",
         "type": "bar",
         "x": [
          "Ireland"
         ],
         "xaxis": "x",
         "y": [
          0
         ],
         "yaxis": "y"
        },
        {
         "alignmentgroup": "True",
         "hoverlabel": {
          "namelength": 0
         },
         "hovertemplate": "Country/Region=%{x}<br>Deaths=%{y}",
         "legendgroup": "Estonia",
         "marker": {
          "color": "#FF97FF"
         },
         "name": "Estonia",
         "offsetgroup": "Estonia",
         "orientation": "v",
         "showlegend": true,
         "textposition": "auto",
         "type": "bar",
         "x": [
          "Estonia"
         ],
         "xaxis": "x",
         "y": [
          0
         ],
         "yaxis": "y"
        },
        {
         "alignmentgroup": "True",
         "hoverlabel": {
          "namelength": 0
         },
         "hovertemplate": "Country/Region=%{x}<br>Deaths=%{y}",
         "legendgroup": "Dominican Republic",
         "marker": {
          "color": "#FECB52"
         },
         "name": "Dominican Republic",
         "offsetgroup": "Dominican Republic",
         "orientation": "v",
         "showlegend": true,
         "textposition": "auto",
         "type": "bar",
         "x": [
          "Dominican Republic"
         ],
         "xaxis": "x",
         "y": [
          0
         ],
         "yaxis": "y"
        },
        {
         "alignmentgroup": "True",
         "hoverlabel": {
          "namelength": 0
         },
         "hovertemplate": "Country/Region=%{x}<br>Deaths=%{y}",
         "legendgroup": "Cambodia",
         "marker": {
          "color": "#636efa"
         },
         "name": "Cambodia",
         "offsetgroup": "Cambodia",
         "orientation": "v",
         "showlegend": true,
         "textposition": "auto",
         "type": "bar",
         "x": [
          "Cambodia"
         ],
         "xaxis": "x",
         "y": [
          0
         ],
         "yaxis": "y"
        },
        {
         "alignmentgroup": "True",
         "hoverlabel": {
          "namelength": 0
         },
         "hovertemplate": "Country/Region=%{x}<br>Deaths=%{y}",
         "legendgroup": "Belarus",
         "marker": {
          "color": "#EF553B"
         },
         "name": "Belarus",
         "offsetgroup": "Belarus",
         "orientation": "v",
         "showlegend": true,
         "textposition": "auto",
         "type": "bar",
         "x": [
          "Belarus"
         ],
         "xaxis": "x",
         "y": [
          0
         ],
         "yaxis": "y"
        },
        {
         "alignmentgroup": "True",
         "hoverlabel": {
          "namelength": 0
         },
         "hovertemplate": "Country/Region=%{x}<br>Deaths=%{y}",
         "legendgroup": "Armenia",
         "marker": {
          "color": "#00cc96"
         },
         "name": "Armenia",
         "offsetgroup": "Armenia",
         "orientation": "v",
         "showlegend": true,
         "textposition": "auto",
         "type": "bar",
         "x": [
          "Armenia"
         ],
         "xaxis": "x",
         "y": [
          0
         ],
         "yaxis": "y"
        },
        {
         "alignmentgroup": "True",
         "hoverlabel": {
          "namelength": 0
         },
         "hovertemplate": "Country/Region=%{x}<br>Deaths=%{y}",
         "legendgroup": "Andorra",
         "marker": {
          "color": "#ab63fa"
         },
         "name": "Andorra",
         "offsetgroup": "Andorra",
         "orientation": "v",
         "showlegend": true,
         "textposition": "auto",
         "type": "bar",
         "x": [
          "Andorra"
         ],
         "xaxis": "x",
         "y": [
          0
         ],
         "yaxis": "y"
        },
        {
         "alignmentgroup": "True",
         "hoverlabel": {
          "namelength": 0
         },
         "hovertemplate": "Country/Region=%{x}<br>Deaths=%{y}",
         "legendgroup": "Latvia",
         "marker": {
          "color": "#FFA15A"
         },
         "name": "Latvia",
         "offsetgroup": "Latvia",
         "orientation": "v",
         "showlegend": true,
         "textposition": "auto",
         "type": "bar",
         "x": [
          "Latvia"
         ],
         "xaxis": "x",
         "y": [
          0
         ],
         "yaxis": "y"
        }
       ],
       "layout": {
        "barmode": "relative",
        "height": 400,
        "legend": {
         "title": {
          "text": "Country/Region"
         },
         "tracegroupgap": 0
        },
        "margin": {
         "t": 60
        },
        "template": {
         "data": {
          "bar": [
           {
            "error_x": {
             "color": "#2a3f5f"
            },
            "error_y": {
             "color": "#2a3f5f"
            },
            "marker": {
             "line": {
              "color": "#E5ECF6",
              "width": 0.5
             }
            },
            "type": "bar"
           }
          ],
          "barpolar": [
           {
            "marker": {
             "line": {
              "color": "#E5ECF6",
              "width": 0.5
             }
            },
            "type": "barpolar"
           }
          ],
          "carpet": [
           {
            "aaxis": {
             "endlinecolor": "#2a3f5f",
             "gridcolor": "white",
             "linecolor": "white",
             "minorgridcolor": "white",
             "startlinecolor": "#2a3f5f"
            },
            "baxis": {
             "endlinecolor": "#2a3f5f",
             "gridcolor": "white",
             "linecolor": "white",
             "minorgridcolor": "white",
             "startlinecolor": "#2a3f5f"
            },
            "type": "carpet"
           }
          ],
          "choropleth": [
           {
            "colorbar": {
             "outlinewidth": 0,
             "ticks": ""
            },
            "type": "choropleth"
           }
          ],
          "contour": [
           {
            "colorbar": {
             "outlinewidth": 0,
             "ticks": ""
            },
            "colorscale": [
             [
              0,
              "#0d0887"
             ],
             [
              0.1111111111111111,
              "#46039f"
             ],
             [
              0.2222222222222222,
              "#7201a8"
             ],
             [
              0.3333333333333333,
              "#9c179e"
             ],
             [
              0.4444444444444444,
              "#bd3786"
             ],
             [
              0.5555555555555556,
              "#d8576b"
             ],
             [
              0.6666666666666666,
              "#ed7953"
             ],
             [
              0.7777777777777778,
              "#fb9f3a"
             ],
             [
              0.8888888888888888,
              "#fdca26"
             ],
             [
              1,
              "#f0f921"
             ]
            ],
            "type": "contour"
           }
          ],
          "contourcarpet": [
           {
            "colorbar": {
             "outlinewidth": 0,
             "ticks": ""
            },
            "type": "contourcarpet"
           }
          ],
          "heatmap": [
           {
            "colorbar": {
             "outlinewidth": 0,
             "ticks": ""
            },
            "colorscale": [
             [
              0,
              "#0d0887"
             ],
             [
              0.1111111111111111,
              "#46039f"
             ],
             [
              0.2222222222222222,
              "#7201a8"
             ],
             [
              0.3333333333333333,
              "#9c179e"
             ],
             [
              0.4444444444444444,
              "#bd3786"
             ],
             [
              0.5555555555555556,
              "#d8576b"
             ],
             [
              0.6666666666666666,
              "#ed7953"
             ],
             [
              0.7777777777777778,
              "#fb9f3a"
             ],
             [
              0.8888888888888888,
              "#fdca26"
             ],
             [
              1,
              "#f0f921"
             ]
            ],
            "type": "heatmap"
           }
          ],
          "heatmapgl": [
           {
            "colorbar": {
             "outlinewidth": 0,
             "ticks": ""
            },
            "colorscale": [
             [
              0,
              "#0d0887"
             ],
             [
              0.1111111111111111,
              "#46039f"
             ],
             [
              0.2222222222222222,
              "#7201a8"
             ],
             [
              0.3333333333333333,
              "#9c179e"
             ],
             [
              0.4444444444444444,
              "#bd3786"
             ],
             [
              0.5555555555555556,
              "#d8576b"
             ],
             [
              0.6666666666666666,
              "#ed7953"
             ],
             [
              0.7777777777777778,
              "#fb9f3a"
             ],
             [
              0.8888888888888888,
              "#fdca26"
             ],
             [
              1,
              "#f0f921"
             ]
            ],
            "type": "heatmapgl"
           }
          ],
          "histogram": [
           {
            "marker": {
             "colorbar": {
              "outlinewidth": 0,
              "ticks": ""
             }
            },
            "type": "histogram"
           }
          ],
          "histogram2d": [
           {
            "colorbar": {
             "outlinewidth": 0,
             "ticks": ""
            },
            "colorscale": [
             [
              0,
              "#0d0887"
             ],
             [
              0.1111111111111111,
              "#46039f"
             ],
             [
              0.2222222222222222,
              "#7201a8"
             ],
             [
              0.3333333333333333,
              "#9c179e"
             ],
             [
              0.4444444444444444,
              "#bd3786"
             ],
             [
              0.5555555555555556,
              "#d8576b"
             ],
             [
              0.6666666666666666,
              "#ed7953"
             ],
             [
              0.7777777777777778,
              "#fb9f3a"
             ],
             [
              0.8888888888888888,
              "#fdca26"
             ],
             [
              1,
              "#f0f921"
             ]
            ],
            "type": "histogram2d"
           }
          ],
          "histogram2dcontour": [
           {
            "colorbar": {
             "outlinewidth": 0,
             "ticks": ""
            },
            "colorscale": [
             [
              0,
              "#0d0887"
             ],
             [
              0.1111111111111111,
              "#46039f"
             ],
             [
              0.2222222222222222,
              "#7201a8"
             ],
             [
              0.3333333333333333,
              "#9c179e"
             ],
             [
              0.4444444444444444,
              "#bd3786"
             ],
             [
              0.5555555555555556,
              "#d8576b"
             ],
             [
              0.6666666666666666,
              "#ed7953"
             ],
             [
              0.7777777777777778,
              "#fb9f3a"
             ],
             [
              0.8888888888888888,
              "#fdca26"
             ],
             [
              1,
              "#f0f921"
             ]
            ],
            "type": "histogram2dcontour"
           }
          ],
          "mesh3d": [
           {
            "colorbar": {
             "outlinewidth": 0,
             "ticks": ""
            },
            "type": "mesh3d"
           }
          ],
          "parcoords": [
           {
            "line": {
             "colorbar": {
              "outlinewidth": 0,
              "ticks": ""
             }
            },
            "type": "parcoords"
           }
          ],
          "pie": [
           {
            "automargin": true,
            "type": "pie"
           }
          ],
          "scatter": [
           {
            "marker": {
             "colorbar": {
              "outlinewidth": 0,
              "ticks": ""
             }
            },
            "type": "scatter"
           }
          ],
          "scatter3d": [
           {
            "line": {
             "colorbar": {
              "outlinewidth": 0,
              "ticks": ""
             }
            },
            "marker": {
             "colorbar": {
              "outlinewidth": 0,
              "ticks": ""
             }
            },
            "type": "scatter3d"
           }
          ],
          "scattercarpet": [
           {
            "marker": {
             "colorbar": {
              "outlinewidth": 0,
              "ticks": ""
             }
            },
            "type": "scattercarpet"
           }
          ],
          "scattergeo": [
           {
            "marker": {
             "colorbar": {
              "outlinewidth": 0,
              "ticks": ""
             }
            },
            "type": "scattergeo"
           }
          ],
          "scattergl": [
           {
            "marker": {
             "colorbar": {
              "outlinewidth": 0,
              "ticks": ""
             }
            },
            "type": "scattergl"
           }
          ],
          "scattermapbox": [
           {
            "marker": {
             "colorbar": {
              "outlinewidth": 0,
              "ticks": ""
             }
            },
            "type": "scattermapbox"
           }
          ],
          "scatterpolar": [
           {
            "marker": {
             "colorbar": {
              "outlinewidth": 0,
              "ticks": ""
             }
            },
            "type": "scatterpolar"
           }
          ],
          "scatterpolargl": [
           {
            "marker": {
             "colorbar": {
              "outlinewidth": 0,
              "ticks": ""
             }
            },
            "type": "scatterpolargl"
           }
          ],
          "scatterternary": [
           {
            "marker": {
             "colorbar": {
              "outlinewidth": 0,
              "ticks": ""
             }
            },
            "type": "scatterternary"
           }
          ],
          "surface": [
           {
            "colorbar": {
             "outlinewidth": 0,
             "ticks": ""
            },
            "colorscale": [
             [
              0,
              "#0d0887"
             ],
             [
              0.1111111111111111,
              "#46039f"
             ],
             [
              0.2222222222222222,
              "#7201a8"
             ],
             [
              0.3333333333333333,
              "#9c179e"
             ],
             [
              0.4444444444444444,
              "#bd3786"
             ],
             [
              0.5555555555555556,
              "#d8576b"
             ],
             [
              0.6666666666666666,
              "#ed7953"
             ],
             [
              0.7777777777777778,
              "#fb9f3a"
             ],
             [
              0.8888888888888888,
              "#fdca26"
             ],
             [
              1,
              "#f0f921"
             ]
            ],
            "type": "surface"
           }
          ],
          "table": [
           {
            "cells": {
             "fill": {
              "color": "#EBF0F8"
             },
             "line": {
              "color": "white"
             }
            },
            "header": {
             "fill": {
              "color": "#C8D4E3"
             },
             "line": {
              "color": "white"
             }
            },
            "type": "table"
           }
          ]
         },
         "layout": {
          "annotationdefaults": {
           "arrowcolor": "#2a3f5f",
           "arrowhead": 0,
           "arrowwidth": 1
          },
          "coloraxis": {
           "colorbar": {
            "outlinewidth": 0,
            "ticks": ""
           }
          },
          "colorscale": {
           "diverging": [
            [
             0,
             "#8e0152"
            ],
            [
             0.1,
             "#c51b7d"
            ],
            [
             0.2,
             "#de77ae"
            ],
            [
             0.3,
             "#f1b6da"
            ],
            [
             0.4,
             "#fde0ef"
            ],
            [
             0.5,
             "#f7f7f7"
            ],
            [
             0.6,
             "#e6f5d0"
            ],
            [
             0.7,
             "#b8e186"
            ],
            [
             0.8,
             "#7fbc41"
            ],
            [
             0.9,
             "#4d9221"
            ],
            [
             1,
             "#276419"
            ]
           ],
           "sequential": [
            [
             0,
             "#0d0887"
            ],
            [
             0.1111111111111111,
             "#46039f"
            ],
            [
             0.2222222222222222,
             "#7201a8"
            ],
            [
             0.3333333333333333,
             "#9c179e"
            ],
            [
             0.4444444444444444,
             "#bd3786"
            ],
            [
             0.5555555555555556,
             "#d8576b"
            ],
            [
             0.6666666666666666,
             "#ed7953"
            ],
            [
             0.7777777777777778,
             "#fb9f3a"
            ],
            [
             0.8888888888888888,
             "#fdca26"
            ],
            [
             1,
             "#f0f921"
            ]
           ],
           "sequentialminus": [
            [
             0,
             "#0d0887"
            ],
            [
             0.1111111111111111,
             "#46039f"
            ],
            [
             0.2222222222222222,
             "#7201a8"
            ],
            [
             0.3333333333333333,
             "#9c179e"
            ],
            [
             0.4444444444444444,
             "#bd3786"
            ],
            [
             0.5555555555555556,
             "#d8576b"
            ],
            [
             0.6666666666666666,
             "#ed7953"
            ],
            [
             0.7777777777777778,
             "#fb9f3a"
            ],
            [
             0.8888888888888888,
             "#fdca26"
            ],
            [
             1,
             "#f0f921"
            ]
           ]
          },
          "colorway": [
           "#636efa",
           "#EF553B",
           "#00cc96",
           "#ab63fa",
           "#FFA15A",
           "#19d3f3",
           "#FF6692",
           "#B6E880",
           "#FF97FF",
           "#FECB52"
          ],
          "font": {
           "color": "#2a3f5f"
          },
          "geo": {
           "bgcolor": "white",
           "lakecolor": "white",
           "landcolor": "#E5ECF6",
           "showlakes": true,
           "showland": true,
           "subunitcolor": "white"
          },
          "hoverlabel": {
           "align": "left"
          },
          "hovermode": "closest",
          "mapbox": {
           "style": "light"
          },
          "paper_bgcolor": "white",
          "plot_bgcolor": "#E5ECF6",
          "polar": {
           "angularaxis": {
            "gridcolor": "white",
            "linecolor": "white",
            "ticks": ""
           },
           "bgcolor": "#E5ECF6",
           "radialaxis": {
            "gridcolor": "white",
            "linecolor": "white",
            "ticks": ""
           }
          },
          "scene": {
           "xaxis": {
            "backgroundcolor": "#E5ECF6",
            "gridcolor": "white",
            "gridwidth": 2,
            "linecolor": "white",
            "showbackground": true,
            "ticks": "",
            "zerolinecolor": "white"
           },
           "yaxis": {
            "backgroundcolor": "#E5ECF6",
            "gridcolor": "white",
            "gridwidth": 2,
            "linecolor": "white",
            "showbackground": true,
            "ticks": "",
            "zerolinecolor": "white"
           },
           "zaxis": {
            "backgroundcolor": "#E5ECF6",
            "gridcolor": "white",
            "gridwidth": 2,
            "linecolor": "white",
            "showbackground": true,
            "ticks": "",
            "zerolinecolor": "white"
           }
          },
          "shapedefaults": {
           "line": {
            "color": "#2a3f5f"
           }
          },
          "ternary": {
           "aaxis": {
            "gridcolor": "white",
            "linecolor": "white",
            "ticks": ""
           },
           "baxis": {
            "gridcolor": "white",
            "linecolor": "white",
            "ticks": ""
           },
           "bgcolor": "#E5ECF6",
           "caxis": {
            "gridcolor": "white",
            "linecolor": "white",
            "ticks": ""
           }
          },
          "title": {
           "x": 0.05
          },
          "xaxis": {
           "automargin": true,
           "gridcolor": "white",
           "linecolor": "white",
           "ticks": "",
           "title": {
            "standoff": 15
           },
           "zerolinecolor": "white",
           "zerolinewidth": 2
          },
          "yaxis": {
           "automargin": true,
           "gridcolor": "white",
           "linecolor": "white",
           "ticks": "",
           "title": {
            "standoff": 15
           },
           "zerolinecolor": "white",
           "zerolinewidth": 2
          }
         }
        },
        "xaxis": {
         "anchor": "y",
         "categoryarray": [
          "China",
          "South Korea",
          "Italy",
          "Iran",
          "Others",
          "Japan",
          "France",
          "Germany",
          "Spain",
          "Singapore",
          "US",
          "Hong Kong",
          "Kuwait",
          "Bahrain",
          "Thailand",
          "Switzerland",
          "Taiwan",
          "UK",
          "Australia",
          "Malaysia",
          "Canada",
          "Iraq",
          "Norway",
          "United Arab Emirates",
          "Netherlands",
          "Austria",
          "Vietnam",
          "Sweden",
          "Lebanon",
          "Israel",
          "Macau",
          "San Marino",
          "Belgium",
          "Croatia",
          "Greece",
          "Iceland",
          "Finland",
          "Oman",
          "Ecuador",
          "India",
          "Mexico",
          "Pakistan",
          "Denmark",
          "Philippines",
          "Russia",
          "Qatar",
          "Algeria",
          "Romania",
          "Georgia",
          "Czech Republic",
          "Azerbaijan",
          "Egypt",
          "Brazil",
          "Portugal",
          "Indonesia",
          "Senegal",
          "Sri Lanka",
          "Saudi Arabia",
          "Afghanistan",
          "North Macedonia",
          "Nigeria",
          "New Zealand",
          "Nepal",
          "Morocco",
          "Monaco",
          "Luxembourg",
          "Lithuania",
          "Ireland",
          "Estonia",
          "Dominican Republic",
          "Cambodia",
          "Belarus",
          "Armenia",
          "Andorra",
          "Latvia"
         ],
         "categoryorder": "array",
         "domain": [
          0,
          1
         ],
         "title": {
          "text": "Country/Region"
         }
        },
        "yaxis": {
         "anchor": "x",
         "domain": [
          0,
          1
         ],
         "title": {
          "text": "Deaths"
         },
         "type": "log"
        }
       }
      },
      "text/html": [
       "<div>\n",
       "        \n",
       "        \n",
       "            <div id=\"59131cfe-c096-49a4-871a-096307ae6f83\" class=\"plotly-graph-div\" style=\"height:400px; width:100%;\"></div>\n",
       "            <script type=\"text/javascript\">\n",
       "                require([\"plotly\"], function(Plotly) {\n",
       "                    window.PLOTLYENV=window.PLOTLYENV || {};\n",
       "                    \n",
       "                if (document.getElementById(\"59131cfe-c096-49a4-871a-096307ae6f83\")) {\n",
       "                    Plotly.newPlot(\n",
       "                        '59131cfe-c096-49a4-871a-096307ae6f83',\n",
       "                        [{\"alignmentgroup\": \"True\", \"hoverlabel\": {\"namelength\": 0}, \"hovertemplate\": \"Country/Region=%{x}<br>Deaths=%{y}\", \"legendgroup\": \"China\", \"marker\": {\"color\": \"#636efa\"}, \"name\": \"China\", \"offsetgroup\": \"China\", \"orientation\": \"v\", \"showlegend\": true, \"textposition\": \"auto\", \"type\": \"bar\", \"x\": [\"China\"], \"xaxis\": \"x\", \"y\": [2912.0], \"yaxis\": \"y\"}, {\"alignmentgroup\": \"True\", \"hoverlabel\": {\"namelength\": 0}, \"hovertemplate\": \"Country/Region=%{x}<br>Deaths=%{y}\", \"legendgroup\": \"South Korea\", \"marker\": {\"color\": \"#EF553B\"}, \"name\": \"South Korea\", \"offsetgroup\": \"South Korea\", \"orientation\": \"v\", \"showlegend\": true, \"textposition\": \"auto\", \"type\": \"bar\", \"x\": [\"South Korea\"], \"xaxis\": \"x\", \"y\": [28.0], \"yaxis\": \"y\"}, {\"alignmentgroup\": \"True\", \"hoverlabel\": {\"namelength\": 0}, \"hovertemplate\": \"Country/Region=%{x}<br>Deaths=%{y}\", \"legendgroup\": \"Italy\", \"marker\": {\"color\": \"#00cc96\"}, \"name\": \"Italy\", \"offsetgroup\": \"Italy\", \"orientation\": \"v\", \"showlegend\": true, \"textposition\": \"auto\", \"type\": \"bar\", \"x\": [\"Italy\"], \"xaxis\": \"x\", \"y\": [52.0], \"yaxis\": \"y\"}, {\"alignmentgroup\": \"True\", \"hoverlabel\": {\"namelength\": 0}, \"hovertemplate\": \"Country/Region=%{x}<br>Deaths=%{y}\", \"legendgroup\": \"Iran\", \"marker\": {\"color\": \"#ab63fa\"}, \"name\": \"Iran\", \"offsetgroup\": \"Iran\", \"orientation\": \"v\", \"showlegend\": true, \"textposition\": \"auto\", \"type\": \"bar\", \"x\": [\"Iran\"], \"xaxis\": \"x\", \"y\": [66.0], \"yaxis\": \"y\"}, {\"alignmentgroup\": \"True\", \"hoverlabel\": {\"namelength\": 0}, \"hovertemplate\": \"Country/Region=%{x}<br>Deaths=%{y}\", \"legendgroup\": \"Others\", \"marker\": {\"color\": \"#FFA15A\"}, \"name\": \"Others\", \"offsetgroup\": \"Others\", \"orientation\": \"v\", \"showlegend\": true, \"textposition\": \"auto\", \"type\": \"bar\", \"x\": [\"Others\"], \"xaxis\": \"x\", \"y\": [6.0], \"yaxis\": \"y\"}, {\"alignmentgroup\": \"True\", \"hoverlabel\": {\"namelength\": 0}, \"hovertemplate\": \"Country/Region=%{x}<br>Deaths=%{y}\", \"legendgroup\": \"Japan\", \"marker\": {\"color\": \"#19d3f3\"}, \"name\": \"Japan\", \"offsetgroup\": \"Japan\", \"orientation\": \"v\", \"showlegend\": true, \"textposition\": \"auto\", \"type\": \"bar\", \"x\": [\"Japan\"], \"xaxis\": \"x\", \"y\": [6.0], \"yaxis\": \"y\"}, {\"alignmentgroup\": \"True\", \"hoverlabel\": {\"namelength\": 0}, \"hovertemplate\": \"Country/Region=%{x}<br>Deaths=%{y}\", \"legendgroup\": \"France\", \"marker\": {\"color\": \"#FF6692\"}, \"name\": \"France\", \"offsetgroup\": \"France\", \"orientation\": \"v\", \"showlegend\": true, \"textposition\": \"auto\", \"type\": \"bar\", \"x\": [\"France\"], \"xaxis\": \"x\", \"y\": [3.0], \"yaxis\": \"y\"}, {\"alignmentgroup\": \"True\", \"hoverlabel\": {\"namelength\": 0}, \"hovertemplate\": \"Country/Region=%{x}<br>Deaths=%{y}\", \"legendgroup\": \"Germany\", \"marker\": {\"color\": \"#B6E880\"}, \"name\": \"Germany\", \"offsetgroup\": \"Germany\", \"orientation\": \"v\", \"showlegend\": true, \"textposition\": \"auto\", \"type\": \"bar\", \"x\": [\"Germany\"], \"xaxis\": \"x\", \"y\": [0.0], \"yaxis\": \"y\"}, {\"alignmentgroup\": \"True\", \"hoverlabel\": {\"namelength\": 0}, \"hovertemplate\": \"Country/Region=%{x}<br>Deaths=%{y}\", \"legendgroup\": \"Spain\", \"marker\": {\"color\": \"#FF97FF\"}, \"name\": \"Spain\", \"offsetgroup\": \"Spain\", \"orientation\": \"v\", \"showlegend\": true, \"textposition\": \"auto\", \"type\": \"bar\", \"x\": [\"Spain\"], \"xaxis\": \"x\", \"y\": [0.0], \"yaxis\": \"y\"}, {\"alignmentgroup\": \"True\", \"hoverlabel\": {\"namelength\": 0}, \"hovertemplate\": \"Country/Region=%{x}<br>Deaths=%{y}\", \"legendgroup\": \"Singapore\", \"marker\": {\"color\": \"#FECB52\"}, \"name\": \"Singapore\", \"offsetgroup\": \"Singapore\", \"orientation\": \"v\", \"showlegend\": true, \"textposition\": \"auto\", \"type\": \"bar\", \"x\": [\"Singapore\"], \"xaxis\": \"x\", \"y\": [0.0], \"yaxis\": \"y\"}, {\"alignmentgroup\": \"True\", \"hoverlabel\": {\"namelength\": 0}, \"hovertemplate\": \"Country/Region=%{x}<br>Deaths=%{y}\", \"legendgroup\": \"US\", \"marker\": {\"color\": \"#636efa\"}, \"name\": \"US\", \"offsetgroup\": \"US\", \"orientation\": \"v\", \"showlegend\": true, \"textposition\": \"auto\", \"type\": \"bar\", \"x\": [\"US\"], \"xaxis\": \"x\", \"y\": [6.0], \"yaxis\": \"y\"}, {\"alignmentgroup\": \"True\", \"hoverlabel\": {\"namelength\": 0}, \"hovertemplate\": \"Country/Region=%{x}<br>Deaths=%{y}\", \"legendgroup\": \"Hong Kong\", \"marker\": {\"color\": \"#EF553B\"}, \"name\": \"Hong Kong\", \"offsetgroup\": \"Hong Kong\", \"orientation\": \"v\", \"showlegend\": true, \"textposition\": \"auto\", \"type\": \"bar\", \"x\": [\"Hong Kong\"], \"xaxis\": \"x\", \"y\": [2.0], \"yaxis\": \"y\"}, {\"alignmentgroup\": \"True\", \"hoverlabel\": {\"namelength\": 0}, \"hovertemplate\": \"Country/Region=%{x}<br>Deaths=%{y}\", \"legendgroup\": \"Kuwait\", \"marker\": {\"color\": \"#00cc96\"}, \"name\": \"Kuwait\", \"offsetgroup\": \"Kuwait\", \"orientation\": \"v\", \"showlegend\": true, \"textposition\": \"auto\", \"type\": \"bar\", \"x\": [\"Kuwait\"], \"xaxis\": \"x\", \"y\": [0.0], \"yaxis\": \"y\"}, {\"alignmentgroup\": \"True\", \"hoverlabel\": {\"namelength\": 0}, \"hovertemplate\": \"Country/Region=%{x}<br>Deaths=%{y}\", \"legendgroup\": \"Bahrain\", \"marker\": {\"color\": \"#ab63fa\"}, \"name\": \"Bahrain\", \"offsetgroup\": \"Bahrain\", \"orientation\": \"v\", \"showlegend\": true, \"textposition\": \"auto\", \"type\": \"bar\", \"x\": [\"Bahrain\"], \"xaxis\": \"x\", \"y\": [0.0], \"yaxis\": \"y\"}, {\"alignmentgroup\": \"True\", \"hoverlabel\": {\"namelength\": 0}, \"hovertemplate\": \"Country/Region=%{x}<br>Deaths=%{y}\", \"legendgroup\": \"Thailand\", \"marker\": {\"color\": \"#FFA15A\"}, \"name\": \"Thailand\", \"offsetgroup\": \"Thailand\", \"orientation\": \"v\", \"showlegend\": true, \"textposition\": \"auto\", \"type\": \"bar\", \"x\": [\"Thailand\"], \"xaxis\": \"x\", \"y\": [1.0], \"yaxis\": \"y\"}, {\"alignmentgroup\": \"True\", \"hoverlabel\": {\"namelength\": 0}, \"hovertemplate\": \"Country/Region=%{x}<br>Deaths=%{y}\", \"legendgroup\": \"Switzerland\", \"marker\": {\"color\": \"#19d3f3\"}, \"name\": \"Switzerland\", \"offsetgroup\": \"Switzerland\", \"orientation\": \"v\", \"showlegend\": true, \"textposition\": \"auto\", \"type\": \"bar\", \"x\": [\"Switzerland\"], \"xaxis\": \"x\", \"y\": [0.0], \"yaxis\": \"y\"}, {\"alignmentgroup\": \"True\", \"hoverlabel\": {\"namelength\": 0}, \"hovertemplate\": \"Country/Region=%{x}<br>Deaths=%{y}\", \"legendgroup\": \"Taiwan\", \"marker\": {\"color\": \"#FF6692\"}, \"name\": \"Taiwan\", \"offsetgroup\": \"Taiwan\", \"orientation\": \"v\", \"showlegend\": true, \"textposition\": \"auto\", \"type\": \"bar\", \"x\": [\"Taiwan\"], \"xaxis\": \"x\", \"y\": [1.0], \"yaxis\": \"y\"}, {\"alignmentgroup\": \"True\", \"hoverlabel\": {\"namelength\": 0}, \"hovertemplate\": \"Country/Region=%{x}<br>Deaths=%{y}\", \"legendgroup\": \"UK\", \"marker\": {\"color\": \"#B6E880\"}, \"name\": \"UK\", \"offsetgroup\": \"UK\", \"orientation\": \"v\", \"showlegend\": true, \"textposition\": \"auto\", \"type\": \"bar\", \"x\": [\"UK\"], \"xaxis\": \"x\", \"y\": [0.0], \"yaxis\": \"y\"}, {\"alignmentgroup\": \"True\", \"hoverlabel\": {\"namelength\": 0}, \"hovertemplate\": \"Country/Region=%{x}<br>Deaths=%{y}\", \"legendgroup\": \"Australia\", \"marker\": {\"color\": \"#FF97FF\"}, \"name\": \"Australia\", \"offsetgroup\": \"Australia\", \"orientation\": \"v\", \"showlegend\": true, \"textposition\": \"auto\", \"type\": \"bar\", \"x\": [\"Australia\"], \"xaxis\": \"x\", \"y\": [1.0], \"yaxis\": \"y\"}, {\"alignmentgroup\": \"True\", \"hoverlabel\": {\"namelength\": 0}, \"hovertemplate\": \"Country/Region=%{x}<br>Deaths=%{y}\", \"legendgroup\": \"Malaysia\", \"marker\": {\"color\": \"#FECB52\"}, \"name\": \"Malaysia\", \"offsetgroup\": \"Malaysia\", \"orientation\": \"v\", \"showlegend\": true, \"textposition\": \"auto\", \"type\": \"bar\", \"x\": [\"Malaysia\"], \"xaxis\": \"x\", \"y\": [0.0], \"yaxis\": \"y\"}, {\"alignmentgroup\": \"True\", \"hoverlabel\": {\"namelength\": 0}, \"hovertemplate\": \"Country/Region=%{x}<br>Deaths=%{y}\", \"legendgroup\": \"Canada\", \"marker\": {\"color\": \"#636efa\"}, \"name\": \"Canada\", \"offsetgroup\": \"Canada\", \"orientation\": \"v\", \"showlegend\": true, \"textposition\": \"auto\", \"type\": \"bar\", \"x\": [\"Canada\"], \"xaxis\": \"x\", \"y\": [0.0], \"yaxis\": \"y\"}, {\"alignmentgroup\": \"True\", \"hoverlabel\": {\"namelength\": 0}, \"hovertemplate\": \"Country/Region=%{x}<br>Deaths=%{y}\", \"legendgroup\": \"Iraq\", \"marker\": {\"color\": \"#EF553B\"}, \"name\": \"Iraq\", \"offsetgroup\": \"Iraq\", \"orientation\": \"v\", \"showlegend\": true, \"textposition\": \"auto\", \"type\": \"bar\", \"x\": [\"Iraq\"], \"xaxis\": \"x\", \"y\": [0.0], \"yaxis\": \"y\"}, {\"alignmentgroup\": \"True\", \"hoverlabel\": {\"namelength\": 0}, \"hovertemplate\": \"Country/Region=%{x}<br>Deaths=%{y}\", \"legendgroup\": \"Norway\", \"marker\": {\"color\": \"#00cc96\"}, \"name\": \"Norway\", \"offsetgroup\": \"Norway\", \"orientation\": \"v\", \"showlegend\": true, \"textposition\": \"auto\", \"type\": \"bar\", \"x\": [\"Norway\"], \"xaxis\": \"x\", \"y\": [0.0], \"yaxis\": \"y\"}, {\"alignmentgroup\": \"True\", \"hoverlabel\": {\"namelength\": 0}, \"hovertemplate\": \"Country/Region=%{x}<br>Deaths=%{y}\", \"legendgroup\": \"United Arab Emirates\", \"marker\": {\"color\": \"#ab63fa\"}, \"name\": \"United Arab Emirates\", \"offsetgroup\": \"United Arab Emirates\", \"orientation\": \"v\", \"showlegend\": true, \"textposition\": \"auto\", \"type\": \"bar\", \"x\": [\"United Arab Emirates\"], \"xaxis\": \"x\", \"y\": [0.0], \"yaxis\": \"y\"}, {\"alignmentgroup\": \"True\", \"hoverlabel\": {\"namelength\": 0}, \"hovertemplate\": \"Country/Region=%{x}<br>Deaths=%{y}\", \"legendgroup\": \"Netherlands\", \"marker\": {\"color\": \"#FFA15A\"}, \"name\": \"Netherlands\", \"offsetgroup\": \"Netherlands\", \"orientation\": \"v\", \"showlegend\": true, \"textposition\": \"auto\", \"type\": \"bar\", \"x\": [\"Netherlands\"], \"xaxis\": \"x\", \"y\": [0.0], \"yaxis\": \"y\"}, {\"alignmentgroup\": \"True\", \"hoverlabel\": {\"namelength\": 0}, \"hovertemplate\": \"Country/Region=%{x}<br>Deaths=%{y}\", \"legendgroup\": \"Austria\", \"marker\": {\"color\": \"#19d3f3\"}, \"name\": \"Austria\", \"offsetgroup\": \"Austria\", \"orientation\": \"v\", \"showlegend\": true, \"textposition\": \"auto\", \"type\": \"bar\", \"x\": [\"Austria\"], \"xaxis\": \"x\", \"y\": [0.0], \"yaxis\": \"y\"}, {\"alignmentgroup\": \"True\", \"hoverlabel\": {\"namelength\": 0}, \"hovertemplate\": \"Country/Region=%{x}<br>Deaths=%{y}\", \"legendgroup\": \"Vietnam\", \"marker\": {\"color\": \"#FF6692\"}, \"name\": \"Vietnam\", \"offsetgroup\": \"Vietnam\", \"orientation\": \"v\", \"showlegend\": true, \"textposition\": \"auto\", \"type\": \"bar\", \"x\": [\"Vietnam\"], \"xaxis\": \"x\", \"y\": [0.0], \"yaxis\": \"y\"}, {\"alignmentgroup\": \"True\", \"hoverlabel\": {\"namelength\": 0}, \"hovertemplate\": \"Country/Region=%{x}<br>Deaths=%{y}\", \"legendgroup\": \"Sweden\", \"marker\": {\"color\": \"#B6E880\"}, \"name\": \"Sweden\", \"offsetgroup\": \"Sweden\", \"orientation\": \"v\", \"showlegend\": true, \"textposition\": \"auto\", \"type\": \"bar\", \"x\": [\"Sweden\"], \"xaxis\": \"x\", \"y\": [0.0], \"yaxis\": \"y\"}, {\"alignmentgroup\": \"True\", \"hoverlabel\": {\"namelength\": 0}, \"hovertemplate\": \"Country/Region=%{x}<br>Deaths=%{y}\", \"legendgroup\": \"Lebanon\", \"marker\": {\"color\": \"#FF97FF\"}, \"name\": \"Lebanon\", \"offsetgroup\": \"Lebanon\", \"orientation\": \"v\", \"showlegend\": true, \"textposition\": \"auto\", \"type\": \"bar\", \"x\": [\"Lebanon\"], \"xaxis\": \"x\", \"y\": [0.0], \"yaxis\": \"y\"}, {\"alignmentgroup\": \"True\", \"hoverlabel\": {\"namelength\": 0}, \"hovertemplate\": \"Country/Region=%{x}<br>Deaths=%{y}\", \"legendgroup\": \"Israel\", \"marker\": {\"color\": \"#FECB52\"}, \"name\": \"Israel\", \"offsetgroup\": \"Israel\", \"orientation\": \"v\", \"showlegend\": true, \"textposition\": \"auto\", \"type\": \"bar\", \"x\": [\"Israel\"], \"xaxis\": \"x\", \"y\": [0.0], \"yaxis\": \"y\"}, {\"alignmentgroup\": \"True\", \"hoverlabel\": {\"namelength\": 0}, \"hovertemplate\": \"Country/Region=%{x}<br>Deaths=%{y}\", \"legendgroup\": \"Macau\", \"marker\": {\"color\": \"#636efa\"}, \"name\": \"Macau\", \"offsetgroup\": \"Macau\", \"orientation\": \"v\", \"showlegend\": true, \"textposition\": \"auto\", \"type\": \"bar\", \"x\": [\"Macau\"], \"xaxis\": \"x\", \"y\": [0.0], \"yaxis\": \"y\"}, {\"alignmentgroup\": \"True\", \"hoverlabel\": {\"namelength\": 0}, \"hovertemplate\": \"Country/Region=%{x}<br>Deaths=%{y}\", \"legendgroup\": \"San Marino\", \"marker\": {\"color\": \"#EF553B\"}, \"name\": \"San Marino\", \"offsetgroup\": \"San Marino\", \"orientation\": \"v\", \"showlegend\": true, \"textposition\": \"auto\", \"type\": \"bar\", \"x\": [\"San Marino\"], \"xaxis\": \"x\", \"y\": [0.0], \"yaxis\": \"y\"}, {\"alignmentgroup\": \"True\", \"hoverlabel\": {\"namelength\": 0}, \"hovertemplate\": \"Country/Region=%{x}<br>Deaths=%{y}\", \"legendgroup\": \"Belgium\", \"marker\": {\"color\": \"#00cc96\"}, \"name\": \"Belgium\", \"offsetgroup\": \"Belgium\", \"orientation\": \"v\", \"showlegend\": true, \"textposition\": \"auto\", \"type\": \"bar\", \"x\": [\"Belgium\"], \"xaxis\": \"x\", \"y\": [0.0], \"yaxis\": \"y\"}, {\"alignmentgroup\": \"True\", \"hoverlabel\": {\"namelength\": 0}, \"hovertemplate\": \"Country/Region=%{x}<br>Deaths=%{y}\", \"legendgroup\": \"Croatia\", \"marker\": {\"color\": \"#ab63fa\"}, \"name\": \"Croatia\", \"offsetgroup\": \"Croatia\", \"orientation\": \"v\", \"showlegend\": true, \"textposition\": \"auto\", \"type\": \"bar\", \"x\": [\"Croatia\"], \"xaxis\": \"x\", \"y\": [0.0], \"yaxis\": \"y\"}, {\"alignmentgroup\": \"True\", \"hoverlabel\": {\"namelength\": 0}, \"hovertemplate\": \"Country/Region=%{x}<br>Deaths=%{y}\", \"legendgroup\": \"Greece\", \"marker\": {\"color\": \"#FFA15A\"}, \"name\": \"Greece\", \"offsetgroup\": \"Greece\", \"orientation\": \"v\", \"showlegend\": true, \"textposition\": \"auto\", \"type\": \"bar\", \"x\": [\"Greece\"], \"xaxis\": \"x\", \"y\": [0.0], \"yaxis\": \"y\"}, {\"alignmentgroup\": \"True\", \"hoverlabel\": {\"namelength\": 0}, \"hovertemplate\": \"Country/Region=%{x}<br>Deaths=%{y}\", \"legendgroup\": \"Iceland\", \"marker\": {\"color\": \"#19d3f3\"}, \"name\": \"Iceland\", \"offsetgroup\": \"Iceland\", \"orientation\": \"v\", \"showlegend\": true, \"textposition\": \"auto\", \"type\": \"bar\", \"x\": [\"Iceland\"], \"xaxis\": \"x\", \"y\": [0.0], \"yaxis\": \"y\"}, {\"alignmentgroup\": \"True\", \"hoverlabel\": {\"namelength\": 0}, \"hovertemplate\": \"Country/Region=%{x}<br>Deaths=%{y}\", \"legendgroup\": \"Finland\", \"marker\": {\"color\": \"#FF6692\"}, \"name\": \"Finland\", \"offsetgroup\": \"Finland\", \"orientation\": \"v\", \"showlegend\": true, \"textposition\": \"auto\", \"type\": \"bar\", \"x\": [\"Finland\"], \"xaxis\": \"x\", \"y\": [0.0], \"yaxis\": \"y\"}, {\"alignmentgroup\": \"True\", \"hoverlabel\": {\"namelength\": 0}, \"hovertemplate\": \"Country/Region=%{x}<br>Deaths=%{y}\", \"legendgroup\": \"Oman\", \"marker\": {\"color\": \"#B6E880\"}, \"name\": \"Oman\", \"offsetgroup\": \"Oman\", \"orientation\": \"v\", \"showlegend\": true, \"textposition\": \"auto\", \"type\": \"bar\", \"x\": [\"Oman\"], \"xaxis\": \"x\", \"y\": [0.0], \"yaxis\": \"y\"}, {\"alignmentgroup\": \"True\", \"hoverlabel\": {\"namelength\": 0}, \"hovertemplate\": \"Country/Region=%{x}<br>Deaths=%{y}\", \"legendgroup\": \"Ecuador\", \"marker\": {\"color\": \"#FF97FF\"}, \"name\": \"Ecuador\", \"offsetgroup\": \"Ecuador\", \"orientation\": \"v\", \"showlegend\": true, \"textposition\": \"auto\", \"type\": \"bar\", \"x\": [\"Ecuador\"], \"xaxis\": \"x\", \"y\": [0.0], \"yaxis\": \"y\"}, {\"alignmentgroup\": \"True\", \"hoverlabel\": {\"namelength\": 0}, \"hovertemplate\": \"Country/Region=%{x}<br>Deaths=%{y}\", \"legendgroup\": \"India\", \"marker\": {\"color\": \"#FECB52\"}, \"name\": \"India\", \"offsetgroup\": \"India\", \"orientation\": \"v\", \"showlegend\": true, \"textposition\": \"auto\", \"type\": \"bar\", \"x\": [\"India\"], \"xaxis\": \"x\", \"y\": [0.0], \"yaxis\": \"y\"}, {\"alignmentgroup\": \"True\", \"hoverlabel\": {\"namelength\": 0}, \"hovertemplate\": \"Country/Region=%{x}<br>Deaths=%{y}\", \"legendgroup\": \"Mexico\", \"marker\": {\"color\": \"#636efa\"}, \"name\": \"Mexico\", \"offsetgroup\": \"Mexico\", \"orientation\": \"v\", \"showlegend\": true, \"textposition\": \"auto\", \"type\": \"bar\", \"x\": [\"Mexico\"], \"xaxis\": \"x\", \"y\": [0.0], \"yaxis\": \"y\"}, {\"alignmentgroup\": \"True\", \"hoverlabel\": {\"namelength\": 0}, \"hovertemplate\": \"Country/Region=%{x}<br>Deaths=%{y}\", \"legendgroup\": \"Pakistan\", \"marker\": {\"color\": \"#EF553B\"}, \"name\": \"Pakistan\", \"offsetgroup\": \"Pakistan\", \"orientation\": \"v\", \"showlegend\": true, \"textposition\": \"auto\", \"type\": \"bar\", \"x\": [\"Pakistan\"], \"xaxis\": \"x\", \"y\": [0.0], \"yaxis\": \"y\"}, {\"alignmentgroup\": \"True\", \"hoverlabel\": {\"namelength\": 0}, \"hovertemplate\": \"Country/Region=%{x}<br>Deaths=%{y}\", \"legendgroup\": \"Denmark\", \"marker\": {\"color\": \"#00cc96\"}, \"name\": \"Denmark\", \"offsetgroup\": \"Denmark\", \"orientation\": \"v\", \"showlegend\": true, \"textposition\": \"auto\", \"type\": \"bar\", \"x\": [\"Denmark\"], \"xaxis\": \"x\", \"y\": [0.0], \"yaxis\": \"y\"}, {\"alignmentgroup\": \"True\", \"hoverlabel\": {\"namelength\": 0}, \"hovertemplate\": \"Country/Region=%{x}<br>Deaths=%{y}\", \"legendgroup\": \"Philippines\", \"marker\": {\"color\": \"#ab63fa\"}, \"name\": \"Philippines\", \"offsetgroup\": \"Philippines\", \"orientation\": \"v\", \"showlegend\": true, \"textposition\": \"auto\", \"type\": \"bar\", \"x\": [\"Philippines\"], \"xaxis\": \"x\", \"y\": [1.0], \"yaxis\": \"y\"}, {\"alignmentgroup\": \"True\", \"hoverlabel\": {\"namelength\": 0}, \"hovertemplate\": \"Country/Region=%{x}<br>Deaths=%{y}\", \"legendgroup\": \"Russia\", \"marker\": {\"color\": \"#FFA15A\"}, \"name\": \"Russia\", \"offsetgroup\": \"Russia\", \"orientation\": \"v\", \"showlegend\": true, \"textposition\": \"auto\", \"type\": \"bar\", \"x\": [\"Russia\"], \"xaxis\": \"x\", \"y\": [0.0], \"yaxis\": \"y\"}, {\"alignmentgroup\": \"True\", \"hoverlabel\": {\"namelength\": 0}, \"hovertemplate\": \"Country/Region=%{x}<br>Deaths=%{y}\", \"legendgroup\": \"Qatar\", \"marker\": {\"color\": \"#19d3f3\"}, \"name\": \"Qatar\", \"offsetgroup\": \"Qatar\", \"orientation\": \"v\", \"showlegend\": true, \"textposition\": \"auto\", \"type\": \"bar\", \"x\": [\"Qatar\"], \"xaxis\": \"x\", \"y\": [0.0], \"yaxis\": \"y\"}, {\"alignmentgroup\": \"True\", \"hoverlabel\": {\"namelength\": 0}, \"hovertemplate\": \"Country/Region=%{x}<br>Deaths=%{y}\", \"legendgroup\": \"Algeria\", \"marker\": {\"color\": \"#FF6692\"}, \"name\": \"Algeria\", \"offsetgroup\": \"Algeria\", \"orientation\": \"v\", \"showlegend\": true, \"textposition\": \"auto\", \"type\": \"bar\", \"x\": [\"Algeria\"], \"xaxis\": \"x\", \"y\": [0.0], \"yaxis\": \"y\"}, {\"alignmentgroup\": \"True\", \"hoverlabel\": {\"namelength\": 0}, \"hovertemplate\": \"Country/Region=%{x}<br>Deaths=%{y}\", \"legendgroup\": \"Romania\", \"marker\": {\"color\": \"#B6E880\"}, \"name\": \"Romania\", \"offsetgroup\": \"Romania\", \"orientation\": \"v\", \"showlegend\": true, \"textposition\": \"auto\", \"type\": \"bar\", \"x\": [\"Romania\"], \"xaxis\": \"x\", \"y\": [0.0], \"yaxis\": \"y\"}, {\"alignmentgroup\": \"True\", \"hoverlabel\": {\"namelength\": 0}, \"hovertemplate\": \"Country/Region=%{x}<br>Deaths=%{y}\", \"legendgroup\": \"Georgia\", \"marker\": {\"color\": \"#FF97FF\"}, \"name\": \"Georgia\", \"offsetgroup\": \"Georgia\", \"orientation\": \"v\", \"showlegend\": true, \"textposition\": \"auto\", \"type\": \"bar\", \"x\": [\"Georgia\"], \"xaxis\": \"x\", \"y\": [0.0], \"yaxis\": \"y\"}, {\"alignmentgroup\": \"True\", \"hoverlabel\": {\"namelength\": 0}, \"hovertemplate\": \"Country/Region=%{x}<br>Deaths=%{y}\", \"legendgroup\": \"Czech Republic\", \"marker\": {\"color\": \"#FECB52\"}, \"name\": \"Czech Republic\", \"offsetgroup\": \"Czech Republic\", \"orientation\": \"v\", \"showlegend\": true, \"textposition\": \"auto\", \"type\": \"bar\", \"x\": [\"Czech Republic\"], \"xaxis\": \"x\", \"y\": [0.0], \"yaxis\": \"y\"}, {\"alignmentgroup\": \"True\", \"hoverlabel\": {\"namelength\": 0}, \"hovertemplate\": \"Country/Region=%{x}<br>Deaths=%{y}\", \"legendgroup\": \"Azerbaijan\", \"marker\": {\"color\": \"#636efa\"}, \"name\": \"Azerbaijan\", \"offsetgroup\": \"Azerbaijan\", \"orientation\": \"v\", \"showlegend\": true, \"textposition\": \"auto\", \"type\": \"bar\", \"x\": [\"Azerbaijan\"], \"xaxis\": \"x\", \"y\": [0.0], \"yaxis\": \"y\"}, {\"alignmentgroup\": \"True\", \"hoverlabel\": {\"namelength\": 0}, \"hovertemplate\": \"Country/Region=%{x}<br>Deaths=%{y}\", \"legendgroup\": \"Egypt\", \"marker\": {\"color\": \"#EF553B\"}, \"name\": \"Egypt\", \"offsetgroup\": \"Egypt\", \"orientation\": \"v\", \"showlegend\": true, \"textposition\": \"auto\", \"type\": \"bar\", \"x\": [\"Egypt\"], \"xaxis\": \"x\", \"y\": [0.0], \"yaxis\": \"y\"}, {\"alignmentgroup\": \"True\", \"hoverlabel\": {\"namelength\": 0}, \"hovertemplate\": \"Country/Region=%{x}<br>Deaths=%{y}\", \"legendgroup\": \"Brazil\", \"marker\": {\"color\": \"#00cc96\"}, \"name\": \"Brazil\", \"offsetgroup\": \"Brazil\", \"orientation\": \"v\", \"showlegend\": true, \"textposition\": \"auto\", \"type\": \"bar\", \"x\": [\"Brazil\"], \"xaxis\": \"x\", \"y\": [0.0], \"yaxis\": \"y\"}, {\"alignmentgroup\": \"True\", \"hoverlabel\": {\"namelength\": 0}, \"hovertemplate\": \"Country/Region=%{x}<br>Deaths=%{y}\", \"legendgroup\": \"Portugal\", \"marker\": {\"color\": \"#ab63fa\"}, \"name\": \"Portugal\", \"offsetgroup\": \"Portugal\", \"orientation\": \"v\", \"showlegend\": true, \"textposition\": \"auto\", \"type\": \"bar\", \"x\": [\"Portugal\"], \"xaxis\": \"x\", \"y\": [0.0], \"yaxis\": \"y\"}, {\"alignmentgroup\": \"True\", \"hoverlabel\": {\"namelength\": 0}, \"hovertemplate\": \"Country/Region=%{x}<br>Deaths=%{y}\", \"legendgroup\": \"Indonesia\", \"marker\": {\"color\": \"#FFA15A\"}, \"name\": \"Indonesia\", \"offsetgroup\": \"Indonesia\", \"orientation\": \"v\", \"showlegend\": true, \"textposition\": \"auto\", \"type\": \"bar\", \"x\": [\"Indonesia\"], \"xaxis\": \"x\", \"y\": [0.0], \"yaxis\": \"y\"}, {\"alignmentgroup\": \"True\", \"hoverlabel\": {\"namelength\": 0}, \"hovertemplate\": \"Country/Region=%{x}<br>Deaths=%{y}\", \"legendgroup\": \"Senegal\", \"marker\": {\"color\": \"#19d3f3\"}, \"name\": \"Senegal\", \"offsetgroup\": \"Senegal\", \"orientation\": \"v\", \"showlegend\": true, \"textposition\": \"auto\", \"type\": \"bar\", \"x\": [\"Senegal\"], \"xaxis\": \"x\", \"y\": [0.0], \"yaxis\": \"y\"}, {\"alignmentgroup\": \"True\", \"hoverlabel\": {\"namelength\": 0}, \"hovertemplate\": \"Country/Region=%{x}<br>Deaths=%{y}\", \"legendgroup\": \"Sri Lanka\", \"marker\": {\"color\": \"#FF6692\"}, \"name\": \"Sri Lanka\", \"offsetgroup\": \"Sri Lanka\", \"orientation\": \"v\", \"showlegend\": true, \"textposition\": \"auto\", \"type\": \"bar\", \"x\": [\"Sri Lanka\"], \"xaxis\": \"x\", \"y\": [0.0], \"yaxis\": \"y\"}, {\"alignmentgroup\": \"True\", \"hoverlabel\": {\"namelength\": 0}, \"hovertemplate\": \"Country/Region=%{x}<br>Deaths=%{y}\", \"legendgroup\": \"Saudi Arabia\", \"marker\": {\"color\": \"#B6E880\"}, \"name\": \"Saudi Arabia\", \"offsetgroup\": \"Saudi Arabia\", \"orientation\": \"v\", \"showlegend\": true, \"textposition\": \"auto\", \"type\": \"bar\", \"x\": [\"Saudi Arabia\"], \"xaxis\": \"x\", \"y\": [0.0], \"yaxis\": \"y\"}, {\"alignmentgroup\": \"True\", \"hoverlabel\": {\"namelength\": 0}, \"hovertemplate\": \"Country/Region=%{x}<br>Deaths=%{y}\", \"legendgroup\": \"Afghanistan\", \"marker\": {\"color\": \"#FF97FF\"}, \"name\": \"Afghanistan\", \"offsetgroup\": \"Afghanistan\", \"orientation\": \"v\", \"showlegend\": true, \"textposition\": \"auto\", \"type\": \"bar\", \"x\": [\"Afghanistan\"], \"xaxis\": \"x\", \"y\": [0.0], \"yaxis\": \"y\"}, {\"alignmentgroup\": \"True\", \"hoverlabel\": {\"namelength\": 0}, \"hovertemplate\": \"Country/Region=%{x}<br>Deaths=%{y}\", \"legendgroup\": \"North Macedonia\", \"marker\": {\"color\": \"#FECB52\"}, \"name\": \"North Macedonia\", \"offsetgroup\": \"North Macedonia\", \"orientation\": \"v\", \"showlegend\": true, \"textposition\": \"auto\", \"type\": \"bar\", \"x\": [\"North Macedonia\"], \"xaxis\": \"x\", \"y\": [0.0], \"yaxis\": \"y\"}, {\"alignmentgroup\": \"True\", \"hoverlabel\": {\"namelength\": 0}, \"hovertemplate\": \"Country/Region=%{x}<br>Deaths=%{y}\", \"legendgroup\": \"Nigeria\", \"marker\": {\"color\": \"#636efa\"}, \"name\": \"Nigeria\", \"offsetgroup\": \"Nigeria\", \"orientation\": \"v\", \"showlegend\": true, \"textposition\": \"auto\", \"type\": \"bar\", \"x\": [\"Nigeria\"], \"xaxis\": \"x\", \"y\": [0.0], \"yaxis\": \"y\"}, {\"alignmentgroup\": \"True\", \"hoverlabel\": {\"namelength\": 0}, \"hovertemplate\": \"Country/Region=%{x}<br>Deaths=%{y}\", \"legendgroup\": \"New Zealand\", \"marker\": {\"color\": \"#EF553B\"}, \"name\": \"New Zealand\", \"offsetgroup\": \"New Zealand\", \"orientation\": \"v\", \"showlegend\": true, \"textposition\": \"auto\", \"type\": \"bar\", \"x\": [\"New Zealand\"], \"xaxis\": \"x\", \"y\": [0.0], \"yaxis\": \"y\"}, {\"alignmentgroup\": \"True\", \"hoverlabel\": {\"namelength\": 0}, \"hovertemplate\": \"Country/Region=%{x}<br>Deaths=%{y}\", \"legendgroup\": \"Nepal\", \"marker\": {\"color\": \"#00cc96\"}, \"name\": \"Nepal\", \"offsetgroup\": \"Nepal\", \"orientation\": \"v\", \"showlegend\": true, \"textposition\": \"auto\", \"type\": \"bar\", \"x\": [\"Nepal\"], \"xaxis\": \"x\", \"y\": [0.0], \"yaxis\": \"y\"}, {\"alignmentgroup\": \"True\", \"hoverlabel\": {\"namelength\": 0}, \"hovertemplate\": \"Country/Region=%{x}<br>Deaths=%{y}\", \"legendgroup\": \"Morocco\", \"marker\": {\"color\": \"#ab63fa\"}, \"name\": \"Morocco\", \"offsetgroup\": \"Morocco\", \"orientation\": \"v\", \"showlegend\": true, \"textposition\": \"auto\", \"type\": \"bar\", \"x\": [\"Morocco\"], \"xaxis\": \"x\", \"y\": [0.0], \"yaxis\": \"y\"}, {\"alignmentgroup\": \"True\", \"hoverlabel\": {\"namelength\": 0}, \"hovertemplate\": \"Country/Region=%{x}<br>Deaths=%{y}\", \"legendgroup\": \"Monaco\", \"marker\": {\"color\": \"#FFA15A\"}, \"name\": \"Monaco\", \"offsetgroup\": \"Monaco\", \"orientation\": \"v\", \"showlegend\": true, \"textposition\": \"auto\", \"type\": \"bar\", \"x\": [\"Monaco\"], \"xaxis\": \"x\", \"y\": [0.0], \"yaxis\": \"y\"}, {\"alignmentgroup\": \"True\", \"hoverlabel\": {\"namelength\": 0}, \"hovertemplate\": \"Country/Region=%{x}<br>Deaths=%{y}\", \"legendgroup\": \"Luxembourg\", \"marker\": {\"color\": \"#19d3f3\"}, \"name\": \"Luxembourg\", \"offsetgroup\": \"Luxembourg\", \"orientation\": \"v\", \"showlegend\": true, \"textposition\": \"auto\", \"type\": \"bar\", \"x\": [\"Luxembourg\"], \"xaxis\": \"x\", \"y\": [0.0], \"yaxis\": \"y\"}, {\"alignmentgroup\": \"True\", \"hoverlabel\": {\"namelength\": 0}, \"hovertemplate\": \"Country/Region=%{x}<br>Deaths=%{y}\", \"legendgroup\": \"Lithuania\", \"marker\": {\"color\": \"#FF6692\"}, \"name\": \"Lithuania\", \"offsetgroup\": \"Lithuania\", \"orientation\": \"v\", \"showlegend\": true, \"textposition\": \"auto\", \"type\": \"bar\", \"x\": [\"Lithuania\"], \"xaxis\": \"x\", \"y\": [0.0], \"yaxis\": \"y\"}, {\"alignmentgroup\": \"True\", \"hoverlabel\": {\"namelength\": 0}, \"hovertemplate\": \"Country/Region=%{x}<br>Deaths=%{y}\", \"legendgroup\": \"Ireland\", \"marker\": {\"color\": \"#B6E880\"}, \"name\": \"Ireland\", \"offsetgroup\": \"Ireland\", \"orientation\": \"v\", \"showlegend\": true, \"textposition\": \"auto\", \"type\": \"bar\", \"x\": [\"Ireland\"], \"xaxis\": \"x\", \"y\": [0.0], \"yaxis\": \"y\"}, {\"alignmentgroup\": \"True\", \"hoverlabel\": {\"namelength\": 0}, \"hovertemplate\": \"Country/Region=%{x}<br>Deaths=%{y}\", \"legendgroup\": \"Estonia\", \"marker\": {\"color\": \"#FF97FF\"}, \"name\": \"Estonia\", \"offsetgroup\": \"Estonia\", \"orientation\": \"v\", \"showlegend\": true, \"textposition\": \"auto\", \"type\": \"bar\", \"x\": [\"Estonia\"], \"xaxis\": \"x\", \"y\": [0.0], \"yaxis\": \"y\"}, {\"alignmentgroup\": \"True\", \"hoverlabel\": {\"namelength\": 0}, \"hovertemplate\": \"Country/Region=%{x}<br>Deaths=%{y}\", \"legendgroup\": \"Dominican Republic\", \"marker\": {\"color\": \"#FECB52\"}, \"name\": \"Dominican Republic\", \"offsetgroup\": \"Dominican Republic\", \"orientation\": \"v\", \"showlegend\": true, \"textposition\": \"auto\", \"type\": \"bar\", \"x\": [\"Dominican Republic\"], \"xaxis\": \"x\", \"y\": [0.0], \"yaxis\": \"y\"}, {\"alignmentgroup\": \"True\", \"hoverlabel\": {\"namelength\": 0}, \"hovertemplate\": \"Country/Region=%{x}<br>Deaths=%{y}\", \"legendgroup\": \"Cambodia\", \"marker\": {\"color\": \"#636efa\"}, \"name\": \"Cambodia\", \"offsetgroup\": \"Cambodia\", \"orientation\": \"v\", \"showlegend\": true, \"textposition\": \"auto\", \"type\": \"bar\", \"x\": [\"Cambodia\"], \"xaxis\": \"x\", \"y\": [0.0], \"yaxis\": \"y\"}, {\"alignmentgroup\": \"True\", \"hoverlabel\": {\"namelength\": 0}, \"hovertemplate\": \"Country/Region=%{x}<br>Deaths=%{y}\", \"legendgroup\": \"Belarus\", \"marker\": {\"color\": \"#EF553B\"}, \"name\": \"Belarus\", \"offsetgroup\": \"Belarus\", \"orientation\": \"v\", \"showlegend\": true, \"textposition\": \"auto\", \"type\": \"bar\", \"x\": [\"Belarus\"], \"xaxis\": \"x\", \"y\": [0.0], \"yaxis\": \"y\"}, {\"alignmentgroup\": \"True\", \"hoverlabel\": {\"namelength\": 0}, \"hovertemplate\": \"Country/Region=%{x}<br>Deaths=%{y}\", \"legendgroup\": \"Armenia\", \"marker\": {\"color\": \"#00cc96\"}, \"name\": \"Armenia\", \"offsetgroup\": \"Armenia\", \"orientation\": \"v\", \"showlegend\": true, \"textposition\": \"auto\", \"type\": \"bar\", \"x\": [\"Armenia\"], \"xaxis\": \"x\", \"y\": [0.0], \"yaxis\": \"y\"}, {\"alignmentgroup\": \"True\", \"hoverlabel\": {\"namelength\": 0}, \"hovertemplate\": \"Country/Region=%{x}<br>Deaths=%{y}\", \"legendgroup\": \"Andorra\", \"marker\": {\"color\": \"#ab63fa\"}, \"name\": \"Andorra\", \"offsetgroup\": \"Andorra\", \"orientation\": \"v\", \"showlegend\": true, \"textposition\": \"auto\", \"type\": \"bar\", \"x\": [\"Andorra\"], \"xaxis\": \"x\", \"y\": [0.0], \"yaxis\": \"y\"}, {\"alignmentgroup\": \"True\", \"hoverlabel\": {\"namelength\": 0}, \"hovertemplate\": \"Country/Region=%{x}<br>Deaths=%{y}\", \"legendgroup\": \"Latvia\", \"marker\": {\"color\": \"#FFA15A\"}, \"name\": \"Latvia\", \"offsetgroup\": \"Latvia\", \"orientation\": \"v\", \"showlegend\": true, \"textposition\": \"auto\", \"type\": \"bar\", \"x\": [\"Latvia\"], \"xaxis\": \"x\", \"y\": [0.0], \"yaxis\": \"y\"}],\n",
       "                        {\"barmode\": \"relative\", \"height\": 400, \"legend\": {\"title\": {\"text\": \"Country/Region\"}, \"tracegroupgap\": 0}, \"margin\": {\"t\": 60}, \"template\": {\"data\": {\"bar\": [{\"error_x\": {\"color\": \"#2a3f5f\"}, \"error_y\": {\"color\": \"#2a3f5f\"}, \"marker\": {\"line\": {\"color\": \"#E5ECF6\", \"width\": 0.5}}, \"type\": \"bar\"}], \"barpolar\": [{\"marker\": {\"line\": {\"color\": \"#E5ECF6\", \"width\": 0.5}}, \"type\": \"barpolar\"}], \"carpet\": [{\"aaxis\": {\"endlinecolor\": \"#2a3f5f\", \"gridcolor\": \"white\", \"linecolor\": \"white\", \"minorgridcolor\": \"white\", \"startlinecolor\": \"#2a3f5f\"}, \"baxis\": {\"endlinecolor\": \"#2a3f5f\", \"gridcolor\": \"white\", \"linecolor\": \"white\", \"minorgridcolor\": \"white\", \"startlinecolor\": \"#2a3f5f\"}, \"type\": \"carpet\"}], \"choropleth\": [{\"colorbar\": {\"outlinewidth\": 0, \"ticks\": \"\"}, \"type\": \"choropleth\"}], \"contour\": [{\"colorbar\": {\"outlinewidth\": 0, \"ticks\": \"\"}, \"colorscale\": [[0.0, \"#0d0887\"], [0.1111111111111111, \"#46039f\"], [0.2222222222222222, \"#7201a8\"], [0.3333333333333333, \"#9c179e\"], [0.4444444444444444, \"#bd3786\"], [0.5555555555555556, \"#d8576b\"], [0.6666666666666666, \"#ed7953\"], [0.7777777777777778, \"#fb9f3a\"], [0.8888888888888888, \"#fdca26\"], [1.0, \"#f0f921\"]], \"type\": \"contour\"}], \"contourcarpet\": [{\"colorbar\": {\"outlinewidth\": 0, \"ticks\": \"\"}, \"type\": \"contourcarpet\"}], \"heatmap\": [{\"colorbar\": {\"outlinewidth\": 0, \"ticks\": \"\"}, \"colorscale\": [[0.0, \"#0d0887\"], [0.1111111111111111, \"#46039f\"], [0.2222222222222222, \"#7201a8\"], [0.3333333333333333, \"#9c179e\"], [0.4444444444444444, \"#bd3786\"], [0.5555555555555556, \"#d8576b\"], [0.6666666666666666, \"#ed7953\"], [0.7777777777777778, \"#fb9f3a\"], [0.8888888888888888, \"#fdca26\"], [1.0, \"#f0f921\"]], \"type\": \"heatmap\"}], \"heatmapgl\": [{\"colorbar\": {\"outlinewidth\": 0, \"ticks\": \"\"}, \"colorscale\": [[0.0, \"#0d0887\"], [0.1111111111111111, \"#46039f\"], [0.2222222222222222, \"#7201a8\"], [0.3333333333333333, \"#9c179e\"], [0.4444444444444444, \"#bd3786\"], [0.5555555555555556, \"#d8576b\"], [0.6666666666666666, \"#ed7953\"], [0.7777777777777778, \"#fb9f3a\"], [0.8888888888888888, \"#fdca26\"], [1.0, \"#f0f921\"]], \"type\": \"heatmapgl\"}], \"histogram\": [{\"marker\": {\"colorbar\": {\"outlinewidth\": 0, \"ticks\": \"\"}}, \"type\": \"histogram\"}], \"histogram2d\": [{\"colorbar\": {\"outlinewidth\": 0, \"ticks\": \"\"}, \"colorscale\": [[0.0, \"#0d0887\"], [0.1111111111111111, \"#46039f\"], [0.2222222222222222, \"#7201a8\"], [0.3333333333333333, \"#9c179e\"], [0.4444444444444444, \"#bd3786\"], [0.5555555555555556, \"#d8576b\"], [0.6666666666666666, \"#ed7953\"], [0.7777777777777778, \"#fb9f3a\"], [0.8888888888888888, \"#fdca26\"], [1.0, \"#f0f921\"]], \"type\": \"histogram2d\"}], \"histogram2dcontour\": [{\"colorbar\": {\"outlinewidth\": 0, \"ticks\": \"\"}, \"colorscale\": [[0.0, \"#0d0887\"], [0.1111111111111111, \"#46039f\"], [0.2222222222222222, \"#7201a8\"], [0.3333333333333333, \"#9c179e\"], [0.4444444444444444, \"#bd3786\"], [0.5555555555555556, \"#d8576b\"], [0.6666666666666666, \"#ed7953\"], [0.7777777777777778, \"#fb9f3a\"], [0.8888888888888888, \"#fdca26\"], [1.0, \"#f0f921\"]], \"type\": \"histogram2dcontour\"}], \"mesh3d\": [{\"colorbar\": {\"outlinewidth\": 0, \"ticks\": \"\"}, \"type\": \"mesh3d\"}], \"parcoords\": [{\"line\": {\"colorbar\": {\"outlinewidth\": 0, \"ticks\": \"\"}}, \"type\": \"parcoords\"}], \"pie\": [{\"automargin\": true, \"type\": \"pie\"}], \"scatter\": [{\"marker\": {\"colorbar\": {\"outlinewidth\": 0, \"ticks\": \"\"}}, \"type\": \"scatter\"}], \"scatter3d\": [{\"line\": {\"colorbar\": {\"outlinewidth\": 0, \"ticks\": \"\"}}, \"marker\": {\"colorbar\": {\"outlinewidth\": 0, \"ticks\": \"\"}}, \"type\": \"scatter3d\"}], \"scattercarpet\": [{\"marker\": {\"colorbar\": {\"outlinewidth\": 0, \"ticks\": \"\"}}, \"type\": \"scattercarpet\"}], \"scattergeo\": [{\"marker\": {\"colorbar\": {\"outlinewidth\": 0, \"ticks\": \"\"}}, \"type\": \"scattergeo\"}], \"scattergl\": [{\"marker\": {\"colorbar\": {\"outlinewidth\": 0, \"ticks\": \"\"}}, \"type\": \"scattergl\"}], \"scattermapbox\": [{\"marker\": {\"colorbar\": {\"outlinewidth\": 0, \"ticks\": \"\"}}, \"type\": \"scattermapbox\"}], \"scatterpolar\": [{\"marker\": {\"colorbar\": {\"outlinewidth\": 0, \"ticks\": \"\"}}, \"type\": \"scatterpolar\"}], \"scatterpolargl\": [{\"marker\": {\"colorbar\": {\"outlinewidth\": 0, \"ticks\": \"\"}}, \"type\": \"scatterpolargl\"}], \"scatterternary\": [{\"marker\": {\"colorbar\": {\"outlinewidth\": 0, \"ticks\": \"\"}}, \"type\": \"scatterternary\"}], \"surface\": [{\"colorbar\": {\"outlinewidth\": 0, \"ticks\": \"\"}, \"colorscale\": [[0.0, \"#0d0887\"], [0.1111111111111111, \"#46039f\"], [0.2222222222222222, \"#7201a8\"], [0.3333333333333333, \"#9c179e\"], [0.4444444444444444, \"#bd3786\"], [0.5555555555555556, \"#d8576b\"], [0.6666666666666666, \"#ed7953\"], [0.7777777777777778, \"#fb9f3a\"], [0.8888888888888888, \"#fdca26\"], [1.0, \"#f0f921\"]], \"type\": \"surface\"}], \"table\": [{\"cells\": {\"fill\": {\"color\": \"#EBF0F8\"}, \"line\": {\"color\": \"white\"}}, \"header\": {\"fill\": {\"color\": \"#C8D4E3\"}, \"line\": {\"color\": \"white\"}}, \"type\": \"table\"}]}, \"layout\": {\"annotationdefaults\": {\"arrowcolor\": \"#2a3f5f\", \"arrowhead\": 0, \"arrowwidth\": 1}, \"coloraxis\": {\"colorbar\": {\"outlinewidth\": 0, \"ticks\": \"\"}}, \"colorscale\": {\"diverging\": [[0, \"#8e0152\"], [0.1, \"#c51b7d\"], [0.2, \"#de77ae\"], [0.3, \"#f1b6da\"], [0.4, \"#fde0ef\"], [0.5, \"#f7f7f7\"], [0.6, \"#e6f5d0\"], [0.7, \"#b8e186\"], [0.8, \"#7fbc41\"], [0.9, \"#4d9221\"], [1, \"#276419\"]], \"sequential\": [[0.0, \"#0d0887\"], [0.1111111111111111, \"#46039f\"], [0.2222222222222222, \"#7201a8\"], [0.3333333333333333, \"#9c179e\"], [0.4444444444444444, \"#bd3786\"], [0.5555555555555556, \"#d8576b\"], [0.6666666666666666, \"#ed7953\"], [0.7777777777777778, \"#fb9f3a\"], [0.8888888888888888, \"#fdca26\"], [1.0, \"#f0f921\"]], \"sequentialminus\": [[0.0, \"#0d0887\"], [0.1111111111111111, \"#46039f\"], [0.2222222222222222, \"#7201a8\"], [0.3333333333333333, \"#9c179e\"], [0.4444444444444444, \"#bd3786\"], [0.5555555555555556, \"#d8576b\"], [0.6666666666666666, \"#ed7953\"], [0.7777777777777778, \"#fb9f3a\"], [0.8888888888888888, \"#fdca26\"], [1.0, \"#f0f921\"]]}, \"colorway\": [\"#636efa\", \"#EF553B\", \"#00cc96\", \"#ab63fa\", \"#FFA15A\", \"#19d3f3\", \"#FF6692\", \"#B6E880\", \"#FF97FF\", \"#FECB52\"], \"font\": {\"color\": \"#2a3f5f\"}, \"geo\": {\"bgcolor\": \"white\", \"lakecolor\": \"white\", \"landcolor\": \"#E5ECF6\", \"showlakes\": true, \"showland\": true, \"subunitcolor\": \"white\"}, \"hoverlabel\": {\"align\": \"left\"}, \"hovermode\": \"closest\", \"mapbox\": {\"style\": \"light\"}, \"paper_bgcolor\": \"white\", \"plot_bgcolor\": \"#E5ECF6\", \"polar\": {\"angularaxis\": {\"gridcolor\": \"white\", \"linecolor\": \"white\", \"ticks\": \"\"}, \"bgcolor\": \"#E5ECF6\", \"radialaxis\": {\"gridcolor\": \"white\", \"linecolor\": \"white\", \"ticks\": \"\"}}, \"scene\": {\"xaxis\": {\"backgroundcolor\": \"#E5ECF6\", \"gridcolor\": \"white\", \"gridwidth\": 2, \"linecolor\": \"white\", \"showbackground\": true, \"ticks\": \"\", \"zerolinecolor\": \"white\"}, \"yaxis\": {\"backgroundcolor\": \"#E5ECF6\", \"gridcolor\": \"white\", \"gridwidth\": 2, \"linecolor\": \"white\", \"showbackground\": true, \"ticks\": \"\", \"zerolinecolor\": \"white\"}, \"zaxis\": {\"backgroundcolor\": \"#E5ECF6\", \"gridcolor\": \"white\", \"gridwidth\": 2, \"linecolor\": \"white\", \"showbackground\": true, \"ticks\": \"\", \"zerolinecolor\": \"white\"}}, \"shapedefaults\": {\"line\": {\"color\": \"#2a3f5f\"}}, \"ternary\": {\"aaxis\": {\"gridcolor\": \"white\", \"linecolor\": \"white\", \"ticks\": \"\"}, \"baxis\": {\"gridcolor\": \"white\", \"linecolor\": \"white\", \"ticks\": \"\"}, \"bgcolor\": \"#E5ECF6\", \"caxis\": {\"gridcolor\": \"white\", \"linecolor\": \"white\", \"ticks\": \"\"}}, \"title\": {\"x\": 0.05}, \"xaxis\": {\"automargin\": true, \"gridcolor\": \"white\", \"linecolor\": \"white\", \"ticks\": \"\", \"title\": {\"standoff\": 15}, \"zerolinecolor\": \"white\", \"zerolinewidth\": 2}, \"yaxis\": {\"automargin\": true, \"gridcolor\": \"white\", \"linecolor\": \"white\", \"ticks\": \"\", \"title\": {\"standoff\": 15}, \"zerolinecolor\": \"white\", \"zerolinewidth\": 2}}}, \"xaxis\": {\"anchor\": \"y\", \"categoryarray\": [\"China\", \"South Korea\", \"Italy\", \"Iran\", \"Others\", \"Japan\", \"France\", \"Germany\", \"Spain\", \"Singapore\", \"US\", \"Hong Kong\", \"Kuwait\", \"Bahrain\", \"Thailand\", \"Switzerland\", \"Taiwan\", \"UK\", \"Australia\", \"Malaysia\", \"Canada\", \"Iraq\", \"Norway\", \"United Arab Emirates\", \"Netherlands\", \"Austria\", \"Vietnam\", \"Sweden\", \"Lebanon\", \"Israel\", \"Macau\", \"San Marino\", \"Belgium\", \"Croatia\", \"Greece\", \"Iceland\", \"Finland\", \"Oman\", \"Ecuador\", \"India\", \"Mexico\", \"Pakistan\", \"Denmark\", \"Philippines\", \"Russia\", \"Qatar\", \"Algeria\", \"Romania\", \"Georgia\", \"Czech Republic\", \"Azerbaijan\", \"Egypt\", \"Brazil\", \"Portugal\", \"Indonesia\", \"Senegal\", \"Sri Lanka\", \"Saudi Arabia\", \"Afghanistan\", \"North Macedonia\", \"Nigeria\", \"New Zealand\", \"Nepal\", \"Morocco\", \"Monaco\", \"Luxembourg\", \"Lithuania\", \"Ireland\", \"Estonia\", \"Dominican Republic\", \"Cambodia\", \"Belarus\", \"Armenia\", \"Andorra\", \"Latvia\"], \"categoryorder\": \"array\", \"domain\": [0.0, 1.0], \"title\": {\"text\": \"Country/Region\"}}, \"yaxis\": {\"anchor\": \"x\", \"domain\": [0.0, 1.0], \"title\": {\"text\": \"Deaths\"}, \"type\": \"log\"}},\n",
       "                        {\"responsive\": true}\n",
       "                    ).then(function(){\n",
       "                            \n",
       "var gd = document.getElementById('59131cfe-c096-49a4-871a-096307ae6f83');\n",
       "var x = new MutationObserver(function (mutations, observer) {{\n",
       "        var display = window.getComputedStyle(gd).display;\n",
       "        if (!display || display === 'none') {{\n",
       "            console.log([gd, 'removed!']);\n",
       "            Plotly.purge(gd);\n",
       "            observer.disconnect();\n",
       "        }}\n",
       "}});\n",
       "\n",
       "// Listen for the removal of the full notebook cells\n",
       "var notebookContainer = gd.closest('#notebook-container');\n",
       "if (notebookContainer) {{\n",
       "    x.observe(notebookContainer, {childList: true});\n",
       "}}\n",
       "\n",
       "// Listen for the clearing of the current output cell\n",
       "var outputEl = gd.closest('.output');\n",
       "if (outputEl) {{\n",
       "    x.observe(outputEl, {childList: true});\n",
       "}}\n",
       "\n",
       "                        })\n",
       "                };\n",
       "                });\n",
       "            </script>\n",
       "        </div>"
      ]
     },
     "metadata": {},
     "output_type": "display_data"
    }
   ],
   "source": [
    "#Plottting death cases\n",
    "fig = px.bar(plot,x=plot['Country/Region'],y=plot['Deaths'], color=plot['Country/Region'],height=400,log_y=True)\n",
    "fig.show()\n"
   ]
  },
  {
   "cell_type": "markdown",
   "metadata": {},
   "source": [
    "# Impact of coronavirus world wide"
   ]
  },
  {
   "cell_type": "code",
   "execution_count": 133,
   "metadata": {},
   "outputs": [
    {
     "data": {
      "application/vnd.plotly.v1+json": {
       "config": {
        "plotlyServerURL": "https://plot.ly"
       },
       "data": [
        {
         "marker": {
          "color": "orange"
         },
         "name": "Confirmed",
         "type": "bar",
         "x": [
          "01/22/2020",
          "01/23/2020",
          "01/24/2020",
          "01/25/2020",
          "01/26/2020",
          "01/27/2020",
          "01/28/2020",
          "01/29/2020",
          "01/30/2020",
          "01/31/2020",
          "02/01/2020",
          "02/02/2020",
          "02/03/2020",
          "02/04/2020",
          "02/05/2020",
          "02/06/2020",
          "02/07/2020",
          "02/08/2020",
          "02/09/2020",
          "02/10/2020",
          "02/11/2020",
          "02/12/2020",
          "02/13/2020",
          "02/14/2020",
          "02/15/2020",
          "02/16/2020",
          "02/17/2020",
          "02/18/2020",
          "02/19/2020",
          "02/20/2020",
          "02/21/2020",
          "02/22/2020",
          "02/23/2020",
          "02/24/2020",
          "02/25/2020",
          "02/26/2020",
          "02/27/2020",
          "02/28/2020",
          "02/29/2020",
          "03/01/2020",
          "03/02/2020"
         ],
         "y": [
          555,
          653,
          941,
          1438,
          2118,
          2927,
          5578,
          6165,
          8235,
          9925,
          12038,
          16787,
          19881,
          23892,
          27636,
          30818,
          34392,
          37121,
          40151,
          42763,
          44803,
          45222,
          60370,
          66887,
          69032,
          71226,
          73260,
          75138,
          75641,
          76199,
          76843,
          78599,
          78985,
          79570,
          80415,
          81397,
          82756,
          84124,
          86013,
          88371,
          90309
         ]
        },
        {
         "marker": {
          "color": "Green"
         },
         "name": "Recovered",
         "type": "bar",
         "x": [
          "01/22/2020",
          "01/23/2020",
          "01/24/2020",
          "01/25/2020",
          "01/26/2020",
          "01/27/2020",
          "01/28/2020",
          "01/29/2020",
          "01/30/2020",
          "01/31/2020",
          "02/01/2020",
          "02/02/2020",
          "02/03/2020",
          "02/04/2020",
          "02/05/2020",
          "02/06/2020",
          "02/07/2020",
          "02/08/2020",
          "02/09/2020",
          "02/10/2020",
          "02/11/2020",
          "02/12/2020",
          "02/13/2020",
          "02/14/2020",
          "02/15/2020",
          "02/16/2020",
          "02/17/2020",
          "02/18/2020",
          "02/19/2020",
          "02/20/2020",
          "02/21/2020",
          "02/22/2020",
          "02/23/2020",
          "02/24/2020",
          "02/25/2020",
          "02/26/2020",
          "02/27/2020",
          "02/28/2020",
          "02/29/2020",
          "03/01/2020",
          "03/02/2020"
         ],
         "y": [
          28,
          30,
          36,
          39,
          52,
          61,
          107,
          126,
          143,
          222,
          284,
          472,
          623,
          852,
          1124,
          1487,
          2011,
          2616,
          3244,
          3946,
          4683,
          5150,
          6295,
          8058,
          9395,
          10865,
          12583,
          14352,
          16121,
          18177,
          18890,
          22886,
          23394,
          25227,
          27905,
          30384,
          33277,
          36711,
          39782,
          42716,
          45602
         ]
        },
        {
         "marker": {
          "color": "Red"
         },
         "name": "Deaths",
         "type": "bar",
         "x": [
          "01/22/2020",
          "01/23/2020",
          "01/24/2020",
          "01/25/2020",
          "01/26/2020",
          "01/27/2020",
          "01/28/2020",
          "01/29/2020",
          "01/30/2020",
          "01/31/2020",
          "02/01/2020",
          "02/02/2020",
          "02/03/2020",
          "02/04/2020",
          "02/05/2020",
          "02/06/2020",
          "02/07/2020",
          "02/08/2020",
          "02/09/2020",
          "02/10/2020",
          "02/11/2020",
          "02/12/2020",
          "02/13/2020",
          "02/14/2020",
          "02/15/2020",
          "02/16/2020",
          "02/17/2020",
          "02/18/2020",
          "02/19/2020",
          "02/20/2020",
          "02/21/2020",
          "02/22/2020",
          "02/23/2020",
          "02/24/2020",
          "02/25/2020",
          "02/26/2020",
          "02/27/2020",
          "02/28/2020",
          "02/29/2020",
          "03/01/2020",
          "03/02/2020"
         ],
         "y": [
          17,
          18,
          26,
          42,
          56,
          82,
          131,
          133,
          171,
          213,
          259,
          362,
          426,
          492,
          564,
          634,
          719,
          806,
          906,
          1013,
          1113,
          1118,
          1371,
          1523,
          1666,
          1770,
          1868,
          2007,
          2122,
          2247,
          2251,
          2458,
          2469,
          2629,
          2708,
          2770,
          2814,
          2872,
          2941,
          2996,
          3085
         ]
        }
       ],
       "layout": {
        "template": {
         "data": {
          "bar": [
           {
            "error_x": {
             "color": "#2a3f5f"
            },
            "error_y": {
             "color": "#2a3f5f"
            },
            "marker": {
             "line": {
              "color": "#E5ECF6",
              "width": 0.5
             }
            },
            "type": "bar"
           }
          ],
          "barpolar": [
           {
            "marker": {
             "line": {
              "color": "#E5ECF6",
              "width": 0.5
             }
            },
            "type": "barpolar"
           }
          ],
          "carpet": [
           {
            "aaxis": {
             "endlinecolor": "#2a3f5f",
             "gridcolor": "white",
             "linecolor": "white",
             "minorgridcolor": "white",
             "startlinecolor": "#2a3f5f"
            },
            "baxis": {
             "endlinecolor": "#2a3f5f",
             "gridcolor": "white",
             "linecolor": "white",
             "minorgridcolor": "white",
             "startlinecolor": "#2a3f5f"
            },
            "type": "carpet"
           }
          ],
          "choropleth": [
           {
            "colorbar": {
             "outlinewidth": 0,
             "ticks": ""
            },
            "type": "choropleth"
           }
          ],
          "contour": [
           {
            "colorbar": {
             "outlinewidth": 0,
             "ticks": ""
            },
            "colorscale": [
             [
              0,
              "#0d0887"
             ],
             [
              0.1111111111111111,
              "#46039f"
             ],
             [
              0.2222222222222222,
              "#7201a8"
             ],
             [
              0.3333333333333333,
              "#9c179e"
             ],
             [
              0.4444444444444444,
              "#bd3786"
             ],
             [
              0.5555555555555556,
              "#d8576b"
             ],
             [
              0.6666666666666666,
              "#ed7953"
             ],
             [
              0.7777777777777778,
              "#fb9f3a"
             ],
             [
              0.8888888888888888,
              "#fdca26"
             ],
             [
              1,
              "#f0f921"
             ]
            ],
            "type": "contour"
           }
          ],
          "contourcarpet": [
           {
            "colorbar": {
             "outlinewidth": 0,
             "ticks": ""
            },
            "type": "contourcarpet"
           }
          ],
          "heatmap": [
           {
            "colorbar": {
             "outlinewidth": 0,
             "ticks": ""
            },
            "colorscale": [
             [
              0,
              "#0d0887"
             ],
             [
              0.1111111111111111,
              "#46039f"
             ],
             [
              0.2222222222222222,
              "#7201a8"
             ],
             [
              0.3333333333333333,
              "#9c179e"
             ],
             [
              0.4444444444444444,
              "#bd3786"
             ],
             [
              0.5555555555555556,
              "#d8576b"
             ],
             [
              0.6666666666666666,
              "#ed7953"
             ],
             [
              0.7777777777777778,
              "#fb9f3a"
             ],
             [
              0.8888888888888888,
              "#fdca26"
             ],
             [
              1,
              "#f0f921"
             ]
            ],
            "type": "heatmap"
           }
          ],
          "heatmapgl": [
           {
            "colorbar": {
             "outlinewidth": 0,
             "ticks": ""
            },
            "colorscale": [
             [
              0,
              "#0d0887"
             ],
             [
              0.1111111111111111,
              "#46039f"
             ],
             [
              0.2222222222222222,
              "#7201a8"
             ],
             [
              0.3333333333333333,
              "#9c179e"
             ],
             [
              0.4444444444444444,
              "#bd3786"
             ],
             [
              0.5555555555555556,
              "#d8576b"
             ],
             [
              0.6666666666666666,
              "#ed7953"
             ],
             [
              0.7777777777777778,
              "#fb9f3a"
             ],
             [
              0.8888888888888888,
              "#fdca26"
             ],
             [
              1,
              "#f0f921"
             ]
            ],
            "type": "heatmapgl"
           }
          ],
          "histogram": [
           {
            "marker": {
             "colorbar": {
              "outlinewidth": 0,
              "ticks": ""
             }
            },
            "type": "histogram"
           }
          ],
          "histogram2d": [
           {
            "colorbar": {
             "outlinewidth": 0,
             "ticks": ""
            },
            "colorscale": [
             [
              0,
              "#0d0887"
             ],
             [
              0.1111111111111111,
              "#46039f"
             ],
             [
              0.2222222222222222,
              "#7201a8"
             ],
             [
              0.3333333333333333,
              "#9c179e"
             ],
             [
              0.4444444444444444,
              "#bd3786"
             ],
             [
              0.5555555555555556,
              "#d8576b"
             ],
             [
              0.6666666666666666,
              "#ed7953"
             ],
             [
              0.7777777777777778,
              "#fb9f3a"
             ],
             [
              0.8888888888888888,
              "#fdca26"
             ],
             [
              1,
              "#f0f921"
             ]
            ],
            "type": "histogram2d"
           }
          ],
          "histogram2dcontour": [
           {
            "colorbar": {
             "outlinewidth": 0,
             "ticks": ""
            },
            "colorscale": [
             [
              0,
              "#0d0887"
             ],
             [
              0.1111111111111111,
              "#46039f"
             ],
             [
              0.2222222222222222,
              "#7201a8"
             ],
             [
              0.3333333333333333,
              "#9c179e"
             ],
             [
              0.4444444444444444,
              "#bd3786"
             ],
             [
              0.5555555555555556,
              "#d8576b"
             ],
             [
              0.6666666666666666,
              "#ed7953"
             ],
             [
              0.7777777777777778,
              "#fb9f3a"
             ],
             [
              0.8888888888888888,
              "#fdca26"
             ],
             [
              1,
              "#f0f921"
             ]
            ],
            "type": "histogram2dcontour"
           }
          ],
          "mesh3d": [
           {
            "colorbar": {
             "outlinewidth": 0,
             "ticks": ""
            },
            "type": "mesh3d"
           }
          ],
          "parcoords": [
           {
            "line": {
             "colorbar": {
              "outlinewidth": 0,
              "ticks": ""
             }
            },
            "type": "parcoords"
           }
          ],
          "pie": [
           {
            "automargin": true,
            "type": "pie"
           }
          ],
          "scatter": [
           {
            "marker": {
             "colorbar": {
              "outlinewidth": 0,
              "ticks": ""
             }
            },
            "type": "scatter"
           }
          ],
          "scatter3d": [
           {
            "line": {
             "colorbar": {
              "outlinewidth": 0,
              "ticks": ""
             }
            },
            "marker": {
             "colorbar": {
              "outlinewidth": 0,
              "ticks": ""
             }
            },
            "type": "scatter3d"
           }
          ],
          "scattercarpet": [
           {
            "marker": {
             "colorbar": {
              "outlinewidth": 0,
              "ticks": ""
             }
            },
            "type": "scattercarpet"
           }
          ],
          "scattergeo": [
           {
            "marker": {
             "colorbar": {
              "outlinewidth": 0,
              "ticks": ""
             }
            },
            "type": "scattergeo"
           }
          ],
          "scattergl": [
           {
            "marker": {
             "colorbar": {
              "outlinewidth": 0,
              "ticks": ""
             }
            },
            "type": "scattergl"
           }
          ],
          "scattermapbox": [
           {
            "marker": {
             "colorbar": {
              "outlinewidth": 0,
              "ticks": ""
             }
            },
            "type": "scattermapbox"
           }
          ],
          "scatterpolar": [
           {
            "marker": {
             "colorbar": {
              "outlinewidth": 0,
              "ticks": ""
             }
            },
            "type": "scatterpolar"
           }
          ],
          "scatterpolargl": [
           {
            "marker": {
             "colorbar": {
              "outlinewidth": 0,
              "ticks": ""
             }
            },
            "type": "scatterpolargl"
           }
          ],
          "scatterternary": [
           {
            "marker": {
             "colorbar": {
              "outlinewidth": 0,
              "ticks": ""
             }
            },
            "type": "scatterternary"
           }
          ],
          "surface": [
           {
            "colorbar": {
             "outlinewidth": 0,
             "ticks": ""
            },
            "colorscale": [
             [
              0,
              "#0d0887"
             ],
             [
              0.1111111111111111,
              "#46039f"
             ],
             [
              0.2222222222222222,
              "#7201a8"
             ],
             [
              0.3333333333333333,
              "#9c179e"
             ],
             [
              0.4444444444444444,
              "#bd3786"
             ],
             [
              0.5555555555555556,
              "#d8576b"
             ],
             [
              0.6666666666666666,
              "#ed7953"
             ],
             [
              0.7777777777777778,
              "#fb9f3a"
             ],
             [
              0.8888888888888888,
              "#fdca26"
             ],
             [
              1,
              "#f0f921"
             ]
            ],
            "type": "surface"
           }
          ],
          "table": [
           {
            "cells": {
             "fill": {
              "color": "#EBF0F8"
             },
             "line": {
              "color": "white"
             }
            },
            "header": {
             "fill": {
              "color": "#C8D4E3"
             },
             "line": {
              "color": "white"
             }
            },
            "type": "table"
           }
          ]
         },
         "layout": {
          "annotationdefaults": {
           "arrowcolor": "#2a3f5f",
           "arrowhead": 0,
           "arrowwidth": 1
          },
          "coloraxis": {
           "colorbar": {
            "outlinewidth": 0,
            "ticks": ""
           }
          },
          "colorscale": {
           "diverging": [
            [
             0,
             "#8e0152"
            ],
            [
             0.1,
             "#c51b7d"
            ],
            [
             0.2,
             "#de77ae"
            ],
            [
             0.3,
             "#f1b6da"
            ],
            [
             0.4,
             "#fde0ef"
            ],
            [
             0.5,
             "#f7f7f7"
            ],
            [
             0.6,
             "#e6f5d0"
            ],
            [
             0.7,
             "#b8e186"
            ],
            [
             0.8,
             "#7fbc41"
            ],
            [
             0.9,
             "#4d9221"
            ],
            [
             1,
             "#276419"
            ]
           ],
           "sequential": [
            [
             0,
             "#0d0887"
            ],
            [
             0.1111111111111111,
             "#46039f"
            ],
            [
             0.2222222222222222,
             "#7201a8"
            ],
            [
             0.3333333333333333,
             "#9c179e"
            ],
            [
             0.4444444444444444,
             "#bd3786"
            ],
            [
             0.5555555555555556,
             "#d8576b"
            ],
            [
             0.6666666666666666,
             "#ed7953"
            ],
            [
             0.7777777777777778,
             "#fb9f3a"
            ],
            [
             0.8888888888888888,
             "#fdca26"
            ],
            [
             1,
             "#f0f921"
            ]
           ],
           "sequentialminus": [
            [
             0,
             "#0d0887"
            ],
            [
             0.1111111111111111,
             "#46039f"
            ],
            [
             0.2222222222222222,
             "#7201a8"
            ],
            [
             0.3333333333333333,
             "#9c179e"
            ],
            [
             0.4444444444444444,
             "#bd3786"
            ],
            [
             0.5555555555555556,
             "#d8576b"
            ],
            [
             0.6666666666666666,
             "#ed7953"
            ],
            [
             0.7777777777777778,
             "#fb9f3a"
            ],
            [
             0.8888888888888888,
             "#fdca26"
            ],
            [
             1,
             "#f0f921"
            ]
           ]
          },
          "colorway": [
           "#636efa",
           "#EF553B",
           "#00cc96",
           "#ab63fa",
           "#FFA15A",
           "#19d3f3",
           "#FF6692",
           "#B6E880",
           "#FF97FF",
           "#FECB52"
          ],
          "font": {
           "color": "#2a3f5f"
          },
          "geo": {
           "bgcolor": "white",
           "lakecolor": "white",
           "landcolor": "#E5ECF6",
           "showlakes": true,
           "showland": true,
           "subunitcolor": "white"
          },
          "hoverlabel": {
           "align": "left"
          },
          "hovermode": "closest",
          "mapbox": {
           "style": "light"
          },
          "paper_bgcolor": "white",
          "plot_bgcolor": "#E5ECF6",
          "polar": {
           "angularaxis": {
            "gridcolor": "white",
            "linecolor": "white",
            "ticks": ""
           },
           "bgcolor": "#E5ECF6",
           "radialaxis": {
            "gridcolor": "white",
            "linecolor": "white",
            "ticks": ""
           }
          },
          "scene": {
           "xaxis": {
            "backgroundcolor": "#E5ECF6",
            "gridcolor": "white",
            "gridwidth": 2,
            "linecolor": "white",
            "showbackground": true,
            "ticks": "",
            "zerolinecolor": "white"
           },
           "yaxis": {
            "backgroundcolor": "#E5ECF6",
            "gridcolor": "white",
            "gridwidth": 2,
            "linecolor": "white",
            "showbackground": true,
            "ticks": "",
            "zerolinecolor": "white"
           },
           "zaxis": {
            "backgroundcolor": "#E5ECF6",
            "gridcolor": "white",
            "gridwidth": 2,
            "linecolor": "white",
            "showbackground": true,
            "ticks": "",
            "zerolinecolor": "white"
           }
          },
          "shapedefaults": {
           "line": {
            "color": "#2a3f5f"
           }
          },
          "ternary": {
           "aaxis": {
            "gridcolor": "white",
            "linecolor": "white",
            "ticks": ""
           },
           "baxis": {
            "gridcolor": "white",
            "linecolor": "white",
            "ticks": ""
           },
           "bgcolor": "#E5ECF6",
           "caxis": {
            "gridcolor": "white",
            "linecolor": "white",
            "ticks": ""
           }
          },
          "title": {
           "x": 0.05
          },
          "xaxis": {
           "automargin": true,
           "gridcolor": "white",
           "linecolor": "white",
           "ticks": "",
           "title": {
            "standoff": 15
           },
           "zerolinecolor": "white",
           "zerolinewidth": 2
          },
          "yaxis": {
           "automargin": true,
           "gridcolor": "white",
           "linecolor": "white",
           "ticks": "",
           "title": {
            "standoff": 15
           },
           "zerolinecolor": "white",
           "zerolinewidth": 2
          }
         }
        },
        "title": {
         "text": "Confirmed,Deaths, Recovered Coronavirus cases World wide"
        },
        "yaxis": {
         "tickfont": {
          "size": 14
         },
         "title": {
          "font": {
           "size": 16
          },
          "text": "Number of Cases"
         }
        }
       }
      },
      "text/html": [
       "<div>\n",
       "        \n",
       "        \n",
       "            <div id=\"85b322a7-1d7c-40cb-afef-3fe547bcfb22\" class=\"plotly-graph-div\" style=\"height:525px; width:100%;\"></div>\n",
       "            <script type=\"text/javascript\">\n",
       "                require([\"plotly\"], function(Plotly) {\n",
       "                    window.PLOTLYENV=window.PLOTLYENV || {};\n",
       "                    \n",
       "                if (document.getElementById(\"85b322a7-1d7c-40cb-afef-3fe547bcfb22\")) {\n",
       "                    Plotly.newPlot(\n",
       "                        '85b322a7-1d7c-40cb-afef-3fe547bcfb22',\n",
       "                        [{\"marker\": {\"color\": \"orange\"}, \"name\": \"Confirmed\", \"type\": \"bar\", \"x\": [\"01/22/2020\", \"01/23/2020\", \"01/24/2020\", \"01/25/2020\", \"01/26/2020\", \"01/27/2020\", \"01/28/2020\", \"01/29/2020\", \"01/30/2020\", \"01/31/2020\", \"02/01/2020\", \"02/02/2020\", \"02/03/2020\", \"02/04/2020\", \"02/05/2020\", \"02/06/2020\", \"02/07/2020\", \"02/08/2020\", \"02/09/2020\", \"02/10/2020\", \"02/11/2020\", \"02/12/2020\", \"02/13/2020\", \"02/14/2020\", \"02/15/2020\", \"02/16/2020\", \"02/17/2020\", \"02/18/2020\", \"02/19/2020\", \"02/20/2020\", \"02/21/2020\", \"02/22/2020\", \"02/23/2020\", \"02/24/2020\", \"02/25/2020\", \"02/26/2020\", \"02/27/2020\", \"02/28/2020\", \"02/29/2020\", \"03/01/2020\", \"03/02/2020\"], \"y\": [555.0, 653.0, 941.0, 1438.0, 2118.0, 2927.0, 5578.0, 6165.0, 8235.0, 9925.0, 12038.0, 16787.0, 19881.0, 23892.0, 27636.0, 30818.0, 34392.0, 37121.0, 40151.0, 42763.0, 44803.0, 45222.0, 60370.0, 66887.0, 69032.0, 71226.0, 73260.0, 75138.0, 75641.0, 76199.0, 76843.0, 78599.0, 78985.0, 79570.0, 80415.0, 81397.0, 82756.0, 84124.0, 86013.0, 88371.0, 90309.0]}, {\"marker\": {\"color\": \"Green\"}, \"name\": \"Recovered\", \"type\": \"bar\", \"x\": [\"01/22/2020\", \"01/23/2020\", \"01/24/2020\", \"01/25/2020\", \"01/26/2020\", \"01/27/2020\", \"01/28/2020\", \"01/29/2020\", \"01/30/2020\", \"01/31/2020\", \"02/01/2020\", \"02/02/2020\", \"02/03/2020\", \"02/04/2020\", \"02/05/2020\", \"02/06/2020\", \"02/07/2020\", \"02/08/2020\", \"02/09/2020\", \"02/10/2020\", \"02/11/2020\", \"02/12/2020\", \"02/13/2020\", \"02/14/2020\", \"02/15/2020\", \"02/16/2020\", \"02/17/2020\", \"02/18/2020\", \"02/19/2020\", \"02/20/2020\", \"02/21/2020\", \"02/22/2020\", \"02/23/2020\", \"02/24/2020\", \"02/25/2020\", \"02/26/2020\", \"02/27/2020\", \"02/28/2020\", \"02/29/2020\", \"03/01/2020\", \"03/02/2020\"], \"y\": [28.0, 30.0, 36.0, 39.0, 52.0, 61.0, 107.0, 126.0, 143.0, 222.0, 284.0, 472.0, 623.0, 852.0, 1124.0, 1487.0, 2011.0, 2616.0, 3244.0, 3946.0, 4683.0, 5150.0, 6295.0, 8058.0, 9395.0, 10865.0, 12583.0, 14352.0, 16121.0, 18177.0, 18890.0, 22886.0, 23394.0, 25227.0, 27905.0, 30384.0, 33277.0, 36711.0, 39782.0, 42716.0, 45602.0]}, {\"marker\": {\"color\": \"Red\"}, \"name\": \"Deaths\", \"type\": \"bar\", \"x\": [\"01/22/2020\", \"01/23/2020\", \"01/24/2020\", \"01/25/2020\", \"01/26/2020\", \"01/27/2020\", \"01/28/2020\", \"01/29/2020\", \"01/30/2020\", \"01/31/2020\", \"02/01/2020\", \"02/02/2020\", \"02/03/2020\", \"02/04/2020\", \"02/05/2020\", \"02/06/2020\", \"02/07/2020\", \"02/08/2020\", \"02/09/2020\", \"02/10/2020\", \"02/11/2020\", \"02/12/2020\", \"02/13/2020\", \"02/14/2020\", \"02/15/2020\", \"02/16/2020\", \"02/17/2020\", \"02/18/2020\", \"02/19/2020\", \"02/20/2020\", \"02/21/2020\", \"02/22/2020\", \"02/23/2020\", \"02/24/2020\", \"02/25/2020\", \"02/26/2020\", \"02/27/2020\", \"02/28/2020\", \"02/29/2020\", \"03/01/2020\", \"03/02/2020\"], \"y\": [17.0, 18.0, 26.0, 42.0, 56.0, 82.0, 131.0, 133.0, 171.0, 213.0, 259.0, 362.0, 426.0, 492.0, 564.0, 634.0, 719.0, 806.0, 906.0, 1013.0, 1113.0, 1118.0, 1371.0, 1523.0, 1666.0, 1770.0, 1868.0, 2007.0, 2122.0, 2247.0, 2251.0, 2458.0, 2469.0, 2629.0, 2708.0, 2770.0, 2814.0, 2872.0, 2941.0, 2996.0, 3085.0]}],\n",
       "                        {\"template\": {\"data\": {\"bar\": [{\"error_x\": {\"color\": \"#2a3f5f\"}, \"error_y\": {\"color\": \"#2a3f5f\"}, \"marker\": {\"line\": {\"color\": \"#E5ECF6\", \"width\": 0.5}}, \"type\": \"bar\"}], \"barpolar\": [{\"marker\": {\"line\": {\"color\": \"#E5ECF6\", \"width\": 0.5}}, \"type\": \"barpolar\"}], \"carpet\": [{\"aaxis\": {\"endlinecolor\": \"#2a3f5f\", \"gridcolor\": \"white\", \"linecolor\": \"white\", \"minorgridcolor\": \"white\", \"startlinecolor\": \"#2a3f5f\"}, \"baxis\": {\"endlinecolor\": \"#2a3f5f\", \"gridcolor\": \"white\", \"linecolor\": \"white\", \"minorgridcolor\": \"white\", \"startlinecolor\": \"#2a3f5f\"}, \"type\": \"carpet\"}], \"choropleth\": [{\"colorbar\": {\"outlinewidth\": 0, \"ticks\": \"\"}, \"type\": \"choropleth\"}], \"contour\": [{\"colorbar\": {\"outlinewidth\": 0, \"ticks\": \"\"}, \"colorscale\": [[0.0, \"#0d0887\"], [0.1111111111111111, \"#46039f\"], [0.2222222222222222, \"#7201a8\"], [0.3333333333333333, \"#9c179e\"], [0.4444444444444444, \"#bd3786\"], [0.5555555555555556, \"#d8576b\"], [0.6666666666666666, \"#ed7953\"], [0.7777777777777778, \"#fb9f3a\"], [0.8888888888888888, \"#fdca26\"], [1.0, \"#f0f921\"]], \"type\": \"contour\"}], \"contourcarpet\": [{\"colorbar\": {\"outlinewidth\": 0, \"ticks\": \"\"}, \"type\": \"contourcarpet\"}], \"heatmap\": [{\"colorbar\": {\"outlinewidth\": 0, \"ticks\": \"\"}, \"colorscale\": [[0.0, \"#0d0887\"], [0.1111111111111111, \"#46039f\"], [0.2222222222222222, \"#7201a8\"], [0.3333333333333333, \"#9c179e\"], [0.4444444444444444, \"#bd3786\"], [0.5555555555555556, \"#d8576b\"], [0.6666666666666666, \"#ed7953\"], [0.7777777777777778, \"#fb9f3a\"], [0.8888888888888888, \"#fdca26\"], [1.0, \"#f0f921\"]], \"type\": \"heatmap\"}], \"heatmapgl\": [{\"colorbar\": {\"outlinewidth\": 0, \"ticks\": \"\"}, \"colorscale\": [[0.0, \"#0d0887\"], [0.1111111111111111, \"#46039f\"], [0.2222222222222222, \"#7201a8\"], [0.3333333333333333, \"#9c179e\"], [0.4444444444444444, \"#bd3786\"], [0.5555555555555556, \"#d8576b\"], [0.6666666666666666, \"#ed7953\"], [0.7777777777777778, \"#fb9f3a\"], [0.8888888888888888, \"#fdca26\"], [1.0, \"#f0f921\"]], \"type\": \"heatmapgl\"}], \"histogram\": [{\"marker\": {\"colorbar\": {\"outlinewidth\": 0, \"ticks\": \"\"}}, \"type\": \"histogram\"}], \"histogram2d\": [{\"colorbar\": {\"outlinewidth\": 0, \"ticks\": \"\"}, \"colorscale\": [[0.0, \"#0d0887\"], [0.1111111111111111, \"#46039f\"], [0.2222222222222222, \"#7201a8\"], [0.3333333333333333, \"#9c179e\"], [0.4444444444444444, \"#bd3786\"], [0.5555555555555556, \"#d8576b\"], [0.6666666666666666, \"#ed7953\"], [0.7777777777777778, \"#fb9f3a\"], [0.8888888888888888, \"#fdca26\"], [1.0, \"#f0f921\"]], \"type\": \"histogram2d\"}], \"histogram2dcontour\": [{\"colorbar\": {\"outlinewidth\": 0, \"ticks\": \"\"}, \"colorscale\": [[0.0, \"#0d0887\"], [0.1111111111111111, \"#46039f\"], [0.2222222222222222, \"#7201a8\"], [0.3333333333333333, \"#9c179e\"], [0.4444444444444444, \"#bd3786\"], [0.5555555555555556, \"#d8576b\"], [0.6666666666666666, \"#ed7953\"], [0.7777777777777778, \"#fb9f3a\"], [0.8888888888888888, \"#fdca26\"], [1.0, \"#f0f921\"]], \"type\": \"histogram2dcontour\"}], \"mesh3d\": [{\"colorbar\": {\"outlinewidth\": 0, \"ticks\": \"\"}, \"type\": \"mesh3d\"}], \"parcoords\": [{\"line\": {\"colorbar\": {\"outlinewidth\": 0, \"ticks\": \"\"}}, \"type\": \"parcoords\"}], \"pie\": [{\"automargin\": true, \"type\": \"pie\"}], \"scatter\": [{\"marker\": {\"colorbar\": {\"outlinewidth\": 0, \"ticks\": \"\"}}, \"type\": \"scatter\"}], \"scatter3d\": [{\"line\": {\"colorbar\": {\"outlinewidth\": 0, \"ticks\": \"\"}}, \"marker\": {\"colorbar\": {\"outlinewidth\": 0, \"ticks\": \"\"}}, \"type\": \"scatter3d\"}], \"scattercarpet\": [{\"marker\": {\"colorbar\": {\"outlinewidth\": 0, \"ticks\": \"\"}}, \"type\": \"scattercarpet\"}], \"scattergeo\": [{\"marker\": {\"colorbar\": {\"outlinewidth\": 0, \"ticks\": \"\"}}, \"type\": \"scattergeo\"}], \"scattergl\": [{\"marker\": {\"colorbar\": {\"outlinewidth\": 0, \"ticks\": \"\"}}, \"type\": \"scattergl\"}], \"scattermapbox\": [{\"marker\": {\"colorbar\": {\"outlinewidth\": 0, \"ticks\": \"\"}}, \"type\": \"scattermapbox\"}], \"scatterpolar\": [{\"marker\": {\"colorbar\": {\"outlinewidth\": 0, \"ticks\": \"\"}}, \"type\": \"scatterpolar\"}], \"scatterpolargl\": [{\"marker\": {\"colorbar\": {\"outlinewidth\": 0, \"ticks\": \"\"}}, \"type\": \"scatterpolargl\"}], \"scatterternary\": [{\"marker\": {\"colorbar\": {\"outlinewidth\": 0, \"ticks\": \"\"}}, \"type\": \"scatterternary\"}], \"surface\": [{\"colorbar\": {\"outlinewidth\": 0, \"ticks\": \"\"}, \"colorscale\": [[0.0, \"#0d0887\"], [0.1111111111111111, \"#46039f\"], [0.2222222222222222, \"#7201a8\"], [0.3333333333333333, \"#9c179e\"], [0.4444444444444444, \"#bd3786\"], [0.5555555555555556, \"#d8576b\"], [0.6666666666666666, \"#ed7953\"], [0.7777777777777778, \"#fb9f3a\"], [0.8888888888888888, \"#fdca26\"], [1.0, \"#f0f921\"]], \"type\": \"surface\"}], \"table\": [{\"cells\": {\"fill\": {\"color\": \"#EBF0F8\"}, \"line\": {\"color\": \"white\"}}, \"header\": {\"fill\": {\"color\": \"#C8D4E3\"}, \"line\": {\"color\": \"white\"}}, \"type\": \"table\"}]}, \"layout\": {\"annotationdefaults\": {\"arrowcolor\": \"#2a3f5f\", \"arrowhead\": 0, \"arrowwidth\": 1}, \"coloraxis\": {\"colorbar\": {\"outlinewidth\": 0, \"ticks\": \"\"}}, \"colorscale\": {\"diverging\": [[0, \"#8e0152\"], [0.1, \"#c51b7d\"], [0.2, \"#de77ae\"], [0.3, \"#f1b6da\"], [0.4, \"#fde0ef\"], [0.5, \"#f7f7f7\"], [0.6, \"#e6f5d0\"], [0.7, \"#b8e186\"], [0.8, \"#7fbc41\"], [0.9, \"#4d9221\"], [1, \"#276419\"]], \"sequential\": [[0.0, \"#0d0887\"], [0.1111111111111111, \"#46039f\"], [0.2222222222222222, \"#7201a8\"], [0.3333333333333333, \"#9c179e\"], [0.4444444444444444, \"#bd3786\"], [0.5555555555555556, \"#d8576b\"], [0.6666666666666666, \"#ed7953\"], [0.7777777777777778, \"#fb9f3a\"], [0.8888888888888888, \"#fdca26\"], [1.0, \"#f0f921\"]], \"sequentialminus\": [[0.0, \"#0d0887\"], [0.1111111111111111, \"#46039f\"], [0.2222222222222222, \"#7201a8\"], [0.3333333333333333, \"#9c179e\"], [0.4444444444444444, \"#bd3786\"], [0.5555555555555556, \"#d8576b\"], [0.6666666666666666, \"#ed7953\"], [0.7777777777777778, \"#fb9f3a\"], [0.8888888888888888, \"#fdca26\"], [1.0, \"#f0f921\"]]}, \"colorway\": [\"#636efa\", \"#EF553B\", \"#00cc96\", \"#ab63fa\", \"#FFA15A\", \"#19d3f3\", \"#FF6692\", \"#B6E880\", \"#FF97FF\", \"#FECB52\"], \"font\": {\"color\": \"#2a3f5f\"}, \"geo\": {\"bgcolor\": \"white\", \"lakecolor\": \"white\", \"landcolor\": \"#E5ECF6\", \"showlakes\": true, \"showland\": true, \"subunitcolor\": \"white\"}, \"hoverlabel\": {\"align\": \"left\"}, \"hovermode\": \"closest\", \"mapbox\": {\"style\": \"light\"}, \"paper_bgcolor\": \"white\", \"plot_bgcolor\": \"#E5ECF6\", \"polar\": {\"angularaxis\": {\"gridcolor\": \"white\", \"linecolor\": \"white\", \"ticks\": \"\"}, \"bgcolor\": \"#E5ECF6\", \"radialaxis\": {\"gridcolor\": \"white\", \"linecolor\": \"white\", \"ticks\": \"\"}}, \"scene\": {\"xaxis\": {\"backgroundcolor\": \"#E5ECF6\", \"gridcolor\": \"white\", \"gridwidth\": 2, \"linecolor\": \"white\", \"showbackground\": true, \"ticks\": \"\", \"zerolinecolor\": \"white\"}, \"yaxis\": {\"backgroundcolor\": \"#E5ECF6\", \"gridcolor\": \"white\", \"gridwidth\": 2, \"linecolor\": \"white\", \"showbackground\": true, \"ticks\": \"\", \"zerolinecolor\": \"white\"}, \"zaxis\": {\"backgroundcolor\": \"#E5ECF6\", \"gridcolor\": \"white\", \"gridwidth\": 2, \"linecolor\": \"white\", \"showbackground\": true, \"ticks\": \"\", \"zerolinecolor\": \"white\"}}, \"shapedefaults\": {\"line\": {\"color\": \"#2a3f5f\"}}, \"ternary\": {\"aaxis\": {\"gridcolor\": \"white\", \"linecolor\": \"white\", \"ticks\": \"\"}, \"baxis\": {\"gridcolor\": \"white\", \"linecolor\": \"white\", \"ticks\": \"\"}, \"bgcolor\": \"#E5ECF6\", \"caxis\": {\"gridcolor\": \"white\", \"linecolor\": \"white\", \"ticks\": \"\"}}, \"title\": {\"x\": 0.05}, \"xaxis\": {\"automargin\": true, \"gridcolor\": \"white\", \"linecolor\": \"white\", \"ticks\": \"\", \"title\": {\"standoff\": 15}, \"zerolinecolor\": \"white\", \"zerolinewidth\": 2}, \"yaxis\": {\"automargin\": true, \"gridcolor\": \"white\", \"linecolor\": \"white\", \"ticks\": \"\", \"title\": {\"standoff\": 15}, \"zerolinecolor\": \"white\", \"zerolinewidth\": 2}}}, \"title\": {\"text\": \"Confirmed,Deaths, Recovered Coronavirus cases World wide\"}, \"yaxis\": {\"tickfont\": {\"size\": 14}, \"title\": {\"font\": {\"size\": 16}, \"text\": \"Number of Cases\"}}},\n",
       "                        {\"responsive\": true}\n",
       "                    ).then(function(){\n",
       "                            \n",
       "var gd = document.getElementById('85b322a7-1d7c-40cb-afef-3fe547bcfb22');\n",
       "var x = new MutationObserver(function (mutations, observer) {{\n",
       "        var display = window.getComputedStyle(gd).display;\n",
       "        if (!display || display === 'none') {{\n",
       "            console.log([gd, 'removed!']);\n",
       "            Plotly.purge(gd);\n",
       "            observer.disconnect();\n",
       "        }}\n",
       "}});\n",
       "\n",
       "// Listen for the removal of the full notebook cells\n",
       "var notebookContainer = gd.closest('#notebook-container');\n",
       "if (notebookContainer) {{\n",
       "    x.observe(notebookContainer, {childList: true});\n",
       "}}\n",
       "\n",
       "// Listen for the clearing of the current output cell\n",
       "var outputEl = gd.closest('.output');\n",
       "if (outputEl) {{\n",
       "    x.observe(outputEl, {childList: true});\n",
       "}}\n",
       "\n",
       "                        })\n",
       "                };\n",
       "                });\n",
       "            </script>\n",
       "        </div>"
      ]
     },
     "metadata": {},
     "output_type": "display_data"
    }
   ],
   "source": [
    "#Worldwide trend of cases\n",
    "import matplotlib.pyplot as plt\n",
    "\n",
    "china_trend=ncov_data.groupby('ObservationDate').sum().reset_index()\n",
    "import plotly.graph_objects as go\n",
    "from plotly.subplots import make_subplots\n",
    "\n",
    "# Create figure with secondary y-axis\n",
    "fig=go.Figure()\n",
    "\n",
    "# Add traces\n",
    "fig.add_trace(\n",
    "    go.Bar(x=china_trend['ObservationDate'],y=china_trend['Confirmed'] ,name=\"Confirmed\",\n",
    "   marker_color=\"orange\")\n",
    ")\n",
    "\n",
    "fig.add_trace(\n",
    "    go.Bar(x=china_trend['ObservationDate'],y=china_trend['Recovered'], name=\"Recovered\",\n",
    "   marker_color=\"Green\")\n",
    ")\n",
    "fig.add_trace(\n",
    "    go.Bar(x=china_trend['ObservationDate'],y=china_trend['Deaths'] ,name=\"Deaths\",\n",
    "   marker_color=\"Red\")\n",
    ")\n",
    "\n",
    "# Add figure title\n",
    "fig.update_layout(\n",
    "    title_text=\"Confirmed,Deaths, Recovered Coronavirus cases World wide\",\n",
    "    yaxis=dict(\n",
    "        title='Number of Cases',\n",
    "        titlefont_size=16,\n",
    "        tickfont_size=14,\n",
    ")\n",
    "\n",
    ")\n",
    "\n",
    "\n",
    "\n",
    "fig.show()\n",
    "\n"
   ]
  },
  {
   "cell_type": "markdown",
   "metadata": {},
   "source": [
    "# Confirm cases in China vs other countries\n"
   ]
  },
  {
   "cell_type": "code",
   "execution_count": 135,
   "metadata": {},
   "outputs": [],
   "source": [
    "other_countries=ncov_data[ncov_data['Country/Region']!='China'].groupby('ObservationDate').sum().reset_index()\n",
    "china=ncov_data[ncov_data['Country/Region']=='China'].groupby('ObservationDate').sum().reset_index()"
   ]
  },
  {
   "cell_type": "code",
   "execution_count": 167,
   "metadata": {},
   "outputs": [
    {
     "data": {
      "application/vnd.plotly.v1+json": {
       "config": {
        "plotlyServerURL": "https://plot.ly"
       },
       "data": [
        {
         "marker": {
          "color": "orange"
         },
         "mode": "lines+markers",
         "name": "other_countries",
         "type": "scatter",
         "x": [
          "01/22/2020",
          "01/23/2020",
          "01/24/2020",
          "01/25/2020",
          "01/26/2020",
          "01/27/2020",
          "01/28/2020",
          "01/29/2020",
          "01/30/2020",
          "01/31/2020",
          "02/01/2020",
          "02/02/2020",
          "02/03/2020",
          "02/04/2020",
          "02/05/2020",
          "02/06/2020",
          "02/07/2020",
          "02/08/2020",
          "02/09/2020",
          "02/10/2020",
          "02/11/2020",
          "02/12/2020",
          "02/13/2020",
          "02/14/2020",
          "02/15/2020",
          "02/16/2020",
          "02/17/2020",
          "02/18/2020",
          "02/19/2020",
          "02/20/2020",
          "02/21/2020",
          "02/22/2020",
          "02/23/2020",
          "02/24/2020",
          "02/25/2020",
          "02/26/2020",
          "02/27/2020",
          "02/28/2020",
          "02/29/2020",
          "03/01/2020",
          "03/02/2020"
         ],
         "y": [
          8,
          14,
          25,
          39,
          56,
          64,
          84,
          95,
          111,
          142,
          167,
          180,
          188,
          212,
          227,
          265,
          317,
          343,
          361,
          457,
          476,
          523,
          538,
          595,
          685,
          780,
          896,
          999,
          1095,
          1200,
          1371,
          1677,
          2047,
          2418,
          2755,
          3332,
          4258,
          5300,
          6762,
          8545,
          10283
         ]
        },
        {
         "marker": {
          "color": "Green"
         },
         "mode": "lines+markers",
         "name": "China",
         "type": "scatter",
         "x": [
          "01/22/2020",
          "01/23/2020",
          "01/24/2020",
          "01/25/2020",
          "01/26/2020",
          "01/27/2020",
          "01/28/2020",
          "01/29/2020",
          "01/30/2020",
          "01/31/2020",
          "02/01/2020",
          "02/02/2020",
          "02/03/2020",
          "02/04/2020",
          "02/05/2020",
          "02/06/2020",
          "02/07/2020",
          "02/08/2020",
          "02/09/2020",
          "02/10/2020",
          "02/11/2020",
          "02/12/2020",
          "02/13/2020",
          "02/14/2020",
          "02/15/2020",
          "02/16/2020",
          "02/17/2020",
          "02/18/2020",
          "02/19/2020",
          "02/20/2020",
          "02/21/2020",
          "02/22/2020",
          "02/23/2020",
          "02/24/2020",
          "02/25/2020",
          "02/26/2020",
          "02/27/2020",
          "02/28/2020",
          "02/29/2020",
          "03/01/2020",
          "03/02/2020"
         ],
         "y": [
          547,
          639,
          916,
          1399,
          2062,
          2863,
          5494,
          6070,
          8124,
          9783,
          11871,
          16607,
          19693,
          23680,
          27409,
          30553,
          34075,
          36778,
          39790,
          42306,
          44327,
          44699,
          59832,
          66292,
          68347,
          70446,
          72364,
          74139,
          74546,
          74999,
          75472,
          76922,
          76938,
          77152,
          77660,
          78065,
          78498,
          78824,
          79251,
          79826,
          80026
         ]
        }
       ],
       "layout": {
        "template": {
         "data": {
          "bar": [
           {
            "error_x": {
             "color": "#2a3f5f"
            },
            "error_y": {
             "color": "#2a3f5f"
            },
            "marker": {
             "line": {
              "color": "#E5ECF6",
              "width": 0.5
             }
            },
            "type": "bar"
           }
          ],
          "barpolar": [
           {
            "marker": {
             "line": {
              "color": "#E5ECF6",
              "width": 0.5
             }
            },
            "type": "barpolar"
           }
          ],
          "carpet": [
           {
            "aaxis": {
             "endlinecolor": "#2a3f5f",
             "gridcolor": "white",
             "linecolor": "white",
             "minorgridcolor": "white",
             "startlinecolor": "#2a3f5f"
            },
            "baxis": {
             "endlinecolor": "#2a3f5f",
             "gridcolor": "white",
             "linecolor": "white",
             "minorgridcolor": "white",
             "startlinecolor": "#2a3f5f"
            },
            "type": "carpet"
           }
          ],
          "choropleth": [
           {
            "colorbar": {
             "outlinewidth": 0,
             "ticks": ""
            },
            "type": "choropleth"
           }
          ],
          "contour": [
           {
            "colorbar": {
             "outlinewidth": 0,
             "ticks": ""
            },
            "colorscale": [
             [
              0,
              "#0d0887"
             ],
             [
              0.1111111111111111,
              "#46039f"
             ],
             [
              0.2222222222222222,
              "#7201a8"
             ],
             [
              0.3333333333333333,
              "#9c179e"
             ],
             [
              0.4444444444444444,
              "#bd3786"
             ],
             [
              0.5555555555555556,
              "#d8576b"
             ],
             [
              0.6666666666666666,
              "#ed7953"
             ],
             [
              0.7777777777777778,
              "#fb9f3a"
             ],
             [
              0.8888888888888888,
              "#fdca26"
             ],
             [
              1,
              "#f0f921"
             ]
            ],
            "type": "contour"
           }
          ],
          "contourcarpet": [
           {
            "colorbar": {
             "outlinewidth": 0,
             "ticks": ""
            },
            "type": "contourcarpet"
           }
          ],
          "heatmap": [
           {
            "colorbar": {
             "outlinewidth": 0,
             "ticks": ""
            },
            "colorscale": [
             [
              0,
              "#0d0887"
             ],
             [
              0.1111111111111111,
              "#46039f"
             ],
             [
              0.2222222222222222,
              "#7201a8"
             ],
             [
              0.3333333333333333,
              "#9c179e"
             ],
             [
              0.4444444444444444,
              "#bd3786"
             ],
             [
              0.5555555555555556,
              "#d8576b"
             ],
             [
              0.6666666666666666,
              "#ed7953"
             ],
             [
              0.7777777777777778,
              "#fb9f3a"
             ],
             [
              0.8888888888888888,
              "#fdca26"
             ],
             [
              1,
              "#f0f921"
             ]
            ],
            "type": "heatmap"
           }
          ],
          "heatmapgl": [
           {
            "colorbar": {
             "outlinewidth": 0,
             "ticks": ""
            },
            "colorscale": [
             [
              0,
              "#0d0887"
             ],
             [
              0.1111111111111111,
              "#46039f"
             ],
             [
              0.2222222222222222,
              "#7201a8"
             ],
             [
              0.3333333333333333,
              "#9c179e"
             ],
             [
              0.4444444444444444,
              "#bd3786"
             ],
             [
              0.5555555555555556,
              "#d8576b"
             ],
             [
              0.6666666666666666,
              "#ed7953"
             ],
             [
              0.7777777777777778,
              "#fb9f3a"
             ],
             [
              0.8888888888888888,
              "#fdca26"
             ],
             [
              1,
              "#f0f921"
             ]
            ],
            "type": "heatmapgl"
           }
          ],
          "histogram": [
           {
            "marker": {
             "colorbar": {
              "outlinewidth": 0,
              "ticks": ""
             }
            },
            "type": "histogram"
           }
          ],
          "histogram2d": [
           {
            "colorbar": {
             "outlinewidth": 0,
             "ticks": ""
            },
            "colorscale": [
             [
              0,
              "#0d0887"
             ],
             [
              0.1111111111111111,
              "#46039f"
             ],
             [
              0.2222222222222222,
              "#7201a8"
             ],
             [
              0.3333333333333333,
              "#9c179e"
             ],
             [
              0.4444444444444444,
              "#bd3786"
             ],
             [
              0.5555555555555556,
              "#d8576b"
             ],
             [
              0.6666666666666666,
              "#ed7953"
             ],
             [
              0.7777777777777778,
              "#fb9f3a"
             ],
             [
              0.8888888888888888,
              "#fdca26"
             ],
             [
              1,
              "#f0f921"
             ]
            ],
            "type": "histogram2d"
           }
          ],
          "histogram2dcontour": [
           {
            "colorbar": {
             "outlinewidth": 0,
             "ticks": ""
            },
            "colorscale": [
             [
              0,
              "#0d0887"
             ],
             [
              0.1111111111111111,
              "#46039f"
             ],
             [
              0.2222222222222222,
              "#7201a8"
             ],
             [
              0.3333333333333333,
              "#9c179e"
             ],
             [
              0.4444444444444444,
              "#bd3786"
             ],
             [
              0.5555555555555556,
              "#d8576b"
             ],
             [
              0.6666666666666666,
              "#ed7953"
             ],
             [
              0.7777777777777778,
              "#fb9f3a"
             ],
             [
              0.8888888888888888,
              "#fdca26"
             ],
             [
              1,
              "#f0f921"
             ]
            ],
            "type": "histogram2dcontour"
           }
          ],
          "mesh3d": [
           {
            "colorbar": {
             "outlinewidth": 0,
             "ticks": ""
            },
            "type": "mesh3d"
           }
          ],
          "parcoords": [
           {
            "line": {
             "colorbar": {
              "outlinewidth": 0,
              "ticks": ""
             }
            },
            "type": "parcoords"
           }
          ],
          "pie": [
           {
            "automargin": true,
            "type": "pie"
           }
          ],
          "scatter": [
           {
            "marker": {
             "colorbar": {
              "outlinewidth": 0,
              "ticks": ""
             }
            },
            "type": "scatter"
           }
          ],
          "scatter3d": [
           {
            "line": {
             "colorbar": {
              "outlinewidth": 0,
              "ticks": ""
             }
            },
            "marker": {
             "colorbar": {
              "outlinewidth": 0,
              "ticks": ""
             }
            },
            "type": "scatter3d"
           }
          ],
          "scattercarpet": [
           {
            "marker": {
             "colorbar": {
              "outlinewidth": 0,
              "ticks": ""
             }
            },
            "type": "scattercarpet"
           }
          ],
          "scattergeo": [
           {
            "marker": {
             "colorbar": {
              "outlinewidth": 0,
              "ticks": ""
             }
            },
            "type": "scattergeo"
           }
          ],
          "scattergl": [
           {
            "marker": {
             "colorbar": {
              "outlinewidth": 0,
              "ticks": ""
             }
            },
            "type": "scattergl"
           }
          ],
          "scattermapbox": [
           {
            "marker": {
             "colorbar": {
              "outlinewidth": 0,
              "ticks": ""
             }
            },
            "type": "scattermapbox"
           }
          ],
          "scatterpolar": [
           {
            "marker": {
             "colorbar": {
              "outlinewidth": 0,
              "ticks": ""
             }
            },
            "type": "scatterpolar"
           }
          ],
          "scatterpolargl": [
           {
            "marker": {
             "colorbar": {
              "outlinewidth": 0,
              "ticks": ""
             }
            },
            "type": "scatterpolargl"
           }
          ],
          "scatterternary": [
           {
            "marker": {
             "colorbar": {
              "outlinewidth": 0,
              "ticks": ""
             }
            },
            "type": "scatterternary"
           }
          ],
          "surface": [
           {
            "colorbar": {
             "outlinewidth": 0,
             "ticks": ""
            },
            "colorscale": [
             [
              0,
              "#0d0887"
             ],
             [
              0.1111111111111111,
              "#46039f"
             ],
             [
              0.2222222222222222,
              "#7201a8"
             ],
             [
              0.3333333333333333,
              "#9c179e"
             ],
             [
              0.4444444444444444,
              "#bd3786"
             ],
             [
              0.5555555555555556,
              "#d8576b"
             ],
             [
              0.6666666666666666,
              "#ed7953"
             ],
             [
              0.7777777777777778,
              "#fb9f3a"
             ],
             [
              0.8888888888888888,
              "#fdca26"
             ],
             [
              1,
              "#f0f921"
             ]
            ],
            "type": "surface"
           }
          ],
          "table": [
           {
            "cells": {
             "fill": {
              "color": "#EBF0F8"
             },
             "line": {
              "color": "white"
             }
            },
            "header": {
             "fill": {
              "color": "#C8D4E3"
             },
             "line": {
              "color": "white"
             }
            },
            "type": "table"
           }
          ]
         },
         "layout": {
          "annotationdefaults": {
           "arrowcolor": "#2a3f5f",
           "arrowhead": 0,
           "arrowwidth": 1
          },
          "coloraxis": {
           "colorbar": {
            "outlinewidth": 0,
            "ticks": ""
           }
          },
          "colorscale": {
           "diverging": [
            [
             0,
             "#8e0152"
            ],
            [
             0.1,
             "#c51b7d"
            ],
            [
             0.2,
             "#de77ae"
            ],
            [
             0.3,
             "#f1b6da"
            ],
            [
             0.4,
             "#fde0ef"
            ],
            [
             0.5,
             "#f7f7f7"
            ],
            [
             0.6,
             "#e6f5d0"
            ],
            [
             0.7,
             "#b8e186"
            ],
            [
             0.8,
             "#7fbc41"
            ],
            [
             0.9,
             "#4d9221"
            ],
            [
             1,
             "#276419"
            ]
           ],
           "sequential": [
            [
             0,
             "#0d0887"
            ],
            [
             0.1111111111111111,
             "#46039f"
            ],
            [
             0.2222222222222222,
             "#7201a8"
            ],
            [
             0.3333333333333333,
             "#9c179e"
            ],
            [
             0.4444444444444444,
             "#bd3786"
            ],
            [
             0.5555555555555556,
             "#d8576b"
            ],
            [
             0.6666666666666666,
             "#ed7953"
            ],
            [
             0.7777777777777778,
             "#fb9f3a"
            ],
            [
             0.8888888888888888,
             "#fdca26"
            ],
            [
             1,
             "#f0f921"
            ]
           ],
           "sequentialminus": [
            [
             0,
             "#0d0887"
            ],
            [
             0.1111111111111111,
             "#46039f"
            ],
            [
             0.2222222222222222,
             "#7201a8"
            ],
            [
             0.3333333333333333,
             "#9c179e"
            ],
            [
             0.4444444444444444,
             "#bd3786"
            ],
            [
             0.5555555555555556,
             "#d8576b"
            ],
            [
             0.6666666666666666,
             "#ed7953"
            ],
            [
             0.7777777777777778,
             "#fb9f3a"
            ],
            [
             0.8888888888888888,
             "#fdca26"
            ],
            [
             1,
             "#f0f921"
            ]
           ]
          },
          "colorway": [
           "#636efa",
           "#EF553B",
           "#00cc96",
           "#ab63fa",
           "#FFA15A",
           "#19d3f3",
           "#FF6692",
           "#B6E880",
           "#FF97FF",
           "#FECB52"
          ],
          "font": {
           "color": "#2a3f5f"
          },
          "geo": {
           "bgcolor": "white",
           "lakecolor": "white",
           "landcolor": "#E5ECF6",
           "showlakes": true,
           "showland": true,
           "subunitcolor": "white"
          },
          "hoverlabel": {
           "align": "left"
          },
          "hovermode": "closest",
          "mapbox": {
           "style": "light"
          },
          "paper_bgcolor": "white",
          "plot_bgcolor": "#E5ECF6",
          "polar": {
           "angularaxis": {
            "gridcolor": "white",
            "linecolor": "white",
            "ticks": ""
           },
           "bgcolor": "#E5ECF6",
           "radialaxis": {
            "gridcolor": "white",
            "linecolor": "white",
            "ticks": ""
           }
          },
          "scene": {
           "xaxis": {
            "backgroundcolor": "#E5ECF6",
            "gridcolor": "white",
            "gridwidth": 2,
            "linecolor": "white",
            "showbackground": true,
            "ticks": "",
            "zerolinecolor": "white"
           },
           "yaxis": {
            "backgroundcolor": "#E5ECF6",
            "gridcolor": "white",
            "gridwidth": 2,
            "linecolor": "white",
            "showbackground": true,
            "ticks": "",
            "zerolinecolor": "white"
           },
           "zaxis": {
            "backgroundcolor": "#E5ECF6",
            "gridcolor": "white",
            "gridwidth": 2,
            "linecolor": "white",
            "showbackground": true,
            "ticks": "",
            "zerolinecolor": "white"
           }
          },
          "shapedefaults": {
           "line": {
            "color": "#2a3f5f"
           }
          },
          "ternary": {
           "aaxis": {
            "gridcolor": "white",
            "linecolor": "white",
            "ticks": ""
           },
           "baxis": {
            "gridcolor": "white",
            "linecolor": "white",
            "ticks": ""
           },
           "bgcolor": "#E5ECF6",
           "caxis": {
            "gridcolor": "white",
            "linecolor": "white",
            "ticks": ""
           }
          },
          "title": {
           "x": 0.05
          },
          "xaxis": {
           "automargin": true,
           "gridcolor": "white",
           "linecolor": "white",
           "ticks": "",
           "title": {
            "standoff": 15
           },
           "zerolinecolor": "white",
           "zerolinewidth": 2
          },
          "yaxis": {
           "automargin": true,
           "gridcolor": "white",
           "linecolor": "white",
           "ticks": "",
           "title": {
            "standoff": 15
           },
           "zerolinecolor": "white",
           "zerolinewidth": 2
          }
         }
        },
        "title": {
         "text": "Confirm cases china vs other countries"
        },
        "xaxis": {
         "anchor": "y",
         "domain": [
          0,
          0.94
         ]
        },
        "yaxis": {
         "anchor": "x",
         "domain": [
          0,
          1
         ],
         "tickfont": {
          "size": 14
         },
         "title": {
          "font": {
           "size": 16
          },
          "text": "Number of Cases"
         },
         "type": "log"
        },
        "yaxis2": {
         "anchor": "x",
         "overlaying": "y",
         "side": "right"
        }
       }
      },
      "text/html": [
       "<div>\n",
       "        \n",
       "        \n",
       "            <div id=\"d68e66de-1c02-45c1-8de6-ea0f78832575\" class=\"plotly-graph-div\" style=\"height:525px; width:100%;\"></div>\n",
       "            <script type=\"text/javascript\">\n",
       "                require([\"plotly\"], function(Plotly) {\n",
       "                    window.PLOTLYENV=window.PLOTLYENV || {};\n",
       "                    \n",
       "                if (document.getElementById(\"d68e66de-1c02-45c1-8de6-ea0f78832575\")) {\n",
       "                    Plotly.newPlot(\n",
       "                        'd68e66de-1c02-45c1-8de6-ea0f78832575',\n",
       "                        [{\"marker\": {\"color\": \"orange\"}, \"mode\": \"lines+markers\", \"name\": \"other_countries\", \"type\": \"scatter\", \"x\": [\"01/22/2020\", \"01/23/2020\", \"01/24/2020\", \"01/25/2020\", \"01/26/2020\", \"01/27/2020\", \"01/28/2020\", \"01/29/2020\", \"01/30/2020\", \"01/31/2020\", \"02/01/2020\", \"02/02/2020\", \"02/03/2020\", \"02/04/2020\", \"02/05/2020\", \"02/06/2020\", \"02/07/2020\", \"02/08/2020\", \"02/09/2020\", \"02/10/2020\", \"02/11/2020\", \"02/12/2020\", \"02/13/2020\", \"02/14/2020\", \"02/15/2020\", \"02/16/2020\", \"02/17/2020\", \"02/18/2020\", \"02/19/2020\", \"02/20/2020\", \"02/21/2020\", \"02/22/2020\", \"02/23/2020\", \"02/24/2020\", \"02/25/2020\", \"02/26/2020\", \"02/27/2020\", \"02/28/2020\", \"02/29/2020\", \"03/01/2020\", \"03/02/2020\"], \"y\": [8.0, 14.0, 25.0, 39.0, 56.0, 64.0, 84.0, 95.0, 111.0, 142.0, 167.0, 180.0, 188.0, 212.0, 227.0, 265.0, 317.0, 343.0, 361.0, 457.0, 476.0, 523.0, 538.0, 595.0, 685.0, 780.0, 896.0, 999.0, 1095.0, 1200.0, 1371.0, 1677.0, 2047.0, 2418.0, 2755.0, 3332.0, 4258.0, 5300.0, 6762.0, 8545.0, 10283.0]}, {\"marker\": {\"color\": \"Green\"}, \"mode\": \"lines+markers\", \"name\": \"China\", \"type\": \"scatter\", \"x\": [\"01/22/2020\", \"01/23/2020\", \"01/24/2020\", \"01/25/2020\", \"01/26/2020\", \"01/27/2020\", \"01/28/2020\", \"01/29/2020\", \"01/30/2020\", \"01/31/2020\", \"02/01/2020\", \"02/02/2020\", \"02/03/2020\", \"02/04/2020\", \"02/05/2020\", \"02/06/2020\", \"02/07/2020\", \"02/08/2020\", \"02/09/2020\", \"02/10/2020\", \"02/11/2020\", \"02/12/2020\", \"02/13/2020\", \"02/14/2020\", \"02/15/2020\", \"02/16/2020\", \"02/17/2020\", \"02/18/2020\", \"02/19/2020\", \"02/20/2020\", \"02/21/2020\", \"02/22/2020\", \"02/23/2020\", \"02/24/2020\", \"02/25/2020\", \"02/26/2020\", \"02/27/2020\", \"02/28/2020\", \"02/29/2020\", \"03/01/2020\", \"03/02/2020\"], \"y\": [547.0, 639.0, 916.0, 1399.0, 2062.0, 2863.0, 5494.0, 6070.0, 8124.0, 9783.0, 11871.0, 16607.0, 19693.0, 23680.0, 27409.0, 30553.0, 34075.0, 36778.0, 39790.0, 42306.0, 44327.0, 44699.0, 59832.0, 66292.0, 68347.0, 70446.0, 72364.0, 74139.0, 74546.0, 74999.0, 75472.0, 76922.0, 76938.0, 77152.0, 77660.0, 78065.0, 78498.0, 78824.0, 79251.0, 79826.0, 80026.0]}],\n",
       "                        {\"template\": {\"data\": {\"bar\": [{\"error_x\": {\"color\": \"#2a3f5f\"}, \"error_y\": {\"color\": \"#2a3f5f\"}, \"marker\": {\"line\": {\"color\": \"#E5ECF6\", \"width\": 0.5}}, \"type\": \"bar\"}], \"barpolar\": [{\"marker\": {\"line\": {\"color\": \"#E5ECF6\", \"width\": 0.5}}, \"type\": \"barpolar\"}], \"carpet\": [{\"aaxis\": {\"endlinecolor\": \"#2a3f5f\", \"gridcolor\": \"white\", \"linecolor\": \"white\", \"minorgridcolor\": \"white\", \"startlinecolor\": \"#2a3f5f\"}, \"baxis\": {\"endlinecolor\": \"#2a3f5f\", \"gridcolor\": \"white\", \"linecolor\": \"white\", \"minorgridcolor\": \"white\", \"startlinecolor\": \"#2a3f5f\"}, \"type\": \"carpet\"}], \"choropleth\": [{\"colorbar\": {\"outlinewidth\": 0, \"ticks\": \"\"}, \"type\": \"choropleth\"}], \"contour\": [{\"colorbar\": {\"outlinewidth\": 0, \"ticks\": \"\"}, \"colorscale\": [[0.0, \"#0d0887\"], [0.1111111111111111, \"#46039f\"], [0.2222222222222222, \"#7201a8\"], [0.3333333333333333, \"#9c179e\"], [0.4444444444444444, \"#bd3786\"], [0.5555555555555556, \"#d8576b\"], [0.6666666666666666, \"#ed7953\"], [0.7777777777777778, \"#fb9f3a\"], [0.8888888888888888, \"#fdca26\"], [1.0, \"#f0f921\"]], \"type\": \"contour\"}], \"contourcarpet\": [{\"colorbar\": {\"outlinewidth\": 0, \"ticks\": \"\"}, \"type\": \"contourcarpet\"}], \"heatmap\": [{\"colorbar\": {\"outlinewidth\": 0, \"ticks\": \"\"}, \"colorscale\": [[0.0, \"#0d0887\"], [0.1111111111111111, \"#46039f\"], [0.2222222222222222, \"#7201a8\"], [0.3333333333333333, \"#9c179e\"], [0.4444444444444444, \"#bd3786\"], [0.5555555555555556, \"#d8576b\"], [0.6666666666666666, \"#ed7953\"], [0.7777777777777778, \"#fb9f3a\"], [0.8888888888888888, \"#fdca26\"], [1.0, \"#f0f921\"]], \"type\": \"heatmap\"}], \"heatmapgl\": [{\"colorbar\": {\"outlinewidth\": 0, \"ticks\": \"\"}, \"colorscale\": [[0.0, \"#0d0887\"], [0.1111111111111111, \"#46039f\"], [0.2222222222222222, \"#7201a8\"], [0.3333333333333333, \"#9c179e\"], [0.4444444444444444, \"#bd3786\"], [0.5555555555555556, \"#d8576b\"], [0.6666666666666666, \"#ed7953\"], [0.7777777777777778, \"#fb9f3a\"], [0.8888888888888888, \"#fdca26\"], [1.0, \"#f0f921\"]], \"type\": \"heatmapgl\"}], \"histogram\": [{\"marker\": {\"colorbar\": {\"outlinewidth\": 0, \"ticks\": \"\"}}, \"type\": \"histogram\"}], \"histogram2d\": [{\"colorbar\": {\"outlinewidth\": 0, \"ticks\": \"\"}, \"colorscale\": [[0.0, \"#0d0887\"], [0.1111111111111111, \"#46039f\"], [0.2222222222222222, \"#7201a8\"], [0.3333333333333333, \"#9c179e\"], [0.4444444444444444, \"#bd3786\"], [0.5555555555555556, \"#d8576b\"], [0.6666666666666666, \"#ed7953\"], [0.7777777777777778, \"#fb9f3a\"], [0.8888888888888888, \"#fdca26\"], [1.0, \"#f0f921\"]], \"type\": \"histogram2d\"}], \"histogram2dcontour\": [{\"colorbar\": {\"outlinewidth\": 0, \"ticks\": \"\"}, \"colorscale\": [[0.0, \"#0d0887\"], [0.1111111111111111, \"#46039f\"], [0.2222222222222222, \"#7201a8\"], [0.3333333333333333, \"#9c179e\"], [0.4444444444444444, \"#bd3786\"], [0.5555555555555556, \"#d8576b\"], [0.6666666666666666, \"#ed7953\"], [0.7777777777777778, \"#fb9f3a\"], [0.8888888888888888, \"#fdca26\"], [1.0, \"#f0f921\"]], \"type\": \"histogram2dcontour\"}], \"mesh3d\": [{\"colorbar\": {\"outlinewidth\": 0, \"ticks\": \"\"}, \"type\": \"mesh3d\"}], \"parcoords\": [{\"line\": {\"colorbar\": {\"outlinewidth\": 0, \"ticks\": \"\"}}, \"type\": \"parcoords\"}], \"pie\": [{\"automargin\": true, \"type\": \"pie\"}], \"scatter\": [{\"marker\": {\"colorbar\": {\"outlinewidth\": 0, \"ticks\": \"\"}}, \"type\": \"scatter\"}], \"scatter3d\": [{\"line\": {\"colorbar\": {\"outlinewidth\": 0, \"ticks\": \"\"}}, \"marker\": {\"colorbar\": {\"outlinewidth\": 0, \"ticks\": \"\"}}, \"type\": \"scatter3d\"}], \"scattercarpet\": [{\"marker\": {\"colorbar\": {\"outlinewidth\": 0, \"ticks\": \"\"}}, \"type\": \"scattercarpet\"}], \"scattergeo\": [{\"marker\": {\"colorbar\": {\"outlinewidth\": 0, \"ticks\": \"\"}}, \"type\": \"scattergeo\"}], \"scattergl\": [{\"marker\": {\"colorbar\": {\"outlinewidth\": 0, \"ticks\": \"\"}}, \"type\": \"scattergl\"}], \"scattermapbox\": [{\"marker\": {\"colorbar\": {\"outlinewidth\": 0, \"ticks\": \"\"}}, \"type\": \"scattermapbox\"}], \"scatterpolar\": [{\"marker\": {\"colorbar\": {\"outlinewidth\": 0, \"ticks\": \"\"}}, \"type\": \"scatterpolar\"}], \"scatterpolargl\": [{\"marker\": {\"colorbar\": {\"outlinewidth\": 0, \"ticks\": \"\"}}, \"type\": \"scatterpolargl\"}], \"scatterternary\": [{\"marker\": {\"colorbar\": {\"outlinewidth\": 0, \"ticks\": \"\"}}, \"type\": \"scatterternary\"}], \"surface\": [{\"colorbar\": {\"outlinewidth\": 0, \"ticks\": \"\"}, \"colorscale\": [[0.0, \"#0d0887\"], [0.1111111111111111, \"#46039f\"], [0.2222222222222222, \"#7201a8\"], [0.3333333333333333, \"#9c179e\"], [0.4444444444444444, \"#bd3786\"], [0.5555555555555556, \"#d8576b\"], [0.6666666666666666, \"#ed7953\"], [0.7777777777777778, \"#fb9f3a\"], [0.8888888888888888, \"#fdca26\"], [1.0, \"#f0f921\"]], \"type\": \"surface\"}], \"table\": [{\"cells\": {\"fill\": {\"color\": \"#EBF0F8\"}, \"line\": {\"color\": \"white\"}}, \"header\": {\"fill\": {\"color\": \"#C8D4E3\"}, \"line\": {\"color\": \"white\"}}, \"type\": \"table\"}]}, \"layout\": {\"annotationdefaults\": {\"arrowcolor\": \"#2a3f5f\", \"arrowhead\": 0, \"arrowwidth\": 1}, \"coloraxis\": {\"colorbar\": {\"outlinewidth\": 0, \"ticks\": \"\"}}, \"colorscale\": {\"diverging\": [[0, \"#8e0152\"], [0.1, \"#c51b7d\"], [0.2, \"#de77ae\"], [0.3, \"#f1b6da\"], [0.4, \"#fde0ef\"], [0.5, \"#f7f7f7\"], [0.6, \"#e6f5d0\"], [0.7, \"#b8e186\"], [0.8, \"#7fbc41\"], [0.9, \"#4d9221\"], [1, \"#276419\"]], \"sequential\": [[0.0, \"#0d0887\"], [0.1111111111111111, \"#46039f\"], [0.2222222222222222, \"#7201a8\"], [0.3333333333333333, \"#9c179e\"], [0.4444444444444444, \"#bd3786\"], [0.5555555555555556, \"#d8576b\"], [0.6666666666666666, \"#ed7953\"], [0.7777777777777778, \"#fb9f3a\"], [0.8888888888888888, \"#fdca26\"], [1.0, \"#f0f921\"]], \"sequentialminus\": [[0.0, \"#0d0887\"], [0.1111111111111111, \"#46039f\"], [0.2222222222222222, \"#7201a8\"], [0.3333333333333333, \"#9c179e\"], [0.4444444444444444, \"#bd3786\"], [0.5555555555555556, \"#d8576b\"], [0.6666666666666666, \"#ed7953\"], [0.7777777777777778, \"#fb9f3a\"], [0.8888888888888888, \"#fdca26\"], [1.0, \"#f0f921\"]]}, \"colorway\": [\"#636efa\", \"#EF553B\", \"#00cc96\", \"#ab63fa\", \"#FFA15A\", \"#19d3f3\", \"#FF6692\", \"#B6E880\", \"#FF97FF\", \"#FECB52\"], \"font\": {\"color\": \"#2a3f5f\"}, \"geo\": {\"bgcolor\": \"white\", \"lakecolor\": \"white\", \"landcolor\": \"#E5ECF6\", \"showlakes\": true, \"showland\": true, \"subunitcolor\": \"white\"}, \"hoverlabel\": {\"align\": \"left\"}, \"hovermode\": \"closest\", \"mapbox\": {\"style\": \"light\"}, \"paper_bgcolor\": \"white\", \"plot_bgcolor\": \"#E5ECF6\", \"polar\": {\"angularaxis\": {\"gridcolor\": \"white\", \"linecolor\": \"white\", \"ticks\": \"\"}, \"bgcolor\": \"#E5ECF6\", \"radialaxis\": {\"gridcolor\": \"white\", \"linecolor\": \"white\", \"ticks\": \"\"}}, \"scene\": {\"xaxis\": {\"backgroundcolor\": \"#E5ECF6\", \"gridcolor\": \"white\", \"gridwidth\": 2, \"linecolor\": \"white\", \"showbackground\": true, \"ticks\": \"\", \"zerolinecolor\": \"white\"}, \"yaxis\": {\"backgroundcolor\": \"#E5ECF6\", \"gridcolor\": \"white\", \"gridwidth\": 2, \"linecolor\": \"white\", \"showbackground\": true, \"ticks\": \"\", \"zerolinecolor\": \"white\"}, \"zaxis\": {\"backgroundcolor\": \"#E5ECF6\", \"gridcolor\": \"white\", \"gridwidth\": 2, \"linecolor\": \"white\", \"showbackground\": true, \"ticks\": \"\", \"zerolinecolor\": \"white\"}}, \"shapedefaults\": {\"line\": {\"color\": \"#2a3f5f\"}}, \"ternary\": {\"aaxis\": {\"gridcolor\": \"white\", \"linecolor\": \"white\", \"ticks\": \"\"}, \"baxis\": {\"gridcolor\": \"white\", \"linecolor\": \"white\", \"ticks\": \"\"}, \"bgcolor\": \"#E5ECF6\", \"caxis\": {\"gridcolor\": \"white\", \"linecolor\": \"white\", \"ticks\": \"\"}}, \"title\": {\"x\": 0.05}, \"xaxis\": {\"automargin\": true, \"gridcolor\": \"white\", \"linecolor\": \"white\", \"ticks\": \"\", \"title\": {\"standoff\": 15}, \"zerolinecolor\": \"white\", \"zerolinewidth\": 2}, \"yaxis\": {\"automargin\": true, \"gridcolor\": \"white\", \"linecolor\": \"white\", \"ticks\": \"\", \"title\": {\"standoff\": 15}, \"zerolinecolor\": \"white\", \"zerolinewidth\": 2}}}, \"title\": {\"text\": \"Confirm cases china vs other countries\"}, \"xaxis\": {\"anchor\": \"y\", \"domain\": [0.0, 0.94]}, \"yaxis\": {\"anchor\": \"x\", \"domain\": [0.0, 1.0], \"tickfont\": {\"size\": 14}, \"title\": {\"font\": {\"size\": 16}, \"text\": \"Number of Cases\"}, \"type\": \"log\"}, \"yaxis2\": {\"anchor\": \"x\", \"overlaying\": \"y\", \"side\": \"right\"}},\n",
       "                        {\"responsive\": true}\n",
       "                    ).then(function(){\n",
       "                            \n",
       "var gd = document.getElementById('d68e66de-1c02-45c1-8de6-ea0f78832575');\n",
       "var x = new MutationObserver(function (mutations, observer) {{\n",
       "        var display = window.getComputedStyle(gd).display;\n",
       "        if (!display || display === 'none') {{\n",
       "            console.log([gd, 'removed!']);\n",
       "            Plotly.purge(gd);\n",
       "            observer.disconnect();\n",
       "        }}\n",
       "}});\n",
       "\n",
       "// Listen for the removal of the full notebook cells\n",
       "var notebookContainer = gd.closest('#notebook-container');\n",
       "if (notebookContainer) {{\n",
       "    x.observe(notebookContainer, {childList: true});\n",
       "}}\n",
       "\n",
       "// Listen for the clearing of the current output cell\n",
       "var outputEl = gd.closest('.output');\n",
       "if (outputEl) {{\n",
       "    x.observe(outputEl, {childList: true});\n",
       "}}\n",
       "\n",
       "                        })\n",
       "                };\n",
       "                });\n",
       "            </script>\n",
       "        </div>"
      ]
     },
     "metadata": {},
     "output_type": "display_data"
    }
   ],
   "source": [
    "fig=go.Figure()\n",
    "fig = make_subplots(specs=[[{\"secondary_y\": True}]])\n",
    "# Add traces\n",
    "fig.add_trace(\n",
    "    go.Scatter(x=other_countries['ObservationDate'],y=other_countries['Confirmed'] ,name=\"other_countries\",\n",
    "   marker_color=\"orange\",mode='lines+markers')\n",
    ")\n",
    "\n",
    "fig.add_trace(\n",
    "    go.Scatter(x=china['ObservationDate'],y=china['Confirmed'], name=\"China\",\n",
    "   marker_color=\"Green\",mode='lines+markers')\n",
    ")\n",
    "\n",
    "\n",
    "# Add figure title\n",
    "fig.update_layout(\n",
    "    title_text=\"Confirm cases china vs other countries\",\n",
    "    yaxis_type=\"log\",\n",
    "    yaxis=dict(\n",
    "        title='Number of Cases',\n",
    "        titlefont_size=16,\n",
    "        tickfont_size=14,\n",
    ")\n",
    "\n",
    ")\n",
    "\n",
    "fig.show()"
   ]
  },
  {
   "cell_type": "markdown",
   "metadata": {},
   "source": [
    "# Deaths in china vs other countries"
   ]
  },
  {
   "cell_type": "code",
   "execution_count": 166,
   "metadata": {},
   "outputs": [
    {
     "data": {
      "application/vnd.plotly.v1+json": {
       "config": {
        "plotlyServerURL": "https://plot.ly"
       },
       "data": [
        {
         "marker": {
          "color": "blue"
         },
         "mode": "lines+markers",
         "name": "other_countries",
         "type": "scatter",
         "x": [
          "01/22/2020",
          "01/23/2020",
          "01/24/2020",
          "01/25/2020",
          "01/26/2020",
          "01/27/2020",
          "01/28/2020",
          "01/29/2020",
          "01/30/2020",
          "01/31/2020",
          "02/01/2020",
          "02/02/2020",
          "02/03/2020",
          "02/04/2020",
          "02/05/2020",
          "02/06/2020",
          "02/07/2020",
          "02/08/2020",
          "02/09/2020",
          "02/10/2020",
          "02/11/2020",
          "02/12/2020",
          "02/13/2020",
          "02/14/2020",
          "02/15/2020",
          "02/16/2020",
          "02/17/2020",
          "02/18/2020",
          "02/19/2020",
          "02/20/2020",
          "02/21/2020",
          "02/22/2020",
          "02/23/2020",
          "02/24/2020",
          "02/25/2020",
          "02/26/2020",
          "02/27/2020",
          "02/28/2020",
          "02/29/2020",
          "03/01/2020",
          "03/02/2020"
         ],
         "y": [
          0,
          0,
          0,
          0,
          0,
          0,
          0,
          0,
          0,
          0,
          0,
          1,
          1,
          2,
          2,
          2,
          2,
          2,
          2,
          2,
          2,
          2,
          3,
          3,
          4,
          5,
          5,
          5,
          8,
          11,
          15,
          17,
          26,
          36,
          45,
          55,
          70,
          84,
          106,
          126,
          173
         ]
        },
        {
         "marker": {
          "color": "red"
         },
         "mode": "lines+markers",
         "name": "China",
         "type": "scatter",
         "x": [
          "01/22/2020",
          "01/23/2020",
          "01/24/2020",
          "01/25/2020",
          "01/26/2020",
          "01/27/2020",
          "01/28/2020",
          "01/29/2020",
          "01/30/2020",
          "01/31/2020",
          "02/01/2020",
          "02/02/2020",
          "02/03/2020",
          "02/04/2020",
          "02/05/2020",
          "02/06/2020",
          "02/07/2020",
          "02/08/2020",
          "02/09/2020",
          "02/10/2020",
          "02/11/2020",
          "02/12/2020",
          "02/13/2020",
          "02/14/2020",
          "02/15/2020",
          "02/16/2020",
          "02/17/2020",
          "02/18/2020",
          "02/19/2020",
          "02/20/2020",
          "02/21/2020",
          "02/22/2020",
          "02/23/2020",
          "02/24/2020",
          "02/25/2020",
          "02/26/2020",
          "02/27/2020",
          "02/28/2020",
          "02/29/2020",
          "03/01/2020",
          "03/02/2020"
         ],
         "y": [
          17,
          18,
          26,
          42,
          56,
          82,
          131,
          133,
          171,
          213,
          259,
          361,
          425,
          490,
          562,
          632,
          717,
          804,
          904,
          1011,
          1111,
          1116,
          1368,
          1520,
          1662,
          1765,
          1863,
          2002,
          2114,
          2236,
          2236,
          2441,
          2443,
          2593,
          2663,
          2715,
          2744,
          2788,
          2835,
          2870,
          2912
         ]
        }
       ],
       "layout": {
        "template": {
         "data": {
          "bar": [
           {
            "error_x": {
             "color": "#2a3f5f"
            },
            "error_y": {
             "color": "#2a3f5f"
            },
            "marker": {
             "line": {
              "color": "#E5ECF6",
              "width": 0.5
             }
            },
            "type": "bar"
           }
          ],
          "barpolar": [
           {
            "marker": {
             "line": {
              "color": "#E5ECF6",
              "width": 0.5
             }
            },
            "type": "barpolar"
           }
          ],
          "carpet": [
           {
            "aaxis": {
             "endlinecolor": "#2a3f5f",
             "gridcolor": "white",
             "linecolor": "white",
             "minorgridcolor": "white",
             "startlinecolor": "#2a3f5f"
            },
            "baxis": {
             "endlinecolor": "#2a3f5f",
             "gridcolor": "white",
             "linecolor": "white",
             "minorgridcolor": "white",
             "startlinecolor": "#2a3f5f"
            },
            "type": "carpet"
           }
          ],
          "choropleth": [
           {
            "colorbar": {
             "outlinewidth": 0,
             "ticks": ""
            },
            "type": "choropleth"
           }
          ],
          "contour": [
           {
            "colorbar": {
             "outlinewidth": 0,
             "ticks": ""
            },
            "colorscale": [
             [
              0,
              "#0d0887"
             ],
             [
              0.1111111111111111,
              "#46039f"
             ],
             [
              0.2222222222222222,
              "#7201a8"
             ],
             [
              0.3333333333333333,
              "#9c179e"
             ],
             [
              0.4444444444444444,
              "#bd3786"
             ],
             [
              0.5555555555555556,
              "#d8576b"
             ],
             [
              0.6666666666666666,
              "#ed7953"
             ],
             [
              0.7777777777777778,
              "#fb9f3a"
             ],
             [
              0.8888888888888888,
              "#fdca26"
             ],
             [
              1,
              "#f0f921"
             ]
            ],
            "type": "contour"
           }
          ],
          "contourcarpet": [
           {
            "colorbar": {
             "outlinewidth": 0,
             "ticks": ""
            },
            "type": "contourcarpet"
           }
          ],
          "heatmap": [
           {
            "colorbar": {
             "outlinewidth": 0,
             "ticks": ""
            },
            "colorscale": [
             [
              0,
              "#0d0887"
             ],
             [
              0.1111111111111111,
              "#46039f"
             ],
             [
              0.2222222222222222,
              "#7201a8"
             ],
             [
              0.3333333333333333,
              "#9c179e"
             ],
             [
              0.4444444444444444,
              "#bd3786"
             ],
             [
              0.5555555555555556,
              "#d8576b"
             ],
             [
              0.6666666666666666,
              "#ed7953"
             ],
             [
              0.7777777777777778,
              "#fb9f3a"
             ],
             [
              0.8888888888888888,
              "#fdca26"
             ],
             [
              1,
              "#f0f921"
             ]
            ],
            "type": "heatmap"
           }
          ],
          "heatmapgl": [
           {
            "colorbar": {
             "outlinewidth": 0,
             "ticks": ""
            },
            "colorscale": [
             [
              0,
              "#0d0887"
             ],
             [
              0.1111111111111111,
              "#46039f"
             ],
             [
              0.2222222222222222,
              "#7201a8"
             ],
             [
              0.3333333333333333,
              "#9c179e"
             ],
             [
              0.4444444444444444,
              "#bd3786"
             ],
             [
              0.5555555555555556,
              "#d8576b"
             ],
             [
              0.6666666666666666,
              "#ed7953"
             ],
             [
              0.7777777777777778,
              "#fb9f3a"
             ],
             [
              0.8888888888888888,
              "#fdca26"
             ],
             [
              1,
              "#f0f921"
             ]
            ],
            "type": "heatmapgl"
           }
          ],
          "histogram": [
           {
            "marker": {
             "colorbar": {
              "outlinewidth": 0,
              "ticks": ""
             }
            },
            "type": "histogram"
           }
          ],
          "histogram2d": [
           {
            "colorbar": {
             "outlinewidth": 0,
             "ticks": ""
            },
            "colorscale": [
             [
              0,
              "#0d0887"
             ],
             [
              0.1111111111111111,
              "#46039f"
             ],
             [
              0.2222222222222222,
              "#7201a8"
             ],
             [
              0.3333333333333333,
              "#9c179e"
             ],
             [
              0.4444444444444444,
              "#bd3786"
             ],
             [
              0.5555555555555556,
              "#d8576b"
             ],
             [
              0.6666666666666666,
              "#ed7953"
             ],
             [
              0.7777777777777778,
              "#fb9f3a"
             ],
             [
              0.8888888888888888,
              "#fdca26"
             ],
             [
              1,
              "#f0f921"
             ]
            ],
            "type": "histogram2d"
           }
          ],
          "histogram2dcontour": [
           {
            "colorbar": {
             "outlinewidth": 0,
             "ticks": ""
            },
            "colorscale": [
             [
              0,
              "#0d0887"
             ],
             [
              0.1111111111111111,
              "#46039f"
             ],
             [
              0.2222222222222222,
              "#7201a8"
             ],
             [
              0.3333333333333333,
              "#9c179e"
             ],
             [
              0.4444444444444444,
              "#bd3786"
             ],
             [
              0.5555555555555556,
              "#d8576b"
             ],
             [
              0.6666666666666666,
              "#ed7953"
             ],
             [
              0.7777777777777778,
              "#fb9f3a"
             ],
             [
              0.8888888888888888,
              "#fdca26"
             ],
             [
              1,
              "#f0f921"
             ]
            ],
            "type": "histogram2dcontour"
           }
          ],
          "mesh3d": [
           {
            "colorbar": {
             "outlinewidth": 0,
             "ticks": ""
            },
            "type": "mesh3d"
           }
          ],
          "parcoords": [
           {
            "line": {
             "colorbar": {
              "outlinewidth": 0,
              "ticks": ""
             }
            },
            "type": "parcoords"
           }
          ],
          "pie": [
           {
            "automargin": true,
            "type": "pie"
           }
          ],
          "scatter": [
           {
            "marker": {
             "colorbar": {
              "outlinewidth": 0,
              "ticks": ""
             }
            },
            "type": "scatter"
           }
          ],
          "scatter3d": [
           {
            "line": {
             "colorbar": {
              "outlinewidth": 0,
              "ticks": ""
             }
            },
            "marker": {
             "colorbar": {
              "outlinewidth": 0,
              "ticks": ""
             }
            },
            "type": "scatter3d"
           }
          ],
          "scattercarpet": [
           {
            "marker": {
             "colorbar": {
              "outlinewidth": 0,
              "ticks": ""
             }
            },
            "type": "scattercarpet"
           }
          ],
          "scattergeo": [
           {
            "marker": {
             "colorbar": {
              "outlinewidth": 0,
              "ticks": ""
             }
            },
            "type": "scattergeo"
           }
          ],
          "scattergl": [
           {
            "marker": {
             "colorbar": {
              "outlinewidth": 0,
              "ticks": ""
             }
            },
            "type": "scattergl"
           }
          ],
          "scattermapbox": [
           {
            "marker": {
             "colorbar": {
              "outlinewidth": 0,
              "ticks": ""
             }
            },
            "type": "scattermapbox"
           }
          ],
          "scatterpolar": [
           {
            "marker": {
             "colorbar": {
              "outlinewidth": 0,
              "ticks": ""
             }
            },
            "type": "scatterpolar"
           }
          ],
          "scatterpolargl": [
           {
            "marker": {
             "colorbar": {
              "outlinewidth": 0,
              "ticks": ""
             }
            },
            "type": "scatterpolargl"
           }
          ],
          "scatterternary": [
           {
            "marker": {
             "colorbar": {
              "outlinewidth": 0,
              "ticks": ""
             }
            },
            "type": "scatterternary"
           }
          ],
          "surface": [
           {
            "colorbar": {
             "outlinewidth": 0,
             "ticks": ""
            },
            "colorscale": [
             [
              0,
              "#0d0887"
             ],
             [
              0.1111111111111111,
              "#46039f"
             ],
             [
              0.2222222222222222,
              "#7201a8"
             ],
             [
              0.3333333333333333,
              "#9c179e"
             ],
             [
              0.4444444444444444,
              "#bd3786"
             ],
             [
              0.5555555555555556,
              "#d8576b"
             ],
             [
              0.6666666666666666,
              "#ed7953"
             ],
             [
              0.7777777777777778,
              "#fb9f3a"
             ],
             [
              0.8888888888888888,
              "#fdca26"
             ],
             [
              1,
              "#f0f921"
             ]
            ],
            "type": "surface"
           }
          ],
          "table": [
           {
            "cells": {
             "fill": {
              "color": "#EBF0F8"
             },
             "line": {
              "color": "white"
             }
            },
            "header": {
             "fill": {
              "color": "#C8D4E3"
             },
             "line": {
              "color": "white"
             }
            },
            "type": "table"
           }
          ]
         },
         "layout": {
          "annotationdefaults": {
           "arrowcolor": "#2a3f5f",
           "arrowhead": 0,
           "arrowwidth": 1
          },
          "coloraxis": {
           "colorbar": {
            "outlinewidth": 0,
            "ticks": ""
           }
          },
          "colorscale": {
           "diverging": [
            [
             0,
             "#8e0152"
            ],
            [
             0.1,
             "#c51b7d"
            ],
            [
             0.2,
             "#de77ae"
            ],
            [
             0.3,
             "#f1b6da"
            ],
            [
             0.4,
             "#fde0ef"
            ],
            [
             0.5,
             "#f7f7f7"
            ],
            [
             0.6,
             "#e6f5d0"
            ],
            [
             0.7,
             "#b8e186"
            ],
            [
             0.8,
             "#7fbc41"
            ],
            [
             0.9,
             "#4d9221"
            ],
            [
             1,
             "#276419"
            ]
           ],
           "sequential": [
            [
             0,
             "#0d0887"
            ],
            [
             0.1111111111111111,
             "#46039f"
            ],
            [
             0.2222222222222222,
             "#7201a8"
            ],
            [
             0.3333333333333333,
             "#9c179e"
            ],
            [
             0.4444444444444444,
             "#bd3786"
            ],
            [
             0.5555555555555556,
             "#d8576b"
            ],
            [
             0.6666666666666666,
             "#ed7953"
            ],
            [
             0.7777777777777778,
             "#fb9f3a"
            ],
            [
             0.8888888888888888,
             "#fdca26"
            ],
            [
             1,
             "#f0f921"
            ]
           ],
           "sequentialminus": [
            [
             0,
             "#0d0887"
            ],
            [
             0.1111111111111111,
             "#46039f"
            ],
            [
             0.2222222222222222,
             "#7201a8"
            ],
            [
             0.3333333333333333,
             "#9c179e"
            ],
            [
             0.4444444444444444,
             "#bd3786"
            ],
            [
             0.5555555555555556,
             "#d8576b"
            ],
            [
             0.6666666666666666,
             "#ed7953"
            ],
            [
             0.7777777777777778,
             "#fb9f3a"
            ],
            [
             0.8888888888888888,
             "#fdca26"
            ],
            [
             1,
             "#f0f921"
            ]
           ]
          },
          "colorway": [
           "#636efa",
           "#EF553B",
           "#00cc96",
           "#ab63fa",
           "#FFA15A",
           "#19d3f3",
           "#FF6692",
           "#B6E880",
           "#FF97FF",
           "#FECB52"
          ],
          "font": {
           "color": "#2a3f5f"
          },
          "geo": {
           "bgcolor": "white",
           "lakecolor": "white",
           "landcolor": "#E5ECF6",
           "showlakes": true,
           "showland": true,
           "subunitcolor": "white"
          },
          "hoverlabel": {
           "align": "left"
          },
          "hovermode": "closest",
          "mapbox": {
           "style": "light"
          },
          "paper_bgcolor": "white",
          "plot_bgcolor": "#E5ECF6",
          "polar": {
           "angularaxis": {
            "gridcolor": "white",
            "linecolor": "white",
            "ticks": ""
           },
           "bgcolor": "#E5ECF6",
           "radialaxis": {
            "gridcolor": "white",
            "linecolor": "white",
            "ticks": ""
           }
          },
          "scene": {
           "xaxis": {
            "backgroundcolor": "#E5ECF6",
            "gridcolor": "white",
            "gridwidth": 2,
            "linecolor": "white",
            "showbackground": true,
            "ticks": "",
            "zerolinecolor": "white"
           },
           "yaxis": {
            "backgroundcolor": "#E5ECF6",
            "gridcolor": "white",
            "gridwidth": 2,
            "linecolor": "white",
            "showbackground": true,
            "ticks": "",
            "zerolinecolor": "white"
           },
           "zaxis": {
            "backgroundcolor": "#E5ECF6",
            "gridcolor": "white",
            "gridwidth": 2,
            "linecolor": "white",
            "showbackground": true,
            "ticks": "",
            "zerolinecolor": "white"
           }
          },
          "shapedefaults": {
           "line": {
            "color": "#2a3f5f"
           }
          },
          "ternary": {
           "aaxis": {
            "gridcolor": "white",
            "linecolor": "white",
            "ticks": ""
           },
           "baxis": {
            "gridcolor": "white",
            "linecolor": "white",
            "ticks": ""
           },
           "bgcolor": "#E5ECF6",
           "caxis": {
            "gridcolor": "white",
            "linecolor": "white",
            "ticks": ""
           }
          },
          "title": {
           "x": 0.05
          },
          "xaxis": {
           "automargin": true,
           "gridcolor": "white",
           "linecolor": "white",
           "ticks": "",
           "title": {
            "standoff": 15
           },
           "zerolinecolor": "white",
           "zerolinewidth": 2
          },
          "yaxis": {
           "automargin": true,
           "gridcolor": "white",
           "linecolor": "white",
           "ticks": "",
           "title": {
            "standoff": 15
           },
           "zerolinecolor": "white",
           "zerolinewidth": 2
          }
         }
        },
        "title": {
         "text": "Deaths in china vs other countries"
        },
        "xaxis": {
         "anchor": "y",
         "domain": [
          0,
          0.94
         ]
        },
        "yaxis": {
         "anchor": "x",
         "domain": [
          0,
          1
         ],
         "tickfont": {
          "size": 14
         },
         "title": {
          "font": {
           "size": 16
          },
          "text": "Number of Cases"
         },
         "type": "log"
        },
        "yaxis2": {
         "anchor": "x",
         "overlaying": "y",
         "side": "right"
        }
       }
      },
      "text/html": [
       "<div>\n",
       "        \n",
       "        \n",
       "            <div id=\"62db6fa3-6ca0-4d8f-a4ca-6013455a774a\" class=\"plotly-graph-div\" style=\"height:525px; width:100%;\"></div>\n",
       "            <script type=\"text/javascript\">\n",
       "                require([\"plotly\"], function(Plotly) {\n",
       "                    window.PLOTLYENV=window.PLOTLYENV || {};\n",
       "                    \n",
       "                if (document.getElementById(\"62db6fa3-6ca0-4d8f-a4ca-6013455a774a\")) {\n",
       "                    Plotly.newPlot(\n",
       "                        '62db6fa3-6ca0-4d8f-a4ca-6013455a774a',\n",
       "                        [{\"marker\": {\"color\": \"blue\"}, \"mode\": \"lines+markers\", \"name\": \"other_countries\", \"type\": \"scatter\", \"x\": [\"01/22/2020\", \"01/23/2020\", \"01/24/2020\", \"01/25/2020\", \"01/26/2020\", \"01/27/2020\", \"01/28/2020\", \"01/29/2020\", \"01/30/2020\", \"01/31/2020\", \"02/01/2020\", \"02/02/2020\", \"02/03/2020\", \"02/04/2020\", \"02/05/2020\", \"02/06/2020\", \"02/07/2020\", \"02/08/2020\", \"02/09/2020\", \"02/10/2020\", \"02/11/2020\", \"02/12/2020\", \"02/13/2020\", \"02/14/2020\", \"02/15/2020\", \"02/16/2020\", \"02/17/2020\", \"02/18/2020\", \"02/19/2020\", \"02/20/2020\", \"02/21/2020\", \"02/22/2020\", \"02/23/2020\", \"02/24/2020\", \"02/25/2020\", \"02/26/2020\", \"02/27/2020\", \"02/28/2020\", \"02/29/2020\", \"03/01/2020\", \"03/02/2020\"], \"y\": [0.0, 0.0, 0.0, 0.0, 0.0, 0.0, 0.0, 0.0, 0.0, 0.0, 0.0, 1.0, 1.0, 2.0, 2.0, 2.0, 2.0, 2.0, 2.0, 2.0, 2.0, 2.0, 3.0, 3.0, 4.0, 5.0, 5.0, 5.0, 8.0, 11.0, 15.0, 17.0, 26.0, 36.0, 45.0, 55.0, 70.0, 84.0, 106.0, 126.0, 173.0]}, {\"marker\": {\"color\": \"red\"}, \"mode\": \"lines+markers\", \"name\": \"China\", \"type\": \"scatter\", \"x\": [\"01/22/2020\", \"01/23/2020\", \"01/24/2020\", \"01/25/2020\", \"01/26/2020\", \"01/27/2020\", \"01/28/2020\", \"01/29/2020\", \"01/30/2020\", \"01/31/2020\", \"02/01/2020\", \"02/02/2020\", \"02/03/2020\", \"02/04/2020\", \"02/05/2020\", \"02/06/2020\", \"02/07/2020\", \"02/08/2020\", \"02/09/2020\", \"02/10/2020\", \"02/11/2020\", \"02/12/2020\", \"02/13/2020\", \"02/14/2020\", \"02/15/2020\", \"02/16/2020\", \"02/17/2020\", \"02/18/2020\", \"02/19/2020\", \"02/20/2020\", \"02/21/2020\", \"02/22/2020\", \"02/23/2020\", \"02/24/2020\", \"02/25/2020\", \"02/26/2020\", \"02/27/2020\", \"02/28/2020\", \"02/29/2020\", \"03/01/2020\", \"03/02/2020\"], \"y\": [17.0, 18.0, 26.0, 42.0, 56.0, 82.0, 131.0, 133.0, 171.0, 213.0, 259.0, 361.0, 425.0, 490.0, 562.0, 632.0, 717.0, 804.0, 904.0, 1011.0, 1111.0, 1116.0, 1368.0, 1520.0, 1662.0, 1765.0, 1863.0, 2002.0, 2114.0, 2236.0, 2236.0, 2441.0, 2443.0, 2593.0, 2663.0, 2715.0, 2744.0, 2788.0, 2835.0, 2870.0, 2912.0]}],\n",
       "                        {\"template\": {\"data\": {\"bar\": [{\"error_x\": {\"color\": \"#2a3f5f\"}, \"error_y\": {\"color\": \"#2a3f5f\"}, \"marker\": {\"line\": {\"color\": \"#E5ECF6\", \"width\": 0.5}}, \"type\": \"bar\"}], \"barpolar\": [{\"marker\": {\"line\": {\"color\": \"#E5ECF6\", \"width\": 0.5}}, \"type\": \"barpolar\"}], \"carpet\": [{\"aaxis\": {\"endlinecolor\": \"#2a3f5f\", \"gridcolor\": \"white\", \"linecolor\": \"white\", \"minorgridcolor\": \"white\", \"startlinecolor\": \"#2a3f5f\"}, \"baxis\": {\"endlinecolor\": \"#2a3f5f\", \"gridcolor\": \"white\", \"linecolor\": \"white\", \"minorgridcolor\": \"white\", \"startlinecolor\": \"#2a3f5f\"}, \"type\": \"carpet\"}], \"choropleth\": [{\"colorbar\": {\"outlinewidth\": 0, \"ticks\": \"\"}, \"type\": \"choropleth\"}], \"contour\": [{\"colorbar\": {\"outlinewidth\": 0, \"ticks\": \"\"}, \"colorscale\": [[0.0, \"#0d0887\"], [0.1111111111111111, \"#46039f\"], [0.2222222222222222, \"#7201a8\"], [0.3333333333333333, \"#9c179e\"], [0.4444444444444444, \"#bd3786\"], [0.5555555555555556, \"#d8576b\"], [0.6666666666666666, \"#ed7953\"], [0.7777777777777778, \"#fb9f3a\"], [0.8888888888888888, \"#fdca26\"], [1.0, \"#f0f921\"]], \"type\": \"contour\"}], \"contourcarpet\": [{\"colorbar\": {\"outlinewidth\": 0, \"ticks\": \"\"}, \"type\": \"contourcarpet\"}], \"heatmap\": [{\"colorbar\": {\"outlinewidth\": 0, \"ticks\": \"\"}, \"colorscale\": [[0.0, \"#0d0887\"], [0.1111111111111111, \"#46039f\"], [0.2222222222222222, \"#7201a8\"], [0.3333333333333333, \"#9c179e\"], [0.4444444444444444, \"#bd3786\"], [0.5555555555555556, \"#d8576b\"], [0.6666666666666666, \"#ed7953\"], [0.7777777777777778, \"#fb9f3a\"], [0.8888888888888888, \"#fdca26\"], [1.0, \"#f0f921\"]], \"type\": \"heatmap\"}], \"heatmapgl\": [{\"colorbar\": {\"outlinewidth\": 0, \"ticks\": \"\"}, \"colorscale\": [[0.0, \"#0d0887\"], [0.1111111111111111, \"#46039f\"], [0.2222222222222222, \"#7201a8\"], [0.3333333333333333, \"#9c179e\"], [0.4444444444444444, \"#bd3786\"], [0.5555555555555556, \"#d8576b\"], [0.6666666666666666, \"#ed7953\"], [0.7777777777777778, \"#fb9f3a\"], [0.8888888888888888, \"#fdca26\"], [1.0, \"#f0f921\"]], \"type\": \"heatmapgl\"}], \"histogram\": [{\"marker\": {\"colorbar\": {\"outlinewidth\": 0, \"ticks\": \"\"}}, \"type\": \"histogram\"}], \"histogram2d\": [{\"colorbar\": {\"outlinewidth\": 0, \"ticks\": \"\"}, \"colorscale\": [[0.0, \"#0d0887\"], [0.1111111111111111, \"#46039f\"], [0.2222222222222222, \"#7201a8\"], [0.3333333333333333, \"#9c179e\"], [0.4444444444444444, \"#bd3786\"], [0.5555555555555556, \"#d8576b\"], [0.6666666666666666, \"#ed7953\"], [0.7777777777777778, \"#fb9f3a\"], [0.8888888888888888, \"#fdca26\"], [1.0, \"#f0f921\"]], \"type\": \"histogram2d\"}], \"histogram2dcontour\": [{\"colorbar\": {\"outlinewidth\": 0, \"ticks\": \"\"}, \"colorscale\": [[0.0, \"#0d0887\"], [0.1111111111111111, \"#46039f\"], [0.2222222222222222, \"#7201a8\"], [0.3333333333333333, \"#9c179e\"], [0.4444444444444444, \"#bd3786\"], [0.5555555555555556, \"#d8576b\"], [0.6666666666666666, \"#ed7953\"], [0.7777777777777778, \"#fb9f3a\"], [0.8888888888888888, \"#fdca26\"], [1.0, \"#f0f921\"]], \"type\": \"histogram2dcontour\"}], \"mesh3d\": [{\"colorbar\": {\"outlinewidth\": 0, \"ticks\": \"\"}, \"type\": \"mesh3d\"}], \"parcoords\": [{\"line\": {\"colorbar\": {\"outlinewidth\": 0, \"ticks\": \"\"}}, \"type\": \"parcoords\"}], \"pie\": [{\"automargin\": true, \"type\": \"pie\"}], \"scatter\": [{\"marker\": {\"colorbar\": {\"outlinewidth\": 0, \"ticks\": \"\"}}, \"type\": \"scatter\"}], \"scatter3d\": [{\"line\": {\"colorbar\": {\"outlinewidth\": 0, \"ticks\": \"\"}}, \"marker\": {\"colorbar\": {\"outlinewidth\": 0, \"ticks\": \"\"}}, \"type\": \"scatter3d\"}], \"scattercarpet\": [{\"marker\": {\"colorbar\": {\"outlinewidth\": 0, \"ticks\": \"\"}}, \"type\": \"scattercarpet\"}], \"scattergeo\": [{\"marker\": {\"colorbar\": {\"outlinewidth\": 0, \"ticks\": \"\"}}, \"type\": \"scattergeo\"}], \"scattergl\": [{\"marker\": {\"colorbar\": {\"outlinewidth\": 0, \"ticks\": \"\"}}, \"type\": \"scattergl\"}], \"scattermapbox\": [{\"marker\": {\"colorbar\": {\"outlinewidth\": 0, \"ticks\": \"\"}}, \"type\": \"scattermapbox\"}], \"scatterpolar\": [{\"marker\": {\"colorbar\": {\"outlinewidth\": 0, \"ticks\": \"\"}}, \"type\": \"scatterpolar\"}], \"scatterpolargl\": [{\"marker\": {\"colorbar\": {\"outlinewidth\": 0, \"ticks\": \"\"}}, \"type\": \"scatterpolargl\"}], \"scatterternary\": [{\"marker\": {\"colorbar\": {\"outlinewidth\": 0, \"ticks\": \"\"}}, \"type\": \"scatterternary\"}], \"surface\": [{\"colorbar\": {\"outlinewidth\": 0, \"ticks\": \"\"}, \"colorscale\": [[0.0, \"#0d0887\"], [0.1111111111111111, \"#46039f\"], [0.2222222222222222, \"#7201a8\"], [0.3333333333333333, \"#9c179e\"], [0.4444444444444444, \"#bd3786\"], [0.5555555555555556, \"#d8576b\"], [0.6666666666666666, \"#ed7953\"], [0.7777777777777778, \"#fb9f3a\"], [0.8888888888888888, \"#fdca26\"], [1.0, \"#f0f921\"]], \"type\": \"surface\"}], \"table\": [{\"cells\": {\"fill\": {\"color\": \"#EBF0F8\"}, \"line\": {\"color\": \"white\"}}, \"header\": {\"fill\": {\"color\": \"#C8D4E3\"}, \"line\": {\"color\": \"white\"}}, \"type\": \"table\"}]}, \"layout\": {\"annotationdefaults\": {\"arrowcolor\": \"#2a3f5f\", \"arrowhead\": 0, \"arrowwidth\": 1}, \"coloraxis\": {\"colorbar\": {\"outlinewidth\": 0, \"ticks\": \"\"}}, \"colorscale\": {\"diverging\": [[0, \"#8e0152\"], [0.1, \"#c51b7d\"], [0.2, \"#de77ae\"], [0.3, \"#f1b6da\"], [0.4, \"#fde0ef\"], [0.5, \"#f7f7f7\"], [0.6, \"#e6f5d0\"], [0.7, \"#b8e186\"], [0.8, \"#7fbc41\"], [0.9, \"#4d9221\"], [1, \"#276419\"]], \"sequential\": [[0.0, \"#0d0887\"], [0.1111111111111111, \"#46039f\"], [0.2222222222222222, \"#7201a8\"], [0.3333333333333333, \"#9c179e\"], [0.4444444444444444, \"#bd3786\"], [0.5555555555555556, \"#d8576b\"], [0.6666666666666666, \"#ed7953\"], [0.7777777777777778, \"#fb9f3a\"], [0.8888888888888888, \"#fdca26\"], [1.0, \"#f0f921\"]], \"sequentialminus\": [[0.0, \"#0d0887\"], [0.1111111111111111, \"#46039f\"], [0.2222222222222222, \"#7201a8\"], [0.3333333333333333, \"#9c179e\"], [0.4444444444444444, \"#bd3786\"], [0.5555555555555556, \"#d8576b\"], [0.6666666666666666, \"#ed7953\"], [0.7777777777777778, \"#fb9f3a\"], [0.8888888888888888, \"#fdca26\"], [1.0, \"#f0f921\"]]}, \"colorway\": [\"#636efa\", \"#EF553B\", \"#00cc96\", \"#ab63fa\", \"#FFA15A\", \"#19d3f3\", \"#FF6692\", \"#B6E880\", \"#FF97FF\", \"#FECB52\"], \"font\": {\"color\": \"#2a3f5f\"}, \"geo\": {\"bgcolor\": \"white\", \"lakecolor\": \"white\", \"landcolor\": \"#E5ECF6\", \"showlakes\": true, \"showland\": true, \"subunitcolor\": \"white\"}, \"hoverlabel\": {\"align\": \"left\"}, \"hovermode\": \"closest\", \"mapbox\": {\"style\": \"light\"}, \"paper_bgcolor\": \"white\", \"plot_bgcolor\": \"#E5ECF6\", \"polar\": {\"angularaxis\": {\"gridcolor\": \"white\", \"linecolor\": \"white\", \"ticks\": \"\"}, \"bgcolor\": \"#E5ECF6\", \"radialaxis\": {\"gridcolor\": \"white\", \"linecolor\": \"white\", \"ticks\": \"\"}}, \"scene\": {\"xaxis\": {\"backgroundcolor\": \"#E5ECF6\", \"gridcolor\": \"white\", \"gridwidth\": 2, \"linecolor\": \"white\", \"showbackground\": true, \"ticks\": \"\", \"zerolinecolor\": \"white\"}, \"yaxis\": {\"backgroundcolor\": \"#E5ECF6\", \"gridcolor\": \"white\", \"gridwidth\": 2, \"linecolor\": \"white\", \"showbackground\": true, \"ticks\": \"\", \"zerolinecolor\": \"white\"}, \"zaxis\": {\"backgroundcolor\": \"#E5ECF6\", \"gridcolor\": \"white\", \"gridwidth\": 2, \"linecolor\": \"white\", \"showbackground\": true, \"ticks\": \"\", \"zerolinecolor\": \"white\"}}, \"shapedefaults\": {\"line\": {\"color\": \"#2a3f5f\"}}, \"ternary\": {\"aaxis\": {\"gridcolor\": \"white\", \"linecolor\": \"white\", \"ticks\": \"\"}, \"baxis\": {\"gridcolor\": \"white\", \"linecolor\": \"white\", \"ticks\": \"\"}, \"bgcolor\": \"#E5ECF6\", \"caxis\": {\"gridcolor\": \"white\", \"linecolor\": \"white\", \"ticks\": \"\"}}, \"title\": {\"x\": 0.05}, \"xaxis\": {\"automargin\": true, \"gridcolor\": \"white\", \"linecolor\": \"white\", \"ticks\": \"\", \"title\": {\"standoff\": 15}, \"zerolinecolor\": \"white\", \"zerolinewidth\": 2}, \"yaxis\": {\"automargin\": true, \"gridcolor\": \"white\", \"linecolor\": \"white\", \"ticks\": \"\", \"title\": {\"standoff\": 15}, \"zerolinecolor\": \"white\", \"zerolinewidth\": 2}}}, \"title\": {\"text\": \"Deaths in china vs other countries\"}, \"xaxis\": {\"anchor\": \"y\", \"domain\": [0.0, 0.94]}, \"yaxis\": {\"anchor\": \"x\", \"domain\": [0.0, 1.0], \"tickfont\": {\"size\": 14}, \"title\": {\"font\": {\"size\": 16}, \"text\": \"Number of Cases\"}, \"type\": \"log\"}, \"yaxis2\": {\"anchor\": \"x\", \"overlaying\": \"y\", \"side\": \"right\"}},\n",
       "                        {\"responsive\": true}\n",
       "                    ).then(function(){\n",
       "                            \n",
       "var gd = document.getElementById('62db6fa3-6ca0-4d8f-a4ca-6013455a774a');\n",
       "var x = new MutationObserver(function (mutations, observer) {{\n",
       "        var display = window.getComputedStyle(gd).display;\n",
       "        if (!display || display === 'none') {{\n",
       "            console.log([gd, 'removed!']);\n",
       "            Plotly.purge(gd);\n",
       "            observer.disconnect();\n",
       "        }}\n",
       "}});\n",
       "\n",
       "// Listen for the removal of the full notebook cells\n",
       "var notebookContainer = gd.closest('#notebook-container');\n",
       "if (notebookContainer) {{\n",
       "    x.observe(notebookContainer, {childList: true});\n",
       "}}\n",
       "\n",
       "// Listen for the clearing of the current output cell\n",
       "var outputEl = gd.closest('.output');\n",
       "if (outputEl) {{\n",
       "    x.observe(outputEl, {childList: true});\n",
       "}}\n",
       "\n",
       "                        })\n",
       "                };\n",
       "                });\n",
       "            </script>\n",
       "        </div>"
      ]
     },
     "metadata": {},
     "output_type": "display_data"
    }
   ],
   "source": [
    "fig=go.Figure()\n",
    "fig = make_subplots(specs=[[{\"secondary_y\": True}]])\n",
    "# Add traces\n",
    "fig.add_trace(\n",
    "    go.Scatter(x=other_countries['ObservationDate'],y=other_countries['Deaths'] ,name=\"other_countries\",marker_color=\"blue\",\n",
    "   mode='lines+markers')\n",
    ")\n",
    "\n",
    "fig.add_trace(\n",
    "    go.Scatter(x=china['ObservationDate'],y=china['Deaths'], name=\"China\",mode='lines+markers',\n",
    "   marker_color=\"red\")\n",
    ")\n",
    "\n",
    "\n",
    "# Add figure title\n",
    "fig.update_layout(\n",
    "    title_text=\"Deaths in china vs other countries\",\n",
    "    yaxis_type=\"log\",\n",
    "    yaxis=dict(\n",
    "        title='Number of Cases',\n",
    "        titlefont_size=16,\n",
    "        tickfont_size=14,\n",
    ")\n",
    "\n",
    ")\n",
    "\n",
    "fig.show()"
   ]
  },
  {
   "cell_type": "markdown",
   "metadata": {},
   "source": [
    "# Recovery in china vs other countries"
   ]
  },
  {
   "cell_type": "code",
   "execution_count": 165,
   "metadata": {},
   "outputs": [
    {
     "data": {
      "application/vnd.plotly.v1+json": {
       "config": {
        "plotlyServerURL": "https://plot.ly"
       },
       "data": [
        {
         "mode": "lines+markers",
         "name": "other_countries",
         "type": "scatter",
         "x": [
          "01/22/2020",
          "01/23/2020",
          "01/24/2020",
          "01/25/2020",
          "01/26/2020",
          "01/27/2020",
          "01/28/2020",
          "01/29/2020",
          "01/30/2020",
          "01/31/2020",
          "02/01/2020",
          "02/02/2020",
          "02/03/2020",
          "02/04/2020",
          "02/05/2020",
          "02/06/2020",
          "02/07/2020",
          "02/08/2020",
          "02/09/2020",
          "02/10/2020",
          "02/11/2020",
          "02/12/2020",
          "02/13/2020",
          "02/14/2020",
          "02/15/2020",
          "02/16/2020",
          "02/17/2020",
          "02/18/2020",
          "02/19/2020",
          "02/20/2020",
          "02/21/2020",
          "02/22/2020",
          "02/23/2020",
          "02/24/2020",
          "02/25/2020",
          "02/26/2020",
          "02/27/2020",
          "02/28/2020",
          "02/29/2020",
          "03/01/2020",
          "03/02/2020"
         ],
         "y": [
          0,
          0,
          0,
          0,
          3,
          3,
          6,
          6,
          8,
          8,
          9,
          9,
          9,
          9,
          9,
          11,
          13,
          21,
          26,
          29,
          48,
          71,
          82,
          85,
          101,
          117,
          128,
          153,
          169,
          175,
          197,
          199,
          224,
          237,
          255,
          331,
          379,
          420,
          503,
          598,
          792
         ]
        },
        {
         "marker": {
          "color": "red"
         },
         "mode": "lines+markers",
         "name": "China",
         "type": "scatter",
         "x": [
          "01/22/2020",
          "01/23/2020",
          "01/24/2020",
          "01/25/2020",
          "01/26/2020",
          "01/27/2020",
          "01/28/2020",
          "01/29/2020",
          "01/30/2020",
          "01/31/2020",
          "02/01/2020",
          "02/02/2020",
          "02/03/2020",
          "02/04/2020",
          "02/05/2020",
          "02/06/2020",
          "02/07/2020",
          "02/08/2020",
          "02/09/2020",
          "02/10/2020",
          "02/11/2020",
          "02/12/2020",
          "02/13/2020",
          "02/14/2020",
          "02/15/2020",
          "02/16/2020",
          "02/17/2020",
          "02/18/2020",
          "02/19/2020",
          "02/20/2020",
          "02/21/2020",
          "02/22/2020",
          "02/23/2020",
          "02/24/2020",
          "02/25/2020",
          "02/26/2020",
          "02/27/2020",
          "02/28/2020",
          "02/29/2020",
          "03/01/2020",
          "03/02/2020"
         ],
         "y": [
          28,
          30,
          36,
          39,
          49,
          58,
          101,
          120,
          135,
          214,
          275,
          463,
          614,
          843,
          1115,
          1476,
          1998,
          2595,
          3218,
          3917,
          4635,
          5079,
          6213,
          7973,
          9294,
          10748,
          12455,
          14199,
          15952,
          18002,
          18693,
          22687,
          23170,
          24990,
          27650,
          30053,
          32898,
          36291,
          39279,
          42118,
          44810
         ]
        }
       ],
       "layout": {
        "template": {
         "data": {
          "bar": [
           {
            "error_x": {
             "color": "#2a3f5f"
            },
            "error_y": {
             "color": "#2a3f5f"
            },
            "marker": {
             "line": {
              "color": "#E5ECF6",
              "width": 0.5
             }
            },
            "type": "bar"
           }
          ],
          "barpolar": [
           {
            "marker": {
             "line": {
              "color": "#E5ECF6",
              "width": 0.5
             }
            },
            "type": "barpolar"
           }
          ],
          "carpet": [
           {
            "aaxis": {
             "endlinecolor": "#2a3f5f",
             "gridcolor": "white",
             "linecolor": "white",
             "minorgridcolor": "white",
             "startlinecolor": "#2a3f5f"
            },
            "baxis": {
             "endlinecolor": "#2a3f5f",
             "gridcolor": "white",
             "linecolor": "white",
             "minorgridcolor": "white",
             "startlinecolor": "#2a3f5f"
            },
            "type": "carpet"
           }
          ],
          "choropleth": [
           {
            "colorbar": {
             "outlinewidth": 0,
             "ticks": ""
            },
            "type": "choropleth"
           }
          ],
          "contour": [
           {
            "colorbar": {
             "outlinewidth": 0,
             "ticks": ""
            },
            "colorscale": [
             [
              0,
              "#0d0887"
             ],
             [
              0.1111111111111111,
              "#46039f"
             ],
             [
              0.2222222222222222,
              "#7201a8"
             ],
             [
              0.3333333333333333,
              "#9c179e"
             ],
             [
              0.4444444444444444,
              "#bd3786"
             ],
             [
              0.5555555555555556,
              "#d8576b"
             ],
             [
              0.6666666666666666,
              "#ed7953"
             ],
             [
              0.7777777777777778,
              "#fb9f3a"
             ],
             [
              0.8888888888888888,
              "#fdca26"
             ],
             [
              1,
              "#f0f921"
             ]
            ],
            "type": "contour"
           }
          ],
          "contourcarpet": [
           {
            "colorbar": {
             "outlinewidth": 0,
             "ticks": ""
            },
            "type": "contourcarpet"
           }
          ],
          "heatmap": [
           {
            "colorbar": {
             "outlinewidth": 0,
             "ticks": ""
            },
            "colorscale": [
             [
              0,
              "#0d0887"
             ],
             [
              0.1111111111111111,
              "#46039f"
             ],
             [
              0.2222222222222222,
              "#7201a8"
             ],
             [
              0.3333333333333333,
              "#9c179e"
             ],
             [
              0.4444444444444444,
              "#bd3786"
             ],
             [
              0.5555555555555556,
              "#d8576b"
             ],
             [
              0.6666666666666666,
              "#ed7953"
             ],
             [
              0.7777777777777778,
              "#fb9f3a"
             ],
             [
              0.8888888888888888,
              "#fdca26"
             ],
             [
              1,
              "#f0f921"
             ]
            ],
            "type": "heatmap"
           }
          ],
          "heatmapgl": [
           {
            "colorbar": {
             "outlinewidth": 0,
             "ticks": ""
            },
            "colorscale": [
             [
              0,
              "#0d0887"
             ],
             [
              0.1111111111111111,
              "#46039f"
             ],
             [
              0.2222222222222222,
              "#7201a8"
             ],
             [
              0.3333333333333333,
              "#9c179e"
             ],
             [
              0.4444444444444444,
              "#bd3786"
             ],
             [
              0.5555555555555556,
              "#d8576b"
             ],
             [
              0.6666666666666666,
              "#ed7953"
             ],
             [
              0.7777777777777778,
              "#fb9f3a"
             ],
             [
              0.8888888888888888,
              "#fdca26"
             ],
             [
              1,
              "#f0f921"
             ]
            ],
            "type": "heatmapgl"
           }
          ],
          "histogram": [
           {
            "marker": {
             "colorbar": {
              "outlinewidth": 0,
              "ticks": ""
             }
            },
            "type": "histogram"
           }
          ],
          "histogram2d": [
           {
            "colorbar": {
             "outlinewidth": 0,
             "ticks": ""
            },
            "colorscale": [
             [
              0,
              "#0d0887"
             ],
             [
              0.1111111111111111,
              "#46039f"
             ],
             [
              0.2222222222222222,
              "#7201a8"
             ],
             [
              0.3333333333333333,
              "#9c179e"
             ],
             [
              0.4444444444444444,
              "#bd3786"
             ],
             [
              0.5555555555555556,
              "#d8576b"
             ],
             [
              0.6666666666666666,
              "#ed7953"
             ],
             [
              0.7777777777777778,
              "#fb9f3a"
             ],
             [
              0.8888888888888888,
              "#fdca26"
             ],
             [
              1,
              "#f0f921"
             ]
            ],
            "type": "histogram2d"
           }
          ],
          "histogram2dcontour": [
           {
            "colorbar": {
             "outlinewidth": 0,
             "ticks": ""
            },
            "colorscale": [
             [
              0,
              "#0d0887"
             ],
             [
              0.1111111111111111,
              "#46039f"
             ],
             [
              0.2222222222222222,
              "#7201a8"
             ],
             [
              0.3333333333333333,
              "#9c179e"
             ],
             [
              0.4444444444444444,
              "#bd3786"
             ],
             [
              0.5555555555555556,
              "#d8576b"
             ],
             [
              0.6666666666666666,
              "#ed7953"
             ],
             [
              0.7777777777777778,
              "#fb9f3a"
             ],
             [
              0.8888888888888888,
              "#fdca26"
             ],
             [
              1,
              "#f0f921"
             ]
            ],
            "type": "histogram2dcontour"
           }
          ],
          "mesh3d": [
           {
            "colorbar": {
             "outlinewidth": 0,
             "ticks": ""
            },
            "type": "mesh3d"
           }
          ],
          "parcoords": [
           {
            "line": {
             "colorbar": {
              "outlinewidth": 0,
              "ticks": ""
             }
            },
            "type": "parcoords"
           }
          ],
          "pie": [
           {
            "automargin": true,
            "type": "pie"
           }
          ],
          "scatter": [
           {
            "marker": {
             "colorbar": {
              "outlinewidth": 0,
              "ticks": ""
             }
            },
            "type": "scatter"
           }
          ],
          "scatter3d": [
           {
            "line": {
             "colorbar": {
              "outlinewidth": 0,
              "ticks": ""
             }
            },
            "marker": {
             "colorbar": {
              "outlinewidth": 0,
              "ticks": ""
             }
            },
            "type": "scatter3d"
           }
          ],
          "scattercarpet": [
           {
            "marker": {
             "colorbar": {
              "outlinewidth": 0,
              "ticks": ""
             }
            },
            "type": "scattercarpet"
           }
          ],
          "scattergeo": [
           {
            "marker": {
             "colorbar": {
              "outlinewidth": 0,
              "ticks": ""
             }
            },
            "type": "scattergeo"
           }
          ],
          "scattergl": [
           {
            "marker": {
             "colorbar": {
              "outlinewidth": 0,
              "ticks": ""
             }
            },
            "type": "scattergl"
           }
          ],
          "scattermapbox": [
           {
            "marker": {
             "colorbar": {
              "outlinewidth": 0,
              "ticks": ""
             }
            },
            "type": "scattermapbox"
           }
          ],
          "scatterpolar": [
           {
            "marker": {
             "colorbar": {
              "outlinewidth": 0,
              "ticks": ""
             }
            },
            "type": "scatterpolar"
           }
          ],
          "scatterpolargl": [
           {
            "marker": {
             "colorbar": {
              "outlinewidth": 0,
              "ticks": ""
             }
            },
            "type": "scatterpolargl"
           }
          ],
          "scatterternary": [
           {
            "marker": {
             "colorbar": {
              "outlinewidth": 0,
              "ticks": ""
             }
            },
            "type": "scatterternary"
           }
          ],
          "surface": [
           {
            "colorbar": {
             "outlinewidth": 0,
             "ticks": ""
            },
            "colorscale": [
             [
              0,
              "#0d0887"
             ],
             [
              0.1111111111111111,
              "#46039f"
             ],
             [
              0.2222222222222222,
              "#7201a8"
             ],
             [
              0.3333333333333333,
              "#9c179e"
             ],
             [
              0.4444444444444444,
              "#bd3786"
             ],
             [
              0.5555555555555556,
              "#d8576b"
             ],
             [
              0.6666666666666666,
              "#ed7953"
             ],
             [
              0.7777777777777778,
              "#fb9f3a"
             ],
             [
              0.8888888888888888,
              "#fdca26"
             ],
             [
              1,
              "#f0f921"
             ]
            ],
            "type": "surface"
           }
          ],
          "table": [
           {
            "cells": {
             "fill": {
              "color": "#EBF0F8"
             },
             "line": {
              "color": "white"
             }
            },
            "header": {
             "fill": {
              "color": "#C8D4E3"
             },
             "line": {
              "color": "white"
             }
            },
            "type": "table"
           }
          ]
         },
         "layout": {
          "annotationdefaults": {
           "arrowcolor": "#2a3f5f",
           "arrowhead": 0,
           "arrowwidth": 1
          },
          "coloraxis": {
           "colorbar": {
            "outlinewidth": 0,
            "ticks": ""
           }
          },
          "colorscale": {
           "diverging": [
            [
             0,
             "#8e0152"
            ],
            [
             0.1,
             "#c51b7d"
            ],
            [
             0.2,
             "#de77ae"
            ],
            [
             0.3,
             "#f1b6da"
            ],
            [
             0.4,
             "#fde0ef"
            ],
            [
             0.5,
             "#f7f7f7"
            ],
            [
             0.6,
             "#e6f5d0"
            ],
            [
             0.7,
             "#b8e186"
            ],
            [
             0.8,
             "#7fbc41"
            ],
            [
             0.9,
             "#4d9221"
            ],
            [
             1,
             "#276419"
            ]
           ],
           "sequential": [
            [
             0,
             "#0d0887"
            ],
            [
             0.1111111111111111,
             "#46039f"
            ],
            [
             0.2222222222222222,
             "#7201a8"
            ],
            [
             0.3333333333333333,
             "#9c179e"
            ],
            [
             0.4444444444444444,
             "#bd3786"
            ],
            [
             0.5555555555555556,
             "#d8576b"
            ],
            [
             0.6666666666666666,
             "#ed7953"
            ],
            [
             0.7777777777777778,
             "#fb9f3a"
            ],
            [
             0.8888888888888888,
             "#fdca26"
            ],
            [
             1,
             "#f0f921"
            ]
           ],
           "sequentialminus": [
            [
             0,
             "#0d0887"
            ],
            [
             0.1111111111111111,
             "#46039f"
            ],
            [
             0.2222222222222222,
             "#7201a8"
            ],
            [
             0.3333333333333333,
             "#9c179e"
            ],
            [
             0.4444444444444444,
             "#bd3786"
            ],
            [
             0.5555555555555556,
             "#d8576b"
            ],
            [
             0.6666666666666666,
             "#ed7953"
            ],
            [
             0.7777777777777778,
             "#fb9f3a"
            ],
            [
             0.8888888888888888,
             "#fdca26"
            ],
            [
             1,
             "#f0f921"
            ]
           ]
          },
          "colorway": [
           "#636efa",
           "#EF553B",
           "#00cc96",
           "#ab63fa",
           "#FFA15A",
           "#19d3f3",
           "#FF6692",
           "#B6E880",
           "#FF97FF",
           "#FECB52"
          ],
          "font": {
           "color": "#2a3f5f"
          },
          "geo": {
           "bgcolor": "white",
           "lakecolor": "white",
           "landcolor": "#E5ECF6",
           "showlakes": true,
           "showland": true,
           "subunitcolor": "white"
          },
          "hoverlabel": {
           "align": "left"
          },
          "hovermode": "closest",
          "mapbox": {
           "style": "light"
          },
          "paper_bgcolor": "white",
          "plot_bgcolor": "#E5ECF6",
          "polar": {
           "angularaxis": {
            "gridcolor": "white",
            "linecolor": "white",
            "ticks": ""
           },
           "bgcolor": "#E5ECF6",
           "radialaxis": {
            "gridcolor": "white",
            "linecolor": "white",
            "ticks": ""
           }
          },
          "scene": {
           "xaxis": {
            "backgroundcolor": "#E5ECF6",
            "gridcolor": "white",
            "gridwidth": 2,
            "linecolor": "white",
            "showbackground": true,
            "ticks": "",
            "zerolinecolor": "white"
           },
           "yaxis": {
            "backgroundcolor": "#E5ECF6",
            "gridcolor": "white",
            "gridwidth": 2,
            "linecolor": "white",
            "showbackground": true,
            "ticks": "",
            "zerolinecolor": "white"
           },
           "zaxis": {
            "backgroundcolor": "#E5ECF6",
            "gridcolor": "white",
            "gridwidth": 2,
            "linecolor": "white",
            "showbackground": true,
            "ticks": "",
            "zerolinecolor": "white"
           }
          },
          "shapedefaults": {
           "line": {
            "color": "#2a3f5f"
           }
          },
          "ternary": {
           "aaxis": {
            "gridcolor": "white",
            "linecolor": "white",
            "ticks": ""
           },
           "baxis": {
            "gridcolor": "white",
            "linecolor": "white",
            "ticks": ""
           },
           "bgcolor": "#E5ECF6",
           "caxis": {
            "gridcolor": "white",
            "linecolor": "white",
            "ticks": ""
           }
          },
          "title": {
           "x": 0.05
          },
          "xaxis": {
           "automargin": true,
           "gridcolor": "white",
           "linecolor": "white",
           "ticks": "",
           "title": {
            "standoff": 15
           },
           "zerolinecolor": "white",
           "zerolinewidth": 2
          },
          "yaxis": {
           "automargin": true,
           "gridcolor": "white",
           "linecolor": "white",
           "ticks": "",
           "title": {
            "standoff": 15
           },
           "zerolinecolor": "white",
           "zerolinewidth": 2
          }
         }
        },
        "title": {
         "text": "Recovery in china vs other countries"
        },
        "xaxis": {
         "anchor": "y",
         "domain": [
          0,
          0.94
         ]
        },
        "yaxis": {
         "anchor": "x",
         "domain": [
          0,
          1
         ],
         "tickfont": {
          "size": 14
         },
         "title": {
          "font": {
           "size": 16
          },
          "text": "Number of Cases"
         },
         "type": "log"
        },
        "yaxis2": {
         "anchor": "x",
         "overlaying": "y",
         "side": "right"
        }
       }
      },
      "text/html": [
       "<div>\n",
       "        \n",
       "        \n",
       "            <div id=\"a5a8a35b-0d7c-449c-8739-6b0ede52c1e4\" class=\"plotly-graph-div\" style=\"height:525px; width:100%;\"></div>\n",
       "            <script type=\"text/javascript\">\n",
       "                require([\"plotly\"], function(Plotly) {\n",
       "                    window.PLOTLYENV=window.PLOTLYENV || {};\n",
       "                    \n",
       "                if (document.getElementById(\"a5a8a35b-0d7c-449c-8739-6b0ede52c1e4\")) {\n",
       "                    Plotly.newPlot(\n",
       "                        'a5a8a35b-0d7c-449c-8739-6b0ede52c1e4',\n",
       "                        [{\"mode\": \"lines+markers\", \"name\": \"other_countries\", \"type\": \"scatter\", \"x\": [\"01/22/2020\", \"01/23/2020\", \"01/24/2020\", \"01/25/2020\", \"01/26/2020\", \"01/27/2020\", \"01/28/2020\", \"01/29/2020\", \"01/30/2020\", \"01/31/2020\", \"02/01/2020\", \"02/02/2020\", \"02/03/2020\", \"02/04/2020\", \"02/05/2020\", \"02/06/2020\", \"02/07/2020\", \"02/08/2020\", \"02/09/2020\", \"02/10/2020\", \"02/11/2020\", \"02/12/2020\", \"02/13/2020\", \"02/14/2020\", \"02/15/2020\", \"02/16/2020\", \"02/17/2020\", \"02/18/2020\", \"02/19/2020\", \"02/20/2020\", \"02/21/2020\", \"02/22/2020\", \"02/23/2020\", \"02/24/2020\", \"02/25/2020\", \"02/26/2020\", \"02/27/2020\", \"02/28/2020\", \"02/29/2020\", \"03/01/2020\", \"03/02/2020\"], \"y\": [0.0, 0.0, 0.0, 0.0, 3.0, 3.0, 6.0, 6.0, 8.0, 8.0, 9.0, 9.0, 9.0, 9.0, 9.0, 11.0, 13.0, 21.0, 26.0, 29.0, 48.0, 71.0, 82.0, 85.0, 101.0, 117.0, 128.0, 153.0, 169.0, 175.0, 197.0, 199.0, 224.0, 237.0, 255.0, 331.0, 379.0, 420.0, 503.0, 598.0, 792.0]}, {\"marker\": {\"color\": \"red\"}, \"mode\": \"lines+markers\", \"name\": \"China\", \"type\": \"scatter\", \"x\": [\"01/22/2020\", \"01/23/2020\", \"01/24/2020\", \"01/25/2020\", \"01/26/2020\", \"01/27/2020\", \"01/28/2020\", \"01/29/2020\", \"01/30/2020\", \"01/31/2020\", \"02/01/2020\", \"02/02/2020\", \"02/03/2020\", \"02/04/2020\", \"02/05/2020\", \"02/06/2020\", \"02/07/2020\", \"02/08/2020\", \"02/09/2020\", \"02/10/2020\", \"02/11/2020\", \"02/12/2020\", \"02/13/2020\", \"02/14/2020\", \"02/15/2020\", \"02/16/2020\", \"02/17/2020\", \"02/18/2020\", \"02/19/2020\", \"02/20/2020\", \"02/21/2020\", \"02/22/2020\", \"02/23/2020\", \"02/24/2020\", \"02/25/2020\", \"02/26/2020\", \"02/27/2020\", \"02/28/2020\", \"02/29/2020\", \"03/01/2020\", \"03/02/2020\"], \"y\": [28.0, 30.0, 36.0, 39.0, 49.0, 58.0, 101.0, 120.0, 135.0, 214.0, 275.0, 463.0, 614.0, 843.0, 1115.0, 1476.0, 1998.0, 2595.0, 3218.0, 3917.0, 4635.0, 5079.0, 6213.0, 7973.0, 9294.0, 10748.0, 12455.0, 14199.0, 15952.0, 18002.0, 18693.0, 22687.0, 23170.0, 24990.0, 27650.0, 30053.0, 32898.0, 36291.0, 39279.0, 42118.0, 44810.0]}],\n",
       "                        {\"template\": {\"data\": {\"bar\": [{\"error_x\": {\"color\": \"#2a3f5f\"}, \"error_y\": {\"color\": \"#2a3f5f\"}, \"marker\": {\"line\": {\"color\": \"#E5ECF6\", \"width\": 0.5}}, \"type\": \"bar\"}], \"barpolar\": [{\"marker\": {\"line\": {\"color\": \"#E5ECF6\", \"width\": 0.5}}, \"type\": \"barpolar\"}], \"carpet\": [{\"aaxis\": {\"endlinecolor\": \"#2a3f5f\", \"gridcolor\": \"white\", \"linecolor\": \"white\", \"minorgridcolor\": \"white\", \"startlinecolor\": \"#2a3f5f\"}, \"baxis\": {\"endlinecolor\": \"#2a3f5f\", \"gridcolor\": \"white\", \"linecolor\": \"white\", \"minorgridcolor\": \"white\", \"startlinecolor\": \"#2a3f5f\"}, \"type\": \"carpet\"}], \"choropleth\": [{\"colorbar\": {\"outlinewidth\": 0, \"ticks\": \"\"}, \"type\": \"choropleth\"}], \"contour\": [{\"colorbar\": {\"outlinewidth\": 0, \"ticks\": \"\"}, \"colorscale\": [[0.0, \"#0d0887\"], [0.1111111111111111, \"#46039f\"], [0.2222222222222222, \"#7201a8\"], [0.3333333333333333, \"#9c179e\"], [0.4444444444444444, \"#bd3786\"], [0.5555555555555556, \"#d8576b\"], [0.6666666666666666, \"#ed7953\"], [0.7777777777777778, \"#fb9f3a\"], [0.8888888888888888, \"#fdca26\"], [1.0, \"#f0f921\"]], \"type\": \"contour\"}], \"contourcarpet\": [{\"colorbar\": {\"outlinewidth\": 0, \"ticks\": \"\"}, \"type\": \"contourcarpet\"}], \"heatmap\": [{\"colorbar\": {\"outlinewidth\": 0, \"ticks\": \"\"}, \"colorscale\": [[0.0, \"#0d0887\"], [0.1111111111111111, \"#46039f\"], [0.2222222222222222, \"#7201a8\"], [0.3333333333333333, \"#9c179e\"], [0.4444444444444444, \"#bd3786\"], [0.5555555555555556, \"#d8576b\"], [0.6666666666666666, \"#ed7953\"], [0.7777777777777778, \"#fb9f3a\"], [0.8888888888888888, \"#fdca26\"], [1.0, \"#f0f921\"]], \"type\": \"heatmap\"}], \"heatmapgl\": [{\"colorbar\": {\"outlinewidth\": 0, \"ticks\": \"\"}, \"colorscale\": [[0.0, \"#0d0887\"], [0.1111111111111111, \"#46039f\"], [0.2222222222222222, \"#7201a8\"], [0.3333333333333333, \"#9c179e\"], [0.4444444444444444, \"#bd3786\"], [0.5555555555555556, \"#d8576b\"], [0.6666666666666666, \"#ed7953\"], [0.7777777777777778, \"#fb9f3a\"], [0.8888888888888888, \"#fdca26\"], [1.0, \"#f0f921\"]], \"type\": \"heatmapgl\"}], \"histogram\": [{\"marker\": {\"colorbar\": {\"outlinewidth\": 0, \"ticks\": \"\"}}, \"type\": \"histogram\"}], \"histogram2d\": [{\"colorbar\": {\"outlinewidth\": 0, \"ticks\": \"\"}, \"colorscale\": [[0.0, \"#0d0887\"], [0.1111111111111111, \"#46039f\"], [0.2222222222222222, \"#7201a8\"], [0.3333333333333333, \"#9c179e\"], [0.4444444444444444, \"#bd3786\"], [0.5555555555555556, \"#d8576b\"], [0.6666666666666666, \"#ed7953\"], [0.7777777777777778, \"#fb9f3a\"], [0.8888888888888888, \"#fdca26\"], [1.0, \"#f0f921\"]], \"type\": \"histogram2d\"}], \"histogram2dcontour\": [{\"colorbar\": {\"outlinewidth\": 0, \"ticks\": \"\"}, \"colorscale\": [[0.0, \"#0d0887\"], [0.1111111111111111, \"#46039f\"], [0.2222222222222222, \"#7201a8\"], [0.3333333333333333, \"#9c179e\"], [0.4444444444444444, \"#bd3786\"], [0.5555555555555556, \"#d8576b\"], [0.6666666666666666, \"#ed7953\"], [0.7777777777777778, \"#fb9f3a\"], [0.8888888888888888, \"#fdca26\"], [1.0, \"#f0f921\"]], \"type\": \"histogram2dcontour\"}], \"mesh3d\": [{\"colorbar\": {\"outlinewidth\": 0, \"ticks\": \"\"}, \"type\": \"mesh3d\"}], \"parcoords\": [{\"line\": {\"colorbar\": {\"outlinewidth\": 0, \"ticks\": \"\"}}, \"type\": \"parcoords\"}], \"pie\": [{\"automargin\": true, \"type\": \"pie\"}], \"scatter\": [{\"marker\": {\"colorbar\": {\"outlinewidth\": 0, \"ticks\": \"\"}}, \"type\": \"scatter\"}], \"scatter3d\": [{\"line\": {\"colorbar\": {\"outlinewidth\": 0, \"ticks\": \"\"}}, \"marker\": {\"colorbar\": {\"outlinewidth\": 0, \"ticks\": \"\"}}, \"type\": \"scatter3d\"}], \"scattercarpet\": [{\"marker\": {\"colorbar\": {\"outlinewidth\": 0, \"ticks\": \"\"}}, \"type\": \"scattercarpet\"}], \"scattergeo\": [{\"marker\": {\"colorbar\": {\"outlinewidth\": 0, \"ticks\": \"\"}}, \"type\": \"scattergeo\"}], \"scattergl\": [{\"marker\": {\"colorbar\": {\"outlinewidth\": 0, \"ticks\": \"\"}}, \"type\": \"scattergl\"}], \"scattermapbox\": [{\"marker\": {\"colorbar\": {\"outlinewidth\": 0, \"ticks\": \"\"}}, \"type\": \"scattermapbox\"}], \"scatterpolar\": [{\"marker\": {\"colorbar\": {\"outlinewidth\": 0, \"ticks\": \"\"}}, \"type\": \"scatterpolar\"}], \"scatterpolargl\": [{\"marker\": {\"colorbar\": {\"outlinewidth\": 0, \"ticks\": \"\"}}, \"type\": \"scatterpolargl\"}], \"scatterternary\": [{\"marker\": {\"colorbar\": {\"outlinewidth\": 0, \"ticks\": \"\"}}, \"type\": \"scatterternary\"}], \"surface\": [{\"colorbar\": {\"outlinewidth\": 0, \"ticks\": \"\"}, \"colorscale\": [[0.0, \"#0d0887\"], [0.1111111111111111, \"#46039f\"], [0.2222222222222222, \"#7201a8\"], [0.3333333333333333, \"#9c179e\"], [0.4444444444444444, \"#bd3786\"], [0.5555555555555556, \"#d8576b\"], [0.6666666666666666, \"#ed7953\"], [0.7777777777777778, \"#fb9f3a\"], [0.8888888888888888, \"#fdca26\"], [1.0, \"#f0f921\"]], \"type\": \"surface\"}], \"table\": [{\"cells\": {\"fill\": {\"color\": \"#EBF0F8\"}, \"line\": {\"color\": \"white\"}}, \"header\": {\"fill\": {\"color\": \"#C8D4E3\"}, \"line\": {\"color\": \"white\"}}, \"type\": \"table\"}]}, \"layout\": {\"annotationdefaults\": {\"arrowcolor\": \"#2a3f5f\", \"arrowhead\": 0, \"arrowwidth\": 1}, \"coloraxis\": {\"colorbar\": {\"outlinewidth\": 0, \"ticks\": \"\"}}, \"colorscale\": {\"diverging\": [[0, \"#8e0152\"], [0.1, \"#c51b7d\"], [0.2, \"#de77ae\"], [0.3, \"#f1b6da\"], [0.4, \"#fde0ef\"], [0.5, \"#f7f7f7\"], [0.6, \"#e6f5d0\"], [0.7, \"#b8e186\"], [0.8, \"#7fbc41\"], [0.9, \"#4d9221\"], [1, \"#276419\"]], \"sequential\": [[0.0, \"#0d0887\"], [0.1111111111111111, \"#46039f\"], [0.2222222222222222, \"#7201a8\"], [0.3333333333333333, \"#9c179e\"], [0.4444444444444444, \"#bd3786\"], [0.5555555555555556, \"#d8576b\"], [0.6666666666666666, \"#ed7953\"], [0.7777777777777778, \"#fb9f3a\"], [0.8888888888888888, \"#fdca26\"], [1.0, \"#f0f921\"]], \"sequentialminus\": [[0.0, \"#0d0887\"], [0.1111111111111111, \"#46039f\"], [0.2222222222222222, \"#7201a8\"], [0.3333333333333333, \"#9c179e\"], [0.4444444444444444, \"#bd3786\"], [0.5555555555555556, \"#d8576b\"], [0.6666666666666666, \"#ed7953\"], [0.7777777777777778, \"#fb9f3a\"], [0.8888888888888888, \"#fdca26\"], [1.0, \"#f0f921\"]]}, \"colorway\": [\"#636efa\", \"#EF553B\", \"#00cc96\", \"#ab63fa\", \"#FFA15A\", \"#19d3f3\", \"#FF6692\", \"#B6E880\", \"#FF97FF\", \"#FECB52\"], \"font\": {\"color\": \"#2a3f5f\"}, \"geo\": {\"bgcolor\": \"white\", \"lakecolor\": \"white\", \"landcolor\": \"#E5ECF6\", \"showlakes\": true, \"showland\": true, \"subunitcolor\": \"white\"}, \"hoverlabel\": {\"align\": \"left\"}, \"hovermode\": \"closest\", \"mapbox\": {\"style\": \"light\"}, \"paper_bgcolor\": \"white\", \"plot_bgcolor\": \"#E5ECF6\", \"polar\": {\"angularaxis\": {\"gridcolor\": \"white\", \"linecolor\": \"white\", \"ticks\": \"\"}, \"bgcolor\": \"#E5ECF6\", \"radialaxis\": {\"gridcolor\": \"white\", \"linecolor\": \"white\", \"ticks\": \"\"}}, \"scene\": {\"xaxis\": {\"backgroundcolor\": \"#E5ECF6\", \"gridcolor\": \"white\", \"gridwidth\": 2, \"linecolor\": \"white\", \"showbackground\": true, \"ticks\": \"\", \"zerolinecolor\": \"white\"}, \"yaxis\": {\"backgroundcolor\": \"#E5ECF6\", \"gridcolor\": \"white\", \"gridwidth\": 2, \"linecolor\": \"white\", \"showbackground\": true, \"ticks\": \"\", \"zerolinecolor\": \"white\"}, \"zaxis\": {\"backgroundcolor\": \"#E5ECF6\", \"gridcolor\": \"white\", \"gridwidth\": 2, \"linecolor\": \"white\", \"showbackground\": true, \"ticks\": \"\", \"zerolinecolor\": \"white\"}}, \"shapedefaults\": {\"line\": {\"color\": \"#2a3f5f\"}}, \"ternary\": {\"aaxis\": {\"gridcolor\": \"white\", \"linecolor\": \"white\", \"ticks\": \"\"}, \"baxis\": {\"gridcolor\": \"white\", \"linecolor\": \"white\", \"ticks\": \"\"}, \"bgcolor\": \"#E5ECF6\", \"caxis\": {\"gridcolor\": \"white\", \"linecolor\": \"white\", \"ticks\": \"\"}}, \"title\": {\"x\": 0.05}, \"xaxis\": {\"automargin\": true, \"gridcolor\": \"white\", \"linecolor\": \"white\", \"ticks\": \"\", \"title\": {\"standoff\": 15}, \"zerolinecolor\": \"white\", \"zerolinewidth\": 2}, \"yaxis\": {\"automargin\": true, \"gridcolor\": \"white\", \"linecolor\": \"white\", \"ticks\": \"\", \"title\": {\"standoff\": 15}, \"zerolinecolor\": \"white\", \"zerolinewidth\": 2}}}, \"title\": {\"text\": \"Recovery in china vs other countries\"}, \"xaxis\": {\"anchor\": \"y\", \"domain\": [0.0, 0.94]}, \"yaxis\": {\"anchor\": \"x\", \"domain\": [0.0, 1.0], \"tickfont\": {\"size\": 14}, \"title\": {\"font\": {\"size\": 16}, \"text\": \"Number of Cases\"}, \"type\": \"log\"}, \"yaxis2\": {\"anchor\": \"x\", \"overlaying\": \"y\", \"side\": \"right\"}},\n",
       "                        {\"responsive\": true}\n",
       "                    ).then(function(){\n",
       "                            \n",
       "var gd = document.getElementById('a5a8a35b-0d7c-449c-8739-6b0ede52c1e4');\n",
       "var x = new MutationObserver(function (mutations, observer) {{\n",
       "        var display = window.getComputedStyle(gd).display;\n",
       "        if (!display || display === 'none') {{\n",
       "            console.log([gd, 'removed!']);\n",
       "            Plotly.purge(gd);\n",
       "            observer.disconnect();\n",
       "        }}\n",
       "}});\n",
       "\n",
       "// Listen for the removal of the full notebook cells\n",
       "var notebookContainer = gd.closest('#notebook-container');\n",
       "if (notebookContainer) {{\n",
       "    x.observe(notebookContainer, {childList: true});\n",
       "}}\n",
       "\n",
       "// Listen for the clearing of the current output cell\n",
       "var outputEl = gd.closest('.output');\n",
       "if (outputEl) {{\n",
       "    x.observe(outputEl, {childList: true});\n",
       "}}\n",
       "\n",
       "                        })\n",
       "                };\n",
       "                });\n",
       "            </script>\n",
       "        </div>"
      ]
     },
     "metadata": {},
     "output_type": "display_data"
    }
   ],
   "source": [
    "fig=go.Figure()\n",
    "fig = make_subplots(specs=[[{\"secondary_y\": True}]])\n",
    "# Add traces\n",
    "fig.add_trace(\n",
    "    go.Scatter(x=other_countries['ObservationDate'],y=other_countries['Recovered'] ,name=\"other_countries\",mode='lines+markers'\n",
    "  )\n",
    ")\n",
    "\n",
    "fig.add_trace(\n",
    "    go.Scatter(x=china['ObservationDate'],y=china['Recovered'], name=\"China\",marker_color=\"red\",mode='lines+markers'\n",
    "   )\n",
    ")\n",
    "\n",
    "\n",
    "# Add figure title\n",
    "fig.update_layout(\n",
    "    title_text=\"Recovery in china vs other countries\",\n",
    "    yaxis_type=\"log\",\n",
    "    yaxis=dict(\n",
    "        title='Number of Cases',\n",
    "        titlefont_size=16,\n",
    "        tickfont_size=14,\n",
    ")\n",
    "\n",
    ")\n",
    "\n",
    "fig.show()"
   ]
  },
  {
   "cell_type": "code",
   "execution_count": null,
   "metadata": {},
   "outputs": [],
   "source": []
  }
 ],
 "metadata": {
  "kernelspec": {
   "display_name": "venv",
   "language": "python",
   "name": "venv"
  },
  "language_info": {
   "codemirror_mode": {
    "name": "ipython",
    "version": 3
   },
   "file_extension": ".py",
   "mimetype": "text/x-python",
   "name": "python",
   "nbconvert_exporter": "python",
   "pygments_lexer": "ipython3",
   "version": "3.6.10"
  }
 },
 "nbformat": 4,
 "nbformat_minor": 2
}
